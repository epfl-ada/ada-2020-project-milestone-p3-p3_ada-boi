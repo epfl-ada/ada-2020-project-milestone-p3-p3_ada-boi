{
 "cells": [
  {
   "cell_type": "markdown",
   "metadata": {},
   "source": [
    "# Creative extension\n",
    "\n",
    "__Paper:__ Housing, Health, and Happiness\n",
    "\n",
    "__Data:__ National Survey of America's Families, 2002\n",
    "\n",
    "__Aim:__ *liste des points auxquels on cherche à répondre*"
   ]
  },
  {
   "cell_type": "code",
   "execution_count": 1,
   "metadata": {},
   "outputs": [],
   "source": [
    "import pandas as pd\n",
    "import numpy as np\n",
    "import matplotlib.pyplot as plt\n",
    "import seaborn as sns\n",
    "\n",
    "from sklearn.linear_model import LogisticRegression\n",
    "from math import exp, log\n",
    "import statsmodels.api as sm\n",
    "import statsmodels.formula.api as smf"
   ]
  },
  {
   "cell_type": "code",
   "execution_count": 2,
   "metadata": {},
   "outputs": [],
   "source": [
    "# Load data\n",
    "\n",
    "data_folder = './data/'\n",
    "# Focal Child Data\n",
    "fc = pd.read_stata(data_folder+'DS0001/04582-0001-Data.dta',convert_categoricals=False)\n",
    "# Household Data\n",
    "hh = pd.read_stata(data_folder+'DS0006/04582-0006-Data.dta',convert_categoricals=False)"
   ]
  },
  {
   "cell_type": "code",
   "execution_count": 31,
   "metadata": {},
   "outputs": [],
   "source": [
    "# Variables of interest in child and hh datasets \n",
    "person_id = ['PERSID','PERSTYPE','RESPID','UCPSID','SEX','UAGE','SITE','STATE','UREGION','TYPEINT','HHID']\n",
    "household_id_hh = ['HHID']\n",
    "#education = ['CCHGSC','CSUEXP','CATTSC','CSKIPSC','CGETBY','CHMWK','CINTSC','CWRKSC','UENG','UENGNEG','UENGPOS']\n",
    "education = ['UENG','UENGNEG','UENGPOS']\n",
    "#family = ['GHMAD','GSELFHR','UFAMSTR','UMH2','UMHIGDEG']\n",
    "family = ['GSELFHR','UFAMSTR','UMH2','UMHIGDEG']\n",
    "family_hh = ['CHLD0_5','CHLD6_17','UHHCOUNT']\n",
    "income = ['U_SOCPOV']\n",
    "income_hh = ['QSC5']\n",
    "housing_hh = ['MNBEDRMS','MOWNRENT'] #'OVERCROWDING' added later on\n",
    "mental_health = ['UBPIA','UBPIANEG','UBPIAPOS','UBPIB','UBPIBNEG','UBPIBPOS']\n",
    "health = ['BDISBL','BHLTHN','FDOCT','FWHMED','FWHYMED','FDENT','FWELLV','UCNGHL']\n",
    "activities = ['NOUTING','NSPORTS','UOUTNEG','UOUTPOS','UACT','UACTNEG','UACTPOS']\n",
    "programs = ['GCENTR','CSPECED','GHEADS','KAPPMED','SSHELP']\n",
    "programs_hh = ['MPUBHOUS']"
   ]
  },
  {
   "cell_type": "code",
   "execution_count": 4,
   "metadata": {},
   "outputs": [],
   "source": [
    "# Add a variable 'overcrowding' and replace inf by -1\n",
    "hh['OVERCROWDING'] = hh['UHHCOUNT'] / hh['MNBEDRMS']\n",
    "housing_hh.append('OVERCROWDING')\n",
    "hh['OVERCROWDING'] = hh['OVERCROWDING'].apply(lambda x : -1 if x == np.inf else x)"
   ]
  },
  {
   "cell_type": "code",
   "execution_count": 5,
   "metadata": {},
   "outputs": [],
   "source": [
    "# Reduce dataframes to variables of interest\n",
    "fc = fc[person_id + education + family + income + mental_health + health + activities + programs]\n",
    "hh = hh[household_id_hh + family_hh + income_hh + housing_hh + programs_hh]\n"
   ]
  },
  {
   "cell_type": "code",
   "execution_count": 6,
   "metadata": {},
   "outputs": [
    {
     "data": {
      "text/html": [
       "<div>\n",
       "<style scoped>\n",
       "    .dataframe tbody tr th:only-of-type {\n",
       "        vertical-align: middle;\n",
       "    }\n",
       "\n",
       "    .dataframe tbody tr th {\n",
       "        vertical-align: top;\n",
       "    }\n",
       "\n",
       "    .dataframe thead th {\n",
       "        text-align: right;\n",
       "    }\n",
       "</style>\n",
       "<table border=\"1\" class=\"dataframe\">\n",
       "  <thead>\n",
       "    <tr style=\"text-align: right;\">\n",
       "      <th></th>\n",
       "      <th>PERSID</th>\n",
       "      <th>PERSTYPE</th>\n",
       "      <th>RESPID</th>\n",
       "      <th>UCPSID</th>\n",
       "      <th>SEX</th>\n",
       "      <th>UAGE</th>\n",
       "      <th>SITE</th>\n",
       "      <th>STATE</th>\n",
       "      <th>UREGION</th>\n",
       "      <th>TYPEINT</th>\n",
       "      <th>...</th>\n",
       "      <th>KAPPMED</th>\n",
       "      <th>SSHELP</th>\n",
       "      <th>CHLD0_5</th>\n",
       "      <th>CHLD6_17</th>\n",
       "      <th>UHHCOUNT</th>\n",
       "      <th>QSC5</th>\n",
       "      <th>MNBEDRMS</th>\n",
       "      <th>MOWNRENT</th>\n",
       "      <th>OVERCROWDING</th>\n",
       "      <th>MPUBHOUS</th>\n",
       "    </tr>\n",
       "  </thead>\n",
       "  <tbody>\n",
       "    <tr>\n",
       "      <th>0</th>\n",
       "      <td>5561612801</td>\n",
       "      <td>1</td>\n",
       "      <td>5561612803</td>\n",
       "      <td>5561612800</td>\n",
       "      <td>F</td>\n",
       "      <td>3</td>\n",
       "      <td>15</td>\n",
       "      <td>WI</td>\n",
       "      <td>2</td>\n",
       "      <td>A1</td>\n",
       "      <td>...</td>\n",
       "      <td>-1</td>\n",
       "      <td>-1</td>\n",
       "      <td>2</td>\n",
       "      <td>0</td>\n",
       "      <td>3</td>\n",
       "      <td>1</td>\n",
       "      <td>4</td>\n",
       "      <td>1</td>\n",
       "      <td>0.75</td>\n",
       "      <td>-1</td>\n",
       "    </tr>\n",
       "    <tr>\n",
       "      <th>1</th>\n",
       "      <td>5470400001</td>\n",
       "      <td>2</td>\n",
       "      <td>5470400003</td>\n",
       "      <td>5470400000</td>\n",
       "      <td>M</td>\n",
       "      <td>14</td>\n",
       "      <td>15</td>\n",
       "      <td>WI</td>\n",
       "      <td>2</td>\n",
       "      <td>A1</td>\n",
       "      <td>...</td>\n",
       "      <td>1</td>\n",
       "      <td>-1</td>\n",
       "      <td>0</td>\n",
       "      <td>2</td>\n",
       "      <td>3</td>\n",
       "      <td>2</td>\n",
       "      <td>2</td>\n",
       "      <td>2</td>\n",
       "      <td>1.50</td>\n",
       "      <td>-1</td>\n",
       "    </tr>\n",
       "    <tr>\n",
       "      <th>2</th>\n",
       "      <td>5787427204</td>\n",
       "      <td>2</td>\n",
       "      <td>5787427205</td>\n",
       "      <td>5787427200</td>\n",
       "      <td>F</td>\n",
       "      <td>9</td>\n",
       "      <td>15</td>\n",
       "      <td>WI</td>\n",
       "      <td>2</td>\n",
       "      <td>A1</td>\n",
       "      <td>...</td>\n",
       "      <td>-1</td>\n",
       "      <td>-1</td>\n",
       "      <td>0</td>\n",
       "      <td>4</td>\n",
       "      <td>6</td>\n",
       "      <td>1</td>\n",
       "      <td>3</td>\n",
       "      <td>2</td>\n",
       "      <td>2.00</td>\n",
       "      <td>2</td>\n",
       "    </tr>\n",
       "    <tr>\n",
       "      <th>3</th>\n",
       "      <td>5410681601</td>\n",
       "      <td>1</td>\n",
       "      <td>5410681604</td>\n",
       "      <td>5410681600</td>\n",
       "      <td>M</td>\n",
       "      <td>4</td>\n",
       "      <td>15</td>\n",
       "      <td>WI</td>\n",
       "      <td>2</td>\n",
       "      <td>A1</td>\n",
       "      <td>...</td>\n",
       "      <td>-1</td>\n",
       "      <td>-1</td>\n",
       "      <td>3</td>\n",
       "      <td>0</td>\n",
       "      <td>5</td>\n",
       "      <td>1</td>\n",
       "      <td>2</td>\n",
       "      <td>2</td>\n",
       "      <td>2.50</td>\n",
       "      <td>2</td>\n",
       "    </tr>\n",
       "    <tr>\n",
       "      <th>4</th>\n",
       "      <td>5051721601</td>\n",
       "      <td>2</td>\n",
       "      <td>5051721605</td>\n",
       "      <td>5051721600</td>\n",
       "      <td>F</td>\n",
       "      <td>17</td>\n",
       "      <td>15</td>\n",
       "      <td>WI</td>\n",
       "      <td>2</td>\n",
       "      <td>A1</td>\n",
       "      <td>...</td>\n",
       "      <td>-1</td>\n",
       "      <td>-1</td>\n",
       "      <td>0</td>\n",
       "      <td>4</td>\n",
       "      <td>5</td>\n",
       "      <td>1</td>\n",
       "      <td>4</td>\n",
       "      <td>2</td>\n",
       "      <td>1.25</td>\n",
       "      <td>1</td>\n",
       "    </tr>\n",
       "  </tbody>\n",
       "</table>\n",
       "<p>5 rows × 62 columns</p>\n",
       "</div>"
      ],
      "text/plain": [
       "       PERSID  PERSTYPE      RESPID      UCPSID SEX  UAGE SITE STATE UREGION  \\\n",
       "0  5561612801         1  5561612803  5561612800   F     3   15    WI       2   \n",
       "1  5470400001         2  5470400003  5470400000   M    14   15    WI       2   \n",
       "2  5787427204         2  5787427205  5787427200   F     9   15    WI       2   \n",
       "3  5410681601         1  5410681604  5410681600   M     4   15    WI       2   \n",
       "4  5051721601         2  5051721605  5051721600   F    17   15    WI       2   \n",
       "\n",
       "  TYPEINT  ... KAPPMED  SSHELP  CHLD0_5  CHLD6_17  UHHCOUNT  QSC5  MNBEDRMS  \\\n",
       "0      A1  ...      -1      -1        2         0         3     1         4   \n",
       "1      A1  ...       1      -1        0         2         3     2         2   \n",
       "2      A1  ...      -1      -1        0         4         6     1         3   \n",
       "3      A1  ...      -1      -1        3         0         5     1         2   \n",
       "4      A1  ...      -1      -1        0         4         5     1         4   \n",
       "\n",
       "   MOWNRENT  OVERCROWDING  MPUBHOUS  \n",
       "0         1          0.75        -1  \n",
       "1         2          1.50        -1  \n",
       "2         2          2.00         2  \n",
       "3         2          2.50         2  \n",
       "4         2          1.25         1  \n",
       "\n",
       "[5 rows x 62 columns]"
      ]
     },
     "execution_count": 6,
     "metadata": {},
     "output_type": "execute_result"
    }
   ],
   "source": [
    "# Merge dataframes using the household ID number, \n",
    "# inner merge keeps only households that are linked to a focal child subject\n",
    "child = pd.merge(fc, hh, left_on = 'HHID', right_on = 'HHID', how='inner')\n",
    "# replace all the missing values by the str 'no data', No by 0 and Yes by 1\n",
    "child.replace([-7,-8,-9],-1,inplace=True) \n",
    "\n",
    "# Preview of child dataframe\n",
    "child.head()"
   ]
  },
  {
   "cell_type": "code",
   "execution_count": 7,
   "metadata": {},
   "outputs": [],
   "source": [
    "# Divide child data in three dfs\n",
    "\n",
    "# Keep data of focal children from age 0 to 17 only\n",
    "child = child.loc[child['PERSTYPE'].isin([1,2])]\n",
    "\n",
    "# FC1 : focal child, aged 0-5\n",
    "fc1 = child.copy()[child['PERSTYPE']==1]\n",
    "\n",
    "# FC2 : focal child, aged 6-11\n",
    "fc2 = child.copy()[(child['PERSTYPE']==2) & (child['UAGE'] < 12)]\n",
    "\n",
    "# FC3 : focal child, aged 12-17\n",
    "fc3 = child.copy()[(child['PERSTYPE']==2) & (child['UAGE'] >= 12)]"
   ]
  },
  {
   "cell_type": "code",
   "execution_count": 8,
   "metadata": {},
   "outputs": [
    {
     "name": "stdout",
     "output_type": "stream",
     "text": [
      "Shapes of dataframes:\n",
      "fc1: (12268, 62)\n",
      "fc2: (10925, 62)\n",
      "fc3:(11087, 62)\n",
      "True\n"
     ]
    }
   ],
   "source": [
    "print(f'Shapes of dataframes:\\nfc1: {fc1.shape}\\nfc2: {fc2.shape}\\nfc3:{fc3.shape}')\n",
    "print((fc1.shape[0] + fc2.shape[0] + fc3.shape[0]) == child.shape[0]) #test to see if all children are counted"
   ]
  },
  {
   "cell_type": "code",
   "execution_count": 9,
   "metadata": {},
   "outputs": [
    {
     "data": {
      "text/plain": [
       "<seaborn.axisgrid.FacetGrid at 0x121fdde50>"
      ]
     },
     "execution_count": 9,
     "metadata": {},
     "output_type": "execute_result"
    },
    {
     "data": {
      "image/png": "[encoded data removed]",
      "text/plain": [
       "<Figure size 961.75x360 with 1 Axes>"
      ]
     },
     "metadata": {
      "needs_background": "light"
     },
     "output_type": "display_data"
    }
   ],
   "source": [
    "sns.catplot(x='SITE', y='UENG', hue='U_SOCPOV', kind='bar', data=fc2, height=5, aspect=2.5)"
   ]
  },
  {
   "cell_type": "code",
   "execution_count": 10,
   "metadata": {},
   "outputs": [
    {
     "data": {
      "text/plain": [
       "<seaborn.axisgrid.FacetGrid at 0x12d7c1a00>"
      ]
     },
     "execution_count": 10,
     "metadata": {},
     "output_type": "execute_result"
    },
    {
     "data": {
      "image/png": "[encoded data removed]",
      "text/plain": [
       "<Figure size 961.75x360 with 1 Axes>"
      ]
     },
     "metadata": {
      "needs_background": "light"
     },
     "output_type": "display_data"
    }
   ],
   "source": [
    "sns.catplot(x='SITE', y='UENG', hue='U_SOCPOV', kind='bar', data=fc3, height=5, aspect=2.5)"
   ]
  },
  {
   "cell_type": "code",
   "execution_count": 11,
   "metadata": {},
   "outputs": [
    {
     "data": {
      "text/plain": [
       "<matplotlib.axes._subplots.AxesSubplot at 0x1249610d0>"
      ]
     },
     "execution_count": 11,
     "metadata": {},
     "output_type": "execute_result"
    },
    {
     "data": {
      "image/png": "[encoded data removed]",
      "text/plain": [
       "<Figure size 432x288 with 1 Axes>"
      ]
     },
     "metadata": {
      "needs_background": "light"
     },
     "output_type": "display_data"
    }
   ],
   "source": [
    "sns.histplot(x='CSUEXP', hue='U_SOCPOV', multiple='dodge', shrink=.8, stat='density', data=fc3)"
   ]
  },
  {
   "cell_type": "code",
   "execution_count": 12,
   "metadata": {},
   "outputs": [
    {
     "data": {
      "text/plain": [
       "<matplotlib.axes._subplots.AxesSubplot at 0x1235c9ac0>"
      ]
     },
     "execution_count": 12,
     "metadata": {},
     "output_type": "execute_result"
    },
    {
     "data": {
      "image/png": "[encoded data removed]",
      "text/plain": [
       "<Figure size 432x288 with 1 Axes>"
      ]
     },
     "metadata": {
      "needs_background": "light"
     },
     "output_type": "display_data"
    }
   ],
   "source": [
    "sns.histplot(x='CSKIPSC', hue='U_SOCPOV', multiple='dodge', shrink=.8, stat='density', data=fc3)"
   ]
  },
  {
   "cell_type": "markdown",
   "metadata": {},
   "source": [
    "## Propensity score attempt"
   ]
  },
  {
   "cell_type": "code",
   "execution_count": 13,
   "metadata": {},
   "outputs": [
    {
     "data": {
      "text/plain": [
       "array([[0., 0., 0., 0., 0., 0., 0., 0., 0., 0., 0., 0., 0., 0., 0., 0.,\n",
       "        0., 0., 0., 0., 0., 0., 0., 0., 0., 0., 0., 0., 0., 0., 0., 0.,\n",
       "        0., 0., 0., 0., 0., 0., 0., 0., 0., 0., 0., 0., 0., 0., 0., 0.,\n",
       "        0., 0., 0., 0., 0., 0., 0., 0., 0., 0., 0., 0., 0., 0., 0., 0.,\n",
       "        0., 0., 0., 0., 0., 0., 0., 0., 0., 0., 0., 0., 0., 0., 0., 0.,\n",
       "        0., 0., 0., 0., 0., 0., 0., 0., 0., 0., 0., 0., 0., 0., 0., 0.,\n",
       "        0., 0., 0., 0., 0., 0., 0., 0., 0., 0., 0., 0., 0., 0., 0., 0.,\n",
       "        0., 0., 0., 0., 0., 0., 0., 0., 0., 0., 0., 0., 0., 0., 0., 0.,\n",
       "        0., 0., 0., 0., 0., 0., 0., 0., 0., 0., 0., 0., 0., 0., 0., 0.,\n",
       "        0., 0., 0., 0., 0., 0., 0., 0., 0., 0., 0., 0., 0., 0., 0., 0.,\n",
       "        0., 0., 0., 0., 0., 0., 0., 0., 0., 0., 0., 0., 0., 0., 0., 0.,\n",
       "        0., 0., 0., 0., 0., 0., 0., 0., 0., 0., 0., 0., 0., 0., 0., 0.,\n",
       "        0., 0., 0., 0., 0., 0., 0., 0., 0., 0., 0., 0., 0., 0., 0., 0.,\n",
       "        0., 0., 0., 0., 0., 0., 0., 0., 0., 0., 0., 0., 0., 0., 0., 0.,\n",
       "        0., 0., 0., 0., 0., 0., 0., 0., 0., 0., 0., 0., 0., 0., 0., 0.,\n",
       "        0., 0., 0., 0., 0., 0., 0., 0., 0., 0., 0., 0., 0., 0., 0., 0.,\n",
       "        0., 0., 0., 0., 0., 0., 0., 0., 0., 0., 0., 0., 0., 0., 0., 0.,\n",
       "        0., 0., 0., 0., 0., 0., 0.]])"
      ]
     },
     "execution_count": 13,
     "metadata": {},
     "output_type": "execute_result"
    }
   ],
   "source": [
    "from sklearn.ensemble import RandomForestClassifier, RandomForestRegressor\n",
    "\n",
    "outcome = 'UENGNEG'\n",
    "predictors = ['KAPPMED','MPUBHOUS']\n",
    "df_noNull = child.loc[(child[outcome] != -1) & (child[predictors].isin([-1]).any(axis=1)==False)]\n",
    "glm = sm.GLM(df_noNull[outcome].values, df_noNull[predictors].replace(2,0).values, family=sm.families.Poisson())\n",
    "res = glm.fit()\n",
    "res.summary()\n",
    "\n",
    "reg = RandomForestRegressor()\n",
    "X = df_noNull[predictors].replace(2,0).values.reshape(1,-1)\n",
    "y = df_noNull[outcome].values.reshape(1,-1)\n",
    "reg.fit(X, y)\n",
    "reg.predict(X)-y #=array(0) si le RFR a marché\n"
   ]
  },
  {
   "cell_type": "code",
   "execution_count": 14,
   "metadata": {},
   "outputs": [
    {
     "data": {
      "text/plain": [
       "(279, 62)"
      ]
     },
     "execution_count": 14,
     "metadata": {},
     "output_type": "execute_result"
    }
   ],
   "source": [
    "df_noNull.shape"
   ]
  },
  {
   "cell_type": "code",
   "execution_count": 15,
   "metadata": {},
   "outputs": [
    {
     "data": {
      "text/html": [
       "<div>\n",
       "<style scoped>\n",
       "    .dataframe tbody tr th:only-of-type {\n",
       "        vertical-align: middle;\n",
       "    }\n",
       "\n",
       "    .dataframe tbody tr th {\n",
       "        vertical-align: top;\n",
       "    }\n",
       "\n",
       "    .dataframe thead th {\n",
       "        text-align: right;\n",
       "    }\n",
       "</style>\n",
       "<table border=\"1\" class=\"dataframe\">\n",
       "  <thead>\n",
       "    <tr style=\"text-align: right;\">\n",
       "      <th></th>\n",
       "      <th>KAPPMED</th>\n",
       "      <th>MPUBHOUS</th>\n",
       "    </tr>\n",
       "  </thead>\n",
       "  <tbody>\n",
       "    <tr>\n",
       "      <th>0</th>\n",
       "      <td>-1</td>\n",
       "      <td>-1</td>\n",
       "    </tr>\n",
       "    <tr>\n",
       "      <th>1</th>\n",
       "      <td>1</td>\n",
       "      <td>-1</td>\n",
       "    </tr>\n",
       "    <tr>\n",
       "      <th>2</th>\n",
       "      <td>-1</td>\n",
       "      <td>2</td>\n",
       "    </tr>\n",
       "    <tr>\n",
       "      <th>3</th>\n",
       "      <td>-1</td>\n",
       "      <td>2</td>\n",
       "    </tr>\n",
       "    <tr>\n",
       "      <th>4</th>\n",
       "      <td>-1</td>\n",
       "      <td>1</td>\n",
       "    </tr>\n",
       "    <tr>\n",
       "      <th>5</th>\n",
       "      <td>-1</td>\n",
       "      <td>2</td>\n",
       "    </tr>\n",
       "    <tr>\n",
       "      <th>6</th>\n",
       "      <td>-1</td>\n",
       "      <td>2</td>\n",
       "    </tr>\n",
       "    <tr>\n",
       "      <th>7</th>\n",
       "      <td>-1</td>\n",
       "      <td>2</td>\n",
       "    </tr>\n",
       "    <tr>\n",
       "      <th>8</th>\n",
       "      <td>-1</td>\n",
       "      <td>2</td>\n",
       "    </tr>\n",
       "    <tr>\n",
       "      <th>9</th>\n",
       "      <td>2</td>\n",
       "      <td>1</td>\n",
       "    </tr>\n",
       "    <tr>\n",
       "      <th>10</th>\n",
       "      <td>-1</td>\n",
       "      <td>2</td>\n",
       "    </tr>\n",
       "    <tr>\n",
       "      <th>11</th>\n",
       "      <td>-1</td>\n",
       "      <td>2</td>\n",
       "    </tr>\n",
       "    <tr>\n",
       "      <th>12</th>\n",
       "      <td>-1</td>\n",
       "      <td>2</td>\n",
       "    </tr>\n",
       "    <tr>\n",
       "      <th>13</th>\n",
       "      <td>-1</td>\n",
       "      <td>2</td>\n",
       "    </tr>\n",
       "    <tr>\n",
       "      <th>14</th>\n",
       "      <td>-1</td>\n",
       "      <td>2</td>\n",
       "    </tr>\n",
       "  </tbody>\n",
       "</table>\n",
       "</div>"
      ],
      "text/plain": [
       "    KAPPMED  MPUBHOUS\n",
       "0        -1        -1\n",
       "1         1        -1\n",
       "2        -1         2\n",
       "3        -1         2\n",
       "4        -1         1\n",
       "5        -1         2\n",
       "6        -1         2\n",
       "7        -1         2\n",
       "8        -1         2\n",
       "9         2         1\n",
       "10       -1         2\n",
       "11       -1         2\n",
       "12       -1         2\n",
       "13       -1         2\n",
       "14       -1         2"
      ]
     },
     "execution_count": 15,
     "metadata": {},
     "output_type": "execute_result"
    }
   ],
   "source": [
    "oh = ['KAPPMED','MPUBHOUS']\n",
    "child[oh].head(15)"
   ]
  },
  {
   "cell_type": "code",
   "execution_count": 16,
   "metadata": {},
   "outputs": [],
   "source": [
    "#sns.pairplot(child[income+programs+income_hh+housing_hh+programs_hh+education])"
   ]
  },
  {
   "cell_type": "code",
   "execution_count": 17,
   "metadata": {},
   "outputs": [],
   "source": [
    "#sns.pairplot(child[income+income_hh+housing_hh+education])"
   ]
  },
  {
   "cell_type": "code",
   "execution_count": null,
   "metadata": {},
   "outputs": [],
   "source": []
  },
  {
   "cell_type": "code",
   "execution_count": 18,
   "metadata": {},
   "outputs": [],
   "source": [
    "#sns.pairplot(child[housing_hh+education])"
   ]
  },
  {
   "cell_type": "code",
   "execution_count": 19,
   "metadata": {},
   "outputs": [
    {
     "name": "stdout",
     "output_type": "stream",
     "text": [
      "                            OLS Regression Results                            \n",
      "==============================================================================\n",
      "Dep. Variable:                  UBPIA   R-squared:                       0.052\n",
      "Model:                            OLS   Adj. R-squared:                  0.052\n",
      "Method:                 Least Squares   F-statistic:                     100.4\n",
      "Date:                Wed, 02 Dec 2020   Prob (F-statistic):          1.86e-123\n",
      "Time:                        18:15:32   Log-Likelihood:                -28404.\n",
      "No. Observations:               10925   AIC:                         5.682e+04\n",
      "Df Residuals:                   10918   BIC:                         5.687e+04\n",
      "Df Model:                           6                                         \n",
      "Covariance Type:            nonrobust                                         \n",
      "=================================================================================\n",
      "                    coef    std err          t      P>|t|      [0.025      0.975]\n",
      "---------------------------------------------------------------------------------\n",
      "Intercept        12.7279      0.130     97.661      0.000      12.472      12.983\n",
      "C(GHMAD)[T.1]    -0.1264      0.086     -1.475      0.140      -0.294       0.042\n",
      "C(GHMAD)[T.2]    -0.1305      0.137     -0.956      0.339      -0.398       0.137\n",
      "OVERCROWDING      1.0419      0.049     21.199      0.000       0.946       1.138\n",
      "GSELFHR          -0.0008      0.000     -2.124      0.034      -0.001   -5.98e-05\n",
      "UMHIGDEG          0.0220      0.017      1.331      0.183      -0.010       0.054\n",
      "U_SOCPOV          0.4546      0.027     16.736      0.000       0.401       0.508\n",
      "==============================================================================\n",
      "Omnibus:                     6663.100   Durbin-Watson:                   2.035\n",
      "Prob(Omnibus):                  0.000   Jarque-Bera (JB):            66912.034\n",
      "Skew:                          -2.845   Prob(JB):                         0.00\n",
      "Kurtosis:                      13.705   Cond. No.                         379.\n",
      "==============================================================================\n",
      "\n",
      "Notes:\n",
      "[1] Standard Errors assume that the covariance matrix of the errors is correctly specified.\n"
     ]
    }
   ],
   "source": [
    "# Linear regression model for behavior of children\n",
    "\n",
    "# Features columns\n",
    "\n",
    "# Declares the model\n",
    "mod = smf.ols(formula='UBPIA ~ OVERCROWDING+C(GHMAD)+GSELFHR+UMHIGDEG+U_SOCPOV', data=fc2)\n",
    "res = mod.fit()\n",
    "print(res.summary())"
   ]
  },
  {
   "cell_type": "code",
   "execution_count": 24,
   "metadata": {},
   "outputs": [
    {
     "name": "stdout",
     "output_type": "stream",
     "text": [
      "                            OLS Regression Results                            \n",
      "==============================================================================\n",
      "Dep. Variable:                  UBPIA   R-squared:                       0.052\n",
      "Model:                            OLS   Adj. R-squared:                  0.052\n",
      "Method:                 Least Squares   F-statistic:                     199.3\n",
      "Date:                Wed, 02 Dec 2020   Prob (F-statistic):          7.94e-126\n",
      "Time:                        18:27:04   Log-Likelihood:                -28406.\n",
      "No. Observations:               10925   AIC:                         5.682e+04\n",
      "Df Residuals:                   10921   BIC:                         5.685e+04\n",
      "Df Model:                           3                                         \n",
      "Covariance Type:            nonrobust                                         \n",
      "================================================================================\n",
      "                   coef    std err          t      P>|t|      [0.025      0.975]\n",
      "--------------------------------------------------------------------------------\n",
      "Intercept       12.7714      0.120    106.201      0.000      12.536      13.007\n",
      "OVERCROWDING     1.0475      0.049     21.433      0.000       0.952       1.143\n",
      "GSELFHR         -0.0008      0.000     -2.139      0.032      -0.001   -6.53e-05\n",
      "U_SOCPOV         0.4553      0.027     16.845      0.000       0.402       0.508\n",
      "==============================================================================\n",
      "Omnibus:                     6659.184   Durbin-Watson:                   2.035\n",
      "Prob(Omnibus):                  0.000   Jarque-Bera (JB):            66776.112\n",
      "Skew:                          -2.844   Prob(JB):                         0.00\n",
      "Kurtosis:                      13.693   Cond. No.                         350.\n",
      "==============================================================================\n",
      "\n",
      "Notes:\n",
      "[1] Standard Errors assume that the covariance matrix of the errors is correctly specified.\n"
     ]
    }
   ],
   "source": [
    "reg2 = smf.ols(formula='UBPIA ~OVERCROWDING + GSELFHR + U_SOCPOV', data=fc2)\n",
    "res2 = reg2.fit()\n",
    "print(res2.summary())"
   ]
  },
  {
   "cell_type": "markdown",
   "metadata": {},
   "source": [
    "## Education"
   ]
  },
  {
   "cell_type": "code",
   "execution_count": 36,
   "metadata": {},
   "outputs": [
    {
     "data": {
      "text/plain": [
       "(1099, 62)"
      ]
     },
     "execution_count": 36,
     "metadata": {},
     "output_type": "execute_result"
    }
   ],
   "source": [
    "outcome = 'UENG'\n",
    "predictors = family+income+housing_hh\n",
    "df_noNull2 = fc2.loc[(fc2[outcome] != -1) & (fc2[predictors].isin([-1]).any(axis=1)==False)]\n",
    "df_noNull2.shape"
   ]
  },
  {
   "cell_type": "code",
   "execution_count": 38,
   "metadata": {},
   "outputs": [
    {
     "name": "stdout",
     "output_type": "stream",
     "text": [
      "                            OLS Regression Results                            \n",
      "==============================================================================\n",
      "Dep. Variable:                   UENG   R-squared:                       0.066\n",
      "Model:                            OLS   Adj. R-squared:                  0.059\n",
      "Method:                 Least Squares   F-statistic:                     9.584\n",
      "Date:                Wed, 02 Dec 2020   Prob (F-statistic):           6.82e-13\n",
      "Time:                        19:05:50   Log-Likelihood:                -2577.3\n",
      "No. Observations:                1099   AIC:                             5173.\n",
      "Df Residuals:                    1090   BIC:                             5218.\n",
      "Df Model:                           8                                         \n",
      "Covariance Type:            nonrobust                                         \n",
      "================================================================================\n",
      "                   coef    std err          t      P>|t|      [0.025      0.975]\n",
      "--------------------------------------------------------------------------------\n",
      "Intercept       10.2790      0.765     13.443      0.000       8.779      11.779\n",
      "GSELFHR          0.0003      0.000      0.884      0.377      -0.000       0.001\n",
      "UFAMSTR          0.3621      0.091      3.973      0.000       0.183       0.541\n",
      "UMH2             0.0270      0.006      4.474      0.000       0.015       0.039\n",
      "UMHIGDEG         0.0669      0.044      1.531      0.126      -0.019       0.153\n",
      "U_SOCPOV         0.1235      0.080      1.545      0.123      -0.033       0.280\n",
      "MNBEDRMS        -0.2292      0.106     -2.154      0.031      -0.438      -0.020\n",
      "MOWNRENT         0.0407      0.175      0.233      0.816      -0.302       0.384\n",
      "OVERCROWDING    -0.5617      0.163     -3.453      0.001      -0.881      -0.243\n",
      "==============================================================================\n",
      "Omnibus:                       52.494   Durbin-Watson:                   2.094\n",
      "Prob(Omnibus):                  0.000   Jarque-Bera (JB):               44.068\n",
      "Skew:                          -0.415   Prob(JB):                     2.70e-10\n",
      "Kurtosis:                       2.476   Cond. No.                     2.69e+03\n",
      "==============================================================================\n",
      "\n",
      "Notes:\n",
      "[1] Standard Errors assume that the covariance matrix of the errors is correctly specified.\n",
      "[2] The condition number is large, 2.69e+03. This might indicate that there are\n",
      "strong multicollinearity or other numerical problems.\n"
     ]
    }
   ],
   "source": [
    "# Declares the model\n",
    "mod = smf.ols(formula='UENG ~ GSELFHR+UFAMSTR+UMH2+UMHIGDEG+U_SOCPOV+MNBEDRMS+MOWNRENT+OVERCROWDING', data=df_noNull2)\n",
    "res = mod.fit()\n",
    "print(res.summary())"
   ]
  },
  {
   "cell_type": "code",
   "execution_count": 42,
   "metadata": {},
   "outputs": [
    {
     "name": "stdout",
     "output_type": "stream",
     "text": [
      "                            OLS Regression Results                            \n",
      "==============================================================================\n",
      "Dep. Variable:                   UENG   R-squared:                       0.061\n",
      "Model:                            OLS   Adj. R-squared:                  0.057\n",
      "Method:                 Least Squares   F-statistic:                     17.71\n",
      "Date:                Wed, 02 Dec 2020   Prob (F-statistic):           4.23e-14\n",
      "Time:                        19:10:53   Log-Likelihood:                -2580.1\n",
      "No. Observations:                1099   AIC:                             5170.\n",
      "Df Residuals:                    1094   BIC:                             5195.\n",
      "Df Model:                           4                                         \n",
      "Covariance Type:            nonrobust                                         \n",
      "================================================================================\n",
      "                   coef    std err          t      P>|t|      [0.025      0.975]\n",
      "--------------------------------------------------------------------------------\n",
      "Intercept       10.7455      0.627     17.126      0.000       9.514      11.977\n",
      "UFAMSTR          0.4192      0.084      4.992      0.000       0.254       0.584\n",
      "UMH2             0.0284      0.006      4.782      0.000       0.017       0.040\n",
      "MNBEDRMS        -0.2322      0.105     -2.204      0.028      -0.439      -0.025\n",
      "OVERCROWDING    -0.5973      0.155     -3.849      0.000      -0.902      -0.293\n",
      "==============================================================================\n",
      "Omnibus:                       54.700   Durbin-Watson:                   2.092\n",
      "Prob(Omnibus):                  0.000   Jarque-Bera (JB):               45.713\n",
      "Skew:                          -0.423   Prob(JB):                     1.18e-10\n",
      "Kurtosis:                       2.467   Cond. No.                         653.\n",
      "==============================================================================\n",
      "\n",
      "Notes:\n",
      "[1] Standard Errors assume that the covariance matrix of the errors is correctly specified.\n"
     ]
    }
   ],
   "source": [
    "# Keep only significant variables\n",
    "mod = smf.ols(formula='UENG ~ UFAMSTR+UMH2+MNBEDRMS+OVERCROWDING', data=df_noNull2)\n",
    "res = mod.fit()\n",
    "print(res.summary())"
   ]
  },
  {
   "cell_type": "markdown",
   "metadata": {},
   "source": [
    "## Health"
   ]
  },
  {
   "cell_type": "code",
   "execution_count": 43,
   "metadata": {},
   "outputs": [
    {
     "data": {
      "text/plain": [
       "(1104, 62)"
      ]
     },
     "execution_count": 43,
     "metadata": {},
     "output_type": "execute_result"
    }
   ],
   "source": [
    "outcome = 'BHLTHN'\n",
    "predictors = family+income+housing_hh\n",
    "df_noNull2 = fc2.loc[(fc2[outcome] != -1) & (fc2[predictors].isin([-1]).any(axis=1)==False)]\n",
    "df_noNull2.shape"
   ]
  },
  {
   "cell_type": "code",
   "execution_count": 44,
   "metadata": {},
   "outputs": [
    {
     "name": "stdout",
     "output_type": "stream",
     "text": [
      "                            OLS Regression Results                            \n",
      "==============================================================================\n",
      "Dep. Variable:                 BHLTHN   R-squared:                       0.098\n",
      "Model:                            OLS   Adj. R-squared:                  0.092\n",
      "Method:                 Least Squares   F-statistic:                     14.92\n",
      "Date:                Wed, 02 Dec 2020   Prob (F-statistic):           6.82e-21\n",
      "Time:                        19:13:44   Log-Likelihood:                -1386.5\n",
      "No. Observations:                1104   AIC:                             2791.\n",
      "Df Residuals:                    1095   BIC:                             2836.\n",
      "Df Model:                           8                                         \n",
      "Covariance Type:            nonrobust                                         \n",
      "================================================================================\n",
      "                   coef    std err          t      P>|t|      [0.025      0.975]\n",
      "--------------------------------------------------------------------------------\n",
      "Intercept        3.0843      0.257     11.995      0.000       2.580       3.589\n",
      "GSELFHR          0.0002      0.000      1.708      0.088   -2.56e-05       0.000\n",
      "UFAMSTR         -0.0917      0.031     -2.997      0.003      -0.152      -0.032\n",
      "UMH2            -0.0126      0.002     -6.220      0.000      -0.017      -0.009\n",
      "UMHIGDEG         0.0170      0.015      1.158      0.247      -0.012       0.046\n",
      "U_SOCPOV        -0.0949      0.027     -3.539      0.000      -0.148      -0.042\n",
      "MNBEDRMS         0.0012      0.036      0.035      0.972      -0.069       0.071\n",
      "MOWNRENT        -0.0735      0.059     -1.254      0.210      -0.189       0.042\n",
      "OVERCROWDING     0.1443      0.055      2.644      0.008       0.037       0.251\n",
      "==============================================================================\n",
      "Omnibus:                      150.137   Durbin-Watson:                   2.052\n",
      "Prob(Omnibus):                  0.000   Jarque-Bera (JB):              214.089\n",
      "Skew:                           1.001   Prob(JB):                     3.24e-47\n",
      "Kurtosis:                       3.803   Cond. No.                     2.73e+03\n",
      "==============================================================================\n",
      "\n",
      "Notes:\n",
      "[1] Standard Errors assume that the covariance matrix of the errors is correctly specified.\n",
      "[2] The condition number is large, 2.73e+03. This might indicate that there are\n",
      "strong multicollinearity or other numerical problems.\n"
     ]
    }
   ],
   "source": [
    "# Declares the model\n",
    "mod = smf.ols(formula='BHLTHN ~ GSELFHR+UFAMSTR+UMH2+UMHIGDEG+U_SOCPOV+MNBEDRMS+MOWNRENT+OVERCROWDING', data=df_noNull2)\n",
    "res = mod.fit()\n",
    "print(res.summary())"
   ]
  },
  {
   "cell_type": "code",
   "execution_count": 46,
   "metadata": {},
   "outputs": [
    {
     "name": "stdout",
     "output_type": "stream",
     "text": [
      "                            OLS Regression Results                            \n",
      "==============================================================================\n",
      "Dep. Variable:                 BHLTHN   R-squared:                       0.094\n",
      "Model:                            OLS   Adj. R-squared:                  0.090\n",
      "Method:                 Least Squares   F-statistic:                     28.36\n",
      "Date:                Wed, 02 Dec 2020   Prob (F-statistic):           1.91e-22\n",
      "Time:                        19:15:10   Log-Likelihood:                -1389.4\n",
      "No. Observations:                1104   AIC:                             2789.\n",
      "Df Residuals:                    1099   BIC:                             2814.\n",
      "Df Model:                           4                                         \n",
      "Covariance Type:            nonrobust                                         \n",
      "================================================================================\n",
      "                   coef    std err          t      P>|t|      [0.025      0.975]\n",
      "--------------------------------------------------------------------------------\n",
      "Intercept        2.9914      0.181     16.519      0.000       2.636       3.347\n",
      "UFAMSTR         -0.0793      0.029     -2.773      0.006      -0.135      -0.023\n",
      "UMH2            -0.0124      0.002     -6.140      0.000      -0.016      -0.008\n",
      "U_SOCPOV        -0.0875      0.026     -3.378      0.001      -0.138      -0.037\n",
      "OVERCROWDING     0.1424      0.046      3.099      0.002       0.052       0.233\n",
      "==============================================================================\n",
      "Omnibus:                      153.193   Durbin-Watson:                   2.061\n",
      "Prob(Omnibus):                  0.000   Jarque-Bera (JB):              219.844\n",
      "Skew:                           1.015   Prob(JB):                     1.83e-48\n",
      "Kurtosis:                       3.809   Cond. No.                         558.\n",
      "==============================================================================\n",
      "\n",
      "Notes:\n",
      "[1] Standard Errors assume that the covariance matrix of the errors is correctly specified.\n"
     ]
    }
   ],
   "source": [
    "# Significant variables\n",
    "mod = smf.ols(formula='BHLTHN ~ UFAMSTR+UMH2+U_SOCPOV+OVERCROWDING', data=df_noNull2)\n",
    "res = mod.fit()\n",
    "print(res.summary())"
   ]
  },
  {
   "cell_type": "markdown",
   "metadata": {},
   "source": [
    "## Mental health\n",
    "\n",
    "\n",
    "**fc2**\n"
   ]
  },
  {
   "cell_type": "code",
   "execution_count": 47,
   "metadata": {},
   "outputs": [
    {
     "data": {
      "text/plain": [
       "(1102, 62)"
      ]
     },
     "execution_count": 47,
     "metadata": {},
     "output_type": "execute_result"
    }
   ],
   "source": [
    "outcome = 'UBPIA'\n",
    "predictors = family+income+housing_hh\n",
    "df_noNull2 = fc2.loc[(fc2[outcome] != -1) & (fc2[predictors].isin([-1]).any(axis=1)==False)]\n",
    "df_noNull2.shape"
   ]
  },
  {
   "cell_type": "code",
   "execution_count": 49,
   "metadata": {},
   "outputs": [
    {
     "name": "stdout",
     "output_type": "stream",
     "text": [
      "                            OLS Regression Results                            \n",
      "==============================================================================\n",
      "Dep. Variable:                  UBPIA   R-squared:                       0.130\n",
      "Model:                            OLS   Adj. R-squared:                  0.124\n",
      "Method:                 Least Squares   F-statistic:                     20.48\n",
      "Date:                Wed, 02 Dec 2020   Prob (F-statistic):           4.40e-29\n",
      "Time:                        19:20:43   Log-Likelihood:                -2358.7\n",
      "No. Observations:                1102   AIC:                             4735.\n",
      "Df Residuals:                    1093   BIC:                             4780.\n",
      "Df Model:                           8                                         \n",
      "Covariance Type:            nonrobust                                         \n",
      "================================================================================\n",
      "                   coef    std err          t      P>|t|      [0.025      0.975]\n",
      "--------------------------------------------------------------------------------\n",
      "Intercept       10.9397      0.623     17.566      0.000       9.718      12.162\n",
      "GSELFHR         -0.0004      0.000     -1.613      0.107      -0.001    8.53e-05\n",
      "UFAMSTR          0.3528      0.074      4.751      0.000       0.207       0.499\n",
      "UMH2             0.0535      0.005     10.880      0.000       0.044       0.063\n",
      "UMHIGDEG        -0.0254      0.036     -0.713      0.476      -0.095       0.045\n",
      "U_SOCPOV        -0.0464      0.065     -0.713      0.476      -0.174       0.081\n",
      "MNBEDRMS        -0.1723      0.087     -1.988      0.047      -0.342      -0.002\n",
      "MOWNRENT         0.3013      0.142      2.122      0.034       0.023       0.580\n",
      "OVERCROWDING    -0.1717      0.132     -1.297      0.195      -0.431       0.088\n",
      "==============================================================================\n",
      "Omnibus:                      143.892   Durbin-Watson:                   1.985\n",
      "Prob(Omnibus):                  0.000   Jarque-Bera (JB):              211.494\n",
      "Skew:                          -0.928   Prob(JB):                     1.19e-46\n",
      "Kurtosis:                       4.077   Cond. No.                     2.73e+03\n",
      "==============================================================================\n",
      "\n",
      "Notes:\n",
      "[1] Standard Errors assume that the covariance matrix of the errors is correctly specified.\n",
      "[2] The condition number is large, 2.73e+03. This might indicate that there are\n",
      "strong multicollinearity or other numerical problems.\n"
     ]
    }
   ],
   "source": [
    "# Declares the model\n",
    "mod = smf.ols(formula='UBPIA ~ GSELFHR+UFAMSTR+UMH2+UMHIGDEG+U_SOCPOV+MNBEDRMS+MOWNRENT+OVERCROWDING', data=df_noNull2)\n",
    "res = mod.fit()\n",
    "print(res.summary())\n"
   ]
  },
  {
   "cell_type": "code",
   "execution_count": 50,
   "metadata": {},
   "outputs": [
    {
     "name": "stdout",
     "output_type": "stream",
     "text": [
      "                            OLS Regression Results                            \n",
      "==============================================================================\n",
      "Dep. Variable:                  UBPIA   R-squared:                       0.126\n",
      "Model:                            OLS   Adj. R-squared:                  0.123\n",
      "Method:                 Least Squares   F-statistic:                     39.57\n",
      "Date:                Wed, 02 Dec 2020   Prob (F-statistic):           5.48e-31\n",
      "Time:                        19:22:35   Log-Likelihood:                -2361.4\n",
      "No. Observations:                1102   AIC:                             4733.\n",
      "Df Residuals:                    1097   BIC:                             4758.\n",
      "Df Model:                           4                                         \n",
      "Covariance Type:            nonrobust                                         \n",
      "==============================================================================\n",
      "                 coef    std err          t      P>|t|      [0.025      0.975]\n",
      "------------------------------------------------------------------------------\n",
      "Intercept     10.4056      0.534     19.495      0.000       9.358      11.453\n",
      "UFAMSTR        0.3118      0.069      4.505      0.000       0.176       0.448\n",
      "UMH2           0.0534      0.005     10.948      0.000       0.044       0.063\n",
      "MNBEDRMS      -0.1125      0.074     -1.512      0.131      -0.258       0.033\n",
      "MOWNRENT       0.2912      0.136      2.138      0.033       0.024       0.558\n",
      "==============================================================================\n",
      "Omnibus:                      146.034   Durbin-Watson:                   1.997\n",
      "Prob(Omnibus):                  0.000   Jarque-Bera (JB):              215.805\n",
      "Skew:                          -0.937   Prob(JB):                     1.38e-47\n",
      "Kurtosis:                       4.091   Cond. No.                         684.\n",
      "==============================================================================\n",
      "\n",
      "Notes:\n",
      "[1] Standard Errors assume that the covariance matrix of the errors is correctly specified.\n"
     ]
    }
   ],
   "source": [
    "# Significant variables\n",
    "mod = smf.ols(formula='UBPIA ~ UFAMSTR+UMH2+MNBEDRMS+MOWNRENT', data=df_noNull2)\n",
    "res = mod.fit()\n",
    "print(res.summary())"
   ]
  },
  {
   "cell_type": "code",
   "execution_count": 51,
   "metadata": {},
   "outputs": [
    {
     "name": "stdout",
     "output_type": "stream",
     "text": [
      "                            OLS Regression Results                            \n",
      "==============================================================================\n",
      "Dep. Variable:                  UBPIA   R-squared:                       0.124\n",
      "Model:                            OLS   Adj. R-squared:                  0.122\n",
      "Method:                 Least Squares   F-statistic:                     51.94\n",
      "Date:                Wed, 02 Dec 2020   Prob (F-statistic):           2.15e-31\n",
      "Time:                        19:22:54   Log-Likelihood:                -2362.5\n",
      "No. Observations:                1102   AIC:                             4733.\n",
      "Df Residuals:                    1098   BIC:                             4753.\n",
      "Df Model:                           3                                         \n",
      "Covariance Type:            nonrobust                                         \n",
      "==============================================================================\n",
      "                 coef    std err          t      P>|t|      [0.025      0.975]\n",
      "------------------------------------------------------------------------------\n",
      "Intercept     10.0838      0.490     20.588      0.000       9.123      11.045\n",
      "UFAMSTR        0.2943      0.068      4.311      0.000       0.160       0.428\n",
      "UMH2           0.0528      0.005     10.861      0.000       0.043       0.062\n",
      "MOWNRENT       0.3356      0.133      2.523      0.012       0.075       0.597\n",
      "==============================================================================\n",
      "Omnibus:                      148.502   Durbin-Watson:                   1.991\n",
      "Prob(Omnibus):                  0.000   Jarque-Bera (JB):              221.755\n",
      "Skew:                          -0.944   Prob(JB):                     7.02e-49\n",
      "Kurtosis:                       4.126   Cond. No.                         627.\n",
      "==============================================================================\n",
      "\n",
      "Notes:\n",
      "[1] Standard Errors assume that the covariance matrix of the errors is correctly specified.\n"
     ]
    }
   ],
   "source": [
    "# Significant variables\n",
    "mod = smf.ols(formula='UBPIA ~ UFAMSTR+UMH2+MOWNRENT', data=df_noNull2)\n",
    "res = mod.fit()\n",
    "print(res.summary())"
   ]
  },
  {
   "cell_type": "markdown",
   "metadata": {},
   "source": [
    "**fc3**"
   ]
  },
  {
   "cell_type": "code",
   "execution_count": 52,
   "metadata": {},
   "outputs": [
    {
     "data": {
      "text/plain": [
       "(700, 62)"
      ]
     },
     "execution_count": 52,
     "metadata": {},
     "output_type": "execute_result"
    }
   ],
   "source": [
    "outcome = 'UBPIB'\n",
    "predictors = family+income+housing_hh\n",
    "df_noNull3 = fc3.loc[(fc3[outcome] != -1) & (fc3[predictors].isin([-1]).any(axis=1)==False)]\n",
    "df_noNull3.shape"
   ]
  },
  {
   "cell_type": "code",
   "execution_count": 54,
   "metadata": {},
   "outputs": [
    {
     "name": "stdout",
     "output_type": "stream",
     "text": [
      "                            OLS Regression Results                            \n",
      "==============================================================================\n",
      "Dep. Variable:                  UBPIB   R-squared:                       0.132\n",
      "Model:                            OLS   Adj. R-squared:                  0.122\n",
      "Method:                 Least Squares   F-statistic:                     13.13\n",
      "Date:                Wed, 02 Dec 2020   Prob (F-statistic):           9.94e-18\n",
      "Time:                        19:25:19   Log-Likelihood:                -1477.5\n",
      "No. Observations:                 700   AIC:                             2973.\n",
      "Df Residuals:                     691   BIC:                             3014.\n",
      "Df Model:                           8                                         \n",
      "Covariance Type:            nonrobust                                         \n",
      "================================================================================\n",
      "                   coef    std err          t      P>|t|      [0.025      0.975]\n",
      "--------------------------------------------------------------------------------\n",
      "Intercept       11.5808      0.746     15.516      0.000      10.115      13.046\n",
      "GSELFHR       8.652e-05      0.000      0.214      0.830      -0.001       0.001\n",
      "UFAMSTR          0.3376      0.091      3.728      0.000       0.160       0.515\n",
      "UMH2             0.0418      0.006      7.161      0.000       0.030       0.053\n",
      "UMHIGDEG         0.0301      0.043      0.698      0.486      -0.055       0.115\n",
      "U_SOCPOV         0.1050      0.084      1.246      0.213      -0.060       0.270\n",
      "MNBEDRMS        -0.0903      0.106     -0.851      0.395      -0.298       0.118\n",
      "MOWNRENT        -0.2458      0.191     -1.287      0.199      -0.621       0.129\n",
      "OVERCROWDING    -0.0049      0.181     -0.027      0.978      -0.360       0.350\n",
      "==============================================================================\n",
      "Omnibus:                      140.642   Durbin-Watson:                   2.084\n",
      "Prob(Omnibus):                  0.000   Jarque-Bera (JB):              276.901\n",
      "Skew:                          -1.140   Prob(JB):                     7.44e-61\n",
      "Kurtosis:                       5.073   Cond. No.                     1.97e+03\n",
      "==============================================================================\n",
      "\n",
      "Notes:\n",
      "[1] Standard Errors assume that the covariance matrix of the errors is correctly specified.\n",
      "[2] The condition number is large, 1.97e+03. This might indicate that there are\n",
      "strong multicollinearity or other numerical problems.\n"
     ]
    }
   ],
   "source": [
    "# Declares the model\n",
    "mod = smf.ols(formula='UBPIB ~ GSELFHR+UFAMSTR+UMH2+UMHIGDEG+U_SOCPOV+MNBEDRMS+MOWNRENT+OVERCROWDING', data=df_noNull3)\n",
    "res = mod.fit()\n",
    "print(res.summary())"
   ]
  },
  {
   "cell_type": "code",
   "execution_count": 55,
   "metadata": {},
   "outputs": [
    {
     "name": "stdout",
     "output_type": "stream",
     "text": [
      "                            OLS Regression Results                            \n",
      "==============================================================================\n",
      "Dep. Variable:                  UBPIB   R-squared:                       0.125\n",
      "Model:                            OLS   Adj. R-squared:                  0.123\n",
      "Method:                 Least Squares   F-statistic:                     49.82\n",
      "Date:                Wed, 02 Dec 2020   Prob (F-statistic):           5.98e-21\n",
      "Time:                        19:27:24   Log-Likelihood:                -1480.2\n",
      "No. Observations:                 700   AIC:                             2966.\n",
      "Df Residuals:                     697   BIC:                             2980.\n",
      "Df Model:                           2                                         \n",
      "Covariance Type:            nonrobust                                         \n",
      "==============================================================================\n",
      "                 coef    std err          t      P>|t|      [0.025      0.975]\n",
      "------------------------------------------------------------------------------\n",
      "Intercept     11.0825      0.479     23.144      0.000      10.142      12.023\n",
      "UFAMSTR        0.3913      0.079      4.931      0.000       0.235       0.547\n",
      "UMH2           0.0438      0.006      7.754      0.000       0.033       0.055\n",
      "==============================================================================\n",
      "Omnibus:                      151.164   Durbin-Watson:                   2.080\n",
      "Prob(Omnibus):                  0.000   Jarque-Bera (JB):              317.264\n",
      "Skew:                          -1.189   Prob(JB):                     1.28e-69\n",
      "Kurtosis:                       5.286   Cond. No.                         503.\n",
      "==============================================================================\n",
      "\n",
      "Notes:\n",
      "[1] Standard Errors assume that the covariance matrix of the errors is correctly specified.\n"
     ]
    }
   ],
   "source": [
    "# Significant\n",
    "mod = smf.ols(formula='UBPIB ~ UFAMSTR+UMH2', data=df_noNull3)\n",
    "res = mod.fit()\n",
    "print(res.summary())"
   ]
  },
  {
   "cell_type": "markdown",
   "metadata": {},
   "source": [
    "## Conclusion Q1\n",
    "\n",
    "Looking at the whole model, we can say that mental health is most influenced by housing conditions."
   ]
  },
  {
   "cell_type": "markdown",
   "metadata": {},
   "source": [
    "## Mental health of UMH2"
   ]
  },
  {
   "cell_type": "code",
   "execution_count": 56,
   "metadata": {},
   "outputs": [
    {
     "data": {
      "text/plain": [
       "(33598, 62)"
      ]
     },
     "execution_count": 56,
     "metadata": {},
     "output_type": "execute_result"
    }
   ],
   "source": [
    "outcome = 'UMH2'\n",
    "predictors = family_hh+income+housing_hh\n",
    "df_noNull = child.loc[(child[outcome] != -1) & (child[predictors].isin([-1]).any(axis=1)==False)]\n",
    "df_noNull.shape"
   ]
  },
  {
   "cell_type": "code",
   "execution_count": 57,
   "metadata": {},
   "outputs": [
    {
     "name": "stdout",
     "output_type": "stream",
     "text": [
      "                            OLS Regression Results                            \n",
      "==============================================================================\n",
      "Dep. Variable:                   UMH2   R-squared:                       0.047\n",
      "Model:                            OLS   Adj. R-squared:                  0.046\n",
      "Method:                 Least Squares   F-statistic:                     235.1\n",
      "Date:                Wed, 02 Dec 2020   Prob (F-statistic):               0.00\n",
      "Time:                        19:44:21   Log-Likelihood:            -1.3367e+05\n",
      "No. Observations:               33598   AIC:                         2.673e+05\n",
      "Df Residuals:                   33590   BIC:                         2.674e+05\n",
      "Df Model:                           7                                         \n",
      "Covariance Type:            nonrobust                                         \n",
      "================================================================================\n",
      "                   coef    std err          t      P>|t|      [0.025      0.975]\n",
      "--------------------------------------------------------------------------------\n",
      "Intercept       72.5018      0.579    125.136      0.000      71.366      73.637\n",
      "CHLD0_5          0.7345      0.131      5.600      0.000       0.477       0.992\n",
      "CHLD6_17        -0.1951      0.113     -1.725      0.084      -0.417       0.027\n",
      "UHHCOUNT         0.1373      0.119      1.156      0.248      -0.095       0.370\n",
      "U_SOCPOV         1.9213      0.068     28.051      0.000       1.787       2.056\n",
      "MNBEDRMS         0.6711      0.136      4.918      0.000       0.404       0.939\n",
      "MOWNRENT        -1.2004      0.159     -7.558      0.000      -1.512      -0.889\n",
      "OVERCROWDING     0.1029      0.222      0.464      0.643      -0.332       0.537\n",
      "==============================================================================\n",
      "Omnibus:                     2623.740   Durbin-Watson:                   1.658\n",
      "Prob(Omnibus):                  0.000   Jarque-Bera (JB):             3504.608\n",
      "Skew:                          -0.679   Prob(JB):                         0.00\n",
      "Kurtosis:                       3.812   Cond. No.                         58.1\n",
      "==============================================================================\n",
      "\n",
      "Notes:\n",
      "[1] Standard Errors assume that the covariance matrix of the errors is correctly specified.\n"
     ]
    }
   ],
   "source": [
    "# Declares the model\n",
    "mod = smf.ols(formula='UMH2 ~ CHLD0_5+CHLD6_17+UHHCOUNT+U_SOCPOV+MNBEDRMS+MOWNRENT+OVERCROWDING', data=df_noNull)\n",
    "res = mod.fit()\n",
    "print(res.summary())"
   ]
  },
  {
   "cell_type": "code",
   "execution_count": 58,
   "metadata": {},
   "outputs": [
    {
     "name": "stdout",
     "output_type": "stream",
     "text": [
      "                            OLS Regression Results                            \n",
      "==============================================================================\n",
      "Dep. Variable:                   UMH2   R-squared:                       0.047\n",
      "Model:                            OLS   Adj. R-squared:                  0.046\n",
      "Method:                 Least Squares   F-statistic:                     328.3\n",
      "Date:                Wed, 02 Dec 2020   Prob (F-statistic):               0.00\n",
      "Time:                        19:45:30   Log-Likelihood:            -1.3367e+05\n",
      "No. Observations:               33598   AIC:                         2.673e+05\n",
      "Df Residuals:                   33592   BIC:                         2.674e+05\n",
      "Df Model:                           5                                         \n",
      "Covariance Type:            nonrobust                                         \n",
      "==============================================================================\n",
      "                 coef    std err          t      P>|t|      [0.025      0.975]\n",
      "------------------------------------------------------------------------------\n",
      "Intercept     72.9315      0.460    158.662      0.000      72.030      73.832\n",
      "CHLD0_5        0.9063      0.096      9.471      0.000       0.719       1.094\n",
      "CHLD6_17      -0.0381      0.077     -0.496      0.620      -0.189       0.112\n",
      "U_SOCPOV       1.9237      0.068     28.106      0.000       1.790       2.058\n",
      "MNBEDRMS       0.6596      0.085      7.792      0.000       0.494       0.826\n",
      "MOWNRENT      -1.2130      0.158     -7.671      0.000      -1.523      -0.903\n",
      "==============================================================================\n",
      "Omnibus:                     2621.205   Durbin-Watson:                   1.658\n",
      "Prob(Omnibus):                  0.000   Jarque-Bera (JB):             3501.824\n",
      "Skew:                          -0.678   Prob(JB):                         0.00\n",
      "Kurtosis:                       3.813   Cond. No.                         33.8\n",
      "==============================================================================\n",
      "\n",
      "Notes:\n",
      "[1] Standard Errors assume that the covariance matrix of the errors is correctly specified.\n"
     ]
    }
   ],
   "source": [
    "# Significant\n",
    "mod = smf.ols(formula='UMH2 ~ CHLD0_5+CHLD6_17+U_SOCPOV+MNBEDRMS+MOWNRENT', data=df_noNull)\n",
    "res = mod.fit()\n",
    "print(res.summary())"
   ]
  },
  {
   "cell_type": "code",
   "execution_count": 59,
   "metadata": {},
   "outputs": [
    {
     "name": "stdout",
     "output_type": "stream",
     "text": [
      "                            OLS Regression Results                            \n",
      "==============================================================================\n",
      "Dep. Variable:                   UMH2   R-squared:                       0.047\n",
      "Model:                            OLS   Adj. R-squared:                  0.046\n",
      "Method:                 Least Squares   F-statistic:                     410.3\n",
      "Date:                Wed, 02 Dec 2020   Prob (F-statistic):               0.00\n",
      "Time:                        19:46:01   Log-Likelihood:            -1.3367e+05\n",
      "No. Observations:               33598   AIC:                         2.673e+05\n",
      "Df Residuals:                   33593   BIC:                         2.674e+05\n",
      "Df Model:                           4                                         \n",
      "Covariance Type:            nonrobust                                         \n",
      "==============================================================================\n",
      "                 coef    std err          t      P>|t|      [0.025      0.975]\n",
      "------------------------------------------------------------------------------\n",
      "Intercept     72.8818      0.449    162.442      0.000      72.002      73.761\n",
      "CHLD0_5        0.9233      0.089     10.327      0.000       0.748       1.098\n",
      "U_SOCPOV       1.9329      0.066     29.318      0.000       1.804       2.062\n",
      "MNBEDRMS       0.6464      0.080      8.044      0.000       0.489       0.804\n",
      "MOWNRENT      -1.2133      0.158     -7.673      0.000      -1.523      -0.903\n",
      "==============================================================================\n",
      "Omnibus:                     2621.551   Durbin-Watson:                   1.658\n",
      "Prob(Omnibus):                  0.000   Jarque-Bera (JB):             3502.520\n",
      "Skew:                          -0.678   Prob(JB):                         0.00\n",
      "Kurtosis:                       3.813   Cond. No.                         31.7\n",
      "==============================================================================\n",
      "\n",
      "Notes:\n",
      "[1] Standard Errors assume that the covariance matrix of the errors is correctly specified.\n"
     ]
    }
   ],
   "source": [
    "# Significant\n",
    "mod = smf.ols(formula='UMH2 ~ CHLD0_5+U_SOCPOV+MNBEDRMS+MOWNRENT', data=df_noNull)\n",
    "res = mod.fit()\n",
    "print(res.summary())"
   ]
  },
  {
   "cell_type": "code",
   "execution_count": null,
   "metadata": {},
   "outputs": [],
   "source": []
  }
 ],
 "metadata": {
  "kernelspec": {
   "display_name": "Python 3",
   "language": "python",
   "name": "python3"
  },
  "language_info": {
   "codemirror_mode": {
    "name": "ipython",
    "version": 3
   },
   "file_extension": ".py",
   "mimetype": "text/x-python",
   "name": "python",
   "nbconvert_exporter": "python",
   "pygments_lexer": "ipython3",
   "version": "3.8.5"
  }
 },
 "nbformat": 4,
 "nbformat_minor": 4
}
