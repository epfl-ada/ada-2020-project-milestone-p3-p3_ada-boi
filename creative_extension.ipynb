{
 "cells": [
  {
   "cell_type": "markdown",
   "metadata": {},
   "source": [
    "# Creative extension\n",
    "\n",
    "__Paper:__ Housing, Health, and Happiness\n",
    "\n",
    "__Data:__ National Survey of America's Families, 2002\n",
    "\n",
    "__Aim:__\n",
    "1) Which living outcome do housing conditions affect the most (education, health or happiness)?\n",
    "\n",
    "2) Is there a correlation between precarious housing and health (both physical and mental) status?\n",
    "\n",
    "3) In what ways do living conditions affect children scholarship (if they do) ? Which age group is most impacted ?\n",
    "\n",
    "\n",
    "## Data pre-processing"
   ]
  },
  {
   "cell_type": "code",
   "execution_count": 1,
   "metadata": {},
   "outputs": [],
   "source": [
    "import pandas as pd\n",
    "import numpy as np\n",
    "import matplotlib as mpl\n",
    "import matplotlib.pyplot as plt\n",
    "import seaborn as sns\n",
    "\n",
    "from sklearn.linear_model import LogisticRegression\n",
    "from math import exp, log\n",
    "import statsmodels.api as sm\n",
    "import statsmodels.formula.api as smf\n",
    "import statsmodels.stats.api as sms\n"
   ]
  },
  {
   "cell_type": "code",
   "execution_count": 2,
   "metadata": {},
   "outputs": [],
   "source": [
    "# Load data\n",
    "\n",
    "data_folder = './data/'\n",
    "# Focal Child Data\n",
    "fc = pd.read_stata(data_folder+'DS0001/04582-0001-Data.dta',convert_categoricals=False)\n",
    "# Household Data\n",
    "hh = pd.read_stata(data_folder+'DS0006/04582-0006-Data.dta',convert_categoricals=False)"
   ]
  },
  {
   "cell_type": "code",
   "execution_count": 3,
   "metadata": {},
   "outputs": [],
   "source": [
    "# Variables of interest in child and hh datasets \n",
    "person_id = ['PERSID','PERSTYPE','RESPID','UCPSID','SEX','UAGE','SITE','STATE','UREGION','TYPEINT','HHID']\n",
    "household_id_hh = ['HHID']\n",
    "education = ['UENG','UENGNEG','UENGPOS','NLESSONS']\n",
    "#family = ['GHMAD','GSELFHR','UFAMSTR','UMH2','UMHIGDEG']\n",
    "family = ['UFAMSTR','UMH2','UMHIGDEG','UAGG']\n",
    "family_hh = ['CHLD0_5','CHLD6_17','UHHCOUNT']\n",
    "income = ['U_SOCPOV']\n",
    "income_hh = ['QSC5']\n",
    "housing_hh = ['MNBEDRMS','MOWNRENT'] #'OVERCROWDING' added later on\n",
    "mental_health = ['UBPIA','UBPIANEG','UBPIAPOS','UBPIB','UBPIBNEG','UBPIBPOS']\n",
    "health = ['BDISBL','BHLTHN','FDOCT','FWHMED','FWHYMED','FDENT','FWELLV','UCNGHL']\n",
    "activities = ['NOUTING','NSPORTS','UOUTNEG','UOUTPOS','UACT','UACTNEG','UACTPOS']\n",
    "programs = ['GCENTR','CSPECED','CAGRAD','GHEADS','KAPPMED','SSHELP']\n",
    "eco = ['CJOB','UHINS4'] #NB CJOB only for fc3\n",
    "\n",
    "# Add a variable 'overcrowding' and replace inf by -1\n",
    "hh['OVERCROWDING'] = hh['UHHCOUNT'] / hh['MNBEDRMS']\n",
    "housing_hh.append('OVERCROWDING')\n",
    "hh['OVERCROWDING'] = hh['OVERCROWDING'].apply(lambda x : -1 if (x == np.inf or x < 0) else x)\n",
    "\n",
    "# Reduce dataframes to variables of interest\n",
    "fc = fc[person_id + education + family + income + mental_health + health + activities + programs + eco]\n",
    "hh = hh[household_id_hh + family_hh + income_hh + housing_hh]"
   ]
  },
  {
   "cell_type": "code",
   "execution_count": 4,
   "metadata": {},
   "outputs": [
    {
     "data": {
      "text/html": [
       "<div>\n",
       "<style scoped>\n",
       "    .dataframe tbody tr th:only-of-type {\n",
       "        vertical-align: middle;\n",
       "    }\n",
       "\n",
       "    .dataframe tbody tr th {\n",
       "        vertical-align: top;\n",
       "    }\n",
       "\n",
       "    .dataframe thead th {\n",
       "        text-align: right;\n",
       "    }\n",
       "</style>\n",
       "<table border=\"1\" class=\"dataframe\">\n",
       "  <thead>\n",
       "    <tr style=\"text-align: right;\">\n",
       "      <th></th>\n",
       "      <th>PERSID</th>\n",
       "      <th>PERSTYPE</th>\n",
       "      <th>RESPID</th>\n",
       "      <th>UCPSID</th>\n",
       "      <th>SEX</th>\n",
       "      <th>UAGE</th>\n",
       "      <th>SITE</th>\n",
       "      <th>STATE</th>\n",
       "      <th>UREGION</th>\n",
       "      <th>TYPEINT</th>\n",
       "      <th>...</th>\n",
       "      <th>CHLD6_17</th>\n",
       "      <th>UHHCOUNT</th>\n",
       "      <th>QSC5</th>\n",
       "      <th>MNBEDRMS</th>\n",
       "      <th>MOWNRENT</th>\n",
       "      <th>OVERCROWDING</th>\n",
       "      <th>UENGn</th>\n",
       "      <th>BHLTHNn</th>\n",
       "      <th>UBPIAn</th>\n",
       "      <th>UBPIBn</th>\n",
       "    </tr>\n",
       "  </thead>\n",
       "  <tbody>\n",
       "    <tr>\n",
       "      <th>0</th>\n",
       "      <td>5561612801</td>\n",
       "      <td>1</td>\n",
       "      <td>5561612803</td>\n",
       "      <td>5561612800</td>\n",
       "      <td>1</td>\n",
       "      <td>3</td>\n",
       "      <td>15</td>\n",
       "      <td>WI</td>\n",
       "      <td>2</td>\n",
       "      <td>A1</td>\n",
       "      <td>...</td>\n",
       "      <td>0</td>\n",
       "      <td>3</td>\n",
       "      <td>1</td>\n",
       "      <td>4</td>\n",
       "      <td>1</td>\n",
       "      <td>0.75</td>\n",
       "      <td>-1.000000</td>\n",
       "      <td>0.00</td>\n",
       "      <td>-1.0</td>\n",
       "      <td>-1.000000</td>\n",
       "    </tr>\n",
       "    <tr>\n",
       "      <th>1</th>\n",
       "      <td>5470400001</td>\n",
       "      <td>2</td>\n",
       "      <td>5470400003</td>\n",
       "      <td>5470400000</td>\n",
       "      <td>0</td>\n",
       "      <td>14</td>\n",
       "      <td>15</td>\n",
       "      <td>WI</td>\n",
       "      <td>2</td>\n",
       "      <td>A1</td>\n",
       "      <td>...</td>\n",
       "      <td>2</td>\n",
       "      <td>3</td>\n",
       "      <td>2</td>\n",
       "      <td>2</td>\n",
       "      <td>2</td>\n",
       "      <td>1.50</td>\n",
       "      <td>0.333333</td>\n",
       "      <td>0.00</td>\n",
       "      <td>-1.0</td>\n",
       "      <td>0.416667</td>\n",
       "    </tr>\n",
       "    <tr>\n",
       "      <th>2</th>\n",
       "      <td>5787427204</td>\n",
       "      <td>2</td>\n",
       "      <td>5787427205</td>\n",
       "      <td>5787427200</td>\n",
       "      <td>1</td>\n",
       "      <td>9</td>\n",
       "      <td>15</td>\n",
       "      <td>WI</td>\n",
       "      <td>2</td>\n",
       "      <td>A1</td>\n",
       "      <td>...</td>\n",
       "      <td>4</td>\n",
       "      <td>6</td>\n",
       "      <td>1</td>\n",
       "      <td>3</td>\n",
       "      <td>2</td>\n",
       "      <td>2.00</td>\n",
       "      <td>0.666667</td>\n",
       "      <td>0.50</td>\n",
       "      <td>1.0</td>\n",
       "      <td>-1.000000</td>\n",
       "    </tr>\n",
       "    <tr>\n",
       "      <th>3</th>\n",
       "      <td>5410681601</td>\n",
       "      <td>1</td>\n",
       "      <td>5410681604</td>\n",
       "      <td>5410681600</td>\n",
       "      <td>0</td>\n",
       "      <td>4</td>\n",
       "      <td>15</td>\n",
       "      <td>WI</td>\n",
       "      <td>2</td>\n",
       "      <td>A1</td>\n",
       "      <td>...</td>\n",
       "      <td>0</td>\n",
       "      <td>5</td>\n",
       "      <td>1</td>\n",
       "      <td>2</td>\n",
       "      <td>2</td>\n",
       "      <td>2.50</td>\n",
       "      <td>-1.000000</td>\n",
       "      <td>0.25</td>\n",
       "      <td>-1.0</td>\n",
       "      <td>-1.000000</td>\n",
       "    </tr>\n",
       "    <tr>\n",
       "      <th>4</th>\n",
       "      <td>5051721601</td>\n",
       "      <td>2</td>\n",
       "      <td>5051721605</td>\n",
       "      <td>5051721600</td>\n",
       "      <td>1</td>\n",
       "      <td>17</td>\n",
       "      <td>15</td>\n",
       "      <td>WI</td>\n",
       "      <td>2</td>\n",
       "      <td>A1</td>\n",
       "      <td>...</td>\n",
       "      <td>4</td>\n",
       "      <td>5</td>\n",
       "      <td>1</td>\n",
       "      <td>4</td>\n",
       "      <td>2</td>\n",
       "      <td>1.25</td>\n",
       "      <td>0.750000</td>\n",
       "      <td>0.25</td>\n",
       "      <td>-1.0</td>\n",
       "      <td>0.833333</td>\n",
       "    </tr>\n",
       "  </tbody>\n",
       "</table>\n",
       "<p>5 rows × 60 columns</p>\n",
       "</div>"
      ],
      "text/plain": [
       "       PERSID  PERSTYPE      RESPID      UCPSID  SEX  UAGE SITE STATE UREGION  \\\n",
       "0  5561612801         1  5561612803  5561612800    1     3   15    WI       2   \n",
       "1  5470400001         2  5470400003  5470400000    0    14   15    WI       2   \n",
       "2  5787427204         2  5787427205  5787427200    1     9   15    WI       2   \n",
       "3  5410681601         1  5410681604  5410681600    0     4   15    WI       2   \n",
       "4  5051721601         2  5051721605  5051721600    1    17   15    WI       2   \n",
       "\n",
       "  TYPEINT  ... CHLD6_17  UHHCOUNT  QSC5  MNBEDRMS  MOWNRENT  OVERCROWDING  \\\n",
       "0      A1  ...        0         3     1         4         1          0.75   \n",
       "1      A1  ...        2         3     2         2         2          1.50   \n",
       "2      A1  ...        4         6     1         3         2          2.00   \n",
       "3      A1  ...        0         5     1         2         2          2.50   \n",
       "4      A1  ...        4         5     1         4         2          1.25   \n",
       "\n",
       "      UENGn  BHLTHNn  UBPIAn    UBPIBn  \n",
       "0 -1.000000     0.00    -1.0 -1.000000  \n",
       "1  0.333333     0.00    -1.0  0.416667  \n",
       "2  0.666667     0.50     1.0 -1.000000  \n",
       "3 -1.000000     0.25    -1.0 -1.000000  \n",
       "4  0.750000     0.25    -1.0  0.833333  \n",
       "\n",
       "[5 rows x 60 columns]"
      ]
     },
     "execution_count": 4,
     "metadata": {},
     "output_type": "execute_result"
    }
   ],
   "source": [
    "# Merge dataframes using the household ID number, \n",
    "# inner merge keeps only households that are linked to a focal child subject\n",
    "child = pd.merge(fc, hh, left_on = 'HHID', right_on = 'HHID', how='inner')\n",
    "\n",
    "# NaNs handling : replace all the missing values by -1\n",
    "child.replace([-7,-8,-9],-1,inplace=True)\n",
    "\n",
    "# Make the SEX variable binary with F=1 and M=0\n",
    "child['SEX'].replace(to_replace=dict(F=1, M=0),inplace=True)\n",
    "# Make the CJOB variable binary with Yes=1 and No=0\n",
    "child['CJOB'].replace(2,0,inplace=True)\n",
    "# Make the NLESSONS variable binary with Yes=1 and No=0\n",
    "child['NLESSONS'].replace(2,0,inplace=True)\n",
    "\n",
    "# Normalize values for UENG(4-16), BHLTHN(1-5), UBPIA(6-18) & UBPIB(6-18) (min-max)\n",
    "child.loc[:,'UENGn'] = child['UENG'].apply(lambda x: (x-4)/(16-4) if x != -1 else x)\n",
    "child.loc[:,'BHLTHNn'] = child['BHLTHN'].apply(lambda x: (x-1)/(5-1) if x != -1 else x)\n",
    "child.loc[:,'UBPIAn'] = child['UBPIA'].apply(lambda x: (x-6)/(18-6) if x != -1 else x)\n",
    "child.loc[:,'UBPIBn'] = child['UBPIB'].apply(lambda x: (x-6)/(18-6) if x != -1 else x)\n",
    "\n",
    "# Preview of child dataframe\n",
    "child.head()"
   ]
  },
  {
   "cell_type": "code",
   "execution_count": 5,
   "metadata": {},
   "outputs": [],
   "source": [
    "# Divide child data in 4 dfs based on age groups\n",
    "\n",
    "# Keep data of focal children from age 0 to 17 only\n",
    "child = child.loc[child['PERSTYPE'].isin([1,2])]\n",
    "\n",
    "# are there young children (0-5yo) in household?\n",
    "child.loc[:,'bool0_5'] = child['CHLD0_5'].apply(lambda x : 0 if x == 0 else 1)\n",
    "\n",
    "# FC1 : focal child, aged 0-5\n",
    "fc1 = child.copy()[child['PERSTYPE']==1]\n",
    "\n",
    "# FC23 : focal child, aged 6-17\n",
    "fc23 = child.copy()[child['PERSTYPE']==2]\n",
    "\n",
    "# FC2 : focal child, aged 6-11\n",
    "fc2 = child.copy()[(child['PERSTYPE']==2) & (child['UAGE'] < 12)]\n",
    "\n",
    "# FC3 : focal child, aged 12-17\n",
    "fc3 = child.copy()[(child['PERSTYPE']==2) & (child['UAGE'] >= 12)]"
   ]
  },
  {
   "cell_type": "code",
   "execution_count": 6,
   "metadata": {},
   "outputs": [
    {
     "name": "stdout",
     "output_type": "stream",
     "text": [
      "Shapes of dataframes:\n",
      "fc1: (12268, 61)\n",
      "fc2: (10925, 61)\n",
      "fc3:(11087, 61)\n",
      "fc23: (22012, 61)\n",
      "True\n"
     ]
    }
   ],
   "source": [
    "print(f'Shapes of dataframes:\\nfc1: {fc1.shape}\\nfc2: {fc2.shape}\\nfc3:{fc3.shape}\\nfc23: {fc23.shape}')\n",
    "print((fc1.shape[0] + fc2.shape[0] + fc3.shape[0]) == child.shape[0]) #test to see if all children are counted"
   ]
  },
  {
   "cell_type": "markdown",
   "metadata": {},
   "source": [
    "## Propensity score attempt\n",
    "\n",
    "__Living conditions indicator :__"
   ]
  },
  {
   "cell_type": "code",
   "execution_count": 7,
   "metadata": {},
   "outputs": [],
   "source": [
    "# returns a dataframe where the rows of the given 'df' containing NaN values for either the 'outcome'\n",
    "# or any of the 'predictors' have been removed\n",
    "def df_NN(df,outcome,predictors):\n",
    "    if len(predictors) <= 1:\n",
    "        bools = (df[predictors[0]] != -1)\n",
    "    else:\n",
    "        bools = df[predictors].isin([-1]).any(axis=1)==False\n",
    "    \n",
    "    return df.loc[(df[outcome] != -1) & (bools)]"
   ]
  },
  {
   "cell_type": "code",
   "execution_count": 8,
   "metadata": {},
   "outputs": [],
   "source": [
    "# Variables used for precarity indicator (economics and relationship with family)\n",
    "# NB CHOICE OF WORDS : PRECARITY NOT VERY ACCURATE\n",
    "prec = ['U_SOCPOV','OVERCROWDING','MOWNRENT','UHINS4','UAGG','UFAMSTR']\n",
    "#prec3 = prec + ['CJOB']\n",
    "\n",
    "df_prec = df_NN(fc23,'PERSID',prec)\n",
    "#df_prec_3 = df_NN(fc3,'PERSID',prec3)"
   ]
  },
  {
   "cell_type": "code",
   "execution_count": 9,
   "metadata": {},
   "outputs": [],
   "source": [
    "# Living conditions indicator\n",
    "negative = ['OVERCROWDING','MOWNRENT','UHINS4']\n",
    "#negative3 = negative + ['CJOB']\n",
    "positive = ['U_SOCPOV','UAGG','UFAMSTR']\n",
    "    \n",
    "# Normalize all the variables and sign them -> WE CAN CHOOSE WEIGHTS LATER TO TUNE THE INDEX\n",
    "# NB performs column-wise automatically\n",
    "norm_prec =(df_prec[prec]-df_prec[prec].min())/(df_prec[prec].max()-df_prec[prec].min())\n",
    "#norm_prec_3 =(df_prec_3[prec3]-df_prec_3[prec3].min())/(df_prec_3[prec3].max()-df_prec_3[prec3].min())\n",
    "norm_prec.loc[:,negative] *= -1\n",
    "#norm_prec_3.loc[:,negative3] *= -1\n",
    "\n",
    "# Compute living conditions indicator\n",
    "norm_prec.loc[:,'living_ind'] = norm_prec.sum(axis=1)\n",
    "#norm_prec_3.loc[:,'living_ind'] = norm_prec_3.sum(axis=1)"
   ]
  },
  {
   "cell_type": "code",
   "execution_count": 10,
   "metadata": {},
   "outputs": [],
   "source": [
    "# Choose a threshold to consider a household 'precarious' or not -> ADAPT (j'ai juste pris zero en mode random)\n",
    "norm_prec.loc[:,'precarious'] = norm_prec['living_ind'].apply(lambda x : 1 if x < 1 else 0)\n",
    "#norm_prec_3.loc[:,'precarious'] = norm_prec_3['living_ind'].apply(lambda x : 1 if x < 1 else 0)\n",
    "\n",
    "# Merge this new column with whole df without NaNs\n",
    "fc23_prec = pd.merge(fc23, norm_prec['precarious'], left_index=True, right_index=True, how='inner')\n",
    "#fc3_prec = pd.merge(fc3, norm_prec_3['precarious'], left_index=True, right_index=True, how='inner')"
   ]
  },
  {
   "cell_type": "code",
   "execution_count": 11,
   "metadata": {},
   "outputs": [
    {
     "data": {
      "text/html": [
       "<div>\n",
       "<style scoped>\n",
       "    .dataframe tbody tr th:only-of-type {\n",
       "        vertical-align: middle;\n",
       "    }\n",
       "\n",
       "    .dataframe tbody tr th {\n",
       "        vertical-align: top;\n",
       "    }\n",
       "\n",
       "    .dataframe thead th {\n",
       "        text-align: right;\n",
       "    }\n",
       "</style>\n",
       "<table border=\"1\" class=\"dataframe\">\n",
       "  <thead>\n",
       "    <tr style=\"text-align: right;\">\n",
       "      <th></th>\n",
       "      <th>PERSID</th>\n",
       "      <th>PERSTYPE</th>\n",
       "      <th>RESPID</th>\n",
       "      <th>UCPSID</th>\n",
       "      <th>SEX</th>\n",
       "      <th>UAGE</th>\n",
       "      <th>SITE</th>\n",
       "      <th>STATE</th>\n",
       "      <th>UREGION</th>\n",
       "      <th>TYPEINT</th>\n",
       "      <th>...</th>\n",
       "      <th>QSC5</th>\n",
       "      <th>MNBEDRMS</th>\n",
       "      <th>MOWNRENT</th>\n",
       "      <th>OVERCROWDING</th>\n",
       "      <th>UENGn</th>\n",
       "      <th>BHLTHNn</th>\n",
       "      <th>UBPIAn</th>\n",
       "      <th>UBPIBn</th>\n",
       "      <th>bool0_5</th>\n",
       "      <th>precarious</th>\n",
       "    </tr>\n",
       "  </thead>\n",
       "  <tbody>\n",
       "    <tr>\n",
       "      <th>1</th>\n",
       "      <td>5470400001</td>\n",
       "      <td>2</td>\n",
       "      <td>5470400003</td>\n",
       "      <td>5470400000</td>\n",
       "      <td>0</td>\n",
       "      <td>14</td>\n",
       "      <td>15</td>\n",
       "      <td>WI</td>\n",
       "      <td>2</td>\n",
       "      <td>A1</td>\n",
       "      <td>...</td>\n",
       "      <td>2</td>\n",
       "      <td>2</td>\n",
       "      <td>2</td>\n",
       "      <td>1.50</td>\n",
       "      <td>0.333333</td>\n",
       "      <td>0.00</td>\n",
       "      <td>-1.0</td>\n",
       "      <td>0.416667</td>\n",
       "      <td>0</td>\n",
       "      <td>0</td>\n",
       "    </tr>\n",
       "    <tr>\n",
       "      <th>2</th>\n",
       "      <td>5787427204</td>\n",
       "      <td>2</td>\n",
       "      <td>5787427205</td>\n",
       "      <td>5787427200</td>\n",
       "      <td>1</td>\n",
       "      <td>9</td>\n",
       "      <td>15</td>\n",
       "      <td>WI</td>\n",
       "      <td>2</td>\n",
       "      <td>A1</td>\n",
       "      <td>...</td>\n",
       "      <td>1</td>\n",
       "      <td>3</td>\n",
       "      <td>2</td>\n",
       "      <td>2.00</td>\n",
       "      <td>0.666667</td>\n",
       "      <td>0.50</td>\n",
       "      <td>1.0</td>\n",
       "      <td>-1.000000</td>\n",
       "      <td>0</td>\n",
       "      <td>1</td>\n",
       "    </tr>\n",
       "    <tr>\n",
       "      <th>4</th>\n",
       "      <td>5051721601</td>\n",
       "      <td>2</td>\n",
       "      <td>5051721605</td>\n",
       "      <td>5051721600</td>\n",
       "      <td>1</td>\n",
       "      <td>17</td>\n",
       "      <td>15</td>\n",
       "      <td>WI</td>\n",
       "      <td>2</td>\n",
       "      <td>A1</td>\n",
       "      <td>...</td>\n",
       "      <td>1</td>\n",
       "      <td>4</td>\n",
       "      <td>2</td>\n",
       "      <td>1.25</td>\n",
       "      <td>0.750000</td>\n",
       "      <td>0.25</td>\n",
       "      <td>-1.0</td>\n",
       "      <td>0.833333</td>\n",
       "      <td>0</td>\n",
       "      <td>1</td>\n",
       "    </tr>\n",
       "    <tr>\n",
       "      <th>6</th>\n",
       "      <td>5353539201</td>\n",
       "      <td>2</td>\n",
       "      <td>5353539204</td>\n",
       "      <td>5353539200</td>\n",
       "      <td>1</td>\n",
       "      <td>11</td>\n",
       "      <td>15</td>\n",
       "      <td>WI</td>\n",
       "      <td>2</td>\n",
       "      <td>A1</td>\n",
       "      <td>...</td>\n",
       "      <td>2</td>\n",
       "      <td>4</td>\n",
       "      <td>2</td>\n",
       "      <td>2.25</td>\n",
       "      <td>1.000000</td>\n",
       "      <td>0.50</td>\n",
       "      <td>0.5</td>\n",
       "      <td>-1.000000</td>\n",
       "      <td>1</td>\n",
       "      <td>1</td>\n",
       "    </tr>\n",
       "    <tr>\n",
       "      <th>8</th>\n",
       "      <td>5065766401</td>\n",
       "      <td>2</td>\n",
       "      <td>5065766404</td>\n",
       "      <td>5065766400</td>\n",
       "      <td>1</td>\n",
       "      <td>14</td>\n",
       "      <td>15</td>\n",
       "      <td>WI</td>\n",
       "      <td>2</td>\n",
       "      <td>A1</td>\n",
       "      <td>...</td>\n",
       "      <td>1</td>\n",
       "      <td>2</td>\n",
       "      <td>2</td>\n",
       "      <td>2.00</td>\n",
       "      <td>0.416667</td>\n",
       "      <td>0.50</td>\n",
       "      <td>-1.0</td>\n",
       "      <td>0.083333</td>\n",
       "      <td>0</td>\n",
       "      <td>1</td>\n",
       "    </tr>\n",
       "  </tbody>\n",
       "</table>\n",
       "<p>5 rows × 62 columns</p>\n",
       "</div>"
      ],
      "text/plain": [
       "       PERSID  PERSTYPE      RESPID      UCPSID  SEX  UAGE SITE STATE UREGION  \\\n",
       "1  5470400001         2  5470400003  5470400000    0    14   15    WI       2   \n",
       "2  5787427204         2  5787427205  5787427200    1     9   15    WI       2   \n",
       "4  5051721601         2  5051721605  5051721600    1    17   15    WI       2   \n",
       "6  5353539201         2  5353539204  5353539200    1    11   15    WI       2   \n",
       "8  5065766401         2  5065766404  5065766400    1    14   15    WI       2   \n",
       "\n",
       "  TYPEINT  ... QSC5  MNBEDRMS  MOWNRENT  OVERCROWDING     UENGn  BHLTHNn  \\\n",
       "1      A1  ...    2         2         2          1.50  0.333333     0.00   \n",
       "2      A1  ...    1         3         2          2.00  0.666667     0.50   \n",
       "4      A1  ...    1         4         2          1.25  0.750000     0.25   \n",
       "6      A1  ...    2         4         2          2.25  1.000000     0.50   \n",
       "8      A1  ...    1         2         2          2.00  0.416667     0.50   \n",
       "\n",
       "   UBPIAn    UBPIBn  bool0_5  precarious  \n",
       "1    -1.0  0.416667        0           0  \n",
       "2     1.0 -1.000000        0           1  \n",
       "4    -1.0  0.833333        0           1  \n",
       "6     0.5 -1.000000        1           1  \n",
       "8    -1.0  0.083333        0           1  \n",
       "\n",
       "[5 rows x 62 columns]"
      ]
     },
     "execution_count": 11,
     "metadata": {},
     "output_type": "execute_result"
    }
   ],
   "source": [
    "fc23_prec.head()"
   ]
  },
  {
   "cell_type": "markdown",
   "metadata": {},
   "source": [
    "**PS with `bool0_5` as a treatment**"
   ]
  },
  {
   "cell_type": "code",
   "execution_count": 12,
   "metadata": {},
   "outputs": [
    {
     "name": "stdout",
     "output_type": "stream",
     "text": [
      "Optimization terminated successfully.\n",
      "         Current function value: 0.497099\n",
      "         Iterations 6\n"
     ]
    }
   ],
   "source": [
    "# logistic regression for CHLD0_5\n",
    "# NB changed to fc23 rather than child, removed BHLTHN from PS calculation\n",
    "predictors= ['SEX','UREGION','UFAMSTR','UMH2','UMHIGDEG','UAGG','UHHCOUNT','U_SOCPOV','MNBEDRMS','MOWNRENT','OVERCROWDING','BDISBL','UHINS4']\n",
    "df_05 = df_NN(fc23,'bool0_5',predictors)\n",
    "\n",
    "log_model_1 = 'bool0_5 ~ SEX + UREGION + UFAMSTR + UMH2 + UMHIGDEG + UAGG \\\n",
    "+ UHHCOUNT + U_SOCPOV + MNBEDRMS + MOWNRENT + OVERCROWDING + BDISBL + UHINS4'\n",
    "\n",
    "log1 = smf.logit(formula=log_model_1, data=df_05)\n",
    "res1 = log1.fit()"
   ]
  },
  {
   "cell_type": "code",
   "execution_count": 13,
   "metadata": {},
   "outputs": [
    {
     "data": {
      "text/html": [
       "<table class=\"simpletable\">\n",
       "<caption>Logit Regression Results</caption>\n",
       "<tr>\n",
       "  <th>Dep. Variable:</th>        <td>bool0_5</td>     <th>  No. Observations:  </th>  <td> 21474</td> \n",
       "</tr>\n",
       "<tr>\n",
       "  <th>Model:</th>                 <td>Logit</td>      <th>  Df Residuals:      </th>  <td> 21458</td> \n",
       "</tr>\n",
       "<tr>\n",
       "  <th>Method:</th>                 <td>MLE</td>       <th>  Df Model:          </th>  <td>    15</td> \n",
       "</tr>\n",
       "<tr>\n",
       "  <th>Date:</th>            <td>Sun, 13 Dec 2020</td> <th>  Pseudo R-squ.:     </th>  <td>0.1658</td> \n",
       "</tr>\n",
       "<tr>\n",
       "  <th>Time:</th>                <td>09:30:24</td>     <th>  Log-Likelihood:    </th> <td> -10675.</td>\n",
       "</tr>\n",
       "<tr>\n",
       "  <th>converged:</th>             <td>True</td>       <th>  LL-Null:           </th> <td> -12796.</td>\n",
       "</tr>\n",
       "<tr>\n",
       "  <th>Covariance Type:</th>     <td>nonrobust</td>    <th>  LLR p-value:       </th>  <td> 0.000</td> \n",
       "</tr>\n",
       "</table>\n",
       "<table class=\"simpletable\">\n",
       "<tr>\n",
       "        <td></td>          <th>coef</th>     <th>std err</th>      <th>z</th>      <th>P>|z|</th>  <th>[0.025</th>    <th>0.975]</th>  \n",
       "</tr>\n",
       "<tr>\n",
       "  <th>Intercept</th>    <td>   -4.0937</td> <td>    0.230</td> <td>  -17.776</td> <td> 0.000</td> <td>   -4.545</td> <td>   -3.642</td>\n",
       "</tr>\n",
       "<tr>\n",
       "  <th>UREGION[T.2]</th> <td>   -0.0165</td> <td>    0.049</td> <td>   -0.337</td> <td> 0.736</td> <td>   -0.112</td> <td>    0.079</td>\n",
       "</tr>\n",
       "<tr>\n",
       "  <th>UREGION[T.3]</th> <td>    0.0189</td> <td>    0.049</td> <td>    0.382</td> <td> 0.703</td> <td>   -0.078</td> <td>    0.116</td>\n",
       "</tr>\n",
       "<tr>\n",
       "  <th>UREGION[T.4]</th> <td>   -0.0047</td> <td>    0.051</td> <td>   -0.093</td> <td> 0.926</td> <td>   -0.105</td> <td>    0.095</td>\n",
       "</tr>\n",
       "<tr>\n",
       "  <th>SEX</th>          <td>    0.0023</td> <td>    0.034</td> <td>    0.066</td> <td> 0.947</td> <td>   -0.064</td> <td>    0.069</td>\n",
       "</tr>\n",
       "<tr>\n",
       "  <th>UFAMSTR</th>      <td>   -0.0114</td> <td>    0.020</td> <td>   -0.577</td> <td> 0.564</td> <td>   -0.050</td> <td>    0.027</td>\n",
       "</tr>\n",
       "<tr>\n",
       "  <th>UMH2</th>         <td>    0.0064</td> <td>    0.001</td> <td>    4.616</td> <td> 0.000</td> <td>    0.004</td> <td>    0.009</td>\n",
       "</tr>\n",
       "<tr>\n",
       "  <th>UMHIGDEG</th>     <td>   -0.0246</td> <td>    0.009</td> <td>   -2.703</td> <td> 0.007</td> <td>   -0.042</td> <td>   -0.007</td>\n",
       "</tr>\n",
       "<tr>\n",
       "  <th>UAGG</th>         <td>   -0.0287</td> <td>    0.010</td> <td>   -2.963</td> <td> 0.003</td> <td>   -0.048</td> <td>   -0.010</td>\n",
       "</tr>\n",
       "<tr>\n",
       "  <th>UHHCOUNT</th>     <td>    0.7318</td> <td>    0.029</td> <td>   25.354</td> <td> 0.000</td> <td>    0.675</td> <td>    0.788</td>\n",
       "</tr>\n",
       "<tr>\n",
       "  <th>U_SOCPOV</th>     <td>   -0.2043</td> <td>    0.018</td> <td>  -11.652</td> <td> 0.000</td> <td>   -0.239</td> <td>   -0.170</td>\n",
       "</tr>\n",
       "<tr>\n",
       "  <th>MNBEDRMS</th>     <td>   -0.1541</td> <td>    0.041</td> <td>   -3.772</td> <td> 0.000</td> <td>   -0.234</td> <td>   -0.074</td>\n",
       "</tr>\n",
       "<tr>\n",
       "  <th>MOWNRENT</th>     <td>    0.2300</td> <td>    0.039</td> <td>    5.965</td> <td> 0.000</td> <td>    0.154</td> <td>    0.306</td>\n",
       "</tr>\n",
       "<tr>\n",
       "  <th>OVERCROWDING</th> <td>    0.2760</td> <td>    0.071</td> <td>    3.909</td> <td> 0.000</td> <td>    0.138</td> <td>    0.414</td>\n",
       "</tr>\n",
       "<tr>\n",
       "  <th>BDISBL</th>       <td>    0.2687</td> <td>    0.054</td> <td>    5.008</td> <td> 0.000</td> <td>    0.164</td> <td>    0.374</td>\n",
       "</tr>\n",
       "<tr>\n",
       "  <th>UHINS4</th>       <td>   -0.0875</td> <td>    0.020</td> <td>   -4.332</td> <td> 0.000</td> <td>   -0.127</td> <td>   -0.048</td>\n",
       "</tr>\n",
       "</table>"
      ],
      "text/plain": [
       "<class 'statsmodels.iolib.summary.Summary'>\n",
       "\"\"\"\n",
       "                           Logit Regression Results                           \n",
       "==============================================================================\n",
       "Dep. Variable:                bool0_5   No. Observations:                21474\n",
       "Model:                          Logit   Df Residuals:                    21458\n",
       "Method:                           MLE   Df Model:                           15\n",
       "Date:                Sun, 13 Dec 2020   Pseudo R-squ.:                  0.1658\n",
       "Time:                        09:30:24   Log-Likelihood:                -10675.\n",
       "converged:                       True   LL-Null:                       -12796.\n",
       "Covariance Type:            nonrobust   LLR p-value:                     0.000\n",
       "================================================================================\n",
       "                   coef    std err          z      P>|z|      [0.025      0.975]\n",
       "--------------------------------------------------------------------------------\n",
       "Intercept       -4.0937      0.230    -17.776      0.000      -4.545      -3.642\n",
       "UREGION[T.2]    -0.0165      0.049     -0.337      0.736      -0.112       0.079\n",
       "UREGION[T.3]     0.0189      0.049      0.382      0.703      -0.078       0.116\n",
       "UREGION[T.4]    -0.0047      0.051     -0.093      0.926      -0.105       0.095\n",
       "SEX              0.0023      0.034      0.066      0.947      -0.064       0.069\n",
       "UFAMSTR         -0.0114      0.020     -0.577      0.564      -0.050       0.027\n",
       "UMH2             0.0064      0.001      4.616      0.000       0.004       0.009\n",
       "UMHIGDEG        -0.0246      0.009     -2.703      0.007      -0.042      -0.007\n",
       "UAGG            -0.0287      0.010     -2.963      0.003      -0.048      -0.010\n",
       "UHHCOUNT         0.7318      0.029     25.354      0.000       0.675       0.788\n",
       "U_SOCPOV        -0.2043      0.018    -11.652      0.000      -0.239      -0.170\n",
       "MNBEDRMS        -0.1541      0.041     -3.772      0.000      -0.234      -0.074\n",
       "MOWNRENT         0.2300      0.039      5.965      0.000       0.154       0.306\n",
       "OVERCROWDING     0.2760      0.071      3.909      0.000       0.138       0.414\n",
       "BDISBL           0.2687      0.054      5.008      0.000       0.164       0.374\n",
       "UHINS4          -0.0875      0.020     -4.332      0.000      -0.127      -0.048\n",
       "================================================================================\n",
       "\"\"\""
      ]
     },
     "execution_count": 13,
     "metadata": {},
     "output_type": "execute_result"
    }
   ],
   "source": [
    "res1.summary()"
   ]
  },
  {
   "cell_type": "code",
   "execution_count": 14,
   "metadata": {},
   "outputs": [
    {
     "name": "stderr",
     "output_type": "stream",
     "text": [
      "C:\\Users\\alanh\\anaconda3\\lib\\site-packages\\pandas\\core\\indexing.py:1596: SettingWithCopyWarning: \n",
      "A value is trying to be set on a copy of a slice from a DataFrame.\n",
      "Try using .loc[row_indexer,col_indexer] = value instead\n",
      "\n",
      "See the caveats in the documentation: https://pandas.pydata.org/pandas-docs/stable/user_guide/indexing.html#returning-a-view-versus-a-copy\n",
      "  self.obj[key] = _infer_fill_value(value)\n",
      "C:\\Users\\alanh\\anaconda3\\lib\\site-packages\\pandas\\core\\indexing.py:1745: SettingWithCopyWarning: \n",
      "A value is trying to be set on a copy of a slice from a DataFrame.\n",
      "Try using .loc[row_indexer,col_indexer] = value instead\n",
      "\n",
      "See the caveats in the documentation: https://pandas.pydata.org/pandas-docs/stable/user_guide/indexing.html#returning-a-view-versus-a-copy\n",
      "  isetter(ilocs[0], value)\n"
     ]
    }
   ],
   "source": [
    "pred05 = res1.predict(df_05)\n",
    "df_05.loc[:,'PS'] = pred05"
   ]
  },
  {
   "cell_type": "markdown",
   "metadata": {},
   "source": [
    "#### without matching"
   ]
  },
  {
   "cell_type": "code",
   "execution_count": 15,
   "metadata": {},
   "outputs": [
    {
     "data": {
      "image/png": "[encoded data removed]",
      "text/plain": [
       "<Figure size 720x360 with 1 Axes>"
      ]
     },
     "metadata": {
      "needs_background": "light"
     },
     "output_type": "display_data"
    }
   ],
   "source": [
    "# Plot PS for unmatched groups\n",
    "fig = plt.figure(figsize=(10,5))\n",
    "sns.histplot(data=df_05, x=\"PS\", hue='bool0_5', kde=True, element='step', stat='density',\n",
    "             common_norm=False)\n",
    "plt.xlabel('PS', fontsize=12)\n",
    "plt.suptitle('PS distribution comparison for unmatched samples', fontsize=14, fontweight='bold')\n",
    "plt.legend(['has young child','no young child'], loc='upper left', fontsize = 12)\n",
    "plt.show()"
   ]
  },
  {
   "cell_type": "code",
   "execution_count": 16,
   "metadata": {},
   "outputs": [
    {
     "data": {
      "image/png": "[encoded data removed]",
      "text/plain": [
       "<Figure size 720x360 with 1 Axes>"
      ]
     },
     "metadata": {
      "needs_background": "light"
     },
     "output_type": "display_data"
    }
   ],
   "source": [
    "# Plot a seemingly unrelated variable (here OVERCROWDING) for unmatched groups\n",
    "var = 'OVERCROWDING'\n",
    "fig = plt.figure(figsize=(10,5))\n",
    "sns.kdeplot(data=df_05, x=var, hue='bool0_5', palette=['r','g'], shade=True, common_norm=False)\n",
    "plt.xlim(0, 6)\n",
    "plt.xlabel(var, fontsize=12)\n",
    "plt.suptitle(var+' distribution for unmatched samples', fontsize=14, fontweight='bold')\n",
    "plt.legend(['has young child','no young child'], loc='upper left', fontsize = 12)\n",
    "plt.show()"
   ]
  },
  {
   "cell_type": "code",
   "execution_count": 17,
   "metadata": {},
   "outputs": [
    {
     "name": "stdout",
     "output_type": "stream",
     "text": [
      "Diff of mean = 0.21907978074165158\n"
     ]
    }
   ],
   "source": [
    "umh = df_05.groupby('bool0_5').mean()\n",
    "print('Diff of mean = ' +str(umh['UMH2'][1] - umh['UMH2'][0]))"
   ]
  },
  {
   "cell_type": "code",
   "execution_count": 18,
   "metadata": {},
   "outputs": [
    {
     "data": {
      "text/plain": [
       "<seaborn.axisgrid.FacetGrid at 0x22feda46e80>"
      ]
     },
     "execution_count": 18,
     "metadata": {},
     "output_type": "execute_result"
    },
    {
     "data": {
      "image/png": "[encoded data removed]",
      "text/plain": [
       "<Figure size 360x360 with 1 Axes>"
      ]
     },
     "metadata": {
      "needs_background": "light"
     },
     "output_type": "display_data"
    }
   ],
   "source": [
    "# not huge difference of about 0.33 -> could finish the conclusion by making bootstrap interval -> probably significant\n",
    "sns.catplot(data=umh.reset_index(),x='bool0_5',y='UMH2',kind='bar')"
   ]
  },
  {
   "cell_type": "markdown",
   "metadata": {},
   "source": [
    "#### with matching"
   ]
  },
  {
   "cell_type": "code",
   "execution_count": 19,
   "metadata": {},
   "outputs": [],
   "source": [
    "# Finds closest PS to the input 'score' from the inputted array 'array'.\n",
    "# Returns value of PS and its difference with 'score'.\n",
    "def find_nearest(array, score):\n",
    "    array = np.asarray(array)\n",
    "    idx = (np.abs(array - score)).argmin()\n",
    "    matchps = array[idx]\n",
    "    return matchps, np.abs(matchps-score)"
   ]
  },
  {
   "cell_type": "code",
   "execution_count": 20,
   "metadata": {},
   "outputs": [],
   "source": [
    "# Returns a dataframe containing two equally numbered populations (control, treatment) with ideally\n",
    "# matched propensity scores\n",
    "def optimatch(ctrl_df,trtm_df,alpha=0.01):\n",
    "    idx=[]\n",
    "    idtrtm=[]\n",
    "    if (trtm_df.shape[0] > ctrl_df.shape[0]): # we iterate over the smaller dataframe and use the other one as a pool\n",
    "        trtm_df, ctrl_df = ctrl_df, trtm_df\n",
    "    iterative_df = trtm_df.reset_index(drop=True).copy().sample(frac=1) # shuffles the df so that we don't always preferentially optimize the first rows\n",
    "    pool_df = ctrl_df.reset_index(drop=True).copy()\n",
    "    for i in range(0,iterative_df.shape[0]):\n",
    "        ps = iterative_df.iloc[i].PS\n",
    "        matched, diff = find_nearest(pool_df.PS.drop(idx),ps)\n",
    "        if (diff < alpha):\n",
    "            idx.append(pool_df[pool_df.PS == matched].index[0]) \n",
    "            idtrtm.append(i)\n",
    "    return pool_df.iloc[idx].append(iterative_df.iloc[idtrtm])"
   ]
  },
  {
   "cell_type": "code",
   "execution_count": 21,
   "metadata": {},
   "outputs": [
    {
     "name": "stdout",
     "output_type": "stream",
     "text": [
      "Number of treated subjects (children) : 6080 \n",
      "Number of control subjects (no children) : 15394 \n",
      "Number of matched pairs : 5192.0\n"
     ]
    }
   ],
   "source": [
    "trtm0_5 = df_05[df_05.bool0_5 == 1].reset_index(drop=True)\n",
    "ctrl0_5 = df_05[df_05.bool0_5 == 0].reset_index(drop=True)\n",
    "\n",
    "# Perform matching between treated and non-treated samples\n",
    "df_child05 = optimatch(trtm0_5,ctrl0_5,0.001)\n",
    "\n",
    "print(f'Number of treated subjects (children) : {trtm0_5.shape[0]} \\n\\\n",
    "Number of control subjects (no children) : {ctrl0_5.shape[0]} \\n\\\n",
    "Number of matched pairs : {df_child05.shape[0]/2}')"
   ]
  },
  {
   "cell_type": "code",
   "execution_count": 22,
   "metadata": {},
   "outputs": [
    {
     "data": {
      "image/png": "[encoded data removed]",
      "text/plain": [
       "<Figure size 720x360 with 1 Axes>"
      ]
     },
     "metadata": {
      "needs_background": "light"
     },
     "output_type": "display_data"
    }
   ],
   "source": [
    "# Plot PS for matched groups\n",
    "fig = plt.figure(figsize=(10,5))\n",
    "sns.histplot(data=df_child05, x=\"PS\", hue='bool0_5', kde=True, element='step', stat='density',\n",
    "             common_norm=False)\n",
    "plt.xlabel('PS', fontsize=12)\n",
    "plt.suptitle('PS distribution comparison for matched samples', fontsize=14, fontweight='bold')\n",
    "plt.legend(['has young child','no young child'], loc='upper left', fontsize = 12)\n",
    "plt.show()"
   ]
  },
  {
   "cell_type": "code",
   "execution_count": 23,
   "metadata": {},
   "outputs": [
    {
     "data": {
      "image/png": "[encoded data removed]",
      "text/plain": [
       "<Figure size 720x360 with 1 Axes>"
      ]
     },
     "metadata": {
      "needs_background": "light"
     },
     "output_type": "display_data"
    }
   ],
   "source": [
    "# Plot a seemingly unrelated variable (here OVERCROWDING) for matched groups\n",
    "var = 'OVERCROWDING'\n",
    "fig = plt.figure(figsize=(10,5))\n",
    "sns.kdeplot(data=df_child05, x=var, hue='bool0_5', palette=['r','g'], shade=True)\n",
    "plt.xlim(0, 6)\n",
    "plt.xlabel(var, fontsize=12)\n",
    "plt.suptitle(var+' distribution for matched samples', fontsize=14, fontweight='bold')\n",
    "plt.legend(['has young child','no young child'], loc='upper right', fontsize = 12)\n",
    "plt.show()"
   ]
  },
  {
   "cell_type": "markdown",
   "metadata": {},
   "source": [
    "# similar curves with matching ! bg!"
   ]
  },
  {
   "cell_type": "code",
   "execution_count": 24,
   "metadata": {},
   "outputs": [
    {
     "name": "stdout",
     "output_type": "stream",
     "text": [
      "Diff of UMH2 mean = -0.22419106317411774\n"
     ]
    },
    {
     "data": {
      "text/html": [
       "<div>\n",
       "<style scoped>\n",
       "    .dataframe tbody tr th:only-of-type {\n",
       "        vertical-align: middle;\n",
       "    }\n",
       "\n",
       "    .dataframe tbody tr th {\n",
       "        vertical-align: top;\n",
       "    }\n",
       "\n",
       "    .dataframe thead th {\n",
       "        text-align: right;\n",
       "    }\n",
       "</style>\n",
       "<table border=\"1\" class=\"dataframe\">\n",
       "  <thead>\n",
       "    <tr style=\"text-align: right;\">\n",
       "      <th></th>\n",
       "      <th>PERSTYPE</th>\n",
       "      <th>SEX</th>\n",
       "      <th>UAGE</th>\n",
       "      <th>UENG</th>\n",
       "      <th>UENGNEG</th>\n",
       "      <th>UENGPOS</th>\n",
       "      <th>NLESSONS</th>\n",
       "      <th>UFAMSTR</th>\n",
       "      <th>UMH2</th>\n",
       "      <th>UMHIGDEG</th>\n",
       "      <th>...</th>\n",
       "      <th>CHLD6_17</th>\n",
       "      <th>UHHCOUNT</th>\n",
       "      <th>MNBEDRMS</th>\n",
       "      <th>MOWNRENT</th>\n",
       "      <th>OVERCROWDING</th>\n",
       "      <th>UENGn</th>\n",
       "      <th>BHLTHNn</th>\n",
       "      <th>UBPIAn</th>\n",
       "      <th>UBPIBn</th>\n",
       "      <th>PS</th>\n",
       "    </tr>\n",
       "    <tr>\n",
       "      <th>bool0_5</th>\n",
       "      <th></th>\n",
       "      <th></th>\n",
       "      <th></th>\n",
       "      <th></th>\n",
       "      <th></th>\n",
       "      <th></th>\n",
       "      <th></th>\n",
       "      <th></th>\n",
       "      <th></th>\n",
       "      <th></th>\n",
       "      <th></th>\n",
       "      <th></th>\n",
       "      <th></th>\n",
       "      <th></th>\n",
       "      <th></th>\n",
       "      <th></th>\n",
       "      <th></th>\n",
       "      <th></th>\n",
       "      <th></th>\n",
       "      <th></th>\n",
       "      <th></th>\n",
       "    </tr>\n",
       "  </thead>\n",
       "  <tbody>\n",
       "    <tr>\n",
       "      <th>0</th>\n",
       "      <td>2.0</td>\n",
       "      <td>0.487673</td>\n",
       "      <td>12.129815</td>\n",
       "      <td>12.487481</td>\n",
       "      <td>0.217065</td>\n",
       "      <td>0.307396</td>\n",
       "      <td>0.317797</td>\n",
       "      <td>3.350154</td>\n",
       "      <td>79.592835</td>\n",
       "      <td>3.656394</td>\n",
       "      <td>...</td>\n",
       "      <td>2.285632</td>\n",
       "      <td>4.748652</td>\n",
       "      <td>3.275231</td>\n",
       "      <td>1.322227</td>\n",
       "      <td>1.547532</td>\n",
       "      <td>0.698864</td>\n",
       "      <td>0.191304</td>\n",
       "      <td>-0.229600</td>\n",
       "      <td>0.053335</td>\n",
       "      <td>0.367039</td>\n",
       "    </tr>\n",
       "    <tr>\n",
       "      <th>1</th>\n",
       "      <td>2.0</td>\n",
       "      <td>0.490370</td>\n",
       "      <td>9.500578</td>\n",
       "      <td>12.617296</td>\n",
       "      <td>0.195493</td>\n",
       "      <td>0.310670</td>\n",
       "      <td>0.321649</td>\n",
       "      <td>3.270801</td>\n",
       "      <td>79.368644</td>\n",
       "      <td>3.679507</td>\n",
       "      <td>...</td>\n",
       "      <td>1.479391</td>\n",
       "      <td>4.729969</td>\n",
       "      <td>3.252311</td>\n",
       "      <td>1.336094</td>\n",
       "      <td>1.558378</td>\n",
       "      <td>0.710580</td>\n",
       "      <td>0.181433</td>\n",
       "      <td>0.366044</td>\n",
       "      <td>-0.552950</td>\n",
       "      <td>0.367042</td>\n",
       "    </tr>\n",
       "  </tbody>\n",
       "</table>\n",
       "<p>2 rows × 51 columns</p>\n",
       "</div>"
      ],
      "text/plain": [
       "         PERSTYPE       SEX       UAGE       UENG   UENGNEG   UENGPOS  \\\n",
       "bool0_5                                                                 \n",
       "0             2.0  0.487673  12.129815  12.487481  0.217065  0.307396   \n",
       "1             2.0  0.490370   9.500578  12.617296  0.195493  0.310670   \n",
       "\n",
       "         NLESSONS   UFAMSTR       UMH2  UMHIGDEG  ...  CHLD6_17  UHHCOUNT  \\\n",
       "bool0_5                                           ...                       \n",
       "0        0.317797  3.350154  79.592835  3.656394  ...  2.285632  4.748652   \n",
       "1        0.321649  3.270801  79.368644  3.679507  ...  1.479391  4.729969   \n",
       "\n",
       "         MNBEDRMS  MOWNRENT  OVERCROWDING     UENGn   BHLTHNn    UBPIAn  \\\n",
       "bool0_5                                                                   \n",
       "0        3.275231  1.322227      1.547532  0.698864  0.191304 -0.229600   \n",
       "1        3.252311  1.336094      1.558378  0.710580  0.181433  0.366044   \n",
       "\n",
       "           UBPIBn        PS  \n",
       "bool0_5                      \n",
       "0        0.053335  0.367039  \n",
       "1       -0.552950  0.367042  \n",
       "\n",
       "[2 rows x 51 columns]"
      ]
     },
     "execution_count": 24,
     "metadata": {},
     "output_type": "execute_result"
    }
   ],
   "source": [
    "means_child05 = df_child05.groupby('bool0_5').mean()\n",
    "print('Diff of UMH2 mean = ' +str(means_child05['UMH2'][1] - means_child05['UMH2'][0]))\n",
    "means_child05"
   ]
  },
  {
   "cell_type": "code",
   "execution_count": 25,
   "metadata": {},
   "outputs": [
    {
     "data": {
      "text/plain": [
       "<seaborn.axisgrid.FacetGrid at 0x22feafa9be0>"
      ]
     },
     "execution_count": 25,
     "metadata": {},
     "output_type": "execute_result"
    },
    {
     "data": {
      "image/png": "[encoded data removed]",
      "text/plain": [
       "<Figure size 360x360 with 1 Axes>"
      ]
     },
     "metadata": {
      "needs_background": "light"
     },
     "output_type": "display_data"
    }
   ],
   "source": [
    "sns.catplot(data=means_child05.reset_index(),x='bool0_5',y='UMH2',kind='bar')"
   ]
  },
  {
   "cell_type": "markdown",
   "metadata": {},
   "source": [
    "**PS with `NLESSONS` as treatment**"
   ]
  },
  {
   "cell_type": "code",
   "execution_count": 26,
   "metadata": {},
   "outputs": [
    {
     "name": "stdout",
     "output_type": "stream",
     "text": [
      "Optimization terminated successfully.\n",
      "         Current function value: 0.599841\n",
      "         Iterations 5\n"
     ]
    },
    {
     "data": {
      "text/html": [
       "<table class=\"simpletable\">\n",
       "<caption>Logit Regression Results</caption>\n",
       "<tr>\n",
       "  <th>Dep. Variable:</th>       <td>NLESSONS</td>     <th>  No. Observations:  </th>  <td> 21287</td> \n",
       "</tr>\n",
       "<tr>\n",
       "  <th>Model:</th>                 <td>Logit</td>      <th>  Df Residuals:      </th>  <td> 21270</td> \n",
       "</tr>\n",
       "<tr>\n",
       "  <th>Method:</th>                 <td>MLE</td>       <th>  Df Model:          </th>  <td>    16</td> \n",
       "</tr>\n",
       "<tr>\n",
       "  <th>Date:</th>            <td>Sun, 13 Dec 2020</td> <th>  Pseudo R-squ.:     </th>  <td>0.06086</td>\n",
       "</tr>\n",
       "<tr>\n",
       "  <th>Time:</th>                <td>09:30:43</td>     <th>  Log-Likelihood:    </th> <td> -12769.</td>\n",
       "</tr>\n",
       "<tr>\n",
       "  <th>converged:</th>             <td>True</td>       <th>  LL-Null:           </th> <td> -13596.</td>\n",
       "</tr>\n",
       "<tr>\n",
       "  <th>Covariance Type:</th>     <td>nonrobust</td>    <th>  LLR p-value:       </th>  <td> 0.000</td> \n",
       "</tr>\n",
       "</table>\n",
       "<table class=\"simpletable\">\n",
       "<tr>\n",
       "        <td></td>          <th>coef</th>     <th>std err</th>      <th>z</th>      <th>P>|z|</th>  <th>[0.025</th>    <th>0.975]</th>  \n",
       "</tr>\n",
       "<tr>\n",
       "  <th>Intercept</th>    <td>   -3.5483</td> <td>    0.213</td> <td>  -16.649</td> <td> 0.000</td> <td>   -3.966</td> <td>   -3.131</td>\n",
       "</tr>\n",
       "<tr>\n",
       "  <th>UREGION[T.2]</th> <td>   -0.2664</td> <td>    0.043</td> <td>   -6.241</td> <td> 0.000</td> <td>   -0.350</td> <td>   -0.183</td>\n",
       "</tr>\n",
       "<tr>\n",
       "  <th>UREGION[T.3]</th> <td>   -0.3963</td> <td>    0.044</td> <td>   -8.937</td> <td> 0.000</td> <td>   -0.483</td> <td>   -0.309</td>\n",
       "</tr>\n",
       "<tr>\n",
       "  <th>UREGION[T.4]</th> <td>   -0.2156</td> <td>    0.045</td> <td>   -4.825</td> <td> 0.000</td> <td>   -0.303</td> <td>   -0.128</td>\n",
       "</tr>\n",
       "<tr>\n",
       "  <th>SEX</th>          <td>    0.7415</td> <td>    0.031</td> <td>   24.298</td> <td> 0.000</td> <td>    0.682</td> <td>    0.801</td>\n",
       "</tr>\n",
       "<tr>\n",
       "  <th>UFAMSTR</th>      <td>    0.1294</td> <td>    0.018</td> <td>    7.211</td> <td> 0.000</td> <td>    0.094</td> <td>    0.165</td>\n",
       "</tr>\n",
       "<tr>\n",
       "  <th>UMH2</th>         <td>    0.0054</td> <td>    0.001</td> <td>    4.231</td> <td> 0.000</td> <td>    0.003</td> <td>    0.008</td>\n",
       "</tr>\n",
       "<tr>\n",
       "  <th>UMHIGDEG</th>     <td>    0.0999</td> <td>    0.008</td> <td>   12.054</td> <td> 0.000</td> <td>    0.084</td> <td>    0.116</td>\n",
       "</tr>\n",
       "<tr>\n",
       "  <th>UAGG</th>         <td>    0.0136</td> <td>    0.009</td> <td>    1.521</td> <td> 0.128</td> <td>   -0.004</td> <td>    0.031</td>\n",
       "</tr>\n",
       "<tr>\n",
       "  <th>UHHCOUNT</th>     <td>   -0.0826</td> <td>    0.024</td> <td>   -3.381</td> <td> 0.001</td> <td>   -0.130</td> <td>   -0.035</td>\n",
       "</tr>\n",
       "<tr>\n",
       "  <th>U_SOCPOV</th>     <td>    0.1780</td> <td>    0.016</td> <td>   10.840</td> <td> 0.000</td> <td>    0.146</td> <td>    0.210</td>\n",
       "</tr>\n",
       "<tr>\n",
       "  <th>MNBEDRMS</th>     <td>    0.1346</td> <td>    0.033</td> <td>    4.029</td> <td> 0.000</td> <td>    0.069</td> <td>    0.200</td>\n",
       "</tr>\n",
       "<tr>\n",
       "  <th>MOWNRENT</th>     <td>    0.0594</td> <td>    0.036</td> <td>    1.633</td> <td> 0.102</td> <td>   -0.012</td> <td>    0.131</td>\n",
       "</tr>\n",
       "<tr>\n",
       "  <th>OVERCROWDING</th> <td>   -0.0229</td> <td>    0.064</td> <td>   -0.360</td> <td> 0.719</td> <td>   -0.148</td> <td>    0.102</td>\n",
       "</tr>\n",
       "<tr>\n",
       "  <th>BDISBL</th>       <td>    0.2089</td> <td>    0.059</td> <td>    3.562</td> <td> 0.000</td> <td>    0.094</td> <td>    0.324</td>\n",
       "</tr>\n",
       "<tr>\n",
       "  <th>CSPECED</th>      <td>    0.1809</td> <td>    0.058</td> <td>    3.137</td> <td> 0.002</td> <td>    0.068</td> <td>    0.294</td>\n",
       "</tr>\n",
       "<tr>\n",
       "  <th>UHINS4</th>       <td>   -0.0711</td> <td>    0.019</td> <td>   -3.831</td> <td> 0.000</td> <td>   -0.107</td> <td>   -0.035</td>\n",
       "</tr>\n",
       "</table>"
      ],
      "text/plain": [
       "<class 'statsmodels.iolib.summary.Summary'>\n",
       "\"\"\"\n",
       "                           Logit Regression Results                           \n",
       "==============================================================================\n",
       "Dep. Variable:               NLESSONS   No. Observations:                21287\n",
       "Model:                          Logit   Df Residuals:                    21270\n",
       "Method:                           MLE   Df Model:                           16\n",
       "Date:                Sun, 13 Dec 2020   Pseudo R-squ.:                 0.06086\n",
       "Time:                        09:30:43   Log-Likelihood:                -12769.\n",
       "converged:                       True   LL-Null:                       -13596.\n",
       "Covariance Type:            nonrobust   LLR p-value:                     0.000\n",
       "================================================================================\n",
       "                   coef    std err          z      P>|z|      [0.025      0.975]\n",
       "--------------------------------------------------------------------------------\n",
       "Intercept       -3.5483      0.213    -16.649      0.000      -3.966      -3.131\n",
       "UREGION[T.2]    -0.2664      0.043     -6.241      0.000      -0.350      -0.183\n",
       "UREGION[T.3]    -0.3963      0.044     -8.937      0.000      -0.483      -0.309\n",
       "UREGION[T.4]    -0.2156      0.045     -4.825      0.000      -0.303      -0.128\n",
       "SEX              0.7415      0.031     24.298      0.000       0.682       0.801\n",
       "UFAMSTR          0.1294      0.018      7.211      0.000       0.094       0.165\n",
       "UMH2             0.0054      0.001      4.231      0.000       0.003       0.008\n",
       "UMHIGDEG         0.0999      0.008     12.054      0.000       0.084       0.116\n",
       "UAGG             0.0136      0.009      1.521      0.128      -0.004       0.031\n",
       "UHHCOUNT        -0.0826      0.024     -3.381      0.001      -0.130      -0.035\n",
       "U_SOCPOV         0.1780      0.016     10.840      0.000       0.146       0.210\n",
       "MNBEDRMS         0.1346      0.033      4.029      0.000       0.069       0.200\n",
       "MOWNRENT         0.0594      0.036      1.633      0.102      -0.012       0.131\n",
       "OVERCROWDING    -0.0229      0.064     -0.360      0.719      -0.148       0.102\n",
       "BDISBL           0.2089      0.059      3.562      0.000       0.094       0.324\n",
       "CSPECED          0.1809      0.058      3.137      0.002       0.068       0.294\n",
       "UHINS4          -0.0711      0.019     -3.831      0.000      -0.107      -0.035\n",
       "================================================================================\n",
       "\"\"\""
      ]
     },
     "execution_count": 26,
     "metadata": {},
     "output_type": "execute_result"
    }
   ],
   "source": [
    "# logistic regression for NLESSONS\n",
    "# NB removed BHLTHN\n",
    "predictors= ['SEX','UREGION','UFAMSTR','UMH2','UMHIGDEG','UAGG','UHHCOUNT','U_SOCPOV','MNBEDRMS',\n",
    "             'MOWNRENT','OVERCROWDING','BDISBL','CSPECED','UHINS4']\n",
    "df_lessons = df_NN(fc23,'NLESSONS',predictors)\n",
    "\n",
    "log_model_L = 'NLESSONS ~ SEX + UREGION + UFAMSTR + UMH2 + UMHIGDEG + UAGG + \\\n",
    "+ UHHCOUNT + U_SOCPOV + MNBEDRMS + MOWNRENT + OVERCROWDING + BDISBL + CSPECED + UHINS4'\n",
    "\n",
    "log_L = smf.logit(formula=log_model_L, data=df_lessons)\n",
    "res_L = log_L.fit()\n",
    "res_L.summary()"
   ]
  },
  {
   "cell_type": "code",
   "execution_count": 27,
   "metadata": {},
   "outputs": [
    {
     "name": "stderr",
     "output_type": "stream",
     "text": [
      "C:\\Users\\alanh\\anaconda3\\lib\\site-packages\\pandas\\core\\indexing.py:1596: SettingWithCopyWarning: \n",
      "A value is trying to be set on a copy of a slice from a DataFrame.\n",
      "Try using .loc[row_indexer,col_indexer] = value instead\n",
      "\n",
      "See the caveats in the documentation: https://pandas.pydata.org/pandas-docs/stable/user_guide/indexing.html#returning-a-view-versus-a-copy\n",
      "  self.obj[key] = _infer_fill_value(value)\n",
      "C:\\Users\\alanh\\anaconda3\\lib\\site-packages\\pandas\\core\\indexing.py:1745: SettingWithCopyWarning: \n",
      "A value is trying to be set on a copy of a slice from a DataFrame.\n",
      "Try using .loc[row_indexer,col_indexer] = value instead\n",
      "\n",
      "See the caveats in the documentation: https://pandas.pydata.org/pandas-docs/stable/user_guide/indexing.html#returning-a-view-versus-a-copy\n",
      "  isetter(ilocs[0], value)\n"
     ]
    }
   ],
   "source": [
    "pred_L = res_L.predict(df_lessons)\n",
    "df_lessons.loc[:,'PS'] = pred_L"
   ]
  },
  {
   "cell_type": "code",
   "execution_count": 28,
   "metadata": {},
   "outputs": [
    {
     "data": {
      "image/png": "[encoded data removed]",
      "text/plain": [
       "<Figure size 720x360 with 1 Axes>"
      ]
     },
     "metadata": {
      "needs_background": "light"
     },
     "output_type": "display_data"
    }
   ],
   "source": [
    "# Plot PS for unmatched groups\n",
    "fig = plt.figure(figsize=(10,5))\n",
    "sns.histplot(data=df_lessons, x=\"PS\", hue='NLESSONS', kde=True, element='step', stat='density',\n",
    "             common_norm=False)\n",
    "plt.xlabel('PS', fontsize=12)\n",
    "plt.suptitle('PS distribution comparison for unmatched samples', fontsize=14, fontweight='bold')\n",
    "plt.legend(['takes lessons','does not take lessons'], loc='upper left', fontsize = 12)\n",
    "plt.show()"
   ]
  },
  {
   "cell_type": "code",
   "execution_count": 29,
   "metadata": {},
   "outputs": [
    {
     "data": {
      "image/png": "[encoded data removed]",
      "text/plain": [
       "<Figure size 720x360 with 1 Axes>"
      ]
     },
     "metadata": {
      "needs_background": "light"
     },
     "output_type": "display_data"
    }
   ],
   "source": [
    "# Plot a seemingly unrelated variable (here OVERCROWDING) for unmatched groups\n",
    "var = 'OVERCROWDING'\n",
    "fig = plt.figure(figsize=(10,5))\n",
    "sns.kdeplot(data=df_lessons, x=var, hue='NLESSONS', palette=['r','g'], shade=True, common_norm=False)\n",
    "plt.xlim(0,6)\n",
    "plt.xlabel(var, fontsize=12)\n",
    "plt.suptitle(var+' distribution for unmatched samples', fontsize=14, fontweight='bold')\n",
    "plt.legend(['takes lessons','does not take lessons'], loc='upper right', fontsize = 12)\n",
    "plt.show()"
   ]
  },
  {
   "cell_type": "code",
   "execution_count": 30,
   "metadata": {},
   "outputs": [
    {
     "name": "stdout",
     "output_type": "stream",
     "text": [
      "Diff of mean = 0.1037068124418421\n"
     ]
    },
    {
     "data": {
      "text/html": [
       "<div>\n",
       "<style scoped>\n",
       "    .dataframe tbody tr th:only-of-type {\n",
       "        vertical-align: middle;\n",
       "    }\n",
       "\n",
       "    .dataframe tbody tr th {\n",
       "        vertical-align: top;\n",
       "    }\n",
       "\n",
       "    .dataframe thead th {\n",
       "        text-align: right;\n",
       "    }\n",
       "</style>\n",
       "<table border=\"1\" class=\"dataframe\">\n",
       "  <thead>\n",
       "    <tr style=\"text-align: right;\">\n",
       "      <th></th>\n",
       "      <th>PERSTYPE</th>\n",
       "      <th>SEX</th>\n",
       "      <th>UAGE</th>\n",
       "      <th>UENG</th>\n",
       "      <th>UENGNEG</th>\n",
       "      <th>UENGPOS</th>\n",
       "      <th>UFAMSTR</th>\n",
       "      <th>UMH2</th>\n",
       "      <th>UMHIGDEG</th>\n",
       "      <th>UAGG</th>\n",
       "      <th>...</th>\n",
       "      <th>UHHCOUNT</th>\n",
       "      <th>MNBEDRMS</th>\n",
       "      <th>MOWNRENT</th>\n",
       "      <th>OVERCROWDING</th>\n",
       "      <th>UENGn</th>\n",
       "      <th>BHLTHNn</th>\n",
       "      <th>UBPIAn</th>\n",
       "      <th>UBPIBn</th>\n",
       "      <th>bool0_5</th>\n",
       "      <th>PS</th>\n",
       "    </tr>\n",
       "    <tr>\n",
       "      <th>NLESSONS</th>\n",
       "      <th></th>\n",
       "      <th></th>\n",
       "      <th></th>\n",
       "      <th></th>\n",
       "      <th></th>\n",
       "      <th></th>\n",
       "      <th></th>\n",
       "      <th></th>\n",
       "      <th></th>\n",
       "      <th></th>\n",
       "      <th></th>\n",
       "      <th></th>\n",
       "      <th></th>\n",
       "      <th></th>\n",
       "      <th></th>\n",
       "      <th></th>\n",
       "      <th></th>\n",
       "      <th></th>\n",
       "      <th></th>\n",
       "      <th></th>\n",
       "      <th></th>\n",
       "    </tr>\n",
       "  </thead>\n",
       "  <tbody>\n",
       "    <tr>\n",
       "      <th>0</th>\n",
       "      <td>2.0</td>\n",
       "      <td>0.430716</td>\n",
       "      <td>11.630603</td>\n",
       "      <td>12.277207</td>\n",
       "      <td>0.251363</td>\n",
       "      <td>0.278482</td>\n",
       "      <td>3.120654</td>\n",
       "      <td>78.546484</td>\n",
       "      <td>3.568789</td>\n",
       "      <td>13.774552</td>\n",
       "      <td>...</td>\n",
       "      <td>4.216880</td>\n",
       "      <td>3.188133</td>\n",
       "      <td>1.317284</td>\n",
       "      <td>1.409017</td>\n",
       "      <td>0.682911</td>\n",
       "      <td>0.194559</td>\n",
       "      <td>-0.125475</td>\n",
       "      <td>-0.070547</td>\n",
       "      <td>0.293776</td>\n",
       "      <td>0.310641</td>\n",
       "    </tr>\n",
       "    <tr>\n",
       "      <th>1</th>\n",
       "      <td>2.0</td>\n",
       "      <td>0.609855</td>\n",
       "      <td>11.339754</td>\n",
       "      <td>13.144891</td>\n",
       "      <td>0.145729</td>\n",
       "      <td>0.382189</td>\n",
       "      <td>3.341709</td>\n",
       "      <td>80.778755</td>\n",
       "      <td>3.923227</td>\n",
       "      <td>13.988693</td>\n",
       "      <td>...</td>\n",
       "      <td>4.151033</td>\n",
       "      <td>3.364740</td>\n",
       "      <td>1.243439</td>\n",
       "      <td>1.308023</td>\n",
       "      <td>0.756782</td>\n",
       "      <td>0.150230</td>\n",
       "      <td>-0.041504</td>\n",
       "      <td>-0.119579</td>\n",
       "      <td>0.261725</td>\n",
       "      <td>0.387607</td>\n",
       "    </tr>\n",
       "  </tbody>\n",
       "</table>\n",
       "<p>2 rows × 51 columns</p>\n",
       "</div>"
      ],
      "text/plain": [
       "          PERSTYPE       SEX       UAGE       UENG   UENGNEG   UENGPOS  \\\n",
       "NLESSONS                                                                 \n",
       "0              2.0  0.430716  11.630603  12.277207  0.251363  0.278482   \n",
       "1              2.0  0.609855  11.339754  13.144891  0.145729  0.382189   \n",
       "\n",
       "           UFAMSTR       UMH2  UMHIGDEG       UAGG  ...  UHHCOUNT  MNBEDRMS  \\\n",
       "NLESSONS                                            ...                       \n",
       "0         3.120654  78.546484  3.568789  13.774552  ...  4.216880  3.188133   \n",
       "1         3.341709  80.778755  3.923227  13.988693  ...  4.151033  3.364740   \n",
       "\n",
       "          MOWNRENT  OVERCROWDING     UENGn   BHLTHNn    UBPIAn    UBPIBn  \\\n",
       "NLESSONS                                                                   \n",
       "0         1.317284      1.409017  0.682911  0.194559 -0.125475 -0.070547   \n",
       "1         1.243439      1.308023  0.756782  0.150230 -0.041504 -0.119579   \n",
       "\n",
       "           bool0_5        PS  \n",
       "NLESSONS                      \n",
       "0         0.293776  0.310641  \n",
       "1         0.261725  0.387607  \n",
       "\n",
       "[2 rows x 51 columns]"
      ]
     },
     "execution_count": 30,
     "metadata": {},
     "output_type": "execute_result"
    }
   ],
   "source": [
    "means_L = df_lessons.groupby('NLESSONS').mean()\n",
    "print('Diff of mean = ' +str(means_L['UENGPOS'][1] - means_L['UENGPOS'][0]))\n",
    "means_L"
   ]
  },
  {
   "cell_type": "code",
   "execution_count": 31,
   "metadata": {},
   "outputs": [
    {
     "data": {
      "text/plain": [
       "<seaborn.axisgrid.FacetGrid at 0x22feb2cd0a0>"
      ]
     },
     "execution_count": 31,
     "metadata": {},
     "output_type": "execute_result"
    },
    {
     "data": {
      "image/png": "[encoded data removed]",
      "text/plain": [
       "<Figure size 360x360 with 1 Axes>"
      ]
     },
     "metadata": {
      "needs_background": "light"
     },
     "output_type": "display_data"
    }
   ],
   "source": [
    "sns.catplot(data=means_L.reset_index(),x='NLESSONS',y='UENGPOS',kind='bar')"
   ]
  },
  {
   "cell_type": "code",
   "execution_count": 32,
   "metadata": {},
   "outputs": [
    {
     "name": "stdout",
     "output_type": "stream",
     "text": [
      "Number of treated subjects (lessons) : 7164 \n",
      "Number of control subjects (no lessons) : 14123 \n",
      "Number of matched pairs : 6907.0\n"
     ]
    }
   ],
   "source": [
    "# Perform matching\n",
    "trtm_L = df_lessons[df_lessons.NLESSONS == 1].sample(frac=1).reset_index(drop=True)\n",
    "ctrl_L = df_lessons[df_lessons.NLESSONS == 0].sample(frac=1).reset_index(drop=True)\n",
    "\n",
    "# Perform matching between treated and non-treated papers\n",
    "df_L = optimatch(ctrl_L,trtm_L,0.001)\n",
    "\n",
    "print(f'Number of treated subjects (lessons) : {trtm_L.shape[0]} \\n\\\n",
    "Number of control subjects (no lessons) : {ctrl_L.shape[0]} \\n\\\n",
    "Number of matched pairs : {df_L.shape[0]/2}')"
   ]
  },
  {
   "cell_type": "code",
   "execution_count": 33,
   "metadata": {},
   "outputs": [
    {
     "data": {
      "image/png": "[encoded data removed]",
      "text/plain": [
       "<Figure size 720x360 with 1 Axes>"
      ]
     },
     "metadata": {
      "needs_background": "light"
     },
     "output_type": "display_data"
    }
   ],
   "source": [
    "# Plot PS for matched groups\n",
    "fig = plt.figure(figsize=(10,5))\n",
    "sns.histplot(data=df_L, x=\"PS\", hue='NLESSONS', kde=True, element='step', stat='density', \n",
    "             common_norm=False)\n",
    "plt.xlabel('PS', fontsize=12)\n",
    "plt.suptitle('PS distribution comparison for matched samples', fontsize=14, fontweight='bold')\n",
    "plt.legend(['lessons','no lessons'], loc='upper right', fontsize = 12)\n",
    "plt.show()"
   ]
  },
  {
   "cell_type": "code",
   "execution_count": 34,
   "metadata": {},
   "outputs": [
    {
     "data": {
      "image/png": "[encoded data removed]",
      "text/plain": [
       "<Figure size 720x360 with 1 Axes>"
      ]
     },
     "metadata": {
      "needs_background": "light"
     },
     "output_type": "display_data"
    }
   ],
   "source": [
    "# Plot a seemingly unrelated variable (here OVERCROWDING) for matched groups\n",
    "var = 'OVERCROWDING'\n",
    "fig = plt.figure(figsize=(10,5))\n",
    "sns.kdeplot(data=df_L, x=var, hue='NLESSONS', palette=['g','r'], shade=True)\n",
    "plt.xlim(0, 6)\n",
    "plt.xlabel(var, fontsize=12)\n",
    "plt.suptitle(var+' distribution for matched samples', fontsize=14, fontweight='bold')\n",
    "plt.legend(['lessons','no lessons'], loc='upper right', fontsize = 12)\n",
    "plt.show()"
   ]
  },
  {
   "cell_type": "code",
   "execution_count": 35,
   "metadata": {},
   "outputs": [
    {
     "name": "stdout",
     "output_type": "stream",
     "text": [
      "Diff of mean = 0.03170696394961636\n"
     ]
    },
    {
     "data": {
      "text/html": [
       "<div>\n",
       "<style scoped>\n",
       "    .dataframe tbody tr th:only-of-type {\n",
       "        vertical-align: middle;\n",
       "    }\n",
       "\n",
       "    .dataframe tbody tr th {\n",
       "        vertical-align: top;\n",
       "    }\n",
       "\n",
       "    .dataframe thead th {\n",
       "        text-align: right;\n",
       "    }\n",
       "</style>\n",
       "<table border=\"1\" class=\"dataframe\">\n",
       "  <thead>\n",
       "    <tr style=\"text-align: right;\">\n",
       "      <th></th>\n",
       "      <th>PERSTYPE</th>\n",
       "      <th>SEX</th>\n",
       "      <th>UAGE</th>\n",
       "      <th>UENG</th>\n",
       "      <th>UENGNEG</th>\n",
       "      <th>UENGPOS</th>\n",
       "      <th>UFAMSTR</th>\n",
       "      <th>UMH2</th>\n",
       "      <th>UMHIGDEG</th>\n",
       "      <th>UAGG</th>\n",
       "      <th>...</th>\n",
       "      <th>UHHCOUNT</th>\n",
       "      <th>MNBEDRMS</th>\n",
       "      <th>MOWNRENT</th>\n",
       "      <th>OVERCROWDING</th>\n",
       "      <th>UENGn</th>\n",
       "      <th>BHLTHNn</th>\n",
       "      <th>UBPIAn</th>\n",
       "      <th>UBPIBn</th>\n",
       "      <th>bool0_5</th>\n",
       "      <th>PS</th>\n",
       "    </tr>\n",
       "    <tr>\n",
       "      <th>NLESSONS</th>\n",
       "      <th></th>\n",
       "      <th></th>\n",
       "      <th></th>\n",
       "      <th></th>\n",
       "      <th></th>\n",
       "      <th></th>\n",
       "      <th></th>\n",
       "      <th></th>\n",
       "      <th></th>\n",
       "      <th></th>\n",
       "      <th></th>\n",
       "      <th></th>\n",
       "      <th></th>\n",
       "      <th></th>\n",
       "      <th></th>\n",
       "      <th></th>\n",
       "      <th></th>\n",
       "      <th></th>\n",
       "      <th></th>\n",
       "      <th></th>\n",
       "      <th></th>\n",
       "    </tr>\n",
       "  </thead>\n",
       "  <tbody>\n",
       "    <tr>\n",
       "      <th>0</th>\n",
       "      <td>2.0</td>\n",
       "      <td>0.590995</td>\n",
       "      <td>11.792095</td>\n",
       "      <td>12.750253</td>\n",
       "      <td>0.202982</td>\n",
       "      <td>0.343130</td>\n",
       "      <td>3.342985</td>\n",
       "      <td>80.847980</td>\n",
       "      <td>3.887940</td>\n",
       "      <td>14.028377</td>\n",
       "      <td>...</td>\n",
       "      <td>4.163747</td>\n",
       "      <td>3.324888</td>\n",
       "      <td>1.246417</td>\n",
       "      <td>1.328302</td>\n",
       "      <td>0.723360</td>\n",
       "      <td>0.171637</td>\n",
       "      <td>-0.155567</td>\n",
       "      <td>-0.014828</td>\n",
       "      <td>0.256551</td>\n",
       "      <td>0.379805</td>\n",
       "    </tr>\n",
       "    <tr>\n",
       "      <th>1</th>\n",
       "      <td>2.0</td>\n",
       "      <td>0.596062</td>\n",
       "      <td>11.337918</td>\n",
       "      <td>13.111047</td>\n",
       "      <td>0.150138</td>\n",
       "      <td>0.374837</td>\n",
       "      <td>3.324888</td>\n",
       "      <td>80.586217</td>\n",
       "      <td>3.875054</td>\n",
       "      <td>13.966121</td>\n",
       "      <td>...</td>\n",
       "      <td>4.158245</td>\n",
       "      <td>3.337773</td>\n",
       "      <td>1.249891</td>\n",
       "      <td>1.318606</td>\n",
       "      <td>0.754187</td>\n",
       "      <td>0.152345</td>\n",
       "      <td>-0.039320</td>\n",
       "      <td>-0.124053</td>\n",
       "      <td>0.264659</td>\n",
       "      <td>0.379805</td>\n",
       "    </tr>\n",
       "  </tbody>\n",
       "</table>\n",
       "<p>2 rows × 51 columns</p>\n",
       "</div>"
      ],
      "text/plain": [
       "          PERSTYPE       SEX       UAGE       UENG   UENGNEG   UENGPOS  \\\n",
       "NLESSONS                                                                 \n",
       "0              2.0  0.590995  11.792095  12.750253  0.202982  0.343130   \n",
       "1              2.0  0.596062  11.337918  13.111047  0.150138  0.374837   \n",
       "\n",
       "           UFAMSTR       UMH2  UMHIGDEG       UAGG  ...  UHHCOUNT  MNBEDRMS  \\\n",
       "NLESSONS                                            ...                       \n",
       "0         3.342985  80.847980  3.887940  14.028377  ...  4.163747  3.324888   \n",
       "1         3.324888  80.586217  3.875054  13.966121  ...  4.158245  3.337773   \n",
       "\n",
       "          MOWNRENT  OVERCROWDING     UENGn   BHLTHNn    UBPIAn    UBPIBn  \\\n",
       "NLESSONS                                                                   \n",
       "0         1.246417      1.328302  0.723360  0.171637 -0.155567 -0.014828   \n",
       "1         1.249891      1.318606  0.754187  0.152345 -0.039320 -0.124053   \n",
       "\n",
       "           bool0_5        PS  \n",
       "NLESSONS                      \n",
       "0         0.256551  0.379805  \n",
       "1         0.264659  0.379805  \n",
       "\n",
       "[2 rows x 51 columns]"
      ]
     },
     "execution_count": 35,
     "metadata": {},
     "output_type": "execute_result"
    }
   ],
   "source": [
    "means_L = df_L.groupby('NLESSONS').mean()\n",
    "print('Diff of mean = ' +str(means_L['UENGPOS'][1] - means_L['UENGPOS'][0]))\n",
    "means_L"
   ]
  },
  {
   "cell_type": "code",
   "execution_count": 36,
   "metadata": {},
   "outputs": [
    {
     "data": {
      "text/plain": [
       "<seaborn.axisgrid.FacetGrid at 0x22feb133340>"
      ]
     },
     "execution_count": 36,
     "metadata": {},
     "output_type": "execute_result"
    },
    {
     "data": {
      "image/png": "[encoded data removed]",
      "text/plain": [
       "<Figure size 360x360 with 1 Axes>"
      ]
     },
     "metadata": {
      "needs_background": "light"
     },
     "output_type": "display_data"
    }
   ],
   "source": [
    "sns.catplot(data=means_L.reset_index(),x='NLESSONS',y='UENGPOS',kind='bar')"
   ]
  },
  {
   "cell_type": "markdown",
   "metadata": {},
   "source": [
    "**PS with `PRECARIOUS` as treatment**"
   ]
  },
  {
   "cell_type": "code",
   "execution_count": 37,
   "metadata": {},
   "outputs": [
    {
     "name": "stdout",
     "output_type": "stream",
     "text": [
      "Optimization terminated successfully.\n",
      "         Current function value: 0.357018\n",
      "         Iterations 7\n"
     ]
    },
    {
     "data": {
      "text/html": [
       "<table class=\"simpletable\">\n",
       "<caption>Logit Regression Results</caption>\n",
       "<tr>\n",
       "  <th>Dep. Variable:</th>      <td>precarious</td>    <th>  No. Observations:  </th>  <td> 21341</td> \n",
       "</tr>\n",
       "<tr>\n",
       "  <th>Model:</th>                 <td>Logit</td>      <th>  Df Residuals:      </th>  <td> 21327</td> \n",
       "</tr>\n",
       "<tr>\n",
       "  <th>Method:</th>                 <td>MLE</td>       <th>  Df Model:          </th>  <td>    13</td> \n",
       "</tr>\n",
       "<tr>\n",
       "  <th>Date:</th>            <td>Sun, 13 Dec 2020</td> <th>  Pseudo R-squ.:     </th>  <td>0.3154</td> \n",
       "</tr>\n",
       "<tr>\n",
       "  <th>Time:</th>                <td>09:31:04</td>     <th>  Log-Likelihood:    </th> <td> -7619.1</td>\n",
       "</tr>\n",
       "<tr>\n",
       "  <th>converged:</th>             <td>True</td>       <th>  LL-Null:           </th> <td> -11130.</td>\n",
       "</tr>\n",
       "<tr>\n",
       "  <th>Covariance Type:</th>     <td>nonrobust</td>    <th>  LLR p-value:       </th>  <td> 0.000</td> \n",
       "</tr>\n",
       "</table>\n",
       "<table class=\"simpletable\">\n",
       "<tr>\n",
       "        <td></td>          <th>coef</th>     <th>std err</th>      <th>z</th>      <th>P>|z|</th>  <th>[0.025</th>    <th>0.975]</th>  \n",
       "</tr>\n",
       "<tr>\n",
       "  <th>Intercept</th>    <td>    0.6419</td> <td>    0.209</td> <td>    3.074</td> <td> 0.002</td> <td>    0.233</td> <td>    1.051</td>\n",
       "</tr>\n",
       "<tr>\n",
       "  <th>UREGION[T.2]</th> <td>   -0.3597</td> <td>    0.062</td> <td>   -5.796</td> <td> 0.000</td> <td>   -0.481</td> <td>   -0.238</td>\n",
       "</tr>\n",
       "<tr>\n",
       "  <th>UREGION[T.3]</th> <td>   -0.0024</td> <td>    0.058</td> <td>   -0.041</td> <td> 0.967</td> <td>   -0.116</td> <td>    0.112</td>\n",
       "</tr>\n",
       "<tr>\n",
       "  <th>UREGION[T.4]</th> <td>   -0.1856</td> <td>    0.062</td> <td>   -3.007</td> <td> 0.003</td> <td>   -0.307</td> <td>   -0.065</td>\n",
       "</tr>\n",
       "<tr>\n",
       "  <th>SEX</th>          <td>    0.1692</td> <td>    0.042</td> <td>    4.056</td> <td> 0.000</td> <td>    0.087</td> <td>    0.251</td>\n",
       "</tr>\n",
       "<tr>\n",
       "  <th>UAGE</th>         <td>    0.0123</td> <td>    0.006</td> <td>    2.066</td> <td> 0.039</td> <td>    0.001</td> <td>    0.024</td>\n",
       "</tr>\n",
       "<tr>\n",
       "  <th>UMHIGDEG</th>     <td>   -0.0142</td> <td>    0.011</td> <td>   -1.343</td> <td> 0.179</td> <td>   -0.035</td> <td>    0.007</td>\n",
       "</tr>\n",
       "<tr>\n",
       "  <th>UHHCOUNT</th>     <td>   -0.0230</td> <td>    0.034</td> <td>   -0.686</td> <td> 0.492</td> <td>   -0.089</td> <td>    0.043</td>\n",
       "</tr>\n",
       "<tr>\n",
       "  <th>MNBEDRMS</th>     <td>   -0.7317</td> <td>    0.054</td> <td>  -13.648</td> <td> 0.000</td> <td>   -0.837</td> <td>   -0.627</td>\n",
       "</tr>\n",
       "<tr>\n",
       "  <th>OVERCROWDING</th> <td>    0.2089</td> <td>    0.080</td> <td>    2.618</td> <td> 0.009</td> <td>    0.053</td> <td>    0.365</td>\n",
       "</tr>\n",
       "<tr>\n",
       "  <th>BDISBL</th>       <td>   -0.5446</td> <td>    0.066</td> <td>   -8.217</td> <td> 0.000</td> <td>   -0.674</td> <td>   -0.415</td>\n",
       "</tr>\n",
       "<tr>\n",
       "  <th>CSPECED</th>      <td>   -0.3042</td> <td>    0.067</td> <td>   -4.565</td> <td> 0.000</td> <td>   -0.435</td> <td>   -0.174</td>\n",
       "</tr>\n",
       "<tr>\n",
       "  <th>UACT</th>         <td>   -0.3996</td> <td>    0.023</td> <td>  -17.436</td> <td> 0.000</td> <td>   -0.445</td> <td>   -0.355</td>\n",
       "</tr>\n",
       "<tr>\n",
       "  <th>UHINS4</th>       <td>    1.2061</td> <td>    0.022</td> <td>   55.383</td> <td> 0.000</td> <td>    1.163</td> <td>    1.249</td>\n",
       "</tr>\n",
       "</table>"
      ],
      "text/plain": [
       "<class 'statsmodels.iolib.summary.Summary'>\n",
       "\"\"\"\n",
       "                           Logit Regression Results                           \n",
       "==============================================================================\n",
       "Dep. Variable:             precarious   No. Observations:                21341\n",
       "Model:                          Logit   Df Residuals:                    21327\n",
       "Method:                           MLE   Df Model:                           13\n",
       "Date:                Sun, 13 Dec 2020   Pseudo R-squ.:                  0.3154\n",
       "Time:                        09:31:04   Log-Likelihood:                -7619.1\n",
       "converged:                       True   LL-Null:                       -11130.\n",
       "Covariance Type:            nonrobust   LLR p-value:                     0.000\n",
       "================================================================================\n",
       "                   coef    std err          z      P>|z|      [0.025      0.975]\n",
       "--------------------------------------------------------------------------------\n",
       "Intercept        0.6419      0.209      3.074      0.002       0.233       1.051\n",
       "UREGION[T.2]    -0.3597      0.062     -5.796      0.000      -0.481      -0.238\n",
       "UREGION[T.3]    -0.0024      0.058     -0.041      0.967      -0.116       0.112\n",
       "UREGION[T.4]    -0.1856      0.062     -3.007      0.003      -0.307      -0.065\n",
       "SEX              0.1692      0.042      4.056      0.000       0.087       0.251\n",
       "UAGE             0.0123      0.006      2.066      0.039       0.001       0.024\n",
       "UMHIGDEG        -0.0142      0.011     -1.343      0.179      -0.035       0.007\n",
       "UHHCOUNT        -0.0230      0.034     -0.686      0.492      -0.089       0.043\n",
       "MNBEDRMS        -0.7317      0.054    -13.648      0.000      -0.837      -0.627\n",
       "OVERCROWDING     0.2089      0.080      2.618      0.009       0.053       0.365\n",
       "BDISBL          -0.5446      0.066     -8.217      0.000      -0.674      -0.415\n",
       "CSPECED         -0.3042      0.067     -4.565      0.000      -0.435      -0.174\n",
       "UACT            -0.3996      0.023    -17.436      0.000      -0.445      -0.355\n",
       "UHINS4           1.2061      0.022     55.383      0.000       1.163       1.249\n",
       "================================================================================\n",
       "\"\"\""
      ]
     },
     "execution_count": 37,
     "metadata": {},
     "output_type": "execute_result"
    }
   ],
   "source": [
    "# logistic regression for precarious\n",
    "# NB removed UBPIA BHLTHN UENG\n",
    "predictors= ['SEX','UAGE','UREGION','UMHIGDEG','UHHCOUNT','MNBEDRMS',\n",
    "             'OVERCROWDING','BDISBL','CSPECED','UACT','CSPECED','UHINS4']\n",
    "df_prec = df_NN(fc23_prec,'precarious',predictors)\n",
    "\n",
    "log_model_prec = 'precarious ~ SEX + UAGE + UREGION + UMHIGDEG\\\n",
    "+ UHHCOUNT + MNBEDRMS + OVERCROWDING + BDISBL + CSPECED + UACT + CSPECED + UHINS4'\n",
    "\n",
    "log_prec = smf.logit(formula=log_model_prec, data=df_prec)\n",
    "res_prec = log_prec.fit()\n",
    "res_prec.summary()"
   ]
  },
  {
   "cell_type": "code",
   "execution_count": 38,
   "metadata": {},
   "outputs": [
    {
     "name": "stderr",
     "output_type": "stream",
     "text": [
      "C:\\Users\\alanh\\anaconda3\\lib\\site-packages\\pandas\\core\\indexing.py:1596: SettingWithCopyWarning: \n",
      "A value is trying to be set on a copy of a slice from a DataFrame.\n",
      "Try using .loc[row_indexer,col_indexer] = value instead\n",
      "\n",
      "See the caveats in the documentation: https://pandas.pydata.org/pandas-docs/stable/user_guide/indexing.html#returning-a-view-versus-a-copy\n",
      "  self.obj[key] = _infer_fill_value(value)\n",
      "C:\\Users\\alanh\\anaconda3\\lib\\site-packages\\pandas\\core\\indexing.py:1745: SettingWithCopyWarning: \n",
      "A value is trying to be set on a copy of a slice from a DataFrame.\n",
      "Try using .loc[row_indexer,col_indexer] = value instead\n",
      "\n",
      "See the caveats in the documentation: https://pandas.pydata.org/pandas-docs/stable/user_guide/indexing.html#returning-a-view-versus-a-copy\n",
      "  isetter(ilocs[0], value)\n"
     ]
    }
   ],
   "source": [
    "pred_prec = res_prec.predict(df_prec)\n",
    "df_prec.loc[:,'PS'] = pred_prec"
   ]
  },
  {
   "cell_type": "code",
   "execution_count": 39,
   "metadata": {},
   "outputs": [
    {
     "data": {
      "image/png": "[encoded data removed]",
      "text/plain": [
       "<Figure size 720x360 with 1 Axes>"
      ]
     },
     "metadata": {
      "needs_background": "light"
     },
     "output_type": "display_data"
    }
   ],
   "source": [
    "# Plot PS for unmatched groups\n",
    "fig = plt.figure(figsize=(10,5))\n",
    "sns.histplot(data=df_prec, x=\"PS\", hue='precarious', kde=True, element='step', stat='density',\n",
    "             common_norm=False)\n",
    "plt.xlabel('PS', fontsize=12)\n",
    "plt.suptitle('PS distribution comparison for unmatched samples', fontsize=14, fontweight='bold')\n",
    "plt.legend(['precarious','not precarious'], loc='upper left', fontsize = 12)\n",
    "plt.show()"
   ]
  },
  {
   "cell_type": "code",
   "execution_count": 40,
   "metadata": {},
   "outputs": [
    {
     "data": {
      "image/png": "[encoded data removed]",
      "text/plain": [
       "<Figure size 720x360 with 1 Axes>"
      ]
     },
     "metadata": {
      "needs_background": "light"
     },
     "output_type": "display_data"
    }
   ],
   "source": [
    "# Plot a seemingly unrelated variable (here OVERCROWDING) for unmatched groups\n",
    "var = 'OVERCROWDING'\n",
    "fig = plt.figure(figsize=(10,5))\n",
    "sns.kdeplot(data=df_prec, x=var, hue='precarious', palette=['g','r'], shade=True, common_norm=False)\n",
    "plt.xlim(0,6)\n",
    "plt.xlabel(var, fontsize=12)\n",
    "plt.suptitle(var+' distribution for unmatched samples', fontsize=14, fontweight='bold')\n",
    "plt.legend(['precarious','not precarious'], loc='upper right', fontsize = 12)\n",
    "plt.show()"
   ]
  },
  {
   "cell_type": "code",
   "execution_count": 41,
   "metadata": {},
   "outputs": [
    {
     "name": "stdout",
     "output_type": "stream",
     "text": [
      "Diff of mean = 0.12277064220659642\n"
     ]
    },
    {
     "data": {
      "text/html": [
       "<div>\n",
       "<style scoped>\n",
       "    .dataframe tbody tr th:only-of-type {\n",
       "        vertical-align: middle;\n",
       "    }\n",
       "\n",
       "    .dataframe tbody tr th {\n",
       "        vertical-align: top;\n",
       "    }\n",
       "\n",
       "    .dataframe thead th {\n",
       "        text-align: right;\n",
       "    }\n",
       "</style>\n",
       "<table border=\"1\" class=\"dataframe\">\n",
       "  <thead>\n",
       "    <tr style=\"text-align: right;\">\n",
       "      <th></th>\n",
       "      <th>PERSTYPE</th>\n",
       "      <th>SEX</th>\n",
       "      <th>UAGE</th>\n",
       "      <th>UENG</th>\n",
       "      <th>UENGNEG</th>\n",
       "      <th>UENGPOS</th>\n",
       "      <th>NLESSONS</th>\n",
       "      <th>UFAMSTR</th>\n",
       "      <th>UMH2</th>\n",
       "      <th>UMHIGDEG</th>\n",
       "      <th>...</th>\n",
       "      <th>UHHCOUNT</th>\n",
       "      <th>MNBEDRMS</th>\n",
       "      <th>MOWNRENT</th>\n",
       "      <th>OVERCROWDING</th>\n",
       "      <th>UENGn</th>\n",
       "      <th>BHLTHNn</th>\n",
       "      <th>UBPIAn</th>\n",
       "      <th>UBPIBn</th>\n",
       "      <th>bool0_5</th>\n",
       "      <th>PS</th>\n",
       "    </tr>\n",
       "    <tr>\n",
       "      <th>precarious</th>\n",
       "      <th></th>\n",
       "      <th></th>\n",
       "      <th></th>\n",
       "      <th></th>\n",
       "      <th></th>\n",
       "      <th></th>\n",
       "      <th></th>\n",
       "      <th></th>\n",
       "      <th></th>\n",
       "      <th></th>\n",
       "      <th></th>\n",
       "      <th></th>\n",
       "      <th></th>\n",
       "      <th></th>\n",
       "      <th></th>\n",
       "      <th></th>\n",
       "      <th></th>\n",
       "      <th></th>\n",
       "      <th></th>\n",
       "      <th></th>\n",
       "      <th></th>\n",
       "    </tr>\n",
       "  </thead>\n",
       "  <tbody>\n",
       "    <tr>\n",
       "      <th>0</th>\n",
       "      <td>2.0</td>\n",
       "      <td>0.488408</td>\n",
       "      <td>11.556704</td>\n",
       "      <td>12.794993</td>\n",
       "      <td>0.188934</td>\n",
       "      <td>0.339926</td>\n",
       "      <td>0.365141</td>\n",
       "      <td>3.456740</td>\n",
       "      <td>80.787225</td>\n",
       "      <td>3.681405</td>\n",
       "      <td>...</td>\n",
       "      <td>4.205664</td>\n",
       "      <td>3.384620</td>\n",
       "      <td>1.153740</td>\n",
       "      <td>1.300079</td>\n",
       "      <td>0.727270</td>\n",
       "      <td>0.153457</td>\n",
       "      <td>-0.092679</td>\n",
       "      <td>-0.075122</td>\n",
       "      <td>0.260755</td>\n",
       "      <td>0.141871</td>\n",
       "    </tr>\n",
       "    <tr>\n",
       "      <th>1</th>\n",
       "      <td>2.0</td>\n",
       "      <td>0.501412</td>\n",
       "      <td>11.453420</td>\n",
       "      <td>11.756352</td>\n",
       "      <td>0.313138</td>\n",
       "      <td>0.217155</td>\n",
       "      <td>0.226493</td>\n",
       "      <td>2.244083</td>\n",
       "      <td>73.281868</td>\n",
       "      <td>3.717264</td>\n",
       "      <td>...</td>\n",
       "      <td>4.154615</td>\n",
       "      <td>2.749186</td>\n",
       "      <td>1.796743</td>\n",
       "      <td>1.647622</td>\n",
       "      <td>0.637622</td>\n",
       "      <td>0.275461</td>\n",
       "      <td>-0.116033</td>\n",
       "      <td>-0.129931</td>\n",
       "      <td>0.361346</td>\n",
       "      <td>0.484397</td>\n",
       "    </tr>\n",
       "  </tbody>\n",
       "</table>\n",
       "<p>2 rows × 52 columns</p>\n",
       "</div>"
      ],
      "text/plain": [
       "            PERSTYPE       SEX       UAGE       UENG   UENGNEG   UENGPOS  \\\n",
       "precarious                                                                 \n",
       "0                2.0  0.488408  11.556704  12.794993  0.188934  0.339926   \n",
       "1                2.0  0.501412  11.453420  11.756352  0.313138  0.217155   \n",
       "\n",
       "            NLESSONS   UFAMSTR       UMH2  UMHIGDEG  ...  UHHCOUNT  MNBEDRMS  \\\n",
       "precarious                                           ...                       \n",
       "0           0.365141  3.456740  80.787225  3.681405  ...  4.205664  3.384620   \n",
       "1           0.226493  2.244083  73.281868  3.717264  ...  4.154615  2.749186   \n",
       "\n",
       "            MOWNRENT  OVERCROWDING     UENGn   BHLTHNn    UBPIAn    UBPIBn  \\\n",
       "precarious                                                                   \n",
       "0           1.153740      1.300079  0.727270  0.153457 -0.092679 -0.075122   \n",
       "1           1.796743      1.647622  0.637622  0.275461 -0.116033 -0.129931   \n",
       "\n",
       "             bool0_5        PS  \n",
       "precarious                      \n",
       "0           0.260755  0.141871  \n",
       "1           0.361346  0.484397  \n",
       "\n",
       "[2 rows x 52 columns]"
      ]
     },
     "execution_count": 41,
     "metadata": {},
     "output_type": "execute_result"
    }
   ],
   "source": [
    "means_prec = df_prec.groupby('precarious').mean()\n",
    "print('Diff of mean = ' +str(means_prec['UENGPOS'][0] - means_prec['UENGPOS'][1]))\n",
    "means_prec"
   ]
  },
  {
   "cell_type": "code",
   "execution_count": 42,
   "metadata": {},
   "outputs": [
    {
     "data": {
      "text/plain": [
       "<seaborn.axisgrid.FacetGrid at 0x22fec74f880>"
      ]
     },
     "execution_count": 42,
     "metadata": {},
     "output_type": "execute_result"
    },
    {
     "data": {
      "image/png": "[encoded data removed]",
      "text/plain": [
       "<Figure size 360x360 with 1 Axes>"
      ]
     },
     "metadata": {
      "needs_background": "light"
     },
     "output_type": "display_data"
    }
   ],
   "source": [
    "sns.catplot(data=means_prec.reset_index(),x='precarious',y='UENGPOS',kind='bar')"
   ]
  },
  {
   "cell_type": "code",
   "execution_count": 43,
   "metadata": {},
   "outputs": [
    {
     "name": "stdout",
     "output_type": "stream",
     "text": [
      "Number of treated subjects (precarious) : 4605 \n",
      "Number of control subjects (not precarious) : 16736 \n",
      "Number of matched pairs : 3376.0\n"
     ]
    }
   ],
   "source": [
    "# Perform matching\n",
    "trtm_prec = df_prec[df_prec.precarious == 1].reset_index(drop=True)\n",
    "ctrl_prec = df_prec[df_prec.precarious == 0].reset_index(drop=True)\n",
    "\n",
    "# Perform matching between treated and non-treated papers\n",
    "df_prec = optimatch(ctrl_prec,trtm_prec,0.001)\n",
    "\n",
    "print(f'Number of treated subjects (precarious) : {trtm_prec.shape[0]} \\n\\\n",
    "Number of control subjects (not precarious) : {ctrl_prec.shape[0]} \\n\\\n",
    "Number of matched pairs : {df_prec.shape[0]/2}')"
   ]
  },
  {
   "cell_type": "code",
   "execution_count": 44,
   "metadata": {},
   "outputs": [
    {
     "data": {
      "image/png": "[encoded data removed]",
      "text/plain": [
       "<Figure size 720x360 with 1 Axes>"
      ]
     },
     "metadata": {
      "needs_background": "light"
     },
     "output_type": "display_data"
    }
   ],
   "source": [
    "# Plot PS for matched groups\n",
    "fig = plt.figure(figsize=(10,5))\n",
    "sns.histplot(data=df_prec, x=\"PS\", hue='precarious', kde=True, element='step', stat='density')\n",
    "plt.xlabel('PS', fontsize=12)\n",
    "plt.suptitle('PS distribution comparison for matched samples', fontsize=14, fontweight='bold')\n",
    "plt.legend(['precarious','not precarious'], loc='upper right', fontsize = 12)\n",
    "plt.show()"
   ]
  },
  {
   "cell_type": "code",
   "execution_count": 45,
   "metadata": {},
   "outputs": [
    {
     "data": {
      "image/png": "[encoded data removed]",
      "text/plain": [
       "<Figure size 720x360 with 1 Axes>"
      ]
     },
     "metadata": {
      "needs_background": "light"
     },
     "output_type": "display_data"
    }
   ],
   "source": [
    "# Plot a seemingly unrelated variable (here OVERCROWDING) for matched groups\n",
    "var = 'OVERCROWDING'\n",
    "fig = plt.figure(figsize=(10,5))\n",
    "sns.kdeplot(data=df_prec, x=var, hue='precarious', palette=['g','r'], shade=True)\n",
    "plt.xlim(0, 6)\n",
    "plt.xlabel(var, fontsize=12)\n",
    "plt.suptitle(var+' distribution for matched samples', fontsize=14, fontweight='bold')\n",
    "plt.legend(['precarious','not precarious'], loc='upper right', fontsize = 12)\n",
    "plt.show()"
   ]
  },
  {
   "cell_type": "code",
   "execution_count": 46,
   "metadata": {},
   "outputs": [
    {
     "name": "stdout",
     "output_type": "stream",
     "text": [
      "Diff of mean = 0.05627962085308058\n"
     ]
    }
   ],
   "source": [
    "means_prec = df_prec.groupby('precarious').mean()\n",
    "print('Diff of mean = ' +str(means_prec['UENGPOS'][0] - means_prec['UENGPOS'][1]))"
   ]
  },
  {
   "cell_type": "code",
   "execution_count": 47,
   "metadata": {},
   "outputs": [
    {
     "data": {
      "text/plain": [
       "<seaborn.axisgrid.FacetGrid at 0x22feb6e0700>"
      ]
     },
     "execution_count": 47,
     "metadata": {},
     "output_type": "execute_result"
    },
    {
     "data": {
      "image/png": "[encoded data removed]",
      "text/plain": [
       "<Figure size 360x360 with 1 Axes>"
      ]
     },
     "metadata": {
      "needs_background": "light"
     },
     "output_type": "display_data"
    }
   ],
   "source": [
    "sns.catplot(data=means_prec.reset_index(),x='precarious',y='UENGPOS',kind='bar')"
   ]
  },
  {
   "cell_type": "markdown",
   "metadata": {},
   "source": [
    "## Linear regression models"
   ]
  },
  {
   "cell_type": "code",
   "execution_count": 48,
   "metadata": {},
   "outputs": [],
   "source": [
    "# returns a regression of the 'predictors' on the 'outcome', using only subjects in 'df' that answered\n",
    "# to all the outcome and predictor questions\n",
    "def res_NN(df,outcome,predictors):\n",
    "    \n",
    "    # df without rows containing NaNs for the outcome & predictors\n",
    "    df_reg = df_NN(df,outcome,predictors)\n",
    "    \n",
    "    # model description\n",
    "    model = outcome+' ~ '\n",
    "    for i in range (0,len(predictors)):\n",
    "        model = model+predictors[i]\n",
    "        if i != len(predictors)-1 :    # if not last\n",
    "            model = model+'+'\n",
    "    \n",
    "    # model fit, cluster std based on state        \n",
    "    return smf.ols(formula=model, data=df_reg).fit(cov_type='cluster',cov_kwds={'groups': df_reg['STATE']})"
   ]
  },
  {
   "cell_type": "markdown",
   "metadata": {},
   "source": [
    "## Education"
   ]
  },
  {
   "cell_type": "code",
   "execution_count": 49,
   "metadata": {},
   "outputs": [
    {
     "name": "stdout",
     "output_type": "stream",
     "text": [
      "                            OLS Regression Results                            \n",
      "==============================================================================\n",
      "Dep. Variable:                   UENG   R-squared:                       0.187\n",
      "Model:                            OLS   Adj. R-squared:                  0.186\n",
      "Method:                 Least Squares   F-statistic:                     1385.\n",
      "Date:                Sun, 13 Dec 2020   Prob (F-statistic):           1.19e-58\n",
      "Time:                        09:31:17   Log-Likelihood:                -48861.\n",
      "No. Observations:               21077   AIC:                         9.775e+04\n",
      "Df Residuals:                   21064   BIC:                         9.785e+04\n",
      "Df Model:                          12                                         \n",
      "Covariance Type:              cluster                                         \n",
      "================================================================================\n",
      "                   coef    std err          z      P>|z|      [0.025      0.975]\n",
      "--------------------------------------------------------------------------------\n",
      "Intercept        5.0595      0.276     18.324      0.000       4.518       5.601\n",
      "UFAMSTR          0.1909      0.021      9.261      0.000       0.150       0.231\n",
      "UMH2             0.0140      0.001     12.162      0.000       0.012       0.016\n",
      "UMHIGDEG         0.0123      0.014      0.893      0.372      -0.015       0.039\n",
      "UAGG             0.2827      0.010     29.035      0.000       0.264       0.302\n",
      "U_SOCPOV         0.0313      0.017      1.847      0.065      -0.002       0.065\n",
      "MNBEDRMS         0.0290      0.024      1.191      0.234      -0.019       0.077\n",
      "MOWNRENT        -0.0020      0.033     -0.061      0.951      -0.067       0.063\n",
      "OVERCROWDING    -0.1019      0.035     -2.934      0.003      -0.170      -0.034\n",
      "SEX              1.0411      0.032     32.926      0.000       0.979       1.103\n",
      "UAGE            -0.0902      0.005    -17.188      0.000      -0.100      -0.080\n",
      "UACT             0.3914      0.016     24.475      0.000       0.360       0.423\n",
      "CSPECED          1.0077      0.052     19.203      0.000       0.905       1.111\n",
      "==============================================================================\n",
      "Omnibus:                      630.690   Durbin-Watson:                   2.016\n",
      "Prob(Omnibus):                  0.000   Jarque-Bera (JB):              638.183\n",
      "Skew:                          -0.399   Prob(JB):                    2.63e-139\n",
      "Kurtosis:                       2.698   Cond. No.                     1.09e+03\n",
      "==============================================================================\n",
      "\n",
      "Notes:\n",
      "[1] Standard Errors are robust to cluster correlation (cluster)\n",
      "[2] The condition number is large, 1.09e+03. This might indicate that there are\n",
      "strong multicollinearity or other numerical problems.\n"
     ]
    }
   ],
   "source": [
    "outcome = 'UENG'\n",
    "predictors = family+income+housing_hh+['SEX','UAGE','UACT','CSPECED']\n",
    "res = res_NN(fc23,outcome, predictors)\n",
    "print(res.summary())"
   ]
  },
  {
   "cell_type": "code",
   "execution_count": 50,
   "metadata": {},
   "outputs": [
    {
     "data": {
      "text/plain": [
       "<seaborn.axisgrid.FacetGrid at 0x22feb621fd0>"
      ]
     },
     "execution_count": 50,
     "metadata": {},
     "output_type": "execute_result"
    },
    {
     "data": {
      "image/png": "[encoded data removed]",
      "text/plain": [
       "<Figure size 402.375x360 with 1 Axes>"
      ]
     },
     "metadata": {
      "needs_background": "light"
     },
     "output_type": "display_data"
    }
   ],
   "source": [
    "sns.catplot(y='UENG', x='UFAMSTR', hue='SEX', kind='bar', palette='magma', data=df_NN(fc23,outcome,predictors))"
   ]
  },
  {
   "cell_type": "code",
   "execution_count": 51,
   "metadata": {},
   "outputs": [
    {
     "data": {
      "text/plain": [
       "<seaborn.axisgrid.FacetGrid at 0x22fec7e0700>"
      ]
     },
     "execution_count": 51,
     "metadata": {},
     "output_type": "execute_result"
    },
    {
     "data": {
      "image/png": "[encoded data removed]",
      "text/plain": [
       "<Figure size 360x360 with 1 Axes>"
      ]
     },
     "metadata": {
      "needs_background": "light"
     },
     "output_type": "display_data"
    }
   ],
   "source": [
    "sns.catplot(x='UENG', y='OVERCROWDING',kind='point', palette='magma', data=df_NN(fc23,outcome,predictors))"
   ]
  },
  {
   "cell_type": "code",
   "execution_count": 52,
   "metadata": {},
   "outputs": [
    {
     "data": {
      "text/plain": [
       "<seaborn.axisgrid.FacetGrid at 0x22fea9d7a90>"
      ]
     },
     "execution_count": 52,
     "metadata": {},
     "output_type": "execute_result"
    },
    {
     "data": {
      "image/png": "[encoded data removed]",
      "text/plain": [
       "<Figure size 402.375x360 with 1 Axes>"
      ]
     },
     "metadata": {
      "needs_background": "light"
     },
     "output_type": "display_data"
    }
   ],
   "source": [
    "sns.catplot(y='UENG', x='UACT', hue='SEX', kind='bar', palette='magma', data=df_NN(fc23,outcome,predictors))"
   ]
  },
  {
   "cell_type": "markdown",
   "metadata": {},
   "source": [
    "## Health"
   ]
  },
  {
   "cell_type": "code",
   "execution_count": 53,
   "metadata": {},
   "outputs": [
    {
     "name": "stdout",
     "output_type": "stream",
     "text": [
      "                            OLS Regression Results                            \n",
      "==============================================================================\n",
      "Dep. Variable:                 BHLTHN   R-squared:                       0.124\n",
      "Model:                            OLS   Adj. R-squared:                  0.123\n",
      "Method:                 Least Squares   F-statistic:                     258.4\n",
      "Date:                Sun, 13 Dec 2020   Prob (F-statistic):           4.85e-40\n",
      "Time:                        09:31:20   Log-Likelihood:                -26914.\n",
      "No. Observations:               21461   AIC:                         5.385e+04\n",
      "Df Residuals:                   21449   BIC:                         5.395e+04\n",
      "Df Model:                          11                                         \n",
      "Covariance Type:              cluster                                         \n",
      "================================================================================\n",
      "                   coef    std err          z      P>|z|      [0.025      0.975]\n",
      "--------------------------------------------------------------------------------\n",
      "Intercept        3.2293      0.086     37.575      0.000       3.061       3.398\n",
      "UFAMSTR         -0.0493      0.008     -6.147      0.000      -0.065      -0.034\n",
      "UMH2            -0.0094      0.001    -15.699      0.000      -0.011      -0.008\n",
      "UMHIGDEG         0.0237      0.004      5.285      0.000       0.015       0.033\n",
      "UAGG            -0.0431      0.004     -9.602      0.000      -0.052      -0.034\n",
      "U_SOCPOV        -0.0905      0.008    -11.271      0.000      -0.106      -0.075\n",
      "MNBEDRMS        -0.0149      0.007     -2.232      0.026      -0.028      -0.002\n",
      "MOWNRENT         0.0271      0.022      1.252      0.210      -0.015       0.070\n",
      "OVERCROWDING     0.1054      0.018      5.890      0.000       0.070       0.140\n",
      "SEX              0.0119      0.013      0.925      0.355      -0.013       0.037\n",
      "UAGE             0.0164      0.002     10.102      0.000       0.013       0.020\n",
      "UACT            -0.1073      0.006    -17.502      0.000      -0.119      -0.095\n",
      "==============================================================================\n",
      "Omnibus:                     2508.931   Durbin-Watson:                   1.999\n",
      "Prob(Omnibus):                  0.000   Jarque-Bera (JB):             3485.755\n",
      "Skew:                           0.939   Prob(JB):                         0.00\n",
      "Kurtosis:                       3.610   Cond. No.                     1.02e+03\n",
      "==============================================================================\n",
      "\n",
      "Notes:\n",
      "[1] Standard Errors are robust to cluster correlation (cluster)\n",
      "[2] The condition number is large, 1.02e+03. This might indicate that there are\n",
      "strong multicollinearity or other numerical problems.\n"
     ]
    }
   ],
   "source": [
    "outcome = 'BHLTHN'\n",
    "predictors = family+income+housing_hh+['SEX','UAGE','UACT']\n",
    "res = res_NN(fc23,outcome, predictors)\n",
    "print(res.summary())"
   ]
  },
  {
   "cell_type": "code",
   "execution_count": 54,
   "metadata": {},
   "outputs": [
    {
     "data": {
      "text/plain": [
       "<seaborn.axisgrid.FacetGrid at 0x22f807e5220>"
      ]
     },
     "execution_count": 54,
     "metadata": {},
     "output_type": "execute_result"
    },
    {
     "data": {
      "image/png": "[encoded data removed]",
      "text/plain": [
       "<Figure size 360x360 with 1 Axes>"
      ]
     },
     "metadata": {
      "needs_background": "light"
     },
     "output_type": "display_data"
    }
   ],
   "source": [
    "sns.catplot(y='BHLTHN', x='U_SOCPOV',kind='bar',palette='magma', data=df_NN(fc23,outcome,predictors))"
   ]
  },
  {
   "cell_type": "code",
   "execution_count": 55,
   "metadata": {},
   "outputs": [
    {
     "data": {
      "text/plain": [
       "<seaborn.axisgrid.FacetGrid at 0x22fec885be0>"
      ]
     },
     "execution_count": 55,
     "metadata": {},
     "output_type": "execute_result"
    },
    {
     "data": {
      "image/png": "[encoded data removed]",
      "text/plain": [
       "<Figure size 360x360 with 1 Axes>"
      ]
     },
     "metadata": {
      "needs_background": "light"
     },
     "output_type": "display_data"
    }
   ],
   "source": [
    "sns.catplot(y='BHLTHN', x='UACT',kind='bar', palette='magma', data=df_NN(fc23,outcome,predictors))"
   ]
  },
  {
   "cell_type": "markdown",
   "metadata": {},
   "source": [
    "## Mental health\n",
    "\n",
    "\n",
    "**fc2**\n"
   ]
  },
  {
   "cell_type": "code",
   "execution_count": 56,
   "metadata": {},
   "outputs": [
    {
     "name": "stdout",
     "output_type": "stream",
     "text": [
      "                            OLS Regression Results                            \n",
      "==============================================================================\n",
      "Dep. Variable:                  UBPIA   R-squared:                       0.242\n",
      "Model:                            OLS   Adj. R-squared:                  0.241\n",
      "Method:                 Least Squares   F-statistic:                     598.6\n",
      "Date:                Sun, 13 Dec 2020   Prob (F-statistic):           4.88e-49\n",
      "Time:                        09:31:21   Log-Likelihood:                -21285.\n",
      "No. Observations:               10583   AIC:                         4.259e+04\n",
      "Df Residuals:                   10571   BIC:                         4.268e+04\n",
      "Df Model:                          11                                         \n",
      "Covariance Type:              cluster                                         \n",
      "================================================================================\n",
      "                   coef    std err          z      P>|z|      [0.025      0.975]\n",
      "--------------------------------------------------------------------------------\n",
      "Intercept        7.7844      0.220     35.364      0.000       7.353       8.216\n",
      "UFAMSTR          0.1834      0.022      8.392      0.000       0.141       0.226\n",
      "UMH2             0.0327      0.002     14.204      0.000       0.028       0.037\n",
      "UMHIGDEG        -0.0284      0.011     -2.468      0.014      -0.051      -0.006\n",
      "UAGG             0.3740      0.013     27.926      0.000       0.348       0.400\n",
      "U_SOCPOV        -0.0150      0.019     -0.803      0.422      -0.052       0.022\n",
      "MNBEDRMS         0.0451      0.024      1.861      0.063      -0.002       0.093\n",
      "MOWNRENT        -0.0077      0.046     -0.170      0.865      -0.097       0.082\n",
      "OVERCROWDING     0.0839      0.039      2.156      0.031       0.008       0.160\n",
      "SEX              0.3993      0.035     11.379      0.000       0.331       0.468\n",
      "UAGE            -0.0776      0.014     -5.374      0.000      -0.106      -0.049\n",
      "UACT             0.0873      0.023      3.827      0.000       0.043       0.132\n",
      "==============================================================================\n",
      "Omnibus:                     1481.170   Durbin-Watson:                   2.007\n",
      "Prob(Omnibus):                  0.000   Jarque-Bera (JB):             2591.479\n",
      "Skew:                          -0.923   Prob(JB):                         0.00\n",
      "Kurtosis:                       4.572   Cond. No.                     1.08e+03\n",
      "==============================================================================\n",
      "\n",
      "Notes:\n",
      "[1] Standard Errors are robust to cluster correlation (cluster)\n",
      "[2] The condition number is large, 1.08e+03. This might indicate that there are\n",
      "strong multicollinearity or other numerical problems.\n"
     ]
    }
   ],
   "source": [
    "outcome = 'UBPIA'\n",
    "predictors = family+income+housing_hh+['SEX','UAGE','UACT']\n",
    "res = res_NN(fc2,outcome, predictors)\n",
    "print(res.summary())"
   ]
  },
  {
   "cell_type": "code",
   "execution_count": 57,
   "metadata": {},
   "outputs": [
    {
     "data": {
      "text/plain": [
       "<seaborn.axisgrid.FacetGrid at 0x22fea9d77f0>"
      ]
     },
     "execution_count": 57,
     "metadata": {},
     "output_type": "execute_result"
    },
    {
     "data": {
      "image/png": "[encoded data removed]",
      "text/plain": [
       "<Figure size 360x360 with 1 Axes>"
      ]
     },
     "metadata": {
      "needs_background": "light"
     },
     "output_type": "display_data"
    }
   ],
   "source": [
    "sns.catplot(y='UBPIA', x='UFAMSTR', kind='bar', palette='magma', data=df_NN(fc2,outcome,predictors))"
   ]
  },
  {
   "cell_type": "markdown",
   "metadata": {},
   "source": [
    "**fc3**"
   ]
  },
  {
   "cell_type": "code",
   "execution_count": 58,
   "metadata": {},
   "outputs": [
    {
     "name": "stdout",
     "output_type": "stream",
     "text": [
      "                            OLS Regression Results                            \n",
      "==============================================================================\n",
      "Dep. Variable:                  UBPIB   R-squared:                       0.299\n",
      "Model:                            OLS   Adj. R-squared:                  0.298\n",
      "Method:                 Least Squares   F-statistic:                     668.4\n",
      "Date:                Sun, 13 Dec 2020   Prob (F-statistic):           3.16e-50\n",
      "Time:                        09:31:22   Log-Likelihood:                -21992.\n",
      "No. Observations:               10784   AIC:                         4.401e+04\n",
      "Df Residuals:                   10772   BIC:                         4.410e+04\n",
      "Df Model:                          11                                         \n",
      "Covariance Type:              cluster                                         \n",
      "================================================================================\n",
      "                   coef    std err          z      P>|z|      [0.025      0.975]\n",
      "--------------------------------------------------------------------------------\n",
      "Intercept        5.7996      0.329     17.615      0.000       5.154       6.445\n",
      "UFAMSTR          0.1828      0.018      9.954      0.000       0.147       0.219\n",
      "UMH2             0.0288      0.001     19.220      0.000       0.026       0.032\n",
      "UMHIGDEG         0.0157      0.008      1.946      0.052      -0.000       0.031\n",
      "UAGG             0.4424      0.014     30.764      0.000       0.414       0.471\n",
      "U_SOCPOV        -0.0331      0.022     -1.501      0.133      -0.076       0.010\n",
      "MNBEDRMS         0.0258      0.030      0.864      0.387      -0.033       0.084\n",
      "MOWNRENT        -0.0341      0.055     -0.622      0.534      -0.142       0.073\n",
      "OVERCROWDING     0.0735      0.033      2.259      0.024       0.010       0.137\n",
      "SEX              0.2063      0.049      4.224      0.000       0.111       0.302\n",
      "UAGE             0.0254      0.009      2.741      0.006       0.007       0.043\n",
      "UACT             0.3200      0.025     12.889      0.000       0.271       0.369\n",
      "==============================================================================\n",
      "Omnibus:                     1112.262   Durbin-Watson:                   1.995\n",
      "Prob(Omnibus):                  0.000   Jarque-Bera (JB):             1697.965\n",
      "Skew:                          -0.769   Prob(JB):                         0.00\n",
      "Kurtosis:                       4.188   Cond. No.                     1.20e+03\n",
      "==============================================================================\n",
      "\n",
      "Notes:\n",
      "[1] Standard Errors are robust to cluster correlation (cluster)\n",
      "[2] The condition number is large, 1.2e+03. This might indicate that there are\n",
      "strong multicollinearity or other numerical problems.\n"
     ]
    }
   ],
   "source": [
    "outcome = 'UBPIB'\n",
    "predictors = family+income+housing_hh+['SEX','UAGE','UACT']\n",
    "res = res_NN(fc3,outcome, predictors)\n",
    "print(res.summary())"
   ]
  },
  {
   "cell_type": "code",
   "execution_count": 59,
   "metadata": {},
   "outputs": [
    {
     "name": "stdout",
     "output_type": "stream",
     "text": [
      "-6.4020664799823936e-15 1.859725625210495\n"
     ]
    }
   ],
   "source": [
    "df_noNull = df_NN(fc3,outcome, predictors)\n",
    "xtest = df_noNull[predictors]\n",
    "diff = (res.predict(xtest) - df_noNull['UBPIB'])\n",
    "print(diff.mean(),diff.std())\n",
    "#error is normally distributed -> good, but the low r squared gives a rather high std"
   ]
  },
  {
   "cell_type": "code",
   "execution_count": 60,
   "metadata": {},
   "outputs": [
    {
     "data": {
      "text/plain": [
       "<seaborn.axisgrid.FacetGrid at 0x22f80ffa130>"
      ]
     },
     "execution_count": 60,
     "metadata": {},
     "output_type": "execute_result"
    },
    {
     "data": {
      "image/png": "[encoded data removed]",
      "text/plain": [
       "<Figure size 360x360 with 1 Axes>"
      ]
     },
     "metadata": {
      "needs_background": "light"
     },
     "output_type": "display_data"
    }
   ],
   "source": [
    "sns.catplot(y='UBPIB', x='UFAMSTR', kind='bar', palette='magma', data=df_NN(fc3,outcome,predictors))"
   ]
  },
  {
   "cell_type": "markdown",
   "metadata": {},
   "source": [
    "## Conclusion Q1\n",
    "\n",
    "Looking at the whole model, we can say that mental health is most influenced by housing conditions."
   ]
  },
  {
   "cell_type": "markdown",
   "metadata": {},
   "source": [
    "## Mental health of UMH2"
   ]
  },
  {
   "cell_type": "code",
   "execution_count": 61,
   "metadata": {},
   "outputs": [
    {
     "name": "stdout",
     "output_type": "stream",
     "text": [
      "                            OLS Regression Results                            \n",
      "==============================================================================\n",
      "Dep. Variable:                   UMH2   R-squared:                       0.047\n",
      "Model:                            OLS   Adj. R-squared:                  0.046\n",
      "Method:                 Least Squares   F-statistic:                     44.53\n",
      "Date:                Sun, 13 Dec 2020   Prob (F-statistic):           2.55e-19\n",
      "Time:                        09:31:23   Log-Likelihood:            -1.3349e+05\n",
      "No. Observations:               33553   AIC:                         2.670e+05\n",
      "Df Residuals:                   33545   BIC:                         2.671e+05\n",
      "Df Model:                           7                                         \n",
      "Covariance Type:              cluster                                         \n",
      "================================================================================\n",
      "                   coef    std err          z      P>|z|      [0.025      0.975]\n",
      "--------------------------------------------------------------------------------\n",
      "Intercept       72.4220      0.783     92.483      0.000      70.887      73.957\n",
      "CHLD0_5          0.7360      0.148      4.962      0.000       0.445       1.027\n",
      "CHLD6_17        -0.1957      0.110     -1.787      0.074      -0.410       0.019\n",
      "UHHCOUNT         0.1236      0.170      0.728      0.467      -0.209       0.456\n",
      "U_SOCPOV         1.9198      0.149     12.856      0.000       1.627       2.213\n",
      "MNBEDRMS         0.6972      0.144      4.857      0.000       0.416       0.979\n",
      "MOWNRENT        -1.2037      0.180     -6.702      0.000      -1.556      -0.852\n",
      "OVERCROWDING     0.1463      0.378      0.387      0.699      -0.595       0.888\n",
      "==============================================================================\n",
      "Omnibus:                     2624.839   Durbin-Watson:                   1.659\n",
      "Prob(Omnibus):                  0.000   Jarque-Bera (JB):             3507.956\n",
      "Skew:                          -0.679   Prob(JB):                         0.00\n",
      "Kurtosis:                       3.814   Cond. No.                         61.8\n",
      "==============================================================================\n",
      "\n",
      "Notes:\n",
      "[1] Standard Errors are robust to cluster correlation (cluster)\n"
     ]
    }
   ],
   "source": [
    "outcome = 'UMH2'\n",
    "predictors = family_hh+income+housing_hh\n",
    "res = res_NN(child,outcome, predictors)\n",
    "print(res.summary())"
   ]
  },
  {
   "cell_type": "markdown",
   "metadata": {},
   "source": [
    "## Average treatment effect on schooling, health & happiness\n",
    "\n",
    "Using the matched pairs we can compute the average treatment (young child and precarity) effect on our variables of interest.\n",
    "\n",
    "__ATE of having a young child (or children) in the household__"
   ]
  },
  {
   "cell_type": "code",
   "execution_count": 64,
   "metadata": {},
   "outputs": [],
   "source": [
    "# Computes CI\n",
    "def CI(alpha, data):    \n",
    "    ci = sms.DescrStatsW(data).tconfint_mean(alpha)\n",
    "#    return '['+ '{:.6f}'.format(round(ci[0],6))+' ; '+ '{:.6f}'.format(round(ci[1],6))+']'\n",
    "    return ci"
   ]
  },
  {
   "cell_type": "code",
   "execution_count": 65,
   "metadata": {},
   "outputs": [],
   "source": [
    "# computes and returns the significance (***=1%, **=5%, *=10%)\n",
    "def stars(ci):\n",
    "    if np.sign(ci[2][0]) == np.sign(ci[2][1]):\n",
    "        return '***'\n",
    "    elif np.sign(ci[1][0]) == np.sign(ci[1][1]):\n",
    "        return '**'\n",
    "    elif np.sign(ci[0][0]) == np.sign(ci[0][1]):\n",
    "        return '*'\n",
    "    else:\n",
    "        return 'Not significant'"
   ]
  },
  {
   "cell_type": "code",
   "execution_count": 66,
   "metadata": {},
   "outputs": [],
   "source": [
    "# Computes average treatment effect of 'treatment_var' on the variable of interest 'voi'\n",
    "def ATE (data, treatment_var, voi):\n",
    "    # keep only valid data for voi (no NaNs)\n",
    "    df = df_NN(data,treatment_var,[voi])\n",
    "    # perform matching\n",
    "    treated = df[df[treatment_var] == 1].reset_index(drop=True)\n",
    "    control = df[df[treatment_var] == 0].reset_index(drop=True)\n",
    "    df_match = optimatch(treated,control,0.001)\n",
    "    print(f'Number of matched subjects: {df_match.shape[0]} / {df.shape[0]}')\n",
    "\n",
    "    pairs_difference = df_match.loc[df_match[treatment_var]==1,voi].values - df_match.loc[df_match[treatment_var]==0,voi].values\n",
    "    \n",
    "    ate = sum(pairs_difference)/pairs_difference.size\n",
    "    ci = [ CI(0.1, pairs_difference), CI(0.05, pairs_difference), CI(0.01, pairs_difference)]\n",
    "    star = stars(ci)\n",
    "    \n",
    "    return ate, ci, star"
   ]
  },
  {
   "cell_type": "code",
   "execution_count": 67,
   "metadata": {},
   "outputs": [],
   "source": [
    "# Computes ATE of 'treatment_var' on several variables of interest listed in 'list_voi'\n",
    "# Returns a dataframe with the variables and their ATE\n",
    "def multiple_ATE (data, treatment_var, list_voi):\n",
    "    ates = []\n",
    "    stars = []\n",
    "    ci90 = []\n",
    "    ci95 = []\n",
    "    ci99 = []\n",
    "    \n",
    "    for var in list_voi:\n",
    "        print(var)\n",
    "        ate, ci, star = ATE(data, treatment_var, var)\n",
    "        ates.append(ate)\n",
    "        stars.append(star)\n",
    "        ci90.append(ci[0])\n",
    "        ci95.append(ci[1])\n",
    "        ci99.append(ci[2])\n",
    "        \n",
    "    df_ate = pd.DataFrame({'variable': list_voi, 'ATE': ates, 'ci90': ci90, 'ci95': ci95, 'ci99': ci99,\n",
    "                           'Significance': stars})\n",
    "    \n",
    "    # nice display of confidence intervals\n",
    "    for i in range(3):\n",
    "        col = ['ci90','ci95','ci99']\n",
    "        col_fmd = ['90% CI','95% CI','99% CI']\n",
    "        df_ate.loc[:,col_fmd[i]] = df_ate[col[i]].apply(lambda x : '['+ '{:.6f}'.format(x[0],6)+' ; '+ '{:.6f}'.format(x[1],6)+']')\n",
    "    \n",
    "    # ATE significance at the 95% level (positive or negative)\n",
    "    df_ate.loc[:,'sig95'] = df_ate['Significance'].apply(lambda x : 2 if (x=='**' or x=='***') else 0) + df_ate['ATE'].apply(lambda x : 1 if x > 0 else 0)\n",
    "    df_ate['sig95'].replace({3 : 'Significant positive effect', 2 : 'Significant negative effect',\n",
    "                             1 : 'Effect is not significant', 0 : 'Effect is not significant'}, inplace=True)\n",
    "    \n",
    "    return df_ate"
   ]
  },
  {
   "cell_type": "code",
   "execution_count": 68,
   "metadata": {},
   "outputs": [],
   "source": [
    "# Returns dataframe with variables of interest in this study with their confidence intervals and significance\n",
    "def ATE_sch_hlth_happ (data, treatment_var,fc2=False,fc3=False):\n",
    "    ate = multiple_ATE(data, treatment_var, ['UENGn','UENGNEG','UENGPOS','BHLTHNn'])\n",
    "    if (fc2==True):\n",
    "        ate_ubpia = multiple_ATE(data.loc[(data['PERSTYPE']==2) & (data['UAGE'] < 12)], treatment_var,['UBPIAn','UBPIANEG','UBPIAPOS'])\n",
    "        return ate.append(ate_ubpia, ignore_index=True)\n",
    "    if (fc3==True):\n",
    "        ate_ubpib = multiple_ATE(data.loc[(data['PERSTYPE']==2) & (data['UAGE'] >= 12)], treatment_var,['UBPIBn','UBPIBNEG','UBPIBPOS'])\n",
    "        return ate.append(ate_ubpib, ignore_index=True)\n",
    "    if ((fc2==False)and(fc3==False)):\n",
    "        ate_ubpia = multiple_ATE(data.loc[(data['PERSTYPE']==2) & (data['UAGE'] < 12)], treatment_var,['UBPIAn','UBPIANEG','UBPIAPOS'])\n",
    "        ate_ubpib = multiple_ATE(data.loc[(data['PERSTYPE']==2) & (data['UAGE'] >= 12)], treatment_var,['UBPIBn','UBPIBNEG','UBPIBPOS'])\n",
    "        return ate.append(ate_ubpia.append(ate_ubpib,ignore_index=True), ignore_index=True)"
   ]
  },
  {
   "cell_type": "code",
   "execution_count": 69,
   "metadata": {},
   "outputs": [],
   "source": [
    "# Plots ATEs of 'df' with 'treatment' (must be in ['child05','lessons','precarious'])\n",
    "def plot_ATE (df, treatment):\n",
    "    treatment_list = {'child05' : 'having at least one child aged 0-5 in the house',\n",
    "                      'lessons' : 'taking lessons outside of school',\n",
    "                      'precarious' : 'precarious living conditions'}\n",
    "    tr = treatment_list[treatment]\n",
    "    \n",
    "    plt.figure(figsize=(10,5))\n",
    "    groups = df.sort_values('ATE').groupby('sig95', sort=False)\n",
    "    for sig, group in groups:\n",
    "        error = group['ci95'].apply(pd.Series).to_numpy()\n",
    "        length_error = abs(error[:,0] - group.ATE.values)\n",
    "        plt.errorbar(group.ATE, group.variable, marker='o', ls='', xerr=length_error, capsize=3, elinewidth=1,\n",
    "                     label=sig)\n",
    "    plt.axvline(0,color='k',linestyle='--')\n",
    "    plt.xlabel('ATE (with 95% CI)', fontsize=12)\n",
    "    plt.ylabel('Variables', fontsize=12)\n",
    "    plt.title('Average treatment effect of ' + tr + ' on several variables',\n",
    "              fontweight='bold', fontsize=14)\n",
    "    plt.legend()\n",
    "    plt.show()"
   ]
  },
  {
   "cell_type": "code",
   "execution_count": 70,
   "metadata": {},
   "outputs": [
    {
     "name": "stdout",
     "output_type": "stream",
     "text": [
      "UENGn\n",
      "Number of matched subjects: 10264 / 21200\n",
      "UENGNEG\n",
      "Number of matched subjects: 10256 / 21200\n",
      "UENGPOS\n",
      "Number of matched subjects: 10256 / 21200\n",
      "BHLTHNn\n",
      "Number of matched subjects: 10386 / 21474\n",
      "UBPIAn\n",
      "Number of matched subjects: 6492 / 10587\n",
      "UBPIANEG\n",
      "Number of matched subjects: 6506 / 10587\n",
      "UBPIAPOS\n",
      "Number of matched subjects: 6492 / 10587\n",
      "UBPIBn\n",
      "Number of matched subjects: 2716 / 10785\n",
      "UBPIBNEG\n",
      "Number of matched subjects: 2706 / 10785\n",
      "UBPIBPOS\n",
      "Number of matched subjects: 2702 / 10785\n"
     ]
    },
    {
     "data": {
      "text/html": [
       "<div>\n",
       "<style scoped>\n",
       "    .dataframe tbody tr th:only-of-type {\n",
       "        vertical-align: middle;\n",
       "    }\n",
       "\n",
       "    .dataframe tbody tr th {\n",
       "        vertical-align: top;\n",
       "    }\n",
       "\n",
       "    .dataframe thead th {\n",
       "        text-align: right;\n",
       "    }\n",
       "</style>\n",
       "<table border=\"1\" class=\"dataframe\">\n",
       "  <thead>\n",
       "    <tr style=\"text-align: right;\">\n",
       "      <th></th>\n",
       "      <th>variable</th>\n",
       "      <th>ATE</th>\n",
       "      <th>90% CI</th>\n",
       "      <th>95% CI</th>\n",
       "      <th>99% CI</th>\n",
       "      <th>Significance</th>\n",
       "    </tr>\n",
       "  </thead>\n",
       "  <tbody>\n",
       "    <tr>\n",
       "      <th>0</th>\n",
       "      <td>UENGn</td>\n",
       "      <td>0.007583</td>\n",
       "      <td>[0.000322 ; 0.014844]</td>\n",
       "      <td>[-0.001069 ; 0.016235]</td>\n",
       "      <td>[-0.003789 ; 0.018956]</td>\n",
       "      <td>*</td>\n",
       "    </tr>\n",
       "    <tr>\n",
       "      <th>1</th>\n",
       "      <td>UENGNEG</td>\n",
       "      <td>-0.021841</td>\n",
       "      <td>[-0.035368 ; -0.008314]</td>\n",
       "      <td>[-0.037961 ; -0.005721]</td>\n",
       "      <td>[-0.043029 ; -0.000653]</td>\n",
       "      <td>***</td>\n",
       "    </tr>\n",
       "    <tr>\n",
       "      <th>2</th>\n",
       "      <td>UENGPOS</td>\n",
       "      <td>0.003510</td>\n",
       "      <td>[-0.011797 ; 0.018817]</td>\n",
       "      <td>[-0.014730 ; 0.021750]</td>\n",
       "      <td>[-0.020465 ; 0.027485]</td>\n",
       "      <td>Not significant</td>\n",
       "    </tr>\n",
       "    <tr>\n",
       "      <th>3</th>\n",
       "      <td>BHLTHNn</td>\n",
       "      <td>-0.011891</td>\n",
       "      <td>[-0.019157 ; -0.004625]</td>\n",
       "      <td>[-0.020550 ; -0.003232]</td>\n",
       "      <td>[-0.023272 ; -0.000510]</td>\n",
       "      <td>***</td>\n",
       "    </tr>\n",
       "    <tr>\n",
       "      <th>4</th>\n",
       "      <td>UBPIAn</td>\n",
       "      <td>-0.011065</td>\n",
       "      <td>[-0.018066 ; -0.004064]</td>\n",
       "      <td>[-0.019408 ; -0.002722]</td>\n",
       "      <td>[-0.022032 ; -0.000098]</td>\n",
       "      <td>***</td>\n",
       "    </tr>\n",
       "    <tr>\n",
       "      <th>5</th>\n",
       "      <td>UBPIANEG</td>\n",
       "      <td>0.019674</td>\n",
       "      <td>[0.009548 ; 0.029801]</td>\n",
       "      <td>[0.007606 ; 0.031742]</td>\n",
       "      <td>[0.003811 ; 0.035537]</td>\n",
       "      <td>***</td>\n",
       "    </tr>\n",
       "    <tr>\n",
       "      <th>6</th>\n",
       "      <td>UBPIAPOS</td>\n",
       "      <td>-0.029883</td>\n",
       "      <td>[-0.048538 ; -0.011228]</td>\n",
       "      <td>[-0.052114 ; -0.007652]</td>\n",
       "      <td>[-0.059105 ; -0.000660]</td>\n",
       "      <td>***</td>\n",
       "    </tr>\n",
       "    <tr>\n",
       "      <th>7</th>\n",
       "      <td>UBPIBn</td>\n",
       "      <td>-0.031971</td>\n",
       "      <td>[-0.043966 ; -0.019976]</td>\n",
       "      <td>[-0.046267 ; -0.017675]</td>\n",
       "      <td>[-0.050769 ; -0.013173]</td>\n",
       "      <td>***</td>\n",
       "    </tr>\n",
       "    <tr>\n",
       "      <th>8</th>\n",
       "      <td>UBPIBNEG</td>\n",
       "      <td>0.032520</td>\n",
       "      <td>[0.013802 ; 0.051239]</td>\n",
       "      <td>[0.010211 ; 0.054829]</td>\n",
       "      <td>[0.003186 ; 0.061854]</td>\n",
       "      <td>***</td>\n",
       "    </tr>\n",
       "    <tr>\n",
       "      <th>9</th>\n",
       "      <td>UBPIBPOS</td>\n",
       "      <td>-0.045892</td>\n",
       "      <td>[-0.073716 ; -0.018068]</td>\n",
       "      <td>[-0.079053 ; -0.012731]</td>\n",
       "      <td>[-0.089495 ; -0.002289]</td>\n",
       "      <td>***</td>\n",
       "    </tr>\n",
       "  </tbody>\n",
       "</table>\n",
       "</div>"
      ],
      "text/plain": [
       "   variable       ATE                   90% CI                   95% CI  \\\n",
       "0     UENGn  0.007583    [0.000322 ; 0.014844]   [-0.001069 ; 0.016235]   \n",
       "1   UENGNEG -0.021841  [-0.035368 ; -0.008314]  [-0.037961 ; -0.005721]   \n",
       "2   UENGPOS  0.003510   [-0.011797 ; 0.018817]   [-0.014730 ; 0.021750]   \n",
       "3   BHLTHNn -0.011891  [-0.019157 ; -0.004625]  [-0.020550 ; -0.003232]   \n",
       "4    UBPIAn -0.011065  [-0.018066 ; -0.004064]  [-0.019408 ; -0.002722]   \n",
       "5  UBPIANEG  0.019674    [0.009548 ; 0.029801]    [0.007606 ; 0.031742]   \n",
       "6  UBPIAPOS -0.029883  [-0.048538 ; -0.011228]  [-0.052114 ; -0.007652]   \n",
       "7    UBPIBn -0.031971  [-0.043966 ; -0.019976]  [-0.046267 ; -0.017675]   \n",
       "8  UBPIBNEG  0.032520    [0.013802 ; 0.051239]    [0.010211 ; 0.054829]   \n",
       "9  UBPIBPOS -0.045892  [-0.073716 ; -0.018068]  [-0.079053 ; -0.012731]   \n",
       "\n",
       "                    99% CI     Significance  \n",
       "0   [-0.003789 ; 0.018956]                *  \n",
       "1  [-0.043029 ; -0.000653]              ***  \n",
       "2   [-0.020465 ; 0.027485]  Not significant  \n",
       "3  [-0.023272 ; -0.000510]              ***  \n",
       "4  [-0.022032 ; -0.000098]              ***  \n",
       "5    [0.003811 ; 0.035537]              ***  \n",
       "6  [-0.059105 ; -0.000660]              ***  \n",
       "7  [-0.050769 ; -0.013173]              ***  \n",
       "8    [0.003186 ; 0.061854]              ***  \n",
       "9  [-0.089495 ; -0.002289]              ***  "
      ]
     },
     "execution_count": 70,
     "metadata": {},
     "output_type": "execute_result"
    }
   ],
   "source": [
    "ate_05 = ATE_sch_hlth_happ(df_05, 'bool0_5')\n",
    "ate_05[['variable','ATE','90% CI','95% CI','99% CI','Significance']]"
   ]
  },
  {
   "cell_type": "code",
   "execution_count": 71,
   "metadata": {},
   "outputs": [
    {
     "data": {
      "image/png": "[encoded data removed]",
      "text/plain": [
       "<Figure size 720x360 with 1 Axes>"
      ]
     },
     "metadata": {
      "needs_background": "light"
     },
     "output_type": "display_data"
    }
   ],
   "source": [
    "# Set the default color cycle\n",
    "mpl.rcParams['axes.prop_cycle'] = mpl.cycler(color=['red', 'orange', 'green']) \n",
    "\n",
    "plot_ATE(ate_05,'child05')"
   ]
  },
  {
   "cell_type": "markdown",
   "metadata": {},
   "source": [
    "__ATE of taking lessons outside of school__"
   ]
  },
  {
   "cell_type": "code",
   "execution_count": 72,
   "metadata": {},
   "outputs": [
    {
     "name": "stdout",
     "output_type": "stream",
     "text": [
      "UENGn\n",
      "Number of matched subjects: 13680 / 21056\n",
      "UENGNEG\n",
      "Number of matched subjects: 13652 / 21056\n",
      "UENGPOS\n",
      "Number of matched subjects: 13644 / 21056\n",
      "BHLTHNn\n",
      "Number of matched subjects: 13816 / 21287\n",
      "UBPIAn\n",
      "Number of matched subjects: 6498 / 10492\n",
      "UBPIANEG\n",
      "Number of matched subjects: 6488 / 10492\n",
      "UBPIAPOS\n",
      "Number of matched subjects: 6492 / 10492\n",
      "UBPIBn\n",
      "Number of matched subjects: 6508 / 10705\n",
      "UBPIBNEG\n",
      "Number of matched subjects: 6500 / 10705\n",
      "UBPIBPOS\n",
      "Number of matched subjects: 6502 / 10705\n"
     ]
    },
    {
     "data": {
      "text/html": [
       "<div>\n",
       "<style scoped>\n",
       "    .dataframe tbody tr th:only-of-type {\n",
       "        vertical-align: middle;\n",
       "    }\n",
       "\n",
       "    .dataframe tbody tr th {\n",
       "        vertical-align: top;\n",
       "    }\n",
       "\n",
       "    .dataframe thead th {\n",
       "        text-align: right;\n",
       "    }\n",
       "</style>\n",
       "<table border=\"1\" class=\"dataframe\">\n",
       "  <thead>\n",
       "    <tr style=\"text-align: right;\">\n",
       "      <th></th>\n",
       "      <th>variable</th>\n",
       "      <th>ATE</th>\n",
       "      <th>90% CI</th>\n",
       "      <th>95% CI</th>\n",
       "      <th>99% CI</th>\n",
       "      <th>Significance</th>\n",
       "    </tr>\n",
       "  </thead>\n",
       "  <tbody>\n",
       "    <tr>\n",
       "      <th>0</th>\n",
       "      <td>UENGn</td>\n",
       "      <td>0.029520</td>\n",
       "      <td>[0.023743 ; 0.035297]</td>\n",
       "      <td>[0.022636 ; 0.036404]</td>\n",
       "      <td>[0.020472 ; 0.038568]</td>\n",
       "      <td>***</td>\n",
       "    </tr>\n",
       "    <tr>\n",
       "      <th>1</th>\n",
       "      <td>UENGNEG</td>\n",
       "      <td>-0.058013</td>\n",
       "      <td>[-0.068681 ; -0.047346]</td>\n",
       "      <td>[-0.070725 ; -0.045302]</td>\n",
       "      <td>[-0.074721 ; -0.041305]</td>\n",
       "      <td>***</td>\n",
       "    </tr>\n",
       "    <tr>\n",
       "      <th>2</th>\n",
       "      <td>UENGPOS</td>\n",
       "      <td>0.033128</td>\n",
       "      <td>[0.019791 ; 0.046465]</td>\n",
       "      <td>[0.017235 ; 0.049021]</td>\n",
       "      <td>[0.012239 ; 0.054017]</td>\n",
       "      <td>***</td>\n",
       "    </tr>\n",
       "    <tr>\n",
       "      <th>3</th>\n",
       "      <td>BHLTHNn</td>\n",
       "      <td>-0.020664</td>\n",
       "      <td>[-0.026461 ; -0.014867]</td>\n",
       "      <td>[-0.027572 ; -0.013757]</td>\n",
       "      <td>[-0.029744 ; -0.011585]</td>\n",
       "      <td>***</td>\n",
       "    </tr>\n",
       "    <tr>\n",
       "      <th>4</th>\n",
       "      <td>UBPIAn</td>\n",
       "      <td>-0.005232</td>\n",
       "      <td>[-0.011726 ; 0.001261]</td>\n",
       "      <td>[-0.012970 ; 0.002505]</td>\n",
       "      <td>[-0.015404 ; 0.004939]</td>\n",
       "      <td>Not significant</td>\n",
       "    </tr>\n",
       "    <tr>\n",
       "      <th>5</th>\n",
       "      <td>UBPIANEG</td>\n",
       "      <td>-0.006473</td>\n",
       "      <td>[-0.015728 ; 0.002781]</td>\n",
       "      <td>[-0.017502 ; 0.004555]</td>\n",
       "      <td>[-0.020971 ; 0.008024]</td>\n",
       "      <td>Not significant</td>\n",
       "    </tr>\n",
       "    <tr>\n",
       "      <th>6</th>\n",
       "      <td>UBPIAPOS</td>\n",
       "      <td>-0.038817</td>\n",
       "      <td>[-0.057271 ; -0.020363]</td>\n",
       "      <td>[-0.060808 ; -0.016826]</td>\n",
       "      <td>[-0.067725 ; -0.009909]</td>\n",
       "      <td>***</td>\n",
       "    </tr>\n",
       "    <tr>\n",
       "      <th>7</th>\n",
       "      <td>UBPIBn</td>\n",
       "      <td>0.024406</td>\n",
       "      <td>[0.017634 ; 0.031178]</td>\n",
       "      <td>[0.016336 ; 0.032476]</td>\n",
       "      <td>[0.013797 ; 0.035014]</td>\n",
       "      <td>***</td>\n",
       "    </tr>\n",
       "    <tr>\n",
       "      <th>8</th>\n",
       "      <td>UBPIBNEG</td>\n",
       "      <td>-0.028000</td>\n",
       "      <td>[-0.038358 ; -0.017642]</td>\n",
       "      <td>[-0.040343 ; -0.015657]</td>\n",
       "      <td>[-0.044225 ; -0.011775]</td>\n",
       "      <td>***</td>\n",
       "    </tr>\n",
       "    <tr>\n",
       "      <th>9</th>\n",
       "      <td>UBPIBPOS</td>\n",
       "      <td>0.029529</td>\n",
       "      <td>[0.011145 ; 0.047914]</td>\n",
       "      <td>[0.007621 ; 0.051438]</td>\n",
       "      <td>[0.000731 ; 0.058328]</td>\n",
       "      <td>***</td>\n",
       "    </tr>\n",
       "  </tbody>\n",
       "</table>\n",
       "</div>"
      ],
      "text/plain": [
       "   variable       ATE                   90% CI                   95% CI  \\\n",
       "0     UENGn  0.029520    [0.023743 ; 0.035297]    [0.022636 ; 0.036404]   \n",
       "1   UENGNEG -0.058013  [-0.068681 ; -0.047346]  [-0.070725 ; -0.045302]   \n",
       "2   UENGPOS  0.033128    [0.019791 ; 0.046465]    [0.017235 ; 0.049021]   \n",
       "3   BHLTHNn -0.020664  [-0.026461 ; -0.014867]  [-0.027572 ; -0.013757]   \n",
       "4    UBPIAn -0.005232   [-0.011726 ; 0.001261]   [-0.012970 ; 0.002505]   \n",
       "5  UBPIANEG -0.006473   [-0.015728 ; 0.002781]   [-0.017502 ; 0.004555]   \n",
       "6  UBPIAPOS -0.038817  [-0.057271 ; -0.020363]  [-0.060808 ; -0.016826]   \n",
       "7    UBPIBn  0.024406    [0.017634 ; 0.031178]    [0.016336 ; 0.032476]   \n",
       "8  UBPIBNEG -0.028000  [-0.038358 ; -0.017642]  [-0.040343 ; -0.015657]   \n",
       "9  UBPIBPOS  0.029529    [0.011145 ; 0.047914]    [0.007621 ; 0.051438]   \n",
       "\n",
       "                    99% CI     Significance  \n",
       "0    [0.020472 ; 0.038568]              ***  \n",
       "1  [-0.074721 ; -0.041305]              ***  \n",
       "2    [0.012239 ; 0.054017]              ***  \n",
       "3  [-0.029744 ; -0.011585]              ***  \n",
       "4   [-0.015404 ; 0.004939]  Not significant  \n",
       "5   [-0.020971 ; 0.008024]  Not significant  \n",
       "6  [-0.067725 ; -0.009909]              ***  \n",
       "7    [0.013797 ; 0.035014]              ***  \n",
       "8  [-0.044225 ; -0.011775]              ***  \n",
       "9    [0.000731 ; 0.058328]              ***  "
      ]
     },
     "execution_count": 72,
     "metadata": {},
     "output_type": "execute_result"
    }
   ],
   "source": [
    "ate_lessons = ATE_sch_hlth_happ(df_lessons, 'NLESSONS')\n",
    "ate_lessons[['variable','ATE','90% CI','95% CI','99% CI','Significance']]"
   ]
  },
  {
   "cell_type": "code",
   "execution_count": 73,
   "metadata": {},
   "outputs": [
    {
     "data": {
      "image/png": "[encoded data removed]",
      "text/plain": [
       "<Figure size 720x360 with 1 Axes>"
      ]
     },
     "metadata": {
      "needs_background": "light"
     },
     "output_type": "display_data"
    }
   ],
   "source": [
    "plot_ATE(ate_lessons,'lessons')"
   ]
  },
  {
   "cell_type": "markdown",
   "metadata": {},
   "source": [
    "__ATE of precarious household__"
   ]
  },
  {
   "cell_type": "code",
   "execution_count": 74,
   "metadata": {},
   "outputs": [
    {
     "name": "stdout",
     "output_type": "stream",
     "text": [
      "UENGn\n",
      "Number of matched subjects: 6440 / 6662\n",
      "UENGNEG\n",
      "Number of matched subjects: 6478 / 6662\n",
      "UENGPOS\n",
      "Number of matched subjects: 6456 / 6662\n",
      "BHLTHNn\n",
      "Number of matched subjects: 6590 / 6752\n",
      "UBPIAn\n",
      "Number of matched subjects: 2874 / 3497\n",
      "UBPIANEG\n",
      "Number of matched subjects: 2874 / 3497\n",
      "UBPIAPOS\n",
      "Number of matched subjects: 2848 / 3497\n",
      "UBPIBn\n",
      "Number of matched subjects: 2648 / 3224\n",
      "UBPIBNEG\n",
      "Number of matched subjects: 2646 / 3224\n",
      "UBPIBPOS\n",
      "Number of matched subjects: 2634 / 3224\n"
     ]
    },
    {
     "data": {
      "text/html": [
       "<div>\n",
       "<style scoped>\n",
       "    .dataframe tbody tr th:only-of-type {\n",
       "        vertical-align: middle;\n",
       "    }\n",
       "\n",
       "    .dataframe tbody tr th {\n",
       "        vertical-align: top;\n",
       "    }\n",
       "\n",
       "    .dataframe thead th {\n",
       "        text-align: right;\n",
       "    }\n",
       "</style>\n",
       "<table border=\"1\" class=\"dataframe\">\n",
       "  <thead>\n",
       "    <tr style=\"text-align: right;\">\n",
       "      <th></th>\n",
       "      <th>variable</th>\n",
       "      <th>ATE</th>\n",
       "      <th>90% CI</th>\n",
       "      <th>95% CI</th>\n",
       "      <th>99% CI</th>\n",
       "      <th>Significance</th>\n",
       "    </tr>\n",
       "  </thead>\n",
       "  <tbody>\n",
       "    <tr>\n",
       "      <th>0</th>\n",
       "      <td>UENGn</td>\n",
       "      <td>-0.045730</td>\n",
       "      <td>[-0.055467 ; -0.035993]</td>\n",
       "      <td>[-0.057333 ; -0.034126]</td>\n",
       "      <td>[-0.060983 ; -0.030477]</td>\n",
       "      <td>***</td>\n",
       "    </tr>\n",
       "    <tr>\n",
       "      <th>1</th>\n",
       "      <td>UENGNEG</td>\n",
       "      <td>0.079037</td>\n",
       "      <td>[0.060763 ; 0.097311]</td>\n",
       "      <td>[0.057260 ; 0.100814]</td>\n",
       "      <td>[0.050411 ; 0.107663]</td>\n",
       "      <td>***</td>\n",
       "    </tr>\n",
       "    <tr>\n",
       "      <th>2</th>\n",
       "      <td>UENGPOS</td>\n",
       "      <td>-0.056382</td>\n",
       "      <td>[-0.075013 ; -0.037750]</td>\n",
       "      <td>[-0.078584 ; -0.034179]</td>\n",
       "      <td>[-0.085567 ; -0.027196]</td>\n",
       "      <td>***</td>\n",
       "    </tr>\n",
       "    <tr>\n",
       "      <th>3</th>\n",
       "      <td>BHLTHNn</td>\n",
       "      <td>0.060850</td>\n",
       "      <td>[0.050751 ; 0.070949]</td>\n",
       "      <td>[0.048815 ; 0.072885]</td>\n",
       "      <td>[0.045030 ; 0.076670]</td>\n",
       "      <td>***</td>\n",
       "    </tr>\n",
       "    <tr>\n",
       "      <th>4</th>\n",
       "      <td>UBPIAn</td>\n",
       "      <td>-0.052540</td>\n",
       "      <td>[-0.064260 ; -0.040820]</td>\n",
       "      <td>[-0.066508 ; -0.038572]</td>\n",
       "      <td>[-0.070906 ; -0.034174]</td>\n",
       "      <td>***</td>\n",
       "    </tr>\n",
       "    <tr>\n",
       "      <th>5</th>\n",
       "      <td>UBPIANEG</td>\n",
       "      <td>0.060543</td>\n",
       "      <td>[0.041795 ; 0.079291]</td>\n",
       "      <td>[0.038199 ; 0.082887]</td>\n",
       "      <td>[0.031164 ; 0.089922]</td>\n",
       "      <td>***</td>\n",
       "    </tr>\n",
       "    <tr>\n",
       "      <th>6</th>\n",
       "      <td>UBPIAPOS</td>\n",
       "      <td>-0.105337</td>\n",
       "      <td>[-0.131607 ; -0.079067]</td>\n",
       "      <td>[-0.136646 ; -0.074028]</td>\n",
       "      <td>[-0.146504 ; -0.064170]</td>\n",
       "      <td>***</td>\n",
       "    </tr>\n",
       "    <tr>\n",
       "      <th>7</th>\n",
       "      <td>UBPIBn</td>\n",
       "      <td>-0.056898</td>\n",
       "      <td>[-0.069790 ; -0.044007]</td>\n",
       "      <td>[-0.072263 ; -0.041534]</td>\n",
       "      <td>[-0.077102 ; -0.036695]</td>\n",
       "      <td>***</td>\n",
       "    </tr>\n",
       "    <tr>\n",
       "      <th>8</th>\n",
       "      <td>UBPIBNEG</td>\n",
       "      <td>0.058957</td>\n",
       "      <td>[0.036713 ; 0.081200]</td>\n",
       "      <td>[0.032446 ; 0.085467]</td>\n",
       "      <td>[0.024098 ; 0.093816]</td>\n",
       "      <td>***</td>\n",
       "    </tr>\n",
       "    <tr>\n",
       "      <th>9</th>\n",
       "      <td>UBPIBPOS</td>\n",
       "      <td>-0.088838</td>\n",
       "      <td>[-0.115613 ; -0.062063]</td>\n",
       "      <td>[-0.120750 ; -0.056927]</td>\n",
       "      <td>[-0.130799 ; -0.046877]</td>\n",
       "      <td>***</td>\n",
       "    </tr>\n",
       "  </tbody>\n",
       "</table>\n",
       "</div>"
      ],
      "text/plain": [
       "   variable       ATE                   90% CI                   95% CI  \\\n",
       "0     UENGn -0.045730  [-0.055467 ; -0.035993]  [-0.057333 ; -0.034126]   \n",
       "1   UENGNEG  0.079037    [0.060763 ; 0.097311]    [0.057260 ; 0.100814]   \n",
       "2   UENGPOS -0.056382  [-0.075013 ; -0.037750]  [-0.078584 ; -0.034179]   \n",
       "3   BHLTHNn  0.060850    [0.050751 ; 0.070949]    [0.048815 ; 0.072885]   \n",
       "4    UBPIAn -0.052540  [-0.064260 ; -0.040820]  [-0.066508 ; -0.038572]   \n",
       "5  UBPIANEG  0.060543    [0.041795 ; 0.079291]    [0.038199 ; 0.082887]   \n",
       "6  UBPIAPOS -0.105337  [-0.131607 ; -0.079067]  [-0.136646 ; -0.074028]   \n",
       "7    UBPIBn -0.056898  [-0.069790 ; -0.044007]  [-0.072263 ; -0.041534]   \n",
       "8  UBPIBNEG  0.058957    [0.036713 ; 0.081200]    [0.032446 ; 0.085467]   \n",
       "9  UBPIBPOS -0.088838  [-0.115613 ; -0.062063]  [-0.120750 ; -0.056927]   \n",
       "\n",
       "                    99% CI Significance  \n",
       "0  [-0.060983 ; -0.030477]          ***  \n",
       "1    [0.050411 ; 0.107663]          ***  \n",
       "2  [-0.085567 ; -0.027196]          ***  \n",
       "3    [0.045030 ; 0.076670]          ***  \n",
       "4  [-0.070906 ; -0.034174]          ***  \n",
       "5    [0.031164 ; 0.089922]          ***  \n",
       "6  [-0.146504 ; -0.064170]          ***  \n",
       "7  [-0.077102 ; -0.036695]          ***  \n",
       "8    [0.024098 ; 0.093816]          ***  \n",
       "9  [-0.130799 ; -0.046877]          ***  "
      ]
     },
     "execution_count": 74,
     "metadata": {},
     "output_type": "execute_result"
    }
   ],
   "source": [
    "ate_precarious = ATE_sch_hlth_happ(df_prec, 'precarious')\n",
    "ate_precarious[['variable','ATE','90% CI','95% CI','99% CI','Significance']]"
   ]
  },
  {
   "cell_type": "code",
   "execution_count": 75,
   "metadata": {},
   "outputs": [
    {
     "data": {
      "image/png": "[encoded data removed]",
      "text/plain": [
       "<Figure size 720x360 with 1 Axes>"
      ]
     },
     "metadata": {
      "needs_background": "light"
     },
     "output_type": "display_data"
    }
   ],
   "source": [
    "# Set the default color cycle\n",
    "mpl.rcParams['axes.prop_cycle'] = mpl.cycler(color=['red', 'green']) \n",
    "\n",
    "plot_ATE(ate_precarious,'precarious')"
   ]
  },
  {
   "cell_type": "markdown",
   "metadata": {},
   "source": [
    "### 3) fc2 or fc3"
   ]
  },
  {
   "cell_type": "code",
   "execution_count": 76,
   "metadata": {},
   "outputs": [
    {
     "name": "stdout",
     "output_type": "stream",
     "text": [
      "UENGn\n",
      "Number of matched subjects: 2858 / 3481\n",
      "UENGNEG\n",
      "Number of matched subjects: 2846 / 3481\n",
      "UENGPOS\n",
      "Number of matched subjects: 2866 / 3481\n",
      "BHLTHNn\n",
      "Number of matched subjects: 2884 / 3513\n",
      "UBPIAn\n",
      "Number of matched subjects: 2872 / 3497\n",
      "UBPIANEG\n",
      "Number of matched subjects: 2866 / 3497\n",
      "UBPIAPOS\n",
      "Number of matched subjects: 2872 / 3497\n"
     ]
    },
    {
     "data": {
      "text/html": [
       "<div>\n",
       "<style scoped>\n",
       "    .dataframe tbody tr th:only-of-type {\n",
       "        vertical-align: middle;\n",
       "    }\n",
       "\n",
       "    .dataframe tbody tr th {\n",
       "        vertical-align: top;\n",
       "    }\n",
       "\n",
       "    .dataframe thead th {\n",
       "        text-align: right;\n",
       "    }\n",
       "</style>\n",
       "<table border=\"1\" class=\"dataframe\">\n",
       "  <thead>\n",
       "    <tr style=\"text-align: right;\">\n",
       "      <th></th>\n",
       "      <th>variable</th>\n",
       "      <th>ATE</th>\n",
       "      <th>90% CI</th>\n",
       "      <th>95% CI</th>\n",
       "      <th>99% CI</th>\n",
       "      <th>Significance</th>\n",
       "    </tr>\n",
       "  </thead>\n",
       "  <tbody>\n",
       "    <tr>\n",
       "      <th>0</th>\n",
       "      <td>UENGn</td>\n",
       "      <td>-0.046594</td>\n",
       "      <td>[-0.059838 ; -0.033351]</td>\n",
       "      <td>[-0.062378 ; -0.030811]</td>\n",
       "      <td>[-0.067348 ; -0.025841]</td>\n",
       "      <td>***</td>\n",
       "    </tr>\n",
       "    <tr>\n",
       "      <th>1</th>\n",
       "      <td>UENGNEG</td>\n",
       "      <td>0.069571</td>\n",
       "      <td>[0.044752 ; 0.094391]</td>\n",
       "      <td>[0.039991 ; 0.099151]</td>\n",
       "      <td>[0.030678 ; 0.108465]</td>\n",
       "      <td>***</td>\n",
       "    </tr>\n",
       "    <tr>\n",
       "      <th>2</th>\n",
       "      <td>UENGPOS</td>\n",
       "      <td>-0.054431</td>\n",
       "      <td>[-0.082663 ; -0.026199]</td>\n",
       "      <td>[-0.088079 ; -0.020784]</td>\n",
       "      <td>[-0.098673 ; -0.010190]</td>\n",
       "      <td>***</td>\n",
       "    </tr>\n",
       "    <tr>\n",
       "      <th>3</th>\n",
       "      <td>BHLTHNn</td>\n",
       "      <td>0.053745</td>\n",
       "      <td>[0.038898 ; 0.068592]</td>\n",
       "      <td>[0.036050 ; 0.071440]</td>\n",
       "      <td>[0.030478 ; 0.077011]</td>\n",
       "      <td>***</td>\n",
       "    </tr>\n",
       "    <tr>\n",
       "      <th>4</th>\n",
       "      <td>UBPIAn</td>\n",
       "      <td>-0.051532</td>\n",
       "      <td>[-0.063367 ; -0.039697]</td>\n",
       "      <td>[-0.065637 ; -0.037427]</td>\n",
       "      <td>[-0.070079 ; -0.032985]</td>\n",
       "      <td>***</td>\n",
       "    </tr>\n",
       "    <tr>\n",
       "      <th>5</th>\n",
       "      <td>UBPIANEG</td>\n",
       "      <td>0.062805</td>\n",
       "      <td>[0.044124 ; 0.081486]</td>\n",
       "      <td>[0.040541 ; 0.085070]</td>\n",
       "      <td>[0.033531 ; 0.092080]</td>\n",
       "      <td>***</td>\n",
       "    </tr>\n",
       "    <tr>\n",
       "      <th>6</th>\n",
       "      <td>UBPIAPOS</td>\n",
       "      <td>-0.110724</td>\n",
       "      <td>[-0.136296 ; -0.085153]</td>\n",
       "      <td>[-0.141201 ; -0.080248]</td>\n",
       "      <td>[-0.150796 ; -0.070652]</td>\n",
       "      <td>***</td>\n",
       "    </tr>\n",
       "  </tbody>\n",
       "</table>\n",
       "</div>"
      ],
      "text/plain": [
       "   variable       ATE                   90% CI                   95% CI  \\\n",
       "0     UENGn -0.046594  [-0.059838 ; -0.033351]  [-0.062378 ; -0.030811]   \n",
       "1   UENGNEG  0.069571    [0.044752 ; 0.094391]    [0.039991 ; 0.099151]   \n",
       "2   UENGPOS -0.054431  [-0.082663 ; -0.026199]  [-0.088079 ; -0.020784]   \n",
       "3   BHLTHNn  0.053745    [0.038898 ; 0.068592]    [0.036050 ; 0.071440]   \n",
       "4    UBPIAn -0.051532  [-0.063367 ; -0.039697]  [-0.065637 ; -0.037427]   \n",
       "5  UBPIANEG  0.062805    [0.044124 ; 0.081486]    [0.040541 ; 0.085070]   \n",
       "6  UBPIAPOS -0.110724  [-0.136296 ; -0.085153]  [-0.141201 ; -0.080248]   \n",
       "\n",
       "                    99% CI Significance  \n",
       "0  [-0.067348 ; -0.025841]          ***  \n",
       "1    [0.030678 ; 0.108465]          ***  \n",
       "2  [-0.098673 ; -0.010190]          ***  \n",
       "3    [0.030478 ; 0.077011]          ***  \n",
       "4  [-0.070079 ; -0.032985]          ***  \n",
       "5    [0.033531 ; 0.092080]          ***  \n",
       "6  [-0.150796 ; -0.070652]          ***  "
      ]
     },
     "execution_count": 76,
     "metadata": {},
     "output_type": "execute_result"
    }
   ],
   "source": [
    "ate_precarious_fc2 = ATE_sch_hlth_happ(df_prec[df_prec['UAGE'] < 12],'precarious',fc2=True)\n",
    "ate_precarious_fc2[['variable','ATE','90% CI','95% CI','99% CI','Significance']]"
   ]
  },
  {
   "cell_type": "code",
   "execution_count": 77,
   "metadata": {},
   "outputs": [
    {
     "name": "stdout",
     "output_type": "stream",
     "text": [
      "UENGn\n",
      "Number of matched subjects: 2600 / 3181\n",
      "UENGNEG\n",
      "Number of matched subjects: 2592 / 3181\n",
      "UENGPOS\n",
      "Number of matched subjects: 2590 / 3181\n",
      "BHLTHNn\n",
      "Number of matched subjects: 2650 / 3239\n",
      "UBPIBn\n",
      "Number of matched subjects: 2638 / 3224\n",
      "UBPIBNEG\n",
      "Number of matched subjects: 2652 / 3224\n",
      "UBPIBPOS\n",
      "Number of matched subjects: 2646 / 3224\n"
     ]
    },
    {
     "data": {
      "text/html": [
       "<div>\n",
       "<style scoped>\n",
       "    .dataframe tbody tr th:only-of-type {\n",
       "        vertical-align: middle;\n",
       "    }\n",
       "\n",
       "    .dataframe tbody tr th {\n",
       "        vertical-align: top;\n",
       "    }\n",
       "\n",
       "    .dataframe thead th {\n",
       "        text-align: right;\n",
       "    }\n",
       "</style>\n",
       "<table border=\"1\" class=\"dataframe\">\n",
       "  <thead>\n",
       "    <tr style=\"text-align: right;\">\n",
       "      <th></th>\n",
       "      <th>variable</th>\n",
       "      <th>ATE</th>\n",
       "      <th>90% CI</th>\n",
       "      <th>95% CI</th>\n",
       "      <th>99% CI</th>\n",
       "      <th>Significance</th>\n",
       "    </tr>\n",
       "  </thead>\n",
       "  <tbody>\n",
       "    <tr>\n",
       "      <th>0</th>\n",
       "      <td>UENGn</td>\n",
       "      <td>-0.043333</td>\n",
       "      <td>[-0.059763 ; -0.026904]</td>\n",
       "      <td>[-0.062915 ; -0.023752]</td>\n",
       "      <td>[-0.069081 ; -0.017585]</td>\n",
       "      <td>***</td>\n",
       "    </tr>\n",
       "    <tr>\n",
       "      <th>1</th>\n",
       "      <td>UENGNEG</td>\n",
       "      <td>0.071759</td>\n",
       "      <td>[0.040525 ; 0.102994]</td>\n",
       "      <td>[0.034533 ; 0.108986]</td>\n",
       "      <td>[0.022809 ; 0.120710]</td>\n",
       "      <td>***</td>\n",
       "    </tr>\n",
       "    <tr>\n",
       "      <th>2</th>\n",
       "      <td>UENGPOS</td>\n",
       "      <td>-0.061776</td>\n",
       "      <td>[-0.089607 ; -0.033945]</td>\n",
       "      <td>[-0.094946 ; -0.028606]</td>\n",
       "      <td>[-0.105392 ; -0.018160]</td>\n",
       "      <td>***</td>\n",
       "    </tr>\n",
       "    <tr>\n",
       "      <th>3</th>\n",
       "      <td>BHLTHNn</td>\n",
       "      <td>0.056415</td>\n",
       "      <td>[0.040112 ; 0.072718]</td>\n",
       "      <td>[0.036985 ; 0.075845]</td>\n",
       "      <td>[0.030866 ; 0.081964]</td>\n",
       "      <td>***</td>\n",
       "    </tr>\n",
       "    <tr>\n",
       "      <th>4</th>\n",
       "      <td>UBPIBn</td>\n",
       "      <td>-0.056924</td>\n",
       "      <td>[-0.069821 ; -0.044028]</td>\n",
       "      <td>[-0.072295 ; -0.041554]</td>\n",
       "      <td>[-0.077135 ; -0.036713]</td>\n",
       "      <td>***</td>\n",
       "    </tr>\n",
       "    <tr>\n",
       "      <th>5</th>\n",
       "      <td>UBPIBNEG</td>\n",
       "      <td>0.068627</td>\n",
       "      <td>[0.046807 ; 0.090448]</td>\n",
       "      <td>[0.042622 ; 0.094633]</td>\n",
       "      <td>[0.034432 ; 0.102823]</td>\n",
       "      <td>***</td>\n",
       "    </tr>\n",
       "    <tr>\n",
       "      <th>6</th>\n",
       "      <td>UBPIBPOS</td>\n",
       "      <td>-0.092971</td>\n",
       "      <td>[-0.119242 ; -0.066699]</td>\n",
       "      <td>[-0.124282 ; -0.061659]</td>\n",
       "      <td>[-0.134143 ; -0.051798]</td>\n",
       "      <td>***</td>\n",
       "    </tr>\n",
       "  </tbody>\n",
       "</table>\n",
       "</div>"
      ],
      "text/plain": [
       "   variable       ATE                   90% CI                   95% CI  \\\n",
       "0     UENGn -0.043333  [-0.059763 ; -0.026904]  [-0.062915 ; -0.023752]   \n",
       "1   UENGNEG  0.071759    [0.040525 ; 0.102994]    [0.034533 ; 0.108986]   \n",
       "2   UENGPOS -0.061776  [-0.089607 ; -0.033945]  [-0.094946 ; -0.028606]   \n",
       "3   BHLTHNn  0.056415    [0.040112 ; 0.072718]    [0.036985 ; 0.075845]   \n",
       "4    UBPIBn -0.056924  [-0.069821 ; -0.044028]  [-0.072295 ; -0.041554]   \n",
       "5  UBPIBNEG  0.068627    [0.046807 ; 0.090448]    [0.042622 ; 0.094633]   \n",
       "6  UBPIBPOS -0.092971  [-0.119242 ; -0.066699]  [-0.124282 ; -0.061659]   \n",
       "\n",
       "                    99% CI Significance  \n",
       "0  [-0.069081 ; -0.017585]          ***  \n",
       "1    [0.022809 ; 0.120710]          ***  \n",
       "2  [-0.105392 ; -0.018160]          ***  \n",
       "3    [0.030866 ; 0.081964]          ***  \n",
       "4  [-0.077135 ; -0.036713]          ***  \n",
       "5    [0.034432 ; 0.102823]          ***  \n",
       "6  [-0.134143 ; -0.051798]          ***  "
      ]
     },
     "execution_count": 77,
     "metadata": {},
     "output_type": "execute_result"
    }
   ],
   "source": [
    "ate_precarious_fc3 = ATE_sch_hlth_happ(df_prec[df_prec['UAGE'] >= 12],'precarious',fc3=True)\n",
    "ate_precarious_fc3[['variable','ATE','90% CI','95% CI','99% CI','Significance']]"
   ]
  },
  {
   "cell_type": "code",
   "execution_count": 78,
   "metadata": {},
   "outputs": [
    {
     "data": {
      "image/png": "[encoded data removed]",
      "text/plain": [
       "<Figure size 720x360 with 1 Axes>"
      ]
     },
     "metadata": {
      "needs_background": "light"
     },
     "output_type": "display_data"
    }
   ],
   "source": [
    "plot_ATE(ate_precarious_fc2,'precarious')"
   ]
  },
  {
   "cell_type": "code",
   "execution_count": 79,
   "metadata": {},
   "outputs": [
    {
     "data": {
      "image/png": "[encoded data removed]",
      "text/plain": [
       "<Figure size 720x360 with 1 Axes>"
      ]
     },
     "metadata": {
      "needs_background": "light"
     },
     "output_type": "display_data"
    }
   ],
   "source": [
    "plot_ATE(ate_precarious_fc3,'precarious')"
   ]
  },
  {
   "cell_type": "code",
   "execution_count": 80,
   "metadata": {},
   "outputs": [],
   "source": [
    "age_diff = pd.DataFrame(ate_precarious_fc3.variable)\n",
    "ci90s = []\n",
    "ci95s = []\n",
    "ci99s = []\n",
    "for i in range (0,7):\n",
    "    ate = ate_precarious_fc3['ATE'][i] - ate_precarious_fc2['ATE'][i]\n",
    "    age_diff.loc[i,'ATE'] = ate\n",
    "    \n",
    "    #ci qui est la diff des coordonnées des ci de fc2 et fc3 : \n",
    "    ci=[(ate_precarious_fc3['ci90'][i][0] - ate_precarious_fc2['ci90'][i][0],ate_precarious_fc3['ci90'][i][1] - ate_precarious_fc2['ci90'][i][1]),(ate_precarious_fc3['ci95'][i][0] - ate_precarious_fc2['ci95'][i][0],ate_precarious_fc3['ci95'][i][1] - ate_precarious_fc2['ci95'][i][1]),(ate_precarious_fc3['ci99'][i][0] - ate_precarious_fc2['ci99'][i][0],ate_precarious_fc3['ci99'][i][1] - ate_precarious_fc2['ci99'][i][1])]\n",
    "   \n",
    "    #ci qui utilise la même taille de ci que les précédents (assez grands du coup rien n'est significant) : \n",
    "    #ci = [(ate_precarious_fc3['ci90'][i][0]-ate_precarious_fc3['ATE'][i]+ate,ate_precarious_fc3['ci90'][i][1]-ate_precarious_fc3['ATE'][i]+ate),(ate_precarious_fc3['ci95'][i][0]-ate_precarious_fc3['ATE'][i]+ate,ate_precarious_fc3['ci95'][i][1]-ate_precarious_fc3['ATE'][i]+ate),(ate_precarious_fc3['ci99'][i][0]-ate_precarious_fc3['ATE'][i]+ate,ate_precarious_fc3['ci99'][i][1]-ate_precarious_fc3['ATE'][i]+ate)]\n",
    "    \n",
    "    ci90s.append(ci[0])\n",
    "    ci95s.append(ci[1])\n",
    "    ci99s.append(ci[2])\n",
    "    age_diff.loc[i,'Significance'] = stars(ci)\n",
    "    age_diff.loc[:,'sig95'] = age_diff['Significance'].apply(lambda x : 2 if (x=='**' or x=='***') else 0) + age_diff['ATE'].apply(lambda x : 1 if x > 0 else 0)\n",
    "    age_diff['sig95'].replace({3 : 'Significant positive effect', 2 : 'Significant negative effect',\n",
    "                             1 : 'Effect is not significant', 0 : 'Effect is not significant'}, inplace=True)\n",
    "age_diff['ci90'] = ci90s\n",
    "age_diff['ci95'] = ci95s\n",
    "age_diff['ci99'] = ci99s"
   ]
  },
  {
   "cell_type": "code",
   "execution_count": 85,
   "metadata": {},
   "outputs": [
    {
     "data": {
      "image/png": "[encoded data removed]",
      "text/plain": [
       "<Figure size 720x360 with 1 Axes>"
      ]
     },
     "metadata": {
      "needs_background": "light"
     },
     "output_type": "display_data"
    }
   ],
   "source": [
    "# Set the default color cycle\n",
    "mpl.rcParams['axes.prop_cycle'] = mpl.cycler(color=['red', 'orange', 'green']) \n",
    "\n",
    "plot_ATE(age_diff,'precarious')"
   ]
  },
  {
   "cell_type": "markdown",
   "metadata": {},
   "source": [
    "#### fc3 - fc2 pour les valeurs, aucune des deux méthodes de CI me convient mais la première donne un meilleur truc (visuellement en tt cas) \\\\\n",
    "     Plus le point est à adroite, + la variable en question est impactée par la précarité pour les 12-17. Plus c'est à gauche, plus la variable en question est impactée par la précarité pour les 6-11."
   ]
  },
  {
   "cell_type": "markdown",
   "metadata": {},
   "source": [
    "### Effect of family structure"
   ]
  },
  {
   "cell_type": "code",
   "execution_count": 86,
   "metadata": {},
   "outputs": [
    {
     "data": {
      "text/plain": [
       "<AxesSubplot:xlabel='UFAMSTR', ylabel='Probability'>"
      ]
     },
     "execution_count": 86,
     "metadata": {},
     "output_type": "execute_result"
    },
    {
     "data": {
      "image/png": "[encoded data removed]",
      "text/plain": [
       "<Figure size 432x288 with 1 Axes>"
      ]
     },
     "metadata": {
      "needs_background": "light"
     },
     "output_type": "display_data"
    }
   ],
   "source": [
    "sns.histplot(x='UFAMSTR', hue='UENGNEG', stat='probability', data=df_NN(fc23,'UENGNEG', ['UFAMSTR']), common_norm=False,\n",
    "             multiple='dodge', palette='magma')\n",
    "# dans quelles familles sont distribués les enfants peu engagés"
   ]
  },
  {
   "cell_type": "code",
   "execution_count": 92,
   "metadata": {},
   "outputs": [
    {
     "data": {
      "text/plain": [
       "<AxesSubplot:xlabel='UFAMSTR', ylabel='Probability'>"
      ]
     },
     "execution_count": 92,
     "metadata": {},
     "output_type": "execute_result"
    },
    {
     "data": {
      "image/png": "[encoded data removed]",
      "text/plain": [
       "<Figure size 432x288 with 1 Axes>"
      ]
     },
     "metadata": {
      "needs_background": "light"
     },
     "output_type": "display_data"
    }
   ],
   "source": [
    "sns.histplot(x='UFAMSTR', hue='precarious', stat='probability', data=df_NN(df_prec,'precarious', ['UFAMSTR']), common_norm=False,\n",
    "             multiple='dodge', palette='magma')\n",
    "# dans quelles familles sont distribués les enfants peu engagés"
   ]
  },
  {
   "cell_type": "code",
   "execution_count": 108,
   "metadata": {},
   "outputs": [
    {
     "data": {
      "text/plain": [
       "<seaborn.axisgrid.FacetGrid at 0x22f8b693fa0>"
      ]
     },
     "execution_count": 108,
     "metadata": {},
     "output_type": "execute_result"
    },
    {
     "data": {
      "image/png": "[encoded data removed]",
      "text/plain": [
       "<Figure size 402.375x360 with 1 Axes>"
      ]
     },
     "metadata": {
      "needs_background": "light"
     },
     "output_type": "display_data"
    }
   ],
   "source": [
    "var='UACT'\n",
    "sns.catplot(x='UFAMSTR', y=var, hue='SEX', kind='bar', palette='magma', data=df_NN(child,var,['UFAMSTR']))\n",
    "# les gens avec une bonne structure familiale sortent plus + les meufs sortent plus que les gars across all familial structures"
   ]
  },
  {
   "cell_type": "code",
   "execution_count": 109,
   "metadata": {},
   "outputs": [
    {
     "data": {
      "text/plain": [
       "<seaborn.axisgrid.FacetGrid at 0x22f86b37a90>"
      ]
     },
     "execution_count": 109,
     "metadata": {},
     "output_type": "execute_result"
    },
    {
     "data": {
      "image/png": "[encoded data removed]",
      "text/plain": [
       "<Figure size 402.375x360 with 1 Axes>"
      ]
     },
     "metadata": {
      "needs_background": "light"
     },
     "output_type": "display_data"
    }
   ],
   "source": [
    "var='UACT'\n",
    "sns.catplot(x='U_SOCPOV', y=var, hue='SEX', kind='bar', palette='magma', data=df_NN(child,var,['U_SOCPOV']))\n",
    "# same avec les gens plus aisés"
   ]
  },
  {
   "cell_type": "code",
   "execution_count": 111,
   "metadata": {},
   "outputs": [
    {
     "data": {
      "text/plain": [
       "<seaborn.axisgrid.FacetGrid at 0x22f8b5721c0>"
      ]
     },
     "execution_count": 111,
     "metadata": {},
     "output_type": "execute_result"
    },
    {
     "data": {
      "image/png": "[encoded data removed]",
      "text/plain": [
       "<Figure size 402.375x360 with 1 Axes>"
      ]
     },
     "metadata": {
      "needs_background": "light"
     },
     "output_type": "display_data"
    }
   ],
   "source": [
    "var='NSPORTS'\n",
    "sns.catplot(x='UFAMSTR', y=var, hue='SEX', kind='bar', palette='magma', data=df_NN(fc2,var,['UFAMSTR']))\n",
    "# moind de structure = + sportifs, encore une fois les filles ont + tendance à faire partie d'une equipe sportive que les garcons"
   ]
  },
  {
   "cell_type": "code",
   "execution_count": 112,
   "metadata": {},
   "outputs": [
    {
     "data": {
      "text/plain": [
       "<seaborn.axisgrid.FacetGrid at 0x22f86b78eb0>"
      ]
     },
     "execution_count": 112,
     "metadata": {},
     "output_type": "execute_result"
    },
    {
     "data": {
      "image/png": "[encoded data removed]",
      "text/plain": [
       "<Figure size 402.375x360 with 1 Axes>"
      ]
     },
     "metadata": {
      "needs_background": "light"
     },
     "output_type": "display_data"
    }
   ],
   "source": [
    "var='NSPORTS'\n",
    "sns.catplot(x='U_SOCPOV', y=var, hue='SEX', kind='bar', palette='magma', data=df_NN(fc2,var,['U_SOCPOV']))\n",
    "# plus pauvres plus sportifs, encore une fois les filles ont + tendance à faire partie d'une equipe sportive que les garcons"
   ]
  },
  {
   "cell_type": "code",
   "execution_count": 120,
   "metadata": {},
   "outputs": [
    {
     "data": {
      "text/plain": [
       "<seaborn.axisgrid.FacetGrid at 0x22f976f6070>"
      ]
     },
     "execution_count": 120,
     "metadata": {},
     "output_type": "execute_result"
    },
    {
     "data": {
      "image/png": "[encoded data removed]",
      "text/plain": [
       "<Figure size 402.375x360 with 1 Axes>"
      ]
     },
     "metadata": {
      "needs_background": "light"
     },
     "output_type": "display_data"
    }
   ],
   "source": [
    "var='UENGPOS'\n",
    "sns.catplot(x='UFAMSTR', y=var, hue='SEX', kind='bar', palette='magma', data=df_NN(child,var,['UFAMSTR']))\n",
    "# filles + scolaires, plus la structure familiale est confortable, meilleur est l'engagment scolaire positif"
   ]
  },
  {
   "cell_type": "code",
   "execution_count": 129,
   "metadata": {},
   "outputs": [
    {
     "data": {
      "text/plain": [
       "<seaborn.axisgrid.FacetGrid at 0x22f96476760>"
      ]
     },
     "execution_count": 129,
     "metadata": {},
     "output_type": "execute_result"
    },
    {
     "data": {
      "image/png": "[encoded data removed]",
      "text/plain": [
       "<Figure size 360x360 with 1 Axes>"
      ]
     },
     "metadata": {
      "needs_background": "light"
     },
     "output_type": "display_data"
    }
   ],
   "source": [
    "var='NLESSONS'\n",
    "sns.catplot(x='UFAMSTR', y=var, kind='bar', palette='magma', data=df_NN(child,var,['UFAMSTR']))\n",
    "# Plus la structure familiale est confortable, + les lessons sont prises"
   ]
  },
  {
   "cell_type": "code",
   "execution_count": 131,
   "metadata": {},
   "outputs": [
    {
     "data": {
      "text/plain": [
       "<seaborn.axisgrid.FacetGrid at 0x22f9f6bd250>"
      ]
     },
     "execution_count": 131,
     "metadata": {},
     "output_type": "execute_result"
    },
    {
     "data": {
      "image/png": "[encoded data removed]",
      "text/plain": [
       "<Figure size 360x360 with 1 Axes>"
      ]
     },
     "metadata": {
      "needs_background": "light"
     },
     "output_type": "display_data"
    }
   ],
   "source": [
    "var='UMH2'\n",
    "sns.catplot(x='UAGG', y=var, kind='bar', palette='magma', data=df_NN(child,var,['UAGG']))\n",
    "# mental health des parents directement corrélée avec le fait que le gamin soit insupportable (UAGG bas = insupportable)"
   ]
  },
  {
   "cell_type": "code",
   "execution_count": 140,
   "metadata": {},
   "outputs": [
    {
     "data": {
      "text/plain": [
       "<seaborn.axisgrid.FacetGrid at 0x22f92bbf430>"
      ]
     },
     "execution_count": 140,
     "metadata": {},
     "output_type": "execute_result"
    },
    {
     "data": {
      "image/png": "[encoded data removed]",
      "text/plain": [
       "<Figure size 360x360 with 1 Axes>"
      ]
     },
     "metadata": {
      "needs_background": "light"
     },
     "output_type": "display_data"
    }
   ],
   "source": [
    "var='UMH2'\n",
    "sns.catplot(x='U_SOCPOV', y=var, kind='bar', palette='magma', data=df_NN(child,var,['U_SOCPOV']))\n",
    "# mental health des parents directement corrélée avec l'aisance financière'"
   ]
  }
 ],
 "metadata": {
  "kernelspec": {
   "display_name": "Python 3",
   "language": "python",
   "name": "python3"
  },
  "language_info": {
   "codemirror_mode": {
    "name": "ipython",
    "version": 3
   },
   "file_extension": ".py",
   "mimetype": "text/x-python",
   "name": "python",
   "nbconvert_exporter": "python",
   "pygments_lexer": "ipython3",
   "version": "3.8.3"
  }
 },
 "nbformat": 4,
 "nbformat_minor": 4
}
