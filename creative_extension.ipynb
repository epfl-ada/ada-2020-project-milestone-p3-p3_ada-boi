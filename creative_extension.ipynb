{
 "cells": [
  {
   "cell_type": "markdown",
   "metadata": {},
   "source": [
    "# Creative extension\n",
    "\n",
    "__Paper:__ Housing, Health, and Happiness\n",
    "\n",
    "__Data:__ National Survey of America's Families, 2002\n",
    "\n",
    "__Aim:__ *liste des points auxquels on cherche à répondre*"
   ]
  },
  {
   "cell_type": "code",
   "execution_count": 1,
   "metadata": {},
   "outputs": [],
   "source": [
    "import pandas as pd\n",
    "import numpy as np\n",
    "import matplotlib.pyplot as plt\n",
    "import seaborn as sns\n",
    "\n",
    "from sklearn.linear_model import LogisticRegression\n",
    "from math import exp, log\n",
    "import statsmodels.api as sm\n",
    "import statsmodels.formula.api as smf"
   ]
  },
  {
   "cell_type": "code",
   "execution_count": 2,
   "metadata": {},
   "outputs": [],
   "source": [
    "# Load data\n",
    "\n",
    "data_folder = './data/'\n",
    "# Focal Child Data\n",
    "fc = pd.read_stata(data_folder+'DS0001/04582-0001-Data.dta',convert_categoricals=False)\n",
    "# Household Data\n",
    "hh = pd.read_stata(data_folder+'DS0006/04582-0006-Data.dta',convert_categoricals=False)"
   ]
  },
  {
   "cell_type": "code",
   "execution_count": 3,
   "metadata": {},
   "outputs": [],
   "source": [
    "# Variables of interest in child and hh datasets \n",
    "person_id = ['PERSID','PERSTYPE','RESPID','UCPSID','SEX','UAGE','SITE','STATE','UREGION','TYPEINT','HHID']\n",
    "household_id_hh = ['HHID']\n",
    "education = ['CCHGSC','CSUEXP','CATTSC','CSKIPSC','CGETBY','CHMWK','CINTSC','CWRKSC','UENG','UENGNEG','UENGPOS']\n",
    "family = ['GHMAD','GSELFHR','UFAMSTR','UMH2','UMHIGDEG']\n",
    "family_hh = ['CHLD0_5','CHLD6_17','UHHCOUNT']\n",
    "income = ['U_SOCPOV']\n",
    "income_hh = ['QSC5']\n",
    "housing_hh = ['MNBEDRMS','MOWNRENT']\n",
    "mental_health = ['UBPIA','UBPIANEG','UBPIAPOS','UBPIB','UBPIBNEG','UBPIBPOS']\n",
    "health = ['BDISBL','BHLTHN','FDOCT','FWHMED','FWHYMED','FDENT','FWELLV','UCNGHL']\n",
    "activities = ['NOUTING','NSPORTS','UOUTNEG','UOUTPOS','UACT','UACTNEG','UACTPOS']\n",
    "programs = ['GCENTR','CSPECED','GHEADS','KAPPMED','SSHELP']\n",
    "programs_hh = ['MPUBHOUS']"
   ]
  },
  {
   "cell_type": "code",
   "execution_count": 4,
   "metadata": {},
   "outputs": [],
   "source": [
    "# Reduce dataframes to variables of interest\n",
    "fc = fc[person_id + education + family + income + mental_health + health + activities + programs]\n",
    "hh = hh[household_id_hh + family_hh + income_hh + housing_hh + programs_hh]\n"
   ]
  },
  {
   "cell_type": "code",
   "execution_count": 5,
   "metadata": {},
   "outputs": [
    {
     "data": {
      "text/html": [
       "<div>\n",
       "<style scoped>\n",
       "    .dataframe tbody tr th:only-of-type {\n",
       "        vertical-align: middle;\n",
       "    }\n",
       "\n",
       "    .dataframe tbody tr th {\n",
       "        vertical-align: top;\n",
       "    }\n",
       "\n",
       "    .dataframe thead th {\n",
       "        text-align: right;\n",
       "    }\n",
       "</style>\n",
       "<table border=\"1\" class=\"dataframe\">\n",
       "  <thead>\n",
       "    <tr style=\"text-align: right;\">\n",
       "      <th></th>\n",
       "      <th>PERSID</th>\n",
       "      <th>PERSTYPE</th>\n",
       "      <th>RESPID</th>\n",
       "      <th>UCPSID</th>\n",
       "      <th>SEX</th>\n",
       "      <th>UAGE</th>\n",
       "      <th>SITE</th>\n",
       "      <th>STATE</th>\n",
       "      <th>UREGION</th>\n",
       "      <th>TYPEINT</th>\n",
       "      <th>...</th>\n",
       "      <th>GHEADS</th>\n",
       "      <th>KAPPMED</th>\n",
       "      <th>SSHELP</th>\n",
       "      <th>CHLD0_5</th>\n",
       "      <th>CHLD6_17</th>\n",
       "      <th>UHHCOUNT</th>\n",
       "      <th>QSC5</th>\n",
       "      <th>MNBEDRMS</th>\n",
       "      <th>MOWNRENT</th>\n",
       "      <th>MPUBHOUS</th>\n",
       "    </tr>\n",
       "  </thead>\n",
       "  <tbody>\n",
       "    <tr>\n",
       "      <th>0</th>\n",
       "      <td>5561612801</td>\n",
       "      <td>1</td>\n",
       "      <td>5561612803</td>\n",
       "      <td>5561612800</td>\n",
       "      <td>F</td>\n",
       "      <td>3</td>\n",
       "      <td>15</td>\n",
       "      <td>WI</td>\n",
       "      <td>2</td>\n",
       "      <td>A1</td>\n",
       "      <td>...</td>\n",
       "      <td>2</td>\n",
       "      <td>-1</td>\n",
       "      <td>-1</td>\n",
       "      <td>2</td>\n",
       "      <td>0</td>\n",
       "      <td>3</td>\n",
       "      <td>1</td>\n",
       "      <td>4</td>\n",
       "      <td>1</td>\n",
       "      <td>-1</td>\n",
       "    </tr>\n",
       "    <tr>\n",
       "      <th>1</th>\n",
       "      <td>5470400001</td>\n",
       "      <td>2</td>\n",
       "      <td>5470400003</td>\n",
       "      <td>5470400000</td>\n",
       "      <td>M</td>\n",
       "      <td>14</td>\n",
       "      <td>15</td>\n",
       "      <td>WI</td>\n",
       "      <td>2</td>\n",
       "      <td>A1</td>\n",
       "      <td>...</td>\n",
       "      <td>-1</td>\n",
       "      <td>1</td>\n",
       "      <td>-1</td>\n",
       "      <td>0</td>\n",
       "      <td>2</td>\n",
       "      <td>3</td>\n",
       "      <td>2</td>\n",
       "      <td>2</td>\n",
       "      <td>2</td>\n",
       "      <td>-1</td>\n",
       "    </tr>\n",
       "    <tr>\n",
       "      <th>2</th>\n",
       "      <td>5787427204</td>\n",
       "      <td>2</td>\n",
       "      <td>5787427205</td>\n",
       "      <td>5787427200</td>\n",
       "      <td>F</td>\n",
       "      <td>9</td>\n",
       "      <td>15</td>\n",
       "      <td>WI</td>\n",
       "      <td>2</td>\n",
       "      <td>A1</td>\n",
       "      <td>...</td>\n",
       "      <td>-1</td>\n",
       "      <td>-1</td>\n",
       "      <td>-1</td>\n",
       "      <td>0</td>\n",
       "      <td>4</td>\n",
       "      <td>6</td>\n",
       "      <td>1</td>\n",
       "      <td>3</td>\n",
       "      <td>2</td>\n",
       "      <td>2</td>\n",
       "    </tr>\n",
       "    <tr>\n",
       "      <th>3</th>\n",
       "      <td>5410681601</td>\n",
       "      <td>1</td>\n",
       "      <td>5410681604</td>\n",
       "      <td>5410681600</td>\n",
       "      <td>M</td>\n",
       "      <td>4</td>\n",
       "      <td>15</td>\n",
       "      <td>WI</td>\n",
       "      <td>2</td>\n",
       "      <td>A1</td>\n",
       "      <td>...</td>\n",
       "      <td>2</td>\n",
       "      <td>-1</td>\n",
       "      <td>-1</td>\n",
       "      <td>3</td>\n",
       "      <td>0</td>\n",
       "      <td>5</td>\n",
       "      <td>1</td>\n",
       "      <td>2</td>\n",
       "      <td>2</td>\n",
       "      <td>2</td>\n",
       "    </tr>\n",
       "    <tr>\n",
       "      <th>4</th>\n",
       "      <td>5051721601</td>\n",
       "      <td>2</td>\n",
       "      <td>5051721605</td>\n",
       "      <td>5051721600</td>\n",
       "      <td>F</td>\n",
       "      <td>17</td>\n",
       "      <td>15</td>\n",
       "      <td>WI</td>\n",
       "      <td>2</td>\n",
       "      <td>A1</td>\n",
       "      <td>...</td>\n",
       "      <td>-1</td>\n",
       "      <td>-1</td>\n",
       "      <td>-1</td>\n",
       "      <td>0</td>\n",
       "      <td>4</td>\n",
       "      <td>5</td>\n",
       "      <td>1</td>\n",
       "      <td>4</td>\n",
       "      <td>2</td>\n",
       "      <td>1</td>\n",
       "    </tr>\n",
       "  </tbody>\n",
       "</table>\n",
       "<p>5 rows × 61 columns</p>\n",
       "</div>"
      ],
      "text/plain": [
       "       PERSID  PERSTYPE      RESPID      UCPSID SEX  UAGE SITE STATE UREGION  \\\n",
       "0  5561612801         1  5561612803  5561612800   F     3   15    WI       2   \n",
       "1  5470400001         2  5470400003  5470400000   M    14   15    WI       2   \n",
       "2  5787427204         2  5787427205  5787427200   F     9   15    WI       2   \n",
       "3  5410681601         1  5410681604  5410681600   M     4   15    WI       2   \n",
       "4  5051721601         2  5051721605  5051721600   F    17   15    WI       2   \n",
       "\n",
       "  TYPEINT  ... GHEADS  KAPPMED  SSHELP  CHLD0_5  CHLD6_17  UHHCOUNT  QSC5  \\\n",
       "0      A1  ...      2       -1      -1        2         0         3     1   \n",
       "1      A1  ...     -1        1      -1        0         2         3     2   \n",
       "2      A1  ...     -1       -1      -1        0         4         6     1   \n",
       "3      A1  ...      2       -1      -1        3         0         5     1   \n",
       "4      A1  ...     -1       -1      -1        0         4         5     1   \n",
       "\n",
       "   MNBEDRMS  MOWNRENT  MPUBHOUS  \n",
       "0         4         1        -1  \n",
       "1         2         2        -1  \n",
       "2         3         2         2  \n",
       "3         2         2         2  \n",
       "4         4         2         1  \n",
       "\n",
       "[5 rows x 61 columns]"
      ]
     },
     "execution_count": 5,
     "metadata": {},
     "output_type": "execute_result"
    }
   ],
   "source": [
    "# Merge dataframes using the household ID number, \n",
    "# inner merge keeps only households that are linked to a focal child subject\n",
    "child = pd.merge(fc, hh, left_on = 'HHID', right_on = 'HHID', how='inner')\n",
    "# replace all the missing values by the str 'no data', No by 0 and Yes by 1\n",
    "child.replace([-7,-8,-9],-1,inplace=True) \n",
    "\n",
    "# Preview of child dataframe\n",
    "child.head()"
   ]
  },
  {
   "cell_type": "code",
   "execution_count": 6,
   "metadata": {},
   "outputs": [],
   "source": [
    "# Divide child data in three dfs\n",
    "\n",
    "# Keep data of focal children from age 0 to 17 only\n",
    "child = child.loc[child['PERSTYPE'].isin([1,2])]\n",
    "\n",
    "# FC1 : focal child, aged 0-5\n",
    "fc1 = child.copy()[child['PERSTYPE']==1]\n",
    "\n",
    "# FC2 : focal child, aged 6-11\n",
    "fc2 = child.copy()[(child['PERSTYPE']==2) & (child['UAGE'] < 12)]\n",
    "\n",
    "# FC3 : focal child, aged 12-17\n",
    "fc3 = child.copy()[(child['PERSTYPE']==2) & (child['UAGE'] >= 12)]"
   ]
  },
  {
   "cell_type": "code",
   "execution_count": 7,
   "metadata": {},
   "outputs": [
    {
     "name": "stdout",
     "output_type": "stream",
     "text": [
      "Shapes of dataframes:\n",
      "fc1: (12268, 61)\n",
      "fc2: (10925, 61)\n",
      "fc3:(11087, 61)\n",
      "True\n"
     ]
    }
   ],
   "source": [
    "print(f'Shapes of dataframes:\\nfc1: {fc1.shape}\\nfc2: {fc2.shape}\\nfc3:{fc3.shape}')\n",
    "print((fc1.shape[0] + fc2.shape[0] + fc3.shape[0]) == child.shape[0]) #test to see if all children are counted"
   ]
  },
  {
   "cell_type": "code",
   "execution_count": 8,
   "metadata": {},
   "outputs": [
    {
     "data": {
      "text/plain": [
       "<seaborn.axisgrid.FacetGrid at 0x28556522580>"
      ]
     },
     "execution_count": 8,
     "metadata": {},
     "output_type": "execute_result"
    },
    {
     "data": {
      "image/png": "[encoded data removed]",
      "text/plain": [
       "<Figure size 961.75x360 with 1 Axes>"
      ]
     },
     "metadata": {
      "needs_background": "light"
     },
     "output_type": "display_data"
    }
   ],
   "source": [
    "sns.catplot(x='SITE', y='UENG', hue='U_SOCPOV', kind='bar', data=fc2, height=5, aspect=2.5)"
   ]
  },
  {
   "cell_type": "code",
   "execution_count": 9,
   "metadata": {},
   "outputs": [
    {
     "data": {
      "text/plain": [
       "<seaborn.axisgrid.FacetGrid at 0x28556552490>"
      ]
     },
     "execution_count": 9,
     "metadata": {},
     "output_type": "execute_result"
    },
    {
     "data": {
      "image/png": "[encoded data removed]",
      "text/plain": [
       "<Figure size 961.75x360 with 1 Axes>"
      ]
     },
     "metadata": {
      "needs_background": "light"
     },
     "output_type": "display_data"
    }
   ],
   "source": [
    "sns.catplot(x='SITE', y='UENG', hue='U_SOCPOV', kind='bar', data=fc3, height=5, aspect=2.5)"
   ]
  },
  {
   "cell_type": "code",
   "execution_count": 10,
   "metadata": {},
   "outputs": [
    {
     "data": {
      "text/plain": [
       "<AxesSubplot:xlabel='CSUEXP', ylabel='Density'>"
      ]
     },
     "execution_count": 10,
     "metadata": {},
     "output_type": "execute_result"
    },
    {
     "data": {
      "image/png": "[encoded data removed]",
      "text/plain": [
       "<Figure size 432x288 with 1 Axes>"
      ]
     },
     "metadata": {
      "needs_background": "light"
     },
     "output_type": "display_data"
    }
   ],
   "source": [
    "sns.histplot(x='CSUEXP', hue='U_SOCPOV', multiple='dodge', shrink=.8, stat='density', data=fc3)"
   ]
  },
  {
   "cell_type": "code",
   "execution_count": 11,
   "metadata": {},
   "outputs": [
    {
     "data": {
      "text/plain": [
       "<AxesSubplot:xlabel='CSKIPSC', ylabel='Density'>"
      ]
     },
     "execution_count": 11,
     "metadata": {},
     "output_type": "execute_result"
    },
    {
     "data": {
      "image/png": "[encoded data removed]",
      "text/plain": [
       "<Figure size 432x288 with 1 Axes>"
      ]
     },
     "metadata": {
      "needs_background": "light"
     },
     "output_type": "display_data"
    }
   ],
   "source": [
    "sns.histplot(x='CSKIPSC', hue='U_SOCPOV', multiple='dodge', shrink=.8, stat='density', data=fc3)"
   ]
  },
  {
   "cell_type": "markdown",
   "metadata": {},
   "source": [
    "## Propensity score attempt"
   ]
  },
  {
   "cell_type": "markdown",
   "metadata": {},
   "source": [
    "from sklearn.ensemble import RandomForestClassifier, RandomForestRegressor\n",
    "\n",
    "outcome = 'UENGNEG'\n",
    "predictors = ['KAPPMED','MPUBHOUS']\n",
    "df_noNull = child.loc[(child[outcome] != -1) & (child[predictors] != -1)]\n",
    "glm = sm.GLM(df_noNull[outcome].values, df_noNull[predictors].replace(2,0).values, family=sm.families.Poisson())\n",
    "res = glm.fit()\n",
    "res.summary()\n",
    "\n",
    "reg = RandomForestRegressor()\n",
    "X = df_noNull[predictors].replace(2,0).values.reshape(1,-1)\n",
    "y = df_noNull[outcome].values.reshape(1,-1)\n",
    "reg.fit(X, y)\n",
    "reg.predict(X)-y #=array(0) si le RFR a marché\n"
   ]
  },
  {
   "cell_type": "code",
   "execution_count": 14,
   "metadata": {},
   "outputs": [
    {
     "data": {
      "text/html": [
       "<div>\n",
       "<style scoped>\n",
       "    .dataframe tbody tr th:only-of-type {\n",
       "        vertical-align: middle;\n",
       "    }\n",
       "\n",
       "    .dataframe tbody tr th {\n",
       "        vertical-align: top;\n",
       "    }\n",
       "\n",
       "    .dataframe thead th {\n",
       "        text-align: right;\n",
       "    }\n",
       "</style>\n",
       "<table border=\"1\" class=\"dataframe\">\n",
       "  <thead>\n",
       "    <tr style=\"text-align: right;\">\n",
       "      <th></th>\n",
       "      <th>KAPPMED</th>\n",
       "      <th>MPUBHOUS</th>\n",
       "    </tr>\n",
       "  </thead>\n",
       "  <tbody>\n",
       "    <tr>\n",
       "      <th>0</th>\n",
       "      <td>-1</td>\n",
       "      <td>-1</td>\n",
       "    </tr>\n",
       "    <tr>\n",
       "      <th>1</th>\n",
       "      <td>1</td>\n",
       "      <td>-1</td>\n",
       "    </tr>\n",
       "    <tr>\n",
       "      <th>2</th>\n",
       "      <td>-1</td>\n",
       "      <td>2</td>\n",
       "    </tr>\n",
       "    <tr>\n",
       "      <th>3</th>\n",
       "      <td>-1</td>\n",
       "      <td>2</td>\n",
       "    </tr>\n",
       "    <tr>\n",
       "      <th>4</th>\n",
       "      <td>-1</td>\n",
       "      <td>1</td>\n",
       "    </tr>\n",
       "    <tr>\n",
       "      <th>...</th>\n",
       "      <td>...</td>\n",
       "      <td>...</td>\n",
       "    </tr>\n",
       "    <tr>\n",
       "      <th>34327</th>\n",
       "      <td>-1</td>\n",
       "      <td>1</td>\n",
       "    </tr>\n",
       "    <tr>\n",
       "      <th>34328</th>\n",
       "      <td>-1</td>\n",
       "      <td>-1</td>\n",
       "    </tr>\n",
       "    <tr>\n",
       "      <th>34329</th>\n",
       "      <td>-1</td>\n",
       "      <td>-1</td>\n",
       "    </tr>\n",
       "    <tr>\n",
       "      <th>34330</th>\n",
       "      <td>-1</td>\n",
       "      <td>-1</td>\n",
       "    </tr>\n",
       "    <tr>\n",
       "      <th>34331</th>\n",
       "      <td>-1</td>\n",
       "      <td>-1</td>\n",
       "    </tr>\n",
       "  </tbody>\n",
       "</table>\n",
       "<p>34280 rows × 2 columns</p>\n",
       "</div>"
      ],
      "text/plain": [
       "       KAPPMED  MPUBHOUS\n",
       "0           -1        -1\n",
       "1            1        -1\n",
       "2           -1         2\n",
       "3           -1         2\n",
       "4           -1         1\n",
       "...        ...       ...\n",
       "34327       -1         1\n",
       "34328       -1        -1\n",
       "34329       -1        -1\n",
       "34330       -1        -1\n",
       "34331       -1        -1\n",
       "\n",
       "[34280 rows x 2 columns]"
      ]
     },
     "execution_count": 14,
     "metadata": {},
     "output_type": "execute_result"
    }
   ],
   "source": [
    "oh = ['KAPPMED','MPUBHOUS']\n",
    "child[oh]"
   ]
  },
  {
   "cell_type": "code",
   "execution_count": 28,
   "metadata": {},
   "outputs": [
    {
     "data": {
      "text/plain": [
       "array([1, -1], dtype=object)"
      ]
     },
     "execution_count": 28,
     "metadata": {},
     "output_type": "execute_result"
    }
   ],
   "source": [
    "child.iloc[1][oh].values"
   ]
  },
  {
   "cell_type": "code",
   "execution_count": null,
   "metadata": {},
   "outputs": [],
   "source": []
  }
 ],
 "metadata": {
  "kernelspec": {
   "display_name": "Python 3",
   "language": "python",
   "name": "python3"
  },
  "language_info": {
   "codemirror_mode": {
    "name": "ipython",
    "version": 3
   },
   "file_extension": ".py",
   "mimetype": "text/x-python",
   "name": "python",
   "nbconvert_exporter": "python",
   "pygments_lexer": "ipython3",
   "version": "3.8.3"
  }
 },
 "nbformat": 4,
 "nbformat_minor": 4
}
