{
 "cells": [
  {
   "cell_type": "markdown",
   "metadata": {},
   "source": [
    "# Creative extension\n",
    "\n",
    "__Paper:__ Housing, Health, and Happiness\n",
    "\n",
    "__Data:__ National Survey of America's Families, 2002\n",
    "\n",
    "__Aim:__\n",
    "1) Which living outcome do housing conditions affect the most (education, health or happiness)?\n",
    "\n",
    "2) Is there a correlation between precarious housing and health (both physical and mental) status?\n",
    "\n",
    "3) In what ways do living conditions affect children scholarship (if they do) ? Which age group is most impacted ?\n",
    "\n",
    "\n",
    "## Data pre-processing"
   ]
  },
  {
   "cell_type": "code",
   "execution_count": 1,
   "metadata": {},
   "outputs": [],
   "source": [
    "import pandas as pd\n",
    "import numpy as np\n",
    "import matplotlib.pyplot as plt\n",
    "import seaborn as sns\n",
    "\n",
    "from sklearn.linear_model import LogisticRegression\n",
    "from math import exp, log\n",
    "import statsmodels.api as sm\n",
    "import statsmodels.formula.api as smf"
   ]
  },
  {
   "cell_type": "code",
   "execution_count": 2,
   "metadata": {},
   "outputs": [],
   "source": [
    "# Load data\n",
    "\n",
    "data_folder = './data/'\n",
    "# Focal Child Data\n",
    "fc = pd.read_stata(data_folder+'DS0001/04582-0001-Data.dta',convert_categoricals=False)\n",
    "# Household Data\n",
    "hh = pd.read_stata(data_folder+'DS0006/04582-0006-Data.dta',convert_categoricals=False)"
   ]
  },
  {
   "cell_type": "code",
   "execution_count": 3,
   "metadata": {},
   "outputs": [],
   "source": [
    "# Variables of interest in child and hh datasets \n",
    "person_id = ['PERSID','PERSTYPE','RESPID','UCPSID','SEX','UAGE','SITE','STATE','UREGION','TYPEINT','HHID']\n",
    "household_id_hh = ['HHID']\n",
    "#education = ['CCHGSC','CSUEXP','CATTSC','CSKIPSC','CGETBY','CHMWK','CINTSC','CWRKSC','UENG','UENGNEG','UENGPOS']\n",
    "education = ['UENG','UENGNEG','UENGPOS','NLESSONS']\n",
    "#family = ['GHMAD','GSELFHR','UFAMSTR','UMH2','UMHIGDEG']\n",
    "family = ['UFAMSTR','UMH2','UMHIGDEG','UAGG']\n",
    "family_hh = ['CHLD0_5','CHLD6_17','UHHCOUNT']\n",
    "income = ['U_SOCPOV']\n",
    "income_hh = ['QSC5']\n",
    "housing_hh = ['MNBEDRMS','MOWNRENT'] #'OVERCROWDING' added later on\n",
    "mental_health = ['UBPIA','UBPIANEG','UBPIAPOS','UBPIB','UBPIBNEG','UBPIBPOS']\n",
    "health = ['BDISBL','BHLTHN','FDOCT','FWHMED','FWHYMED','FDENT','FWELLV','UCNGHL']\n",
    "activities = ['NOUTING','NSPORTS','UOUTNEG','UOUTPOS','UACT','UACTNEG','UACTPOS']\n",
    "programs = ['GCENTR','CSPECED','CAGRAD','GHEADS','KAPPMED','SSHELP']\n",
    "programs_hh = ['MPUBHOUS']\n",
    "eco = ['CJOB','UHINS4'] #NB CJOB only for fc3\n",
    "\n",
    "# Add a variable 'overcrowding' and replace inf by -1\n",
    "hh['OVERCROWDING'] = hh['UHHCOUNT'] / hh['MNBEDRMS']\n",
    "housing_hh.append('OVERCROWDING')\n",
    "hh['OVERCROWDING'] = hh['OVERCROWDING'].apply(lambda x : -1 if (x == np.inf or x < 0) else x)\n",
    "\n",
    "# Reduce dataframes to variables of interest\n",
    "fc = fc[person_id + education + family + income + mental_health + health + activities + programs + eco]\n",
    "hh = hh[household_id_hh + family_hh + income_hh + housing_hh + programs_hh]"
   ]
  },
  {
   "cell_type": "code",
   "execution_count": 4,
   "metadata": {},
   "outputs": [
    {
     "data": {
      "text/html": [
       "<div>\n",
       "<style scoped>\n",
       "    .dataframe tbody tr th:only-of-type {\n",
       "        vertical-align: middle;\n",
       "    }\n",
       "\n",
       "    .dataframe tbody tr th {\n",
       "        vertical-align: top;\n",
       "    }\n",
       "\n",
       "    .dataframe thead th {\n",
       "        text-align: right;\n",
       "    }\n",
       "</style>\n",
       "<table border=\"1\" class=\"dataframe\">\n",
       "  <thead>\n",
       "    <tr style=\"text-align: right;\">\n",
       "      <th></th>\n",
       "      <th>PERSID</th>\n",
       "      <th>PERSTYPE</th>\n",
       "      <th>RESPID</th>\n",
       "      <th>UCPSID</th>\n",
       "      <th>SEX</th>\n",
       "      <th>UAGE</th>\n",
       "      <th>SITE</th>\n",
       "      <th>STATE</th>\n",
       "      <th>UREGION</th>\n",
       "      <th>TYPEINT</th>\n",
       "      <th>...</th>\n",
       "      <th>CJOB</th>\n",
       "      <th>UHINS4</th>\n",
       "      <th>CHLD0_5</th>\n",
       "      <th>CHLD6_17</th>\n",
       "      <th>UHHCOUNT</th>\n",
       "      <th>QSC5</th>\n",
       "      <th>MNBEDRMS</th>\n",
       "      <th>MOWNRENT</th>\n",
       "      <th>OVERCROWDING</th>\n",
       "      <th>MPUBHOUS</th>\n",
       "    </tr>\n",
       "  </thead>\n",
       "  <tbody>\n",
       "    <tr>\n",
       "      <th>0</th>\n",
       "      <td>5561612801</td>\n",
       "      <td>1</td>\n",
       "      <td>5561612803</td>\n",
       "      <td>5561612800</td>\n",
       "      <td>1</td>\n",
       "      <td>3</td>\n",
       "      <td>15</td>\n",
       "      <td>WI</td>\n",
       "      <td>2</td>\n",
       "      <td>A1</td>\n",
       "      <td>...</td>\n",
       "      <td>-1</td>\n",
       "      <td>2</td>\n",
       "      <td>2</td>\n",
       "      <td>0</td>\n",
       "      <td>3</td>\n",
       "      <td>1</td>\n",
       "      <td>4</td>\n",
       "      <td>1</td>\n",
       "      <td>0.75</td>\n",
       "      <td>-1</td>\n",
       "    </tr>\n",
       "    <tr>\n",
       "      <th>1</th>\n",
       "      <td>5470400001</td>\n",
       "      <td>2</td>\n",
       "      <td>5470400003</td>\n",
       "      <td>5470400000</td>\n",
       "      <td>0</td>\n",
       "      <td>14</td>\n",
       "      <td>15</td>\n",
       "      <td>WI</td>\n",
       "      <td>2</td>\n",
       "      <td>A1</td>\n",
       "      <td>...</td>\n",
       "      <td>0</td>\n",
       "      <td>1</td>\n",
       "      <td>0</td>\n",
       "      <td>2</td>\n",
       "      <td>3</td>\n",
       "      <td>2</td>\n",
       "      <td>2</td>\n",
       "      <td>2</td>\n",
       "      <td>1.50</td>\n",
       "      <td>-1</td>\n",
       "    </tr>\n",
       "    <tr>\n",
       "      <th>2</th>\n",
       "      <td>5787427204</td>\n",
       "      <td>2</td>\n",
       "      <td>5787427205</td>\n",
       "      <td>5787427200</td>\n",
       "      <td>1</td>\n",
       "      <td>9</td>\n",
       "      <td>15</td>\n",
       "      <td>WI</td>\n",
       "      <td>2</td>\n",
       "      <td>A1</td>\n",
       "      <td>...</td>\n",
       "      <td>-1</td>\n",
       "      <td>2</td>\n",
       "      <td>0</td>\n",
       "      <td>4</td>\n",
       "      <td>6</td>\n",
       "      <td>1</td>\n",
       "      <td>3</td>\n",
       "      <td>2</td>\n",
       "      <td>2.00</td>\n",
       "      <td>2</td>\n",
       "    </tr>\n",
       "    <tr>\n",
       "      <th>3</th>\n",
       "      <td>5410681601</td>\n",
       "      <td>1</td>\n",
       "      <td>5410681604</td>\n",
       "      <td>5410681600</td>\n",
       "      <td>0</td>\n",
       "      <td>4</td>\n",
       "      <td>15</td>\n",
       "      <td>WI</td>\n",
       "      <td>2</td>\n",
       "      <td>A1</td>\n",
       "      <td>...</td>\n",
       "      <td>-1</td>\n",
       "      <td>2</td>\n",
       "      <td>3</td>\n",
       "      <td>0</td>\n",
       "      <td>5</td>\n",
       "      <td>1</td>\n",
       "      <td>2</td>\n",
       "      <td>2</td>\n",
       "      <td>2.50</td>\n",
       "      <td>2</td>\n",
       "    </tr>\n",
       "    <tr>\n",
       "      <th>4</th>\n",
       "      <td>5051721601</td>\n",
       "      <td>2</td>\n",
       "      <td>5051721605</td>\n",
       "      <td>5051721600</td>\n",
       "      <td>1</td>\n",
       "      <td>17</td>\n",
       "      <td>15</td>\n",
       "      <td>WI</td>\n",
       "      <td>2</td>\n",
       "      <td>A1</td>\n",
       "      <td>...</td>\n",
       "      <td>1</td>\n",
       "      <td>2</td>\n",
       "      <td>0</td>\n",
       "      <td>4</td>\n",
       "      <td>5</td>\n",
       "      <td>1</td>\n",
       "      <td>4</td>\n",
       "      <td>2</td>\n",
       "      <td>1.25</td>\n",
       "      <td>1</td>\n",
       "    </tr>\n",
       "  </tbody>\n",
       "</table>\n",
       "<p>5 rows × 57 columns</p>\n",
       "</div>"
      ],
      "text/plain": [
       "       PERSID  PERSTYPE      RESPID      UCPSID  SEX  UAGE SITE STATE UREGION  \\\n",
       "0  5561612801         1  5561612803  5561612800    1     3   15    WI       2   \n",
       "1  5470400001         2  5470400003  5470400000    0    14   15    WI       2   \n",
       "2  5787427204         2  5787427205  5787427200    1     9   15    WI       2   \n",
       "3  5410681601         1  5410681604  5410681600    0     4   15    WI       2   \n",
       "4  5051721601         2  5051721605  5051721600    1    17   15    WI       2   \n",
       "\n",
       "  TYPEINT  ... CJOB  UHINS4  CHLD0_5  CHLD6_17  UHHCOUNT  QSC5  MNBEDRMS  \\\n",
       "0      A1  ...   -1       2        2         0         3     1         4   \n",
       "1      A1  ...    0       1        0         2         3     2         2   \n",
       "2      A1  ...   -1       2        0         4         6     1         3   \n",
       "3      A1  ...   -1       2        3         0         5     1         2   \n",
       "4      A1  ...    1       2        0         4         5     1         4   \n",
       "\n",
       "   MOWNRENT  OVERCROWDING  MPUBHOUS  \n",
       "0         1          0.75        -1  \n",
       "1         2          1.50        -1  \n",
       "2         2          2.00         2  \n",
       "3         2          2.50         2  \n",
       "4         2          1.25         1  \n",
       "\n",
       "[5 rows x 57 columns]"
      ]
     },
     "execution_count": 4,
     "metadata": {},
     "output_type": "execute_result"
    }
   ],
   "source": [
    "# Merge dataframes using the household ID number, \n",
    "# inner merge keeps only households that are linked to a focal child subject\n",
    "child = pd.merge(fc, hh, left_on = 'HHID', right_on = 'HHID', how='inner')\n",
    "\n",
    "# NaNs handling : replace all the missing values by -1\n",
    "child.replace([-7,-8,-9],-1,inplace=True)\n",
    "\n",
    "# Make the SEX variable binary with F=1 and M=0\n",
    "child['SEX'].replace(to_replace=dict(F=1, M=0),inplace=True)\n",
    "# Make the CJOB variable binary with Yes=1 and No=0\n",
    "child['CJOB'].replace(2,0,inplace=True)\n",
    "\n",
    "# Preview of child dataframe\n",
    "child.head()"
   ]
  },
  {
   "cell_type": "code",
   "execution_count": 5,
   "metadata": {},
   "outputs": [],
   "source": [
    "# Divide child data in 4 dfs based on age groups\n",
    "\n",
    "# Keep data of focal children from age 0 to 17 only\n",
    "child = child.loc[child['PERSTYPE'].isin([1,2])]\n",
    "\n",
    "# are there young children (0-5yo) in household?\n",
    "child.loc[:,'bool0_5'] = child['CHLD0_5'].apply(lambda x : 0 if x == 0 else 1)\n",
    "\n",
    "# FC1 : focal child, aged 0-5\n",
    "fc1 = child.copy()[child['PERSTYPE']==1]\n",
    "\n",
    "# FC23 : focal child, aged 6-17\n",
    "fc23 = child.copy()[child['PERSTYPE']==2]\n",
    "\n",
    "# FC2 : focal child, aged 6-11\n",
    "fc2 = child.copy()[(child['PERSTYPE']==2) & (child['UAGE'] < 12)]\n",
    "\n",
    "# FC3 : focal child, aged 12-17\n",
    "fc3 = child.copy()[(child['PERSTYPE']==2) & (child['UAGE'] >= 12)]"
   ]
  },
  {
   "cell_type": "code",
   "execution_count": 6,
   "metadata": {},
   "outputs": [
    {
     "name": "stdout",
     "output_type": "stream",
     "text": [
      "Shapes of dataframes:\n",
      "fc1: (12268, 58)\n",
      "fc2: (10925, 58)\n",
      "fc3:(11087, 58)\n",
      "fc23: (22012, 58)\n",
      "True\n"
     ]
    }
   ],
   "source": [
    "print(f'Shapes of dataframes:\\nfc1: {fc1.shape}\\nfc2: {fc2.shape}\\nfc3:{fc3.shape}\\nfc23: {fc23.shape}')\n",
    "print((fc1.shape[0] + fc2.shape[0] + fc3.shape[0]) == child.shape[0]) #test to see if all children are counted"
   ]
  },
  {
   "cell_type": "markdown",
   "metadata": {},
   "source": [
    "## Propensity score attempt\n",
    "\n",
    "__Living conditions indicator :__"
   ]
  },
  {
   "cell_type": "code",
   "execution_count": 7,
   "metadata": {},
   "outputs": [],
   "source": [
    "# returns a dataframe where the rows of the given 'df' containing NaN values for either the 'outcome'\n",
    "# or any of the 'predictors' have been removed\n",
    "def df_NN(df,outcome,predictors):\n",
    "    if len(predictors) <= 1:\n",
    "        bools = (df[predictors[0]] != -1)\n",
    "    else:\n",
    "        bools = df[predictors].isin([-1]).any(axis=1)==False\n",
    "    \n",
    "    return df.loc[(df[outcome] != -1) & (bools)]"
   ]
  },
  {
   "cell_type": "code",
   "execution_count": 8,
   "metadata": {},
   "outputs": [],
   "source": [
    "# Variables used for precarity indicator (economics and relationship with family)\n",
    "# NB CHOICE OF WORDS : PRECARITY NOT VERY ACCURATE\n",
    "prec = ['U_SOCPOV','OVERCROWDING','MOWNRENT','UHINS4','UAGG','UFAMSTR']\n",
    "prec3 = prec + ['CJOB']\n",
    "\n",
    "# IL FAUDRA DECIDER DE COMMENT GERER LES NANS SUR CES VALEURS POUR DEFINIR L'INDEX\n",
    "\n",
    "df_prec_2 = df_NN(fc2,'PERSID',prec)\n",
    "df_prec_3 = df_NN(fc3,'PERSID',prec3)"
   ]
  },
  {
   "cell_type": "code",
   "execution_count": 9,
   "metadata": {},
   "outputs": [],
   "source": [
    "# Living conditions indicator\n",
    "negative = ['OVERCROWDING','MOWNRENT','UHINS4']\n",
    "negative3 = negative + ['CJOB']\n",
    "positive = ['U_SOCPOV','UAGG','UFAMSTR']\n",
    "    \n",
    "# Normalize all the variables and sign them -> WE CAN CHOOSE WEIGHTS LATER TO TUNE THE INDEX\n",
    "# NB performs column-wise automatically\n",
    "norm_prec_2 =(df_prec_2[prec]-df_prec_2[prec].min())/(df_prec_2[prec].max()-df_prec_2[prec].min())\n",
    "norm_prec_3 =(df_prec_3[prec3]-df_prec_3[prec3].min())/(df_prec_3[prec3].max()-df_prec_3[prec3].min())\n",
    "norm_prec_2.loc[:,negative] *= -1\n",
    "norm_prec_3.loc[:,negative3] *= -1\n",
    "\n",
    "# Compute living conditions indicator\n",
    "norm_prec_2.loc[:,'living_ind'] = norm_prec_2.sum(axis=1)\n",
    "norm_prec_3.loc[:,'living_ind'] = norm_prec_3.sum(axis=1)"
   ]
  },
  {
   "cell_type": "code",
   "execution_count": 10,
   "metadata": {},
   "outputs": [],
   "source": [
    "# Choose a threshold to consider a household 'precarious' or not -> ADAPT (j'ai juste pris zero en mode random)\n",
    "norm_prec_2.loc[:,'precarious'] = norm_prec_2['living_ind'].apply(lambda x : 0 if x < 1 else 1)\n",
    "norm_prec_3.loc[:,'precarious'] = norm_prec_3['living_ind'].apply(lambda x : 0 if x < 1 else 1)\n",
    "\n",
    "# Merge this new column with whole df without NaNs\n",
    "fc2_prec = pd.merge(fc2, norm_prec_2['precarious'], left_index=True, right_index=True, how='inner')\n",
    "fc3_prec = pd.merge(fc3, norm_prec_3['precarious'], left_index=True, right_index=True, how='inner')"
   ]
  },
  {
   "cell_type": "code",
   "execution_count": 11,
   "metadata": {},
   "outputs": [
    {
     "data": {
      "text/html": [
       "<div>\n",
       "<style scoped>\n",
       "    .dataframe tbody tr th:only-of-type {\n",
       "        vertical-align: middle;\n",
       "    }\n",
       "\n",
       "    .dataframe tbody tr th {\n",
       "        vertical-align: top;\n",
       "    }\n",
       "\n",
       "    .dataframe thead th {\n",
       "        text-align: right;\n",
       "    }\n",
       "</style>\n",
       "<table border=\"1\" class=\"dataframe\">\n",
       "  <thead>\n",
       "    <tr style=\"text-align: right;\">\n",
       "      <th></th>\n",
       "      <th>PERSID</th>\n",
       "      <th>PERSTYPE</th>\n",
       "      <th>RESPID</th>\n",
       "      <th>UCPSID</th>\n",
       "      <th>SEX</th>\n",
       "      <th>UAGE</th>\n",
       "      <th>SITE</th>\n",
       "      <th>STATE</th>\n",
       "      <th>UREGION</th>\n",
       "      <th>TYPEINT</th>\n",
       "      <th>...</th>\n",
       "      <th>CHLD0_5</th>\n",
       "      <th>CHLD6_17</th>\n",
       "      <th>UHHCOUNT</th>\n",
       "      <th>QSC5</th>\n",
       "      <th>MNBEDRMS</th>\n",
       "      <th>MOWNRENT</th>\n",
       "      <th>OVERCROWDING</th>\n",
       "      <th>MPUBHOUS</th>\n",
       "      <th>bool0_5</th>\n",
       "      <th>precarious</th>\n",
       "    </tr>\n",
       "  </thead>\n",
       "  <tbody>\n",
       "    <tr>\n",
       "      <th>2</th>\n",
       "      <td>5787427204</td>\n",
       "      <td>2</td>\n",
       "      <td>5787427205</td>\n",
       "      <td>5787427200</td>\n",
       "      <td>1</td>\n",
       "      <td>9</td>\n",
       "      <td>15</td>\n",
       "      <td>WI</td>\n",
       "      <td>2</td>\n",
       "      <td>A1</td>\n",
       "      <td>...</td>\n",
       "      <td>0</td>\n",
       "      <td>4</td>\n",
       "      <td>6</td>\n",
       "      <td>1</td>\n",
       "      <td>3</td>\n",
       "      <td>2</td>\n",
       "      <td>2.000000</td>\n",
       "      <td>2</td>\n",
       "      <td>0</td>\n",
       "      <td>0</td>\n",
       "    </tr>\n",
       "    <tr>\n",
       "      <th>6</th>\n",
       "      <td>5353539201</td>\n",
       "      <td>2</td>\n",
       "      <td>5353539204</td>\n",
       "      <td>5353539200</td>\n",
       "      <td>1</td>\n",
       "      <td>11</td>\n",
       "      <td>15</td>\n",
       "      <td>WI</td>\n",
       "      <td>2</td>\n",
       "      <td>A1</td>\n",
       "      <td>...</td>\n",
       "      <td>2</td>\n",
       "      <td>1</td>\n",
       "      <td>9</td>\n",
       "      <td>2</td>\n",
       "      <td>4</td>\n",
       "      <td>2</td>\n",
       "      <td>2.250000</td>\n",
       "      <td>2</td>\n",
       "      <td>1</td>\n",
       "      <td>0</td>\n",
       "    </tr>\n",
       "    <tr>\n",
       "      <th>13</th>\n",
       "      <td>5442400001</td>\n",
       "      <td>2</td>\n",
       "      <td>5442400007</td>\n",
       "      <td>5442400000</td>\n",
       "      <td>0</td>\n",
       "      <td>11</td>\n",
       "      <td>15</td>\n",
       "      <td>WI</td>\n",
       "      <td>2</td>\n",
       "      <td>A1</td>\n",
       "      <td>...</td>\n",
       "      <td>3</td>\n",
       "      <td>3</td>\n",
       "      <td>8</td>\n",
       "      <td>1</td>\n",
       "      <td>3</td>\n",
       "      <td>2</td>\n",
       "      <td>2.666667</td>\n",
       "      <td>2</td>\n",
       "      <td>1</td>\n",
       "      <td>0</td>\n",
       "    </tr>\n",
       "    <tr>\n",
       "      <th>21</th>\n",
       "      <td>5851446401</td>\n",
       "      <td>2</td>\n",
       "      <td>5851446402</td>\n",
       "      <td>5851446400</td>\n",
       "      <td>0</td>\n",
       "      <td>7</td>\n",
       "      <td>15</td>\n",
       "      <td>WI</td>\n",
       "      <td>2</td>\n",
       "      <td>A1</td>\n",
       "      <td>...</td>\n",
       "      <td>0</td>\n",
       "      <td>1</td>\n",
       "      <td>2</td>\n",
       "      <td>1</td>\n",
       "      <td>2</td>\n",
       "      <td>2</td>\n",
       "      <td>1.000000</td>\n",
       "      <td>2</td>\n",
       "      <td>0</td>\n",
       "      <td>0</td>\n",
       "    </tr>\n",
       "    <tr>\n",
       "      <th>22</th>\n",
       "      <td>5047936001</td>\n",
       "      <td>2</td>\n",
       "      <td>5047936005</td>\n",
       "      <td>5047936000</td>\n",
       "      <td>1</td>\n",
       "      <td>8</td>\n",
       "      <td>15</td>\n",
       "      <td>WI</td>\n",
       "      <td>2</td>\n",
       "      <td>A1</td>\n",
       "      <td>...</td>\n",
       "      <td>3</td>\n",
       "      <td>1</td>\n",
       "      <td>5</td>\n",
       "      <td>1</td>\n",
       "      <td>3</td>\n",
       "      <td>2</td>\n",
       "      <td>1.666667</td>\n",
       "      <td>2</td>\n",
       "      <td>1</td>\n",
       "      <td>0</td>\n",
       "    </tr>\n",
       "  </tbody>\n",
       "</table>\n",
       "<p>5 rows × 59 columns</p>\n",
       "</div>"
      ],
      "text/plain": [
       "        PERSID  PERSTYPE      RESPID      UCPSID  SEX  UAGE SITE STATE  \\\n",
       "2   5787427204         2  5787427205  5787427200    1     9   15    WI   \n",
       "6   5353539201         2  5353539204  5353539200    1    11   15    WI   \n",
       "13  5442400001         2  5442400007  5442400000    0    11   15    WI   \n",
       "21  5851446401         2  5851446402  5851446400    0     7   15    WI   \n",
       "22  5047936001         2  5047936005  5047936000    1     8   15    WI   \n",
       "\n",
       "   UREGION TYPEINT  ... CHLD0_5  CHLD6_17  UHHCOUNT  QSC5  MNBEDRMS  MOWNRENT  \\\n",
       "2        2      A1  ...       0         4         6     1         3         2   \n",
       "6        2      A1  ...       2         1         9     2         4         2   \n",
       "13       2      A1  ...       3         3         8     1         3         2   \n",
       "21       2      A1  ...       0         1         2     1         2         2   \n",
       "22       2      A1  ...       3         1         5     1         3         2   \n",
       "\n",
       "    OVERCROWDING  MPUBHOUS  bool0_5  precarious  \n",
       "2       2.000000         2        0           0  \n",
       "6       2.250000         2        1           0  \n",
       "13      2.666667         2        1           0  \n",
       "21      1.000000         2        0           0  \n",
       "22      1.666667         2        1           0  \n",
       "\n",
       "[5 rows x 59 columns]"
      ]
     },
     "execution_count": 11,
     "metadata": {},
     "output_type": "execute_result"
    }
   ],
   "source": [
    "fc2_prec.head()"
   ]
  },
  {
   "cell_type": "markdown",
   "metadata": {},
   "source": [
    "__Logistic regression and propensity score :__"
   ]
  },
  {
   "cell_type": "code",
   "execution_count": 12,
   "metadata": {},
   "outputs": [
    {
     "name": "stdout",
     "output_type": "stream",
     "text": [
      "Warning: Maximum number of iterations has been exceeded.\n",
      "         Current function value: 0.035509\n",
      "         Iterations: 35\n",
      "         Function evaluations: 40\n",
      "         Gradient evaluations: 40\n",
      "Warning: Maximum number of iterations has been exceeded."
     ]
    },
    {
     "name": "stderr",
     "output_type": "stream",
     "text": [
      "C:\\Users\\alanh\\anaconda3\\lib\\site-packages\\statsmodels\\base\\model.py:566: ConvergenceWarning: Maximum Likelihood optimization failed to converge. Check mle_retvals\n",
      "  warnings.warn(\"Maximum Likelihood optimization failed to \"\n"
     ]
    },
    {
     "name": "stdout",
     "output_type": "stream",
     "text": [
      "\n",
      "         Current function value: 0.046458\n",
      "         Iterations: 35\n",
      "         Function evaluations: 38\n",
      "         Gradient evaluations: 38\n"
     ]
    },
    {
     "name": "stderr",
     "output_type": "stream",
     "text": [
      "C:\\Users\\alanh\\anaconda3\\lib\\site-packages\\statsmodels\\base\\model.py:566: ConvergenceWarning: Maximum Likelihood optimization failed to converge. Check mle_retvals\n",
      "  warnings.warn(\"Maximum Likelihood optimization failed to \"\n"
     ]
    }
   ],
   "source": [
    "# Perform logistic regression\n",
    "\n",
    "log_model_2 = 'precarious ~ SEX + UAGE + UREGION + UENG + UFAMSTR + UMH2 + UMHIGDEG + UAGG + CHLD0_5 + CHLD6_17 \\\n",
    "+ UHHCOUNT + U_SOCPOV + MNBEDRMS + MOWNRENT + OVERCROWDING + UBPIA + BDISBL + BHLTHN + UACT + CSPECED + UHINS4'\n",
    "\n",
    "log_model_3 = 'precarious ~ SEX + UAGE + UREGION + UENG + UFAMSTR + UMH2 + UMHIGDEG + UAGG + CHLD0_5 + CHLD6_17 \\\n",
    "+ UHHCOUNT + U_SOCPOV + MNBEDRMS + MOWNRENT + OVERCROWDING + UBPIB + BDISBL + BHLTHN + UACT + CSPECED + UHINS4 \\\n",
    "+ C(CJOB)'\n",
    "\n",
    "log2 = smf.logit(formula=log_model_2, data=fc2_prec)\n",
    "res2 = log2.fit(method='bfgs')  #J'AI MIS CETTE METHODE RANDOM PCQ SINON ÇA COMPILAIT PAS MAIS JSP CE QUE C'EST\n",
    "log3 = smf.logit(formula=log_model_3, data=fc3_prec)\n",
    "res3 = log3.fit(method='bfgs')"
   ]
  },
  {
   "cell_type": "code",
   "execution_count": 13,
   "metadata": {},
   "outputs": [
    {
     "data": {
      "text/html": [
       "<table class=\"simpletable\">\n",
       "<caption>Logit Regression Results</caption>\n",
       "<tr>\n",
       "  <th>Dep. Variable:</th>      <td>precarious</td>    <th>  No. Observations:  </th>  <td> 10665</td> \n",
       "</tr>\n",
       "<tr>\n",
       "  <th>Model:</th>                 <td>Logit</td>      <th>  Df Residuals:      </th>  <td> 10641</td> \n",
       "</tr>\n",
       "<tr>\n",
       "  <th>Method:</th>                 <td>MLE</td>       <th>  Df Model:          </th>  <td>    23</td> \n",
       "</tr>\n",
       "<tr>\n",
       "  <th>Date:</th>            <td>Fri, 04 Dec 2020</td> <th>  Pseudo R-squ.:     </th>  <td>0.9333</td> \n",
       "</tr>\n",
       "<tr>\n",
       "  <th>Time:</th>                <td>12:24:37</td>     <th>  Log-Likelihood:    </th> <td> -378.70</td>\n",
       "</tr>\n",
       "<tr>\n",
       "  <th>converged:</th>             <td>False</td>      <th>  LL-Null:           </th> <td> -5674.3</td>\n",
       "</tr>\n",
       "<tr>\n",
       "  <th>Covariance Type:</th>     <td>nonrobust</td>    <th>  LLR p-value:       </th>  <td> 0.000</td> \n",
       "</tr>\n",
       "</table>\n",
       "<table class=\"simpletable\">\n",
       "<tr>\n",
       "        <td></td>          <th>coef</th>     <th>std err</th>      <th>z</th>      <th>P>|z|</th>  <th>[0.025</th>    <th>0.975]</th>  \n",
       "</tr>\n",
       "<tr>\n",
       "  <th>Intercept</th>    <td>   -1.3849</td> <td>    1.283</td> <td>   -1.080</td> <td> 0.280</td> <td>   -3.899</td> <td>    1.129</td>\n",
       "</tr>\n",
       "<tr>\n",
       "  <th>UREGION[T.2]</th> <td>    0.0366</td> <td>    0.290</td> <td>    0.126</td> <td> 0.900</td> <td>   -0.533</td> <td>    0.606</td>\n",
       "</tr>\n",
       "<tr>\n",
       "  <th>UREGION[T.3]</th> <td>    0.0609</td> <td>    0.270</td> <td>    0.226</td> <td> 0.821</td> <td>   -0.467</td> <td>    0.589</td>\n",
       "</tr>\n",
       "<tr>\n",
       "  <th>UREGION[T.4]</th> <td>   -0.3420</td> <td>    0.288</td> <td>   -1.186</td> <td> 0.236</td> <td>   -0.907</td> <td>    0.223</td>\n",
       "</tr>\n",
       "<tr>\n",
       "  <th>SEX</th>          <td>   -0.0861</td> <td>    0.185</td> <td>   -0.465</td> <td> 0.642</td> <td>   -0.449</td> <td>    0.277</td>\n",
       "</tr>\n",
       "<tr>\n",
       "  <th>UAGE</th>         <td>   -0.4268</td> <td>    0.061</td> <td>   -6.952</td> <td> 0.000</td> <td>   -0.547</td> <td>   -0.306</td>\n",
       "</tr>\n",
       "<tr>\n",
       "  <th>UENG</th>         <td>   -0.0705</td> <td>    0.036</td> <td>   -1.984</td> <td> 0.047</td> <td>   -0.140</td> <td>   -0.001</td>\n",
       "</tr>\n",
       "<tr>\n",
       "  <th>UFAMSTR</th>      <td>    7.8713</td> <td>    0.409</td> <td>   19.268</td> <td> 0.000</td> <td>    7.071</td> <td>    8.672</td>\n",
       "</tr>\n",
       "<tr>\n",
       "  <th>UMH2</th>         <td>   -0.0020</td> <td>    0.006</td> <td>   -0.304</td> <td> 0.761</td> <td>   -0.015</td> <td>    0.011</td>\n",
       "</tr>\n",
       "<tr>\n",
       "  <th>UMHIGDEG</th>     <td>   -0.1400</td> <td>    0.045</td> <td>   -3.114</td> <td> 0.002</td> <td>   -0.228</td> <td>   -0.052</td>\n",
       "</tr>\n",
       "<tr>\n",
       "  <th>UAGG</th>         <td>    1.5878</td> <td>    0.096</td> <td>   16.596</td> <td> 0.000</td> <td>    1.400</td> <td>    1.775</td>\n",
       "</tr>\n",
       "<tr>\n",
       "  <th>CHLD0_5</th>      <td>   -0.5884</td> <td>    0.179</td> <td>   -3.283</td> <td> 0.001</td> <td>   -0.940</td> <td>   -0.237</td>\n",
       "</tr>\n",
       "<tr>\n",
       "  <th>CHLD6_17</th>     <td>   -0.4208</td> <td>    0.158</td> <td>   -2.669</td> <td> 0.008</td> <td>   -0.730</td> <td>   -0.112</td>\n",
       "</tr>\n",
       "<tr>\n",
       "  <th>UHHCOUNT</th>     <td>    0.1505</td> <td>    0.168</td> <td>    0.897</td> <td> 0.370</td> <td>   -0.178</td> <td>    0.479</td>\n",
       "</tr>\n",
       "<tr>\n",
       "  <th>U_SOCPOV</th>     <td>    6.1704</td> <td>    0.324</td> <td>   19.062</td> <td> 0.000</td> <td>    5.536</td> <td>    6.805</td>\n",
       "</tr>\n",
       "<tr>\n",
       "  <th>MNBEDRMS</th>     <td>   -0.0658</td> <td>    0.221</td> <td>   -0.297</td> <td> 0.766</td> <td>   -0.500</td> <td>    0.368</td>\n",
       "</tr>\n",
       "<tr>\n",
       "  <th>MOWNRENT</th>     <td>  -11.9452</td> <td>    0.623</td> <td>  -19.158</td> <td> 0.000</td> <td>  -13.167</td> <td>  -10.723</td>\n",
       "</tr>\n",
       "<tr>\n",
       "  <th>OVERCROWDING</th> <td>   -2.5715</td> <td>    0.324</td> <td>   -7.927</td> <td> 0.000</td> <td>   -3.207</td> <td>   -1.936</td>\n",
       "</tr>\n",
       "<tr>\n",
       "  <th>UBPIA</th>        <td>   -0.2826</td> <td>    0.052</td> <td>   -5.475</td> <td> 0.000</td> <td>   -0.384</td> <td>   -0.181</td>\n",
       "</tr>\n",
       "<tr>\n",
       "  <th>BDISBL</th>       <td>   -0.8962</td> <td>    0.320</td> <td>   -2.800</td> <td> 0.005</td> <td>   -1.524</td> <td>   -0.269</td>\n",
       "</tr>\n",
       "<tr>\n",
       "  <th>BHLTHN</th>       <td>   -0.5258</td> <td>    0.105</td> <td>   -5.020</td> <td> 0.000</td> <td>   -0.731</td> <td>   -0.321</td>\n",
       "</tr>\n",
       "<tr>\n",
       "  <th>UACT</th>         <td>    0.0303</td> <td>    0.103</td> <td>    0.293</td> <td> 0.769</td> <td>   -0.172</td> <td>    0.232</td>\n",
       "</tr>\n",
       "<tr>\n",
       "  <th>CSPECED</th>      <td>   -0.7670</td> <td>    0.224</td> <td>   -3.421</td> <td> 0.001</td> <td>   -1.206</td> <td>   -0.328</td>\n",
       "</tr>\n",
       "<tr>\n",
       "  <th>UHINS4</th>       <td>   -7.9918</td> <td>    0.414</td> <td>  -19.288</td> <td> 0.000</td> <td>   -8.804</td> <td>   -7.180</td>\n",
       "</tr>\n",
       "</table><br/><br/>Possibly complete quasi-separation: A fraction 0.80 of observations can be<br/>perfectly predicted. This might indicate that there is complete<br/>quasi-separation. In this case some parameters will not be identified."
      ],
      "text/plain": [
       "<class 'statsmodels.iolib.summary.Summary'>\n",
       "\"\"\"\n",
       "                           Logit Regression Results                           \n",
       "==============================================================================\n",
       "Dep. Variable:             precarious   No. Observations:                10665\n",
       "Model:                          Logit   Df Residuals:                    10641\n",
       "Method:                           MLE   Df Model:                           23\n",
       "Date:                Fri, 04 Dec 2020   Pseudo R-squ.:                  0.9333\n",
       "Time:                        12:24:37   Log-Likelihood:                -378.70\n",
       "converged:                      False   LL-Null:                       -5674.3\n",
       "Covariance Type:            nonrobust   LLR p-value:                     0.000\n",
       "================================================================================\n",
       "                   coef    std err          z      P>|z|      [0.025      0.975]\n",
       "--------------------------------------------------------------------------------\n",
       "Intercept       -1.3849      1.283     -1.080      0.280      -3.899       1.129\n",
       "UREGION[T.2]     0.0366      0.290      0.126      0.900      -0.533       0.606\n",
       "UREGION[T.3]     0.0609      0.270      0.226      0.821      -0.467       0.589\n",
       "UREGION[T.4]    -0.3420      0.288     -1.186      0.236      -0.907       0.223\n",
       "SEX             -0.0861      0.185     -0.465      0.642      -0.449       0.277\n",
       "UAGE            -0.4268      0.061     -6.952      0.000      -0.547      -0.306\n",
       "UENG            -0.0705      0.036     -1.984      0.047      -0.140      -0.001\n",
       "UFAMSTR          7.8713      0.409     19.268      0.000       7.071       8.672\n",
       "UMH2            -0.0020      0.006     -0.304      0.761      -0.015       0.011\n",
       "UMHIGDEG        -0.1400      0.045     -3.114      0.002      -0.228      -0.052\n",
       "UAGG             1.5878      0.096     16.596      0.000       1.400       1.775\n",
       "CHLD0_5         -0.5884      0.179     -3.283      0.001      -0.940      -0.237\n",
       "CHLD6_17        -0.4208      0.158     -2.669      0.008      -0.730      -0.112\n",
       "UHHCOUNT         0.1505      0.168      0.897      0.370      -0.178       0.479\n",
       "U_SOCPOV         6.1704      0.324     19.062      0.000       5.536       6.805\n",
       "MNBEDRMS        -0.0658      0.221     -0.297      0.766      -0.500       0.368\n",
       "MOWNRENT       -11.9452      0.623    -19.158      0.000     -13.167     -10.723\n",
       "OVERCROWDING    -2.5715      0.324     -7.927      0.000      -3.207      -1.936\n",
       "UBPIA           -0.2826      0.052     -5.475      0.000      -0.384      -0.181\n",
       "BDISBL          -0.8962      0.320     -2.800      0.005      -1.524      -0.269\n",
       "BHLTHN          -0.5258      0.105     -5.020      0.000      -0.731      -0.321\n",
       "UACT             0.0303      0.103      0.293      0.769      -0.172       0.232\n",
       "CSPECED         -0.7670      0.224     -3.421      0.001      -1.206      -0.328\n",
       "UHINS4          -7.9918      0.414    -19.288      0.000      -8.804      -7.180\n",
       "================================================================================\n",
       "\n",
       "Possibly complete quasi-separation: A fraction 0.80 of observations can be\n",
       "perfectly predicted. This might indicate that there is complete\n",
       "quasi-separation. In this case some parameters will not be identified.\n",
       "\"\"\""
      ]
     },
     "execution_count": 13,
     "metadata": {},
     "output_type": "execute_result"
    }
   ],
   "source": [
    "res2.summary()"
   ]
  },
  {
   "cell_type": "code",
   "execution_count": 14,
   "metadata": {},
   "outputs": [
    {
     "name": "stdout",
     "output_type": "stream",
     "text": [
      "RES2 :  mean error : -1.1292419443499894e-05,  std : 0.10503502399711755\n"
     ]
    }
   ],
   "source": [
    "diff2 = (res2.predict(fc2_prec) - fc2_prec['precarious'])\n",
    "fc2_prec.loc[:,'predict_precarious'] = res2.predict(fc2_prec)\n",
    "print('RES2 :  mean error : '+ str(diff2.mean())+',  std : '+ str(diff2.std()))"
   ]
  },
  {
   "cell_type": "code",
   "execution_count": 15,
   "metadata": {},
   "outputs": [
    {
     "name": "stdout",
     "output_type": "stream",
     "text": [
      "RES3 :  mean error : 0.004162385380685083,  std : 0.12044303710942893\n"
     ]
    }
   ],
   "source": [
    "diff3 = (res3.predict(fc3_prec) - fc3_prec['precarious'])\n",
    "fc3_prec.loc[:,'predict_precarious'] = res3.predict(fc3_prec)\n",
    "print('RES3 :  mean error : '+ str(diff3.mean())+',  std : '+ str(diff3.std()))"
   ]
  },
  {
   "cell_type": "code",
   "execution_count": 16,
   "metadata": {},
   "outputs": [
    {
     "data": {
      "image/png": "[encoded data removed]",
      "text/plain": [
       "<Figure size 432x288 with 1 Axes>"
      ]
     },
     "metadata": {
      "needs_background": "light"
     },
     "output_type": "display_data"
    }
   ],
   "source": [
    "plt.hist(abs(diff2),bins=50)\n",
    "plt.axvline(0.5,color='r',linestyle='--')\n",
    "plt.show()"
   ]
  },
  {
   "cell_type": "code",
   "execution_count": 17,
   "metadata": {},
   "outputs": [
    {
     "data": {
      "image/png": "[encoded data removed]",
      "text/plain": [
       "<Figure size 432x288 with 1 Axes>"
      ]
     },
     "metadata": {
      "needs_background": "light"
     },
     "output_type": "display_data"
    }
   ],
   "source": [
    "plt.hist(abs(diff3),bins=50)\n",
    "plt.axvline(0.5,color='r',linestyle='--')\n",
    "plt.show()"
   ]
  },
  {
   "cell_type": "markdown",
   "metadata": {},
   "source": [
    "### PS for bool0_5"
   ]
  },
  {
   "cell_type": "code",
   "execution_count": 18,
   "metadata": {},
   "outputs": [],
   "source": [
    "# je retrouve exclusivement les rows avec PERSTYPE = 2, surement une variable que je sélectionne qui était seulement demandées aux 6-17"
   ]
  },
  {
   "cell_type": "code",
   "execution_count": 19,
   "metadata": {},
   "outputs": [
    {
     "name": "stdout",
     "output_type": "stream",
     "text": [
      "Optimization terminated successfully.\n",
      "         Current function value: 0.373439\n",
      "         Iterations 7\n"
     ]
    }
   ],
   "source": [
    "# logistic regression for CHLD0_5\n",
    "predictors= ['SEX','UAGE','UREGION','UFAMSTR','UMH2','UMHIGDEG','UAGG','CHLD6_17','UHHCOUNT','U_SOCPOV','MNBEDRMS','MOWNRENT','OVERCROWDING','UBPIA','BDISBL','BHLTHN','UACT','CSPECED','UHINS4']\n",
    "df_05 = df_NN(child,'bool0_5',predictors)\n",
    "\n",
    "log_model_1 = 'bool0_5 ~ SEX + UAGE + UREGION + UFAMSTR + UMH2 + UMHIGDEG + UAGG + CHLD6_17 \\\n",
    "+ UHHCOUNT + U_SOCPOV + MNBEDRMS + MOWNRENT + OVERCROWDING + UBPIA + BDISBL + BHLTHN + UACT + CSPECED + UHINS4'\n",
    "\n",
    "log1 = smf.logit(formula=log_model_1, data=df_05)\n",
    "res1 = log1.fit()"
   ]
  },
  {
   "cell_type": "code",
   "execution_count": 20,
   "metadata": {},
   "outputs": [
    {
     "data": {
      "text/html": [
       "<table class=\"simpletable\">\n",
       "<caption>Logit Regression Results</caption>\n",
       "<tr>\n",
       "  <th>Dep. Variable:</th>        <td>bool0_5</td>     <th>  No. Observations:  </th>  <td> 10501</td> \n",
       "</tr>\n",
       "<tr>\n",
       "  <th>Model:</th>                 <td>Logit</td>      <th>  Df Residuals:      </th>  <td> 10479</td> \n",
       "</tr>\n",
       "<tr>\n",
       "  <th>Method:</th>                 <td>MLE</td>       <th>  Df Model:          </th>  <td>    21</td> \n",
       "</tr>\n",
       "<tr>\n",
       "  <th>Date:</th>            <td>Fri, 04 Dec 2020</td> <th>  Pseudo R-squ.:     </th>  <td>0.4511</td> \n",
       "</tr>\n",
       "<tr>\n",
       "  <th>Time:</th>                <td>12:24:38</td>     <th>  Log-Likelihood:    </th> <td> -3921.5</td>\n",
       "</tr>\n",
       "<tr>\n",
       "  <th>converged:</th>             <td>True</td>       <th>  LL-Null:           </th> <td> -7143.9</td>\n",
       "</tr>\n",
       "<tr>\n",
       "  <th>Covariance Type:</th>     <td>nonrobust</td>    <th>  LLR p-value:       </th>  <td> 0.000</td> \n",
       "</tr>\n",
       "</table>\n",
       "<table class=\"simpletable\">\n",
       "<tr>\n",
       "        <td></td>          <th>coef</th>     <th>std err</th>      <th>z</th>      <th>P>|z|</th>  <th>[0.025</th>    <th>0.975]</th>  \n",
       "</tr>\n",
       "<tr>\n",
       "  <th>Intercept</th>    <td>   -1.2723</td> <td>    0.458</td> <td>   -2.778</td> <td> 0.005</td> <td>   -2.170</td> <td>   -0.375</td>\n",
       "</tr>\n",
       "<tr>\n",
       "  <th>UREGION[T.2]</th> <td>    0.2230</td> <td>    0.082</td> <td>    2.717</td> <td> 0.007</td> <td>    0.062</td> <td>    0.384</td>\n",
       "</tr>\n",
       "<tr>\n",
       "  <th>UREGION[T.3]</th> <td>   -0.0298</td> <td>    0.084</td> <td>   -0.354</td> <td> 0.723</td> <td>   -0.194</td> <td>    0.135</td>\n",
       "</tr>\n",
       "<tr>\n",
       "  <th>UREGION[T.4]</th> <td>    0.0843</td> <td>    0.086</td> <td>    0.976</td> <td> 0.329</td> <td>   -0.085</td> <td>    0.254</td>\n",
       "</tr>\n",
       "<tr>\n",
       "  <th>SEX</th>          <td>    0.0318</td> <td>    0.058</td> <td>    0.552</td> <td> 0.581</td> <td>   -0.081</td> <td>    0.145</td>\n",
       "</tr>\n",
       "<tr>\n",
       "  <th>UAGE</th>         <td>   -0.2457</td> <td>    0.017</td> <td>  -14.161</td> <td> 0.000</td> <td>   -0.280</td> <td>   -0.212</td>\n",
       "</tr>\n",
       "<tr>\n",
       "  <th>UFAMSTR</th>      <td>   -0.1448</td> <td>    0.035</td> <td>   -4.144</td> <td> 0.000</td> <td>   -0.213</td> <td>   -0.076</td>\n",
       "</tr>\n",
       "<tr>\n",
       "  <th>UMH2</th>         <td>    0.0048</td> <td>    0.002</td> <td>    1.987</td> <td> 0.047</td> <td> 6.65e-05</td> <td>    0.010</td>\n",
       "</tr>\n",
       "<tr>\n",
       "  <th>UMHIGDEG</th>     <td>   -0.0035</td> <td>    0.016</td> <td>   -0.225</td> <td> 0.822</td> <td>   -0.034</td> <td>    0.027</td>\n",
       "</tr>\n",
       "<tr>\n",
       "  <th>UAGG</th>         <td>   -0.0926</td> <td>    0.018</td> <td>   -5.215</td> <td> 0.000</td> <td>   -0.127</td> <td>   -0.058</td>\n",
       "</tr>\n",
       "<tr>\n",
       "  <th>CHLD6_17</th>     <td>   -2.7777</td> <td>    0.060</td> <td>  -46.352</td> <td> 0.000</td> <td>   -2.895</td> <td>   -2.660</td>\n",
       "</tr>\n",
       "<tr>\n",
       "  <th>UHHCOUNT</th>     <td>    2.3701</td> <td>    0.063</td> <td>   37.914</td> <td> 0.000</td> <td>    2.248</td> <td>    2.493</td>\n",
       "</tr>\n",
       "<tr>\n",
       "  <th>U_SOCPOV</th>     <td>   -0.4298</td> <td>    0.031</td> <td>  -13.885</td> <td> 0.000</td> <td>   -0.490</td> <td>   -0.369</td>\n",
       "</tr>\n",
       "<tr>\n",
       "  <th>MNBEDRMS</th>     <td>   -0.1047</td> <td>    0.065</td> <td>   -1.604</td> <td> 0.109</td> <td>   -0.233</td> <td>    0.023</td>\n",
       "</tr>\n",
       "<tr>\n",
       "  <th>MOWNRENT</th>     <td>    0.3884</td> <td>    0.065</td> <td>    5.989</td> <td> 0.000</td> <td>    0.261</td> <td>    0.516</td>\n",
       "</tr>\n",
       "<tr>\n",
       "  <th>OVERCROWDING</th> <td>    0.0059</td> <td>    0.110</td> <td>    0.053</td> <td> 0.957</td> <td>   -0.210</td> <td>    0.222</td>\n",
       "</tr>\n",
       "<tr>\n",
       "  <th>UBPIA</th>        <td>   -0.0139</td> <td>    0.017</td> <td>   -0.816</td> <td> 0.415</td> <td>   -0.047</td> <td>    0.020</td>\n",
       "</tr>\n",
       "<tr>\n",
       "  <th>BDISBL</th>       <td>    0.0681</td> <td>    0.111</td> <td>    0.612</td> <td> 0.541</td> <td>   -0.150</td> <td>    0.286</td>\n",
       "</tr>\n",
       "<tr>\n",
       "  <th>BHLTHN</th>       <td>   -0.1370</td> <td>    0.036</td> <td>   -3.826</td> <td> 0.000</td> <td>   -0.207</td> <td>   -0.067</td>\n",
       "</tr>\n",
       "<tr>\n",
       "  <th>UACT</th>         <td>    0.1011</td> <td>    0.033</td> <td>    3.090</td> <td> 0.002</td> <td>    0.037</td> <td>    0.165</td>\n",
       "</tr>\n",
       "<tr>\n",
       "  <th>CSPECED</th>      <td>    0.1690</td> <td>    0.098</td> <td>    1.725</td> <td> 0.085</td> <td>   -0.023</td> <td>    0.361</td>\n",
       "</tr>\n",
       "<tr>\n",
       "  <th>UHINS4</th>       <td>   -0.1414</td> <td>    0.035</td> <td>   -4.024</td> <td> 0.000</td> <td>   -0.210</td> <td>   -0.073</td>\n",
       "</tr>\n",
       "</table>"
      ],
      "text/plain": [
       "<class 'statsmodels.iolib.summary.Summary'>\n",
       "\"\"\"\n",
       "                           Logit Regression Results                           \n",
       "==============================================================================\n",
       "Dep. Variable:                bool0_5   No. Observations:                10501\n",
       "Model:                          Logit   Df Residuals:                    10479\n",
       "Method:                           MLE   Df Model:                           21\n",
       "Date:                Fri, 04 Dec 2020   Pseudo R-squ.:                  0.4511\n",
       "Time:                        12:24:38   Log-Likelihood:                -3921.5\n",
       "converged:                       True   LL-Null:                       -7143.9\n",
       "Covariance Type:            nonrobust   LLR p-value:                     0.000\n",
       "================================================================================\n",
       "                   coef    std err          z      P>|z|      [0.025      0.975]\n",
       "--------------------------------------------------------------------------------\n",
       "Intercept       -1.2723      0.458     -2.778      0.005      -2.170      -0.375\n",
       "UREGION[T.2]     0.2230      0.082      2.717      0.007       0.062       0.384\n",
       "UREGION[T.3]    -0.0298      0.084     -0.354      0.723      -0.194       0.135\n",
       "UREGION[T.4]     0.0843      0.086      0.976      0.329      -0.085       0.254\n",
       "SEX              0.0318      0.058      0.552      0.581      -0.081       0.145\n",
       "UAGE            -0.2457      0.017    -14.161      0.000      -0.280      -0.212\n",
       "UFAMSTR         -0.1448      0.035     -4.144      0.000      -0.213      -0.076\n",
       "UMH2             0.0048      0.002      1.987      0.047    6.65e-05       0.010\n",
       "UMHIGDEG        -0.0035      0.016     -0.225      0.822      -0.034       0.027\n",
       "UAGG            -0.0926      0.018     -5.215      0.000      -0.127      -0.058\n",
       "CHLD6_17        -2.7777      0.060    -46.352      0.000      -2.895      -2.660\n",
       "UHHCOUNT         2.3701      0.063     37.914      0.000       2.248       2.493\n",
       "U_SOCPOV        -0.4298      0.031    -13.885      0.000      -0.490      -0.369\n",
       "MNBEDRMS        -0.1047      0.065     -1.604      0.109      -0.233       0.023\n",
       "MOWNRENT         0.3884      0.065      5.989      0.000       0.261       0.516\n",
       "OVERCROWDING     0.0059      0.110      0.053      0.957      -0.210       0.222\n",
       "UBPIA           -0.0139      0.017     -0.816      0.415      -0.047       0.020\n",
       "BDISBL           0.0681      0.111      0.612      0.541      -0.150       0.286\n",
       "BHLTHN          -0.1370      0.036     -3.826      0.000      -0.207      -0.067\n",
       "UACT             0.1011      0.033      3.090      0.002       0.037       0.165\n",
       "CSPECED          0.1690      0.098      1.725      0.085      -0.023       0.361\n",
       "UHINS4          -0.1414      0.035     -4.024      0.000      -0.210      -0.073\n",
       "================================================================================\n",
       "\"\"\""
      ]
     },
     "execution_count": 20,
     "metadata": {},
     "output_type": "execute_result"
    }
   ],
   "source": [
    "res1.summary()"
   ]
  },
  {
   "cell_type": "code",
   "execution_count": 21,
   "metadata": {},
   "outputs": [
    {
     "name": "stdout",
     "output_type": "stream",
     "text": [
      "RES1 :  mean error : 1.509462174020615e-16,  std : 0.3304809144688764\n"
     ]
    },
    {
     "name": "stderr",
     "output_type": "stream",
     "text": [
      "C:\\Users\\alanh\\anaconda3\\lib\\site-packages\\pandas\\core\\indexing.py:1596: SettingWithCopyWarning: \n",
      "A value is trying to be set on a copy of a slice from a DataFrame.\n",
      "Try using .loc[row_indexer,col_indexer] = value instead\n",
      "\n",
      "See the caveats in the documentation: https://pandas.pydata.org/pandas-docs/stable/user_guide/indexing.html#returning-a-view-versus-a-copy\n",
      "  self.obj[key] = _infer_fill_value(value)\n",
      "C:\\Users\\alanh\\anaconda3\\lib\\site-packages\\pandas\\core\\indexing.py:1745: SettingWithCopyWarning: \n",
      "A value is trying to be set on a copy of a slice from a DataFrame.\n",
      "Try using .loc[row_indexer,col_indexer] = value instead\n",
      "\n",
      "See the caveats in the documentation: https://pandas.pydata.org/pandas-docs/stable/user_guide/indexing.html#returning-a-view-versus-a-copy\n",
      "  isetter(ilocs[0], value)\n"
     ]
    }
   ],
   "source": [
    "pred1 = res1.predict(df_05)\n",
    "diff1 = (pred1 - df_05['bool0_5'])\n",
    "df_05.loc[:,'PS'] = pred1\n",
    "print('RES1 :  mean error : '+ str(diff1.mean())+',  std : '+ str(diff1.std()))"
   ]
  },
  {
   "cell_type": "code",
   "execution_count": 22,
   "metadata": {},
   "outputs": [
    {
     "data": {
      "image/png": "[encoded data removed]",
      "text/plain": [
       "<Figure size 432x288 with 1 Axes>"
      ]
     },
     "metadata": {
      "needs_background": "light"
     },
     "output_type": "display_data"
    }
   ],
   "source": [
    "#relativement homogène\n",
    "plt.hist(pred1,bins=50)\n",
    "plt.show()"
   ]
  },
  {
   "cell_type": "code",
   "execution_count": 23,
   "metadata": {},
   "outputs": [
    {
     "data": {
      "image/png": "[encoded data removed]",
      "text/plain": [
       "<Figure size 432x288 with 1 Axes>"
      ]
     },
     "metadata": {
      "needs_background": "light"
     },
     "output_type": "display_data"
    }
   ],
   "source": [
    "plt.hist(abs(diff1),bins=50)\n",
    "plt.axvline(0.5,color='r',linestyle='--')\n",
    "plt.show()"
   ]
  },
  {
   "cell_type": "markdown",
   "metadata": {},
   "source": [
    "#### without matching"
   ]
  },
  {
   "cell_type": "code",
   "execution_count": 24,
   "metadata": {},
   "outputs": [
    {
     "data": {
      "image/png": "[encoded data removed]",
      "text/plain": [
       "<Figure size 720x360 with 1 Axes>"
      ]
     },
     "metadata": {
      "needs_background": "light"
     },
     "output_type": "display_data"
    }
   ],
   "source": [
    "# Plot PS for unmatched groups\n",
    "fig = plt.figure(figsize=(10,5))\n",
    "sns.histplot(data=df_05, x=\"PS\", hue='bool0_5', kde=True, element='step', stat='density',\n",
    "             common_norm=False)\n",
    "plt.xlabel('PS', fontsize=12)\n",
    "plt.suptitle('PS distribution comparison for unmatched samples', fontsize=14, fontweight='bold')\n",
    "plt.legend(['has young child','no young child'], loc='upper left', fontsize = 12)\n",
    "plt.show()"
   ]
  },
  {
   "cell_type": "code",
   "execution_count": 25,
   "metadata": {},
   "outputs": [
    {
     "data": {
      "image/png": "[encoded data removed]",
      "text/plain": [
       "<Figure size 720x360 with 1 Axes>"
      ]
     },
     "metadata": {
      "needs_background": "light"
     },
     "output_type": "display_data"
    }
   ],
   "source": [
    "# Plot a seemingly unrelated variable (here OVERCROWDING) for unmatched groups\n",
    "var = 'OVERCROWDING'\n",
    "fig = plt.figure(figsize=(10,5))\n",
    "sns.kdeplot(data=df_05, x=var, hue='bool0_5', palette=['r','g'], shade=True)\n",
    "plt.xlabel(var, fontsize=12)\n",
    "plt.suptitle(var+' distribution for unmatched samples', fontsize=14, fontweight='bold')\n",
    "plt.legend(['has young child','no young child'], loc='upper left', fontsize = 12)\n",
    "plt.show()"
   ]
  },
  {
   "cell_type": "code",
   "execution_count": 26,
   "metadata": {},
   "outputs": [],
   "source": [
    "umh = df_05.groupby('bool0_5').mean()"
   ]
  },
  {
   "cell_type": "code",
   "execution_count": 27,
   "metadata": {},
   "outputs": [
    {
     "data": {
      "text/plain": [
       "<seaborn.axisgrid.FacetGrid at 0x1ed67551910>"
      ]
     },
     "execution_count": 27,
     "metadata": {},
     "output_type": "execute_result"
    },
    {
     "data": {
      "image/png": "[encoded data removed]",
      "text/plain": [
       "<Figure size 360x360 with 1 Axes>"
      ]
     },
     "metadata": {
      "needs_background": "light"
     },
     "output_type": "display_data"
    }
   ],
   "source": [
    "# not huge difference of about 0.6 -> could finish the conclusion by making bootstrap interval -> probably significant\n",
    "sns.catplot(data=umh.reset_index(),x='bool0_5',y='UMH2',kind='bar')"
   ]
  },
  {
   "cell_type": "markdown",
   "metadata": {},
   "source": [
    "#### with matching"
   ]
  },
  {
   "cell_type": "code",
   "execution_count": 58,
   "metadata": {},
   "outputs": [],
   "source": [
    "# Performs caliper matching with caliper width 'epsilon' between treated subjects and non-treated subjects\n",
    "# returns two lists with indices of matched pairs in 'treatment' and 'control' dataframes\n",
    "def caliper_matching (treatment, control, epsilon) :\n",
    "#    matched_pairs = []\n",
    "    \n",
    "    # List of control index\n",
    "    idx = []\n",
    "    for k in range(control.shape[0]):\n",
    "        idx.append(k)\n",
    "    \n",
    "    # Lists of indices of treated and non-treated matched subjects\n",
    "    matched_treatment_indices = []\n",
    "    matched_control_indices = []\n",
    "    # 1-to-1 matching\n",
    "    for i in range(treatment.shape[0]) :\n",
    "        for j in idx :\n",
    "            diff = abs(control.loc[j,'PS'] - treatment.loc[i,'PS'])\n",
    "            if diff < epsilon :\n",
    "                matched_treatment_indices.append(i)\n",
    "                matched_control_indices.append(j)\n",
    "                idx.remove(j)\n",
    "                break\n",
    "    \n",
    "    return matched_treatment_indices, matched_control_indices"
   ]
  },
  {
   "cell_type": "code",
   "execution_count": 59,
   "metadata": {},
   "outputs": [
    {
     "name": "stdout",
     "output_type": "stream",
     "text": [
      "Number of treated subjects (children) : 4411 \n",
      "Number of control subjects (no children) : 6090 \n",
      "Number of matched pairs : 3365\n"
     ]
    }
   ],
   "source": [
    "trtm0_5 = df_05[df_05.bool0_5 == 1].sample(frac=1).reset_index(drop=True)\n",
    "ctrl0_5 = df_05[df_05.bool0_5 == 0].sample(frac=1).reset_index(drop=True)\n",
    "\n",
    "# Perform matching between treated and non-treated papers\n",
    "epsilon=0.5\n",
    "tr_match_idx, ctl_match_idx = caliper_matching(trtm0_5,ctrl0_5,epsilon)\n",
    "\n",
    "print(f'Number of treated subjects (children) : {trtm0_5.shape[0]} \\n\\\n",
    "Number of control subjects (no children) : {ctrl0_5.shape[0]} \\n\\\n",
    "Number of matched pairs : {len(tr_match_idx)}')"
   ]
  },
  {
   "cell_type": "code",
   "execution_count": 60,
   "metadata": {},
   "outputs": [],
   "source": [
    "matched0_5 = trtm0_5.loc[tr_match_idx,:].append(ctrl0_5.loc[ctl_match_idx,:])"
   ]
  },
  {
   "cell_type": "code",
   "execution_count": 61,
   "metadata": {},
   "outputs": [
    {
     "data": {
      "image/png": "[encoded data removed]",
      "text/plain": [
       "<Figure size 720x360 with 1 Axes>"
      ]
     },
     "metadata": {
      "needs_background": "light"
     },
     "output_type": "display_data"
    }
   ],
   "source": [
    "# Plot PS for matched groups\n",
    "fig = plt.figure(figsize=(10,5))\n",
    "sns.histplot(data=matched0_5, x=\"PS\", hue='bool0_5', kde=True, element='step', stat='density',\n",
    "             common_norm=False)\n",
    "plt.xlabel('PS', fontsize=12)\n",
    "plt.suptitle('PS distribution comparison for matched samples', fontsize=14, fontweight='bold')\n",
    "plt.legend(['has young child','no young child'], loc='upper left', fontsize = 12)\n",
    "plt.show()"
   ]
  },
  {
   "cell_type": "code",
   "execution_count": 62,
   "metadata": {},
   "outputs": [
    {
     "data": {
      "image/png": "[encoded data removed]",
      "text/plain": [
       "<Figure size 720x360 with 1 Axes>"
      ]
     },
     "metadata": {
      "needs_background": "light"
     },
     "output_type": "display_data"
    }
   ],
   "source": [
    "# Plot a seemingly unrelated variable (here OVERCROWDING) for matched groups\n",
    "var = 'OVERCROWDING'\n",
    "fig = plt.figure(figsize=(10,5))\n",
    "sns.kdeplot(data=matched0_5, x=var, hue='bool0_5', palette=['r','g'], shade=True)\n",
    "plt.xlabel(var, fontsize=12)\n",
    "plt.suptitle(var+' distribution for matched samples', fontsize=14, fontweight='bold')\n",
    "plt.legend(['has young child','no young child'], loc='upper left', fontsize = 12)\n",
    "plt.show()"
   ]
  },
  {
   "cell_type": "markdown",
   "metadata": {},
   "source": [
    "## Linear regression models"
   ]
  },
  {
   "cell_type": "code",
   "execution_count": 28,
   "metadata": {},
   "outputs": [],
   "source": [
    "# returns a regression of the 'predictors' on the 'outcome', using only subjects in 'df' that answered\n",
    "# to all the outcome and predictor questions\n",
    "def res_NN(df,outcome,predictors):\n",
    "    \n",
    "    # df without rows containing NaNs for the outcome & predictors\n",
    "    df_reg = df_NN(df,outcome,predictors)\n",
    "    \n",
    "    # model description\n",
    "    model = outcome+' ~ '\n",
    "    for i in range (0,len(predictors)):\n",
    "        model = model+predictors[i]\n",
    "        if i != len(predictors)-1 :    # if not last\n",
    "            model = model+'+'\n",
    "    \n",
    "    # model fit, cluster std based on state        \n",
    "    return smf.ols(formula=model, data=df_reg).fit(cov_type='cluster',cov_kwds={'groups': df_reg['STATE']})"
   ]
  },
  {
   "cell_type": "markdown",
   "metadata": {},
   "source": [
    "## Education"
   ]
  },
  {
   "cell_type": "code",
   "execution_count": 29,
   "metadata": {},
   "outputs": [
    {
     "name": "stdout",
     "output_type": "stream",
     "text": [
      "                            OLS Regression Results                            \n",
      "==============================================================================\n",
      "Dep. Variable:                   UENG   R-squared:                       0.187\n",
      "Model:                            OLS   Adj. R-squared:                  0.186\n",
      "Method:                 Least Squares   F-statistic:                     1385.\n",
      "Date:                Fri, 04 Dec 2020   Prob (F-statistic):           1.19e-58\n",
      "Time:                        12:24:40   Log-Likelihood:                -48861.\n",
      "No. Observations:               21077   AIC:                         9.775e+04\n",
      "Df Residuals:                   21064   BIC:                         9.785e+04\n",
      "Df Model:                          12                                         \n",
      "Covariance Type:              cluster                                         \n",
      "================================================================================\n",
      "                   coef    std err          z      P>|z|      [0.025      0.975]\n",
      "--------------------------------------------------------------------------------\n",
      "Intercept        5.0595      0.276     18.324      0.000       4.518       5.601\n",
      "UFAMSTR          0.1909      0.021      9.261      0.000       0.150       0.231\n",
      "UMH2             0.0140      0.001     12.162      0.000       0.012       0.016\n",
      "UMHIGDEG         0.0123      0.014      0.893      0.372      -0.015       0.039\n",
      "UAGG             0.2827      0.010     29.035      0.000       0.264       0.302\n",
      "U_SOCPOV         0.0313      0.017      1.847      0.065      -0.002       0.065\n",
      "MNBEDRMS         0.0290      0.024      1.191      0.234      -0.019       0.077\n",
      "MOWNRENT        -0.0020      0.033     -0.061      0.951      -0.067       0.063\n",
      "OVERCROWDING    -0.1019      0.035     -2.934      0.003      -0.170      -0.034\n",
      "SEX              1.0411      0.032     32.926      0.000       0.979       1.103\n",
      "UAGE            -0.0902      0.005    -17.188      0.000      -0.100      -0.080\n",
      "UACT             0.3914      0.016     24.475      0.000       0.360       0.423\n",
      "CSPECED          1.0077      0.052     19.203      0.000       0.905       1.111\n",
      "==============================================================================\n",
      "Omnibus:                      630.690   Durbin-Watson:                   2.016\n",
      "Prob(Omnibus):                  0.000   Jarque-Bera (JB):              638.183\n",
      "Skew:                          -0.399   Prob(JB):                    2.63e-139\n",
      "Kurtosis:                       2.698   Cond. No.                     1.09e+03\n",
      "==============================================================================\n",
      "\n",
      "Notes:\n",
      "[1] Standard Errors are robust to cluster correlation (cluster)\n",
      "[2] The condition number is large, 1.09e+03. This might indicate that there are\n",
      "strong multicollinearity or other numerical problems.\n"
     ]
    }
   ],
   "source": [
    "outcome = 'UENG'\n",
    "predictors = family+income+housing_hh+['SEX','UAGE','UACT','CSPECED']\n",
    "res = res_NN(fc23,outcome, predictors)\n",
    "print(res.summary())"
   ]
  },
  {
   "cell_type": "code",
   "execution_count": 30,
   "metadata": {},
   "outputs": [
    {
     "data": {
      "text/plain": [
       "<seaborn.axisgrid.FacetGrid at 0x1ed67612cd0>"
      ]
     },
     "execution_count": 30,
     "metadata": {},
     "output_type": "execute_result"
    },
    {
     "data": {
      "image/png": "[encoded data removed]",
      "text/plain": [
       "<Figure size 402.375x360 with 1 Axes>"
      ]
     },
     "metadata": {
      "needs_background": "light"
     },
     "output_type": "display_data"
    }
   ],
   "source": [
    "sns.catplot(y='UENG', x='UFAMSTR', hue='SEX', kind='bar', palette='magma', data=df_NN(fc23,outcome,predictors))"
   ]
  },
  {
   "cell_type": "code",
   "execution_count": 31,
   "metadata": {},
   "outputs": [
    {
     "data": {
      "text/plain": [
       "<seaborn.axisgrid.FacetGrid at 0x1ed66e7cdc0>"
      ]
     },
     "execution_count": 31,
     "metadata": {},
     "output_type": "execute_result"
    },
    {
     "data": {
      "image/png": "[encoded data removed]",
      "text/plain": [
       "<Figure size 360x360 with 1 Axes>"
      ]
     },
     "metadata": {
      "needs_background": "light"
     },
     "output_type": "display_data"
    }
   ],
   "source": [
    "sns.catplot(x='UENG', y='OVERCROWDING',kind='point', palette='magma', data=df_NN(fc23,outcome,predictors))"
   ]
  },
  {
   "cell_type": "code",
   "execution_count": 32,
   "metadata": {},
   "outputs": [
    {
     "data": {
      "text/plain": [
       "<seaborn.axisgrid.FacetGrid at 0x1ed66ecc550>"
      ]
     },
     "execution_count": 32,
     "metadata": {},
     "output_type": "execute_result"
    },
    {
     "data": {
      "image/png": "[encoded data removed]",
      "text/plain": [
       "<Figure size 402.375x360 with 1 Axes>"
      ]
     },
     "metadata": {
      "needs_background": "light"
     },
     "output_type": "display_data"
    }
   ],
   "source": [
    "sns.catplot(y='UENG', x='UACT', hue='SEX', kind='bar', palette='magma', data=df_NN(fc23,outcome,predictors))"
   ]
  },
  {
   "cell_type": "markdown",
   "metadata": {},
   "source": [
    "## Health"
   ]
  },
  {
   "cell_type": "code",
   "execution_count": 33,
   "metadata": {},
   "outputs": [
    {
     "name": "stdout",
     "output_type": "stream",
     "text": [
      "                            OLS Regression Results                            \n",
      "==============================================================================\n",
      "Dep. Variable:                 BHLTHN   R-squared:                       0.124\n",
      "Model:                            OLS   Adj. R-squared:                  0.123\n",
      "Method:                 Least Squares   F-statistic:                     258.4\n",
      "Date:                Fri, 04 Dec 2020   Prob (F-statistic):           4.85e-40\n",
      "Time:                        12:24:42   Log-Likelihood:                -26914.\n",
      "No. Observations:               21461   AIC:                         5.385e+04\n",
      "Df Residuals:                   21449   BIC:                         5.395e+04\n",
      "Df Model:                          11                                         \n",
      "Covariance Type:              cluster                                         \n",
      "================================================================================\n",
      "                   coef    std err          z      P>|z|      [0.025      0.975]\n",
      "--------------------------------------------------------------------------------\n",
      "Intercept        3.2293      0.086     37.575      0.000       3.061       3.398\n",
      "UFAMSTR         -0.0493      0.008     -6.147      0.000      -0.065      -0.034\n",
      "UMH2            -0.0094      0.001    -15.699      0.000      -0.011      -0.008\n",
      "UMHIGDEG         0.0237      0.004      5.285      0.000       0.015       0.033\n",
      "UAGG            -0.0431      0.004     -9.602      0.000      -0.052      -0.034\n",
      "U_SOCPOV        -0.0905      0.008    -11.271      0.000      -0.106      -0.075\n",
      "MNBEDRMS        -0.0149      0.007     -2.232      0.026      -0.028      -0.002\n",
      "MOWNRENT         0.0271      0.022      1.252      0.210      -0.015       0.070\n",
      "OVERCROWDING     0.1054      0.018      5.890      0.000       0.070       0.140\n",
      "SEX              0.0119      0.013      0.925      0.355      -0.013       0.037\n",
      "UAGE             0.0164      0.002     10.102      0.000       0.013       0.020\n",
      "UACT            -0.1073      0.006    -17.502      0.000      -0.119      -0.095\n",
      "==============================================================================\n",
      "Omnibus:                     2508.931   Durbin-Watson:                   1.999\n",
      "Prob(Omnibus):                  0.000   Jarque-Bera (JB):             3485.755\n",
      "Skew:                           0.939   Prob(JB):                         0.00\n",
      "Kurtosis:                       3.610   Cond. No.                     1.02e+03\n",
      "==============================================================================\n",
      "\n",
      "Notes:\n",
      "[1] Standard Errors are robust to cluster correlation (cluster)\n",
      "[2] The condition number is large, 1.02e+03. This might indicate that there are\n",
      "strong multicollinearity or other numerical problems.\n"
     ]
    }
   ],
   "source": [
    "outcome = 'BHLTHN'\n",
    "predictors = family+income+housing_hh+['SEX','UAGE','UACT']\n",
    "res = res_NN(fc23,outcome, predictors)\n",
    "print(res.summary())"
   ]
  },
  {
   "cell_type": "code",
   "execution_count": 34,
   "metadata": {},
   "outputs": [
    {
     "data": {
      "text/plain": [
       "<seaborn.axisgrid.FacetGrid at 0x1ed67597fd0>"
      ]
     },
     "execution_count": 34,
     "metadata": {},
     "output_type": "execute_result"
    },
    {
     "data": {
      "image/png": "[encoded data removed]",
      "text/plain": [
       "<Figure size 360x360 with 1 Axes>"
      ]
     },
     "metadata": {
      "needs_background": "light"
     },
     "output_type": "display_data"
    }
   ],
   "source": [
    "sns.catplot(y='BHLTHN', x='U_SOCPOV',kind='bar',palette='magma', data=df_NN(fc23,outcome,predictors))"
   ]
  },
  {
   "cell_type": "code",
   "execution_count": 35,
   "metadata": {},
   "outputs": [
    {
     "data": {
      "text/plain": [
       "<seaborn.axisgrid.FacetGrid at 0x1ed67597bb0>"
      ]
     },
     "execution_count": 35,
     "metadata": {},
     "output_type": "execute_result"
    },
    {
     "data": {
      "image/png": "[encoded data removed]",
      "text/plain": [
       "<Figure size 360x360 with 1 Axes>"
      ]
     },
     "metadata": {
      "needs_background": "light"
     },
     "output_type": "display_data"
    }
   ],
   "source": [
    "sns.catplot(y='BHLTHN', x='UACT',kind='bar', palette='magma', data=df_NN(fc23,outcome,predictors))"
   ]
  },
  {
   "cell_type": "markdown",
   "metadata": {},
   "source": [
    "## Mental health\n",
    "\n",
    "\n",
    "**fc2**\n"
   ]
  },
  {
   "cell_type": "code",
   "execution_count": 36,
   "metadata": {},
   "outputs": [
    {
     "name": "stdout",
     "output_type": "stream",
     "text": [
      "                            OLS Regression Results                            \n",
      "==============================================================================\n",
      "Dep. Variable:                  UBPIA   R-squared:                       0.242\n",
      "Model:                            OLS   Adj. R-squared:                  0.241\n",
      "Method:                 Least Squares   F-statistic:                     598.6\n",
      "Date:                Fri, 04 Dec 2020   Prob (F-statistic):           4.88e-49\n",
      "Time:                        12:24:43   Log-Likelihood:                -21285.\n",
      "No. Observations:               10583   AIC:                         4.259e+04\n",
      "Df Residuals:                   10571   BIC:                         4.268e+04\n",
      "Df Model:                          11                                         \n",
      "Covariance Type:              cluster                                         \n",
      "================================================================================\n",
      "                   coef    std err          z      P>|z|      [0.025      0.975]\n",
      "--------------------------------------------------------------------------------\n",
      "Intercept        7.7844      0.220     35.364      0.000       7.353       8.216\n",
      "UFAMSTR          0.1834      0.022      8.392      0.000       0.141       0.226\n",
      "UMH2             0.0327      0.002     14.204      0.000       0.028       0.037\n",
      "UMHIGDEG        -0.0284      0.011     -2.468      0.014      -0.051      -0.006\n",
      "UAGG             0.3740      0.013     27.926      0.000       0.348       0.400\n",
      "U_SOCPOV        -0.0150      0.019     -0.803      0.422      -0.052       0.022\n",
      "MNBEDRMS         0.0451      0.024      1.861      0.063      -0.002       0.093\n",
      "MOWNRENT        -0.0077      0.046     -0.170      0.865      -0.097       0.082\n",
      "OVERCROWDING     0.0839      0.039      2.156      0.031       0.008       0.160\n",
      "SEX              0.3993      0.035     11.379      0.000       0.331       0.468\n",
      "UAGE            -0.0776      0.014     -5.374      0.000      -0.106      -0.049\n",
      "UACT             0.0873      0.023      3.827      0.000       0.043       0.132\n",
      "==============================================================================\n",
      "Omnibus:                     1481.170   Durbin-Watson:                   2.007\n",
      "Prob(Omnibus):                  0.000   Jarque-Bera (JB):             2591.479\n",
      "Skew:                          -0.923   Prob(JB):                         0.00\n",
      "Kurtosis:                       4.572   Cond. No.                     1.08e+03\n",
      "==============================================================================\n",
      "\n",
      "Notes:\n",
      "[1] Standard Errors are robust to cluster correlation (cluster)\n",
      "[2] The condition number is large, 1.08e+03. This might indicate that there are\n",
      "strong multicollinearity or other numerical problems.\n"
     ]
    }
   ],
   "source": [
    "outcome = 'UBPIA'\n",
    "predictors = family+income+housing_hh+['SEX','UAGE','UACT']\n",
    "res = res_NN(fc2,outcome, predictors)\n",
    "print(res.summary())"
   ]
  },
  {
   "cell_type": "code",
   "execution_count": 37,
   "metadata": {},
   "outputs": [
    {
     "data": {
      "text/plain": [
       "<seaborn.axisgrid.FacetGrid at 0x1ed65e026a0>"
      ]
     },
     "execution_count": 37,
     "metadata": {},
     "output_type": "execute_result"
    },
    {
     "data": {
      "image/png": "[encoded data removed]",
      "text/plain": [
       "<Figure size 360x360 with 1 Axes>"
      ]
     },
     "metadata": {
      "needs_background": "light"
     },
     "output_type": "display_data"
    }
   ],
   "source": [
    "sns.catplot(y='UBPIA', x='UFAMSTR', kind='bar', palette='magma', data=df_NN(fc2,outcome,predictors))"
   ]
  },
  {
   "cell_type": "markdown",
   "metadata": {},
   "source": [
    "**fc3**"
   ]
  },
  {
   "cell_type": "code",
   "execution_count": 38,
   "metadata": {},
   "outputs": [
    {
     "name": "stdout",
     "output_type": "stream",
     "text": [
      "                            OLS Regression Results                            \n",
      "==============================================================================\n",
      "Dep. Variable:                  UBPIB   R-squared:                       0.299\n",
      "Model:                            OLS   Adj. R-squared:                  0.298\n",
      "Method:                 Least Squares   F-statistic:                     668.4\n",
      "Date:                Fri, 04 Dec 2020   Prob (F-statistic):           3.16e-50\n",
      "Time:                        12:24:44   Log-Likelihood:                -21992.\n",
      "No. Observations:               10784   AIC:                         4.401e+04\n",
      "Df Residuals:                   10772   BIC:                         4.410e+04\n",
      "Df Model:                          11                                         \n",
      "Covariance Type:              cluster                                         \n",
      "================================================================================\n",
      "                   coef    std err          z      P>|z|      [0.025      0.975]\n",
      "--------------------------------------------------------------------------------\n",
      "Intercept        5.7996      0.329     17.615      0.000       5.154       6.445\n",
      "UFAMSTR          0.1828      0.018      9.954      0.000       0.147       0.219\n",
      "UMH2             0.0288      0.001     19.220      0.000       0.026       0.032\n",
      "UMHIGDEG         0.0157      0.008      1.946      0.052      -0.000       0.031\n",
      "UAGG             0.4424      0.014     30.764      0.000       0.414       0.471\n",
      "U_SOCPOV        -0.0331      0.022     -1.501      0.133      -0.076       0.010\n",
      "MNBEDRMS         0.0258      0.030      0.864      0.387      -0.033       0.084\n",
      "MOWNRENT        -0.0341      0.055     -0.622      0.534      -0.142       0.073\n",
      "OVERCROWDING     0.0735      0.033      2.259      0.024       0.010       0.137\n",
      "SEX              0.2063      0.049      4.224      0.000       0.111       0.302\n",
      "UAGE             0.0254      0.009      2.741      0.006       0.007       0.043\n",
      "UACT             0.3200      0.025     12.889      0.000       0.271       0.369\n",
      "==============================================================================\n",
      "Omnibus:                     1112.262   Durbin-Watson:                   1.995\n",
      "Prob(Omnibus):                  0.000   Jarque-Bera (JB):             1697.965\n",
      "Skew:                          -0.769   Prob(JB):                         0.00\n",
      "Kurtosis:                       4.188   Cond. No.                     1.20e+03\n",
      "==============================================================================\n",
      "\n",
      "Notes:\n",
      "[1] Standard Errors are robust to cluster correlation (cluster)\n",
      "[2] The condition number is large, 1.2e+03. This might indicate that there are\n",
      "strong multicollinearity or other numerical problems.\n"
     ]
    }
   ],
   "source": [
    "outcome = 'UBPIB'\n",
    "predictors = family+income+housing_hh+['SEX','UAGE','UACT']\n",
    "res = res_NN(fc3,outcome, predictors)\n",
    "print(res.summary())"
   ]
  },
  {
   "cell_type": "code",
   "execution_count": 39,
   "metadata": {},
   "outputs": [
    {
     "name": "stdout",
     "output_type": "stream",
     "text": [
      "-6.4020664799823936e-15 1.859725625210495\n"
     ]
    }
   ],
   "source": [
    "df_noNull = df_NN(fc3,outcome, predictors)\n",
    "xtest = df_noNull[predictors]\n",
    "diff = (res.predict(xtest) - df_noNull['UBPIB'])\n",
    "print(diff.mean(),diff.std())\n",
    "#error is normally distributed -> good, but the low r squared gives a rather high std"
   ]
  },
  {
   "cell_type": "code",
   "execution_count": 40,
   "metadata": {},
   "outputs": [
    {
     "data": {
      "text/plain": [
       "<seaborn.axisgrid.FacetGrid at 0x1ed66370a60>"
      ]
     },
     "execution_count": 40,
     "metadata": {},
     "output_type": "execute_result"
    },
    {
     "data": {
      "image/png": "[encoded data removed]",
      "text/plain": [
       "<Figure size 360x360 with 1 Axes>"
      ]
     },
     "metadata": {
      "needs_background": "light"
     },
     "output_type": "display_data"
    }
   ],
   "source": [
    "sns.catplot(y='UBPIB', x='UFAMSTR', kind='bar', palette='magma', data=df_NN(fc3,outcome,predictors))"
   ]
  },
  {
   "cell_type": "markdown",
   "metadata": {},
   "source": [
    "## Conclusion Q1\n",
    "\n",
    "Looking at the whole model, we can say that mental health is most influenced by housing conditions."
   ]
  },
  {
   "cell_type": "markdown",
   "metadata": {},
   "source": [
    "## Mental health of UMH2"
   ]
  },
  {
   "cell_type": "code",
   "execution_count": 41,
   "metadata": {},
   "outputs": [
    {
     "name": "stdout",
     "output_type": "stream",
     "text": [
      "                            OLS Regression Results                            \n",
      "==============================================================================\n",
      "Dep. Variable:                   UMH2   R-squared:                       0.047\n",
      "Model:                            OLS   Adj. R-squared:                  0.046\n",
      "Method:                 Least Squares   F-statistic:                     44.53\n",
      "Date:                Fri, 04 Dec 2020   Prob (F-statistic):           2.55e-19\n",
      "Time:                        12:24:45   Log-Likelihood:            -1.3349e+05\n",
      "No. Observations:               33553   AIC:                         2.670e+05\n",
      "Df Residuals:                   33545   BIC:                         2.671e+05\n",
      "Df Model:                           7                                         \n",
      "Covariance Type:              cluster                                         \n",
      "================================================================================\n",
      "                   coef    std err          z      P>|z|      [0.025      0.975]\n",
      "--------------------------------------------------------------------------------\n",
      "Intercept       72.4220      0.783     92.483      0.000      70.887      73.957\n",
      "CHLD0_5          0.7360      0.148      4.962      0.000       0.445       1.027\n",
      "CHLD6_17        -0.1957      0.110     -1.787      0.074      -0.410       0.019\n",
      "UHHCOUNT         0.1236      0.170      0.728      0.467      -0.209       0.456\n",
      "U_SOCPOV         1.9198      0.149     12.856      0.000       1.627       2.213\n",
      "MNBEDRMS         0.6972      0.144      4.857      0.000       0.416       0.979\n",
      "MOWNRENT        -1.2037      0.180     -6.702      0.000      -1.556      -0.852\n",
      "OVERCROWDING     0.1463      0.378      0.387      0.699      -0.595       0.888\n",
      "==============================================================================\n",
      "Omnibus:                     2624.839   Durbin-Watson:                   1.659\n",
      "Prob(Omnibus):                  0.000   Jarque-Bera (JB):             3507.956\n",
      "Skew:                          -0.679   Prob(JB):                         0.00\n",
      "Kurtosis:                       3.814   Cond. No.                         61.8\n",
      "==============================================================================\n",
      "\n",
      "Notes:\n",
      "[1] Standard Errors are robust to cluster correlation (cluster)\n"
     ]
    }
   ],
   "source": [
    "outcome = 'UMH2'\n",
    "predictors = family_hh+income+housing_hh\n",
    "res = res_NN(child,outcome, predictors)\n",
    "print(res.summary())"
   ]
  },
  {
   "cell_type": "code",
   "execution_count": 42,
   "metadata": {},
   "outputs": [],
   "source": [
    "outcome = 'UENGNEG'\n",
    "predictors = ['UFAMSTR']\n",
    "df_noNull = df_NN(fc23,outcome, predictors)"
   ]
  },
  {
   "cell_type": "code",
   "execution_count": 43,
   "metadata": {},
   "outputs": [
    {
     "data": {
      "text/plain": [
       "<AxesSubplot:xlabel='UFAMSTR', ylabel='Probability'>"
      ]
     },
     "execution_count": 43,
     "metadata": {},
     "output_type": "execute_result"
    },
    {
     "data": {
      "image/png": "[encoded data removed]",
      "text/plain": [
       "<Figure size 432x288 with 1 Axes>"
      ]
     },
     "metadata": {
      "needs_background": "light"
     },
     "output_type": "display_data"
    }
   ],
   "source": [
    "sns.histplot(x='UFAMSTR', hue='UENGNEG', stat='probability', data=df_noNull, common_norm=False,\n",
    "             multiple='dodge', palette='magma')\n",
    "# dans quelles familles sont distribués les gars mauvais"
   ]
  }
 ],
 "metadata": {
  "kernelspec": {
   "display_name": "Python 3",
   "language": "python",
   "name": "python3"
  },
  "language_info": {
   "codemirror_mode": {
    "name": "ipython",
    "version": 3
   },
   "file_extension": ".py",
   "mimetype": "text/x-python",
   "name": "python",
   "nbconvert_exporter": "python",
   "pygments_lexer": "ipython3",
   "version": "3.8.3"
  }
 },
 "nbformat": 4,
 "nbformat_minor": 4
}
