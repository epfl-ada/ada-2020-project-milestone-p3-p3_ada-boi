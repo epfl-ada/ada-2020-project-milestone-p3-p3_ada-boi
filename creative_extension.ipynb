{
 "cells": [
  {
   "cell_type": "markdown",
   "metadata": {},
   "source": [
    "# Creative extension\n",
    "\n",
    "__Paper:__ Housing, Health, and Happiness\n",
    "\n",
    "__Data:__ National Survey of America's Families, 2002\n",
    "\n",
    "__Aim:__ *liste des points auxquels on cherche à répondre*"
   ]
  },
  {
   "cell_type": "code",
   "execution_count": 1,
   "metadata": {},
   "outputs": [],
   "source": [
    "import pandas as pd\n",
    "import matplotlib.pyplot as plt\n",
    "import seaborn as sns"
   ]
  },
  {
   "cell_type": "code",
   "execution_count": 2,
   "metadata": {},
   "outputs": [],
   "source": [
    "# Load data\n",
    "\n",
    "data_folder = './data/'\n",
    "# Focal Child Data\n",
    "fc = pd.read_stata(data_folder+'DS0001/04582-0001-Data.dta')\n",
    "# Household Data\n",
    "hh = pd.read_stata(data_folder+'DS0006/04582-0006-Data.dta')"
   ]
  },
  {
   "cell_type": "code",
   "execution_count": 3,
   "metadata": {},
   "outputs": [],
   "source": [
    "# Variables of interest in child and hh datasets \n",
    "person_id = ['PERSID','PERSTYPE','RESPID','UCPSID','SEX','UAGE','SITE','STATE','UREGION','TYPEINT','HHID']\n",
    "household_id_hh = ['HHID']\n",
    "education = ['CCHGSC','CSUEXP','CATTSC','CSKIPSC','CGETBY','CHMWK','CINTSC','CWRKSC','UENG','UENGNEG','UENGPOS']\n",
    "family = ['GHMAD','GSELFHR','UFAMSTR','UMH2','UMHIGDEG']\n",
    "family_hh = ['CHLD0_5','CHLD6_17','UHHCOUNT']\n",
    "income = ['U_SOCPOV']\n",
    "income_hh = ['QSC5']\n",
    "housing_hh = ['MNBEDRMS','MOWNRENT']\n",
    "mental_health = ['UBPIA','UBPIANEG','UBPIAPOS','UBPIB','UBPIBNEG','UBPIBPOS']\n",
    "health = ['BDISBL','BHLTHN','FDOCT','FWHMED','FWHYMED','FDENT','FWELLV','UCNGHL']\n",
    "activities = ['NOUTING','NSPORTS','UOUTNEG','UOUTPOS','UACT','UACTNEG','UACTPOS']\n",
    "programs = ['GCENTR','CSPECED','GHEADS','KAPPMED','SSHELP']\n",
    "programs_hh = ['MPUBHOUS']"
   ]
  },
  {
   "cell_type": "code",
   "execution_count": 4,
   "metadata": {},
   "outputs": [],
   "source": [
    "# Reduce dataframes to variables of interest\n",
    "fc = fc[person_id + education + family + income + mental_health + health + activities + programs]\n",
    "hh = hh[household_id_hh + family_hh + income_hh + housing_hh + programs_hh]\n"
   ]
  },
  {
   "cell_type": "code",
   "execution_count": 5,
   "metadata": {},
   "outputs": [
    {
     "data": {
      "text/html": [
       "<div>\n",
       "<style scoped>\n",
       "    .dataframe tbody tr th:only-of-type {\n",
       "        vertical-align: middle;\n",
       "    }\n",
       "\n",
       "    .dataframe tbody tr th {\n",
       "        vertical-align: top;\n",
       "    }\n",
       "\n",
       "    .dataframe thead th {\n",
       "        text-align: right;\n",
       "    }\n",
       "</style>\n",
       "<table border=\"1\" class=\"dataframe\">\n",
       "  <thead>\n",
       "    <tr style=\"text-align: right;\">\n",
       "      <th></th>\n",
       "      <th>PERSID</th>\n",
       "      <th>PERSTYPE</th>\n",
       "      <th>RESPID</th>\n",
       "      <th>UCPSID</th>\n",
       "      <th>SEX</th>\n",
       "      <th>UAGE</th>\n",
       "      <th>SITE</th>\n",
       "      <th>STATE</th>\n",
       "      <th>UREGION</th>\n",
       "      <th>TYPEINT</th>\n",
       "      <th>...</th>\n",
       "      <th>KAPPMED</th>\n",
       "      <th>SSHELP</th>\n",
       "      <th>SCRNRSLT</th>\n",
       "      <th>CHLD0_5</th>\n",
       "      <th>CHLD6_17</th>\n",
       "      <th>UHHCOUNT</th>\n",
       "      <th>QSC5</th>\n",
       "      <th>MNBEDRMS</th>\n",
       "      <th>MOWNRENT</th>\n",
       "      <th>MPUBHOUS</th>\n",
       "    </tr>\n",
       "  </thead>\n",
       "  <tbody>\n",
       "    <tr>\n",
       "      <th>0</th>\n",
       "      <td>5561612801</td>\n",
       "      <td>Focal child 1 (age 0-5)</td>\n",
       "      <td>5561612803</td>\n",
       "      <td>5561612800</td>\n",
       "      <td>F</td>\n",
       "      <td>3</td>\n",
       "      <td>15</td>\n",
       "      <td>WI</td>\n",
       "      <td>2</td>\n",
       "      <td>A1</td>\n",
       "      <td>...</td>\n",
       "      <td>Inapplicable</td>\n",
       "      <td>Inapplicable</td>\n",
       "      <td>CC</td>\n",
       "      <td>2</td>\n",
       "      <td>0</td>\n",
       "      <td>3</td>\n",
       "      <td>1</td>\n",
       "      <td>4</td>\n",
       "      <td>Owned by someone in household</td>\n",
       "      <td>Inapplicable</td>\n",
       "    </tr>\n",
       "    <tr>\n",
       "      <th>1</th>\n",
       "      <td>5470400001</td>\n",
       "      <td>Focal child 2 (age 6-17)</td>\n",
       "      <td>5470400003</td>\n",
       "      <td>5470400000</td>\n",
       "      <td>M</td>\n",
       "      <td>14</td>\n",
       "      <td>15</td>\n",
       "      <td>WI</td>\n",
       "      <td>2</td>\n",
       "      <td>A1</td>\n",
       "      <td>...</td>\n",
       "      <td>Yes</td>\n",
       "      <td>Inapplicable</td>\n",
       "      <td>CC</td>\n",
       "      <td>0</td>\n",
       "      <td>2</td>\n",
       "      <td>3</td>\n",
       "      <td>2</td>\n",
       "      <td>2</td>\n",
       "      <td>Rented for cash</td>\n",
       "      <td>Inapplicable</td>\n",
       "    </tr>\n",
       "    <tr>\n",
       "      <th>2</th>\n",
       "      <td>5787427204</td>\n",
       "      <td>Focal child 2 (age 6-17)</td>\n",
       "      <td>5787427205</td>\n",
       "      <td>5787427200</td>\n",
       "      <td>F</td>\n",
       "      <td>9</td>\n",
       "      <td>15</td>\n",
       "      <td>WI</td>\n",
       "      <td>2</td>\n",
       "      <td>A1</td>\n",
       "      <td>...</td>\n",
       "      <td>Inapplicable</td>\n",
       "      <td>Inapplicable</td>\n",
       "      <td>CC</td>\n",
       "      <td>0</td>\n",
       "      <td>4</td>\n",
       "      <td>6</td>\n",
       "      <td>1</td>\n",
       "      <td>3</td>\n",
       "      <td>Rented for cash</td>\n",
       "      <td>No</td>\n",
       "    </tr>\n",
       "    <tr>\n",
       "      <th>3</th>\n",
       "      <td>5410681601</td>\n",
       "      <td>Focal child 1 (age 0-5)</td>\n",
       "      <td>5410681604</td>\n",
       "      <td>5410681600</td>\n",
       "      <td>M</td>\n",
       "      <td>4</td>\n",
       "      <td>15</td>\n",
       "      <td>WI</td>\n",
       "      <td>2</td>\n",
       "      <td>A1</td>\n",
       "      <td>...</td>\n",
       "      <td>Inapplicable</td>\n",
       "      <td>Inapplicable</td>\n",
       "      <td>CC</td>\n",
       "      <td>3</td>\n",
       "      <td>0</td>\n",
       "      <td>5</td>\n",
       "      <td>1</td>\n",
       "      <td>2</td>\n",
       "      <td>Rented for cash</td>\n",
       "      <td>No</td>\n",
       "    </tr>\n",
       "    <tr>\n",
       "      <th>4</th>\n",
       "      <td>5051721601</td>\n",
       "      <td>Focal child 2 (age 6-17)</td>\n",
       "      <td>5051721605</td>\n",
       "      <td>5051721600</td>\n",
       "      <td>F</td>\n",
       "      <td>17</td>\n",
       "      <td>15</td>\n",
       "      <td>WI</td>\n",
       "      <td>2</td>\n",
       "      <td>A1</td>\n",
       "      <td>...</td>\n",
       "      <td>Inapplicable</td>\n",
       "      <td>Inapplicable</td>\n",
       "      <td>CC</td>\n",
       "      <td>0</td>\n",
       "      <td>4</td>\n",
       "      <td>5</td>\n",
       "      <td>1</td>\n",
       "      <td>4</td>\n",
       "      <td>Rented for cash</td>\n",
       "      <td>Yes</td>\n",
       "    </tr>\n",
       "  </tbody>\n",
       "</table>\n",
       "<p>5 rows × 62 columns</p>\n",
       "</div>"
      ],
      "text/plain": [
       "       PERSID                  PERSTYPE      RESPID      UCPSID SEX  UAGE  \\\n",
       "0  5561612801   Focal child 1 (age 0-5)  5561612803  5561612800   F     3   \n",
       "1  5470400001  Focal child 2 (age 6-17)  5470400003  5470400000   M    14   \n",
       "2  5787427204  Focal child 2 (age 6-17)  5787427205  5787427200   F     9   \n",
       "3  5410681601   Focal child 1 (age 0-5)  5410681604  5410681600   M     4   \n",
       "4  5051721601  Focal child 2 (age 6-17)  5051721605  5051721600   F    17   \n",
       "\n",
       "  SITE STATE UREGION TYPEINT  ...       KAPPMED        SSHELP SCRNRSLT  \\\n",
       "0   15    WI       2      A1  ...  Inapplicable  Inapplicable       CC   \n",
       "1   15    WI       2      A1  ...           Yes  Inapplicable       CC   \n",
       "2   15    WI       2      A1  ...  Inapplicable  Inapplicable       CC   \n",
       "3   15    WI       2      A1  ...  Inapplicable  Inapplicable       CC   \n",
       "4   15    WI       2      A1  ...  Inapplicable  Inapplicable       CC   \n",
       "\n",
       "  CHLD0_5 CHLD6_17 UHHCOUNT QSC5 MNBEDRMS                       MOWNRENT  \\\n",
       "0       2        0        3    1        4  Owned by someone in household   \n",
       "1       0        2        3    2        2                Rented for cash   \n",
       "2       0        4        6    1        3                Rented for cash   \n",
       "3       3        0        5    1        2                Rented for cash   \n",
       "4       0        4        5    1        4                Rented for cash   \n",
       "\n",
       "       MPUBHOUS  \n",
       "0  Inapplicable  \n",
       "1  Inapplicable  \n",
       "2            No  \n",
       "3            No  \n",
       "4           Yes  \n",
       "\n",
       "[5 rows x 62 columns]"
      ]
     },
     "execution_count": 5,
     "metadata": {},
     "output_type": "execute_result"
    }
   ],
   "source": [
    "# Merge dataframes using the household ID number, \n",
    "# inner merge keeps only households that are linked to a focal child subject\n",
    "child = pd.merge(fc, hh, left_on = 'HHID', right_on = 'HHID', how='inner')\n",
    "\n",
    "# Preview of child dataframe\n",
    "child.head()"
   ]
  },
  {
   "cell_type": "code",
   "execution_count": 37,
   "metadata": {},
   "outputs": [],
   "source": [
    "# Divide child data in three dfs\n",
    "\n",
    "# Keep data of focal children from age 0 to 17 only\n",
    "child = child.loc[child['PERSTYPE'].isin(['Focal child 1 (age 0-5)','Focal child 2 (age 6-17)'])]\n",
    "\n",
    "# FC1 : focal child, aged 0-5\n",
    "fc1 = child[child['PERSTYPE']=='Focal child 1 (age 0-5)']\n",
    "\n",
    "# FC2 : focal child, aged 6-11\n",
    "fc2 = child[(child['PERSTYPE']=='Focal child 2 (age 6-17)') & (child['UAGE'] < 12)]\n",
    "\n",
    "# FC3 : focal child, aged 12-17\n",
    "fc3 = child[(child['PERSTYPE']=='Focal child 2 (age 6-17)') & (child['UAGE'] >= 12)]"
   ]
  },
  {
   "cell_type": "code",
   "execution_count": 38,
   "metadata": {},
   "outputs": [
    {
     "name": "stdout",
     "output_type": "stream",
     "text": [
      "Shapes of dataframes:\n",
      "fc1: (12268, 62)\n",
      "fc2: (10925, 62)\n",
      "fc3:(11087, 62)\n"
     ]
    }
   ],
   "source": [
    "print(f'Shapes of dataframes:\\nfc1: {fc1.shape}\\nfc2: {fc2.shape}\\nfc3:{fc3.shape}')"
   ]
  },
  {
   "cell_type": "code",
   "execution_count": 18,
   "metadata": {},
   "outputs": [
    {
     "data": {
      "text/plain": [
       "<seaborn.axisgrid.FacetGrid at 0x1185a9e80>"
      ]
     },
     "execution_count": 18,
     "metadata": {},
     "output_type": "execute_result"
    },
    {
     "data": {
      "image/png": "[encoded data removed]",
      "text/plain": [
       "<Figure size 961.75x360 with 1 Axes>"
      ]
     },
     "metadata": {
      "needs_background": "light"
     },
     "output_type": "display_data"
    }
   ],
   "source": [
    "sns.catplot(x='SITE', y='UENG', hue='U_SOCPOV', kind='bar', data=fc2, height=5, aspect=2.5)\n"
   ]
  },
  {
   "cell_type": "code",
   "execution_count": 19,
   "metadata": {},
   "outputs": [
    {
     "data": {
      "text/plain": [
       "<seaborn.axisgrid.FacetGrid at 0x117f2dd00>"
      ]
     },
     "execution_count": 19,
     "metadata": {},
     "output_type": "execute_result"
    },
    {
     "data": {
      "image/png": "[encoded data removed]",
      "text/plain": [
       "<Figure size 961.75x360 with 1 Axes>"
      ]
     },
     "metadata": {
      "needs_background": "light"
     },
     "output_type": "display_data"
    }
   ],
   "source": [
    "sns.catplot(x='SITE', y='UENG', hue='U_SOCPOV', kind='bar', data=fc3, height=5, aspect=2.5)"
   ]
  },
  {
   "cell_type": "code",
   "execution_count": 55,
   "metadata": {},
   "outputs": [
    {
     "data": {
      "text/plain": [
       "<matplotlib.axes._subplots.AxesSubplot at 0x11c8183d0>"
      ]
     },
     "execution_count": 55,
     "metadata": {},
     "output_type": "execute_result"
    },
    {
     "data": {
      "image/png": "[encoded data removed]",
      "text/plain": [
       "<Figure size 432x288 with 1 Axes>"
      ]
     },
     "metadata": {
      "needs_background": "light"
     },
     "output_type": "display_data"
    }
   ],
   "source": [
    "sns.histplot(x='CSUEXP', hue='U_SOCPOV', multiple='dodge', shrink=.8, stat='frequency', data=fc3)"
   ]
  },
  {
   "cell_type": "code",
   "execution_count": 56,
   "metadata": {},
   "outputs": [
    {
     "data": {
      "text/plain": [
       "<matplotlib.axes._subplots.AxesSubplot at 0x11cf73730>"
      ]
     },
     "execution_count": 56,
     "metadata": {},
     "output_type": "execute_result"
    },
    {
     "data": {
      "image/png": "[encoded data removed]",
      "text/plain": [
       "<Figure size 432x288 with 1 Axes>"
      ]
     },
     "metadata": {
      "needs_background": "light"
     },
     "output_type": "display_data"
    }
   ],
   "source": [
    "sns.histplot(x='CSKIPSC', hue='U_SOCPOV', multiple='dodge', shrink=.8, stat='frequency', data=fc3)"
   ]
  },
  {
   "cell_type": "code",
   "execution_count": null,
   "metadata": {},
   "outputs": [],
   "source": []
  },
  {
   "cell_type": "code",
   "execution_count": null,
   "metadata": {},
   "outputs": [],
   "source": []
  }
 ],
 "metadata": {
  "kernelspec": {
   "display_name": "Python 3",
   "language": "python",
   "name": "python3"
  },
  "language_info": {
   "codemirror_mode": {
    "name": "ipython",
    "version": 3
   },
   "file_extension": ".py",
   "mimetype": "text/x-python",
   "name": "python",
   "nbconvert_exporter": "python",
   "pygments_lexer": "ipython3",
   "version": "3.8.5"
  }
 },
 "nbformat": 4,
 "nbformat_minor": 4
}
