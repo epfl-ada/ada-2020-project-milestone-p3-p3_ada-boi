{
 "cells": [
  {
   "cell_type": "markdown",
   "metadata": {},
   "source": [
    "# Creative extension\n",
    "\n",
    "__Paper:__ Housing, Health, and Happiness\n",
    "\n",
    "__Data:__ National Survey of America's Families, 2002\n",
    "\n",
    "__Aim:__\n",
    "1) Which living outcome do housing conditions affect the most (education, health or happiness)?\n",
    "\n",
    "2) Is there a correlation between precarious housing and health (both physical and mental) status?\n",
    "\n",
    "3) In what ways do living conditions affect children scholarship (if they do) ? Which age group is most impacted ?\n",
    "\n",
    "\n",
    "## Data pre-processing"
   ]
  },
  {
   "cell_type": "code",
   "execution_count": 77,
   "metadata": {},
   "outputs": [],
   "source": [
    "import pandas as pd\n",
    "import numpy as np\n",
    "import matplotlib.pyplot as plt\n",
    "import seaborn as sns\n",
    "\n",
    "from sklearn.linear_model import LogisticRegression\n",
    "from math import exp, log\n",
    "import statsmodels.api as sm\n",
    "import statsmodels.formula.api as smf\n",
    "import statsmodels.stats.api as sms\n",
    "\n",
    "\n",
    "import networkx as nx"
   ]
  },
  {
   "cell_type": "code",
   "execution_count": 2,
   "metadata": {},
   "outputs": [],
   "source": [
    "# Load data\n",
    "\n",
    "data_folder = './data/'\n",
    "# Focal Child Data\n",
    "fc = pd.read_stata(data_folder+'DS0001/04582-0001-Data.dta',convert_categoricals=False)\n",
    "# Household Data\n",
    "hh = pd.read_stata(data_folder+'DS0006/04582-0006-Data.dta',convert_categoricals=False)"
   ]
  },
  {
   "cell_type": "code",
   "execution_count": 3,
   "metadata": {},
   "outputs": [],
   "source": [
    "# Variables of interest in child and hh datasets \n",
    "person_id = ['PERSID','PERSTYPE','RESPID','UCPSID','SEX','UAGE','SITE','STATE','UREGION','TYPEINT','HHID']\n",
    "household_id_hh = ['HHID']\n",
    "#education = ['CCHGSC','CSUEXP','CATTSC','CSKIPSC','CGETBY','CHMWK','CINTSC','CWRKSC','UENG','UENGNEG','UENGPOS']\n",
    "education = ['UENG','UENGNEG','UENGPOS','NLESSONS']\n",
    "#family = ['GHMAD','GSELFHR','UFAMSTR','UMH2','UMHIGDEG']\n",
    "family = ['UFAMSTR','UMH2','UMHIGDEG','UAGG']\n",
    "family_hh = ['CHLD0_5','CHLD6_17','UHHCOUNT']\n",
    "income = ['U_SOCPOV']\n",
    "income_hh = ['QSC5']\n",
    "housing_hh = ['MNBEDRMS','MOWNRENT'] #'OVERCROWDING' added later on\n",
    "mental_health = ['UBPIA','UBPIANEG','UBPIAPOS','UBPIB','UBPIBNEG','UBPIBPOS']\n",
    "health = ['BDISBL','BHLTHN','FDOCT','FWHMED','FWHYMED','FDENT','FWELLV','UCNGHL']\n",
    "activities = ['NOUTING','NSPORTS','UOUTNEG','UOUTPOS','UACT','UACTNEG','UACTPOS']\n",
    "programs = ['GCENTR','CSPECED','CAGRAD','GHEADS','KAPPMED','SSHELP']\n",
    "eco = ['CJOB','UHINS4'] #NB CJOB only for fc3\n",
    "\n",
    "# Add a variable 'overcrowding' and replace inf by -1\n",
    "hh['OVERCROWDING'] = hh['UHHCOUNT'] / hh['MNBEDRMS']\n",
    "housing_hh.append('OVERCROWDING')\n",
    "hh['OVERCROWDING'] = hh['OVERCROWDING'].apply(lambda x : -1 if (x == np.inf or x < 0) else x)\n",
    "\n",
    "# Reduce dataframes to variables of interest\n",
    "fc = fc[person_id + education + family + income + mental_health + health + activities + programs + eco]\n",
    "hh = hh[household_id_hh + family_hh + income_hh + housing_hh]"
   ]
  },
  {
   "cell_type": "code",
   "execution_count": 4,
   "metadata": {},
   "outputs": [
    {
     "data": {
      "text/html": [
       "<div>\n",
       "<style scoped>\n",
       "    .dataframe tbody tr th:only-of-type {\n",
       "        vertical-align: middle;\n",
       "    }\n",
       "\n",
       "    .dataframe tbody tr th {\n",
       "        vertical-align: top;\n",
       "    }\n",
       "\n",
       "    .dataframe thead th {\n",
       "        text-align: right;\n",
       "    }\n",
       "</style>\n",
       "<table border=\"1\" class=\"dataframe\">\n",
       "  <thead>\n",
       "    <tr style=\"text-align: right;\">\n",
       "      <th></th>\n",
       "      <th>PERSID</th>\n",
       "      <th>PERSTYPE</th>\n",
       "      <th>RESPID</th>\n",
       "      <th>UCPSID</th>\n",
       "      <th>SEX</th>\n",
       "      <th>UAGE</th>\n",
       "      <th>SITE</th>\n",
       "      <th>STATE</th>\n",
       "      <th>UREGION</th>\n",
       "      <th>TYPEINT</th>\n",
       "      <th>...</th>\n",
       "      <th>CHLD6_17</th>\n",
       "      <th>UHHCOUNT</th>\n",
       "      <th>QSC5</th>\n",
       "      <th>MNBEDRMS</th>\n",
       "      <th>MOWNRENT</th>\n",
       "      <th>OVERCROWDING</th>\n",
       "      <th>UENGn</th>\n",
       "      <th>BHLTHNn</th>\n",
       "      <th>UBPIAn</th>\n",
       "      <th>UBPIBn</th>\n",
       "    </tr>\n",
       "  </thead>\n",
       "  <tbody>\n",
       "    <tr>\n",
       "      <th>0</th>\n",
       "      <td>5561612801</td>\n",
       "      <td>1</td>\n",
       "      <td>5561612803</td>\n",
       "      <td>5561612800</td>\n",
       "      <td>1</td>\n",
       "      <td>3</td>\n",
       "      <td>15</td>\n",
       "      <td>WI</td>\n",
       "      <td>2</td>\n",
       "      <td>A1</td>\n",
       "      <td>...</td>\n",
       "      <td>0</td>\n",
       "      <td>3</td>\n",
       "      <td>1</td>\n",
       "      <td>4</td>\n",
       "      <td>1</td>\n",
       "      <td>0.75</td>\n",
       "      <td>-1.000000</td>\n",
       "      <td>0.00</td>\n",
       "      <td>-1.0</td>\n",
       "      <td>-1.000000</td>\n",
       "    </tr>\n",
       "    <tr>\n",
       "      <th>1</th>\n",
       "      <td>5470400001</td>\n",
       "      <td>2</td>\n",
       "      <td>5470400003</td>\n",
       "      <td>5470400000</td>\n",
       "      <td>0</td>\n",
       "      <td>14</td>\n",
       "      <td>15</td>\n",
       "      <td>WI</td>\n",
       "      <td>2</td>\n",
       "      <td>A1</td>\n",
       "      <td>...</td>\n",
       "      <td>2</td>\n",
       "      <td>3</td>\n",
       "      <td>2</td>\n",
       "      <td>2</td>\n",
       "      <td>2</td>\n",
       "      <td>1.50</td>\n",
       "      <td>0.333333</td>\n",
       "      <td>0.00</td>\n",
       "      <td>-1.0</td>\n",
       "      <td>0.416667</td>\n",
       "    </tr>\n",
       "    <tr>\n",
       "      <th>2</th>\n",
       "      <td>5787427204</td>\n",
       "      <td>2</td>\n",
       "      <td>5787427205</td>\n",
       "      <td>5787427200</td>\n",
       "      <td>1</td>\n",
       "      <td>9</td>\n",
       "      <td>15</td>\n",
       "      <td>WI</td>\n",
       "      <td>2</td>\n",
       "      <td>A1</td>\n",
       "      <td>...</td>\n",
       "      <td>4</td>\n",
       "      <td>6</td>\n",
       "      <td>1</td>\n",
       "      <td>3</td>\n",
       "      <td>2</td>\n",
       "      <td>2.00</td>\n",
       "      <td>0.666667</td>\n",
       "      <td>0.50</td>\n",
       "      <td>1.0</td>\n",
       "      <td>-1.000000</td>\n",
       "    </tr>\n",
       "    <tr>\n",
       "      <th>3</th>\n",
       "      <td>5410681601</td>\n",
       "      <td>1</td>\n",
       "      <td>5410681604</td>\n",
       "      <td>5410681600</td>\n",
       "      <td>0</td>\n",
       "      <td>4</td>\n",
       "      <td>15</td>\n",
       "      <td>WI</td>\n",
       "      <td>2</td>\n",
       "      <td>A1</td>\n",
       "      <td>...</td>\n",
       "      <td>0</td>\n",
       "      <td>5</td>\n",
       "      <td>1</td>\n",
       "      <td>2</td>\n",
       "      <td>2</td>\n",
       "      <td>2.50</td>\n",
       "      <td>-1.000000</td>\n",
       "      <td>0.25</td>\n",
       "      <td>-1.0</td>\n",
       "      <td>-1.000000</td>\n",
       "    </tr>\n",
       "    <tr>\n",
       "      <th>4</th>\n",
       "      <td>5051721601</td>\n",
       "      <td>2</td>\n",
       "      <td>5051721605</td>\n",
       "      <td>5051721600</td>\n",
       "      <td>1</td>\n",
       "      <td>17</td>\n",
       "      <td>15</td>\n",
       "      <td>WI</td>\n",
       "      <td>2</td>\n",
       "      <td>A1</td>\n",
       "      <td>...</td>\n",
       "      <td>4</td>\n",
       "      <td>5</td>\n",
       "      <td>1</td>\n",
       "      <td>4</td>\n",
       "      <td>2</td>\n",
       "      <td>1.25</td>\n",
       "      <td>0.750000</td>\n",
       "      <td>0.25</td>\n",
       "      <td>-1.0</td>\n",
       "      <td>0.833333</td>\n",
       "    </tr>\n",
       "  </tbody>\n",
       "</table>\n",
       "<p>5 rows × 60 columns</p>\n",
       "</div>"
      ],
      "text/plain": [
       "       PERSID  PERSTYPE      RESPID      UCPSID  SEX  UAGE SITE STATE UREGION  \\\n",
       "0  5561612801         1  5561612803  5561612800    1     3   15    WI       2   \n",
       "1  5470400001         2  5470400003  5470400000    0    14   15    WI       2   \n",
       "2  5787427204         2  5787427205  5787427200    1     9   15    WI       2   \n",
       "3  5410681601         1  5410681604  5410681600    0     4   15    WI       2   \n",
       "4  5051721601         2  5051721605  5051721600    1    17   15    WI       2   \n",
       "\n",
       "  TYPEINT  ... CHLD6_17  UHHCOUNT  QSC5  MNBEDRMS  MOWNRENT  OVERCROWDING  \\\n",
       "0      A1  ...        0         3     1         4         1          0.75   \n",
       "1      A1  ...        2         3     2         2         2          1.50   \n",
       "2      A1  ...        4         6     1         3         2          2.00   \n",
       "3      A1  ...        0         5     1         2         2          2.50   \n",
       "4      A1  ...        4         5     1         4         2          1.25   \n",
       "\n",
       "      UENGn  BHLTHNn  UBPIAn    UBPIBn  \n",
       "0 -1.000000     0.00    -1.0 -1.000000  \n",
       "1  0.333333     0.00    -1.0  0.416667  \n",
       "2  0.666667     0.50     1.0 -1.000000  \n",
       "3 -1.000000     0.25    -1.0 -1.000000  \n",
       "4  0.750000     0.25    -1.0  0.833333  \n",
       "\n",
       "[5 rows x 60 columns]"
      ]
     },
     "execution_count": 4,
     "metadata": {},
     "output_type": "execute_result"
    }
   ],
   "source": [
    "# Merge dataframes using the household ID number, \n",
    "# inner merge keeps only households that are linked to a focal child subject\n",
    "child = pd.merge(fc, hh, left_on = 'HHID', right_on = 'HHID', how='inner')\n",
    "\n",
    "# NaNs handling : replace all the missing values by -1\n",
    "child.replace([-7,-8,-9],-1,inplace=True)\n",
    "\n",
    "# Make the SEX variable binary with F=1 and M=0\n",
    "child['SEX'].replace(to_replace=dict(F=1, M=0),inplace=True)\n",
    "# Make the CJOB variable binary with Yes=1 and No=0\n",
    "child['CJOB'].replace(2,0,inplace=True)\n",
    "# Make the NLESSONS variable binary with Yes=1 and No=0\n",
    "child['NLESSONS'].replace(2,0,inplace=True)\n",
    "\n",
    "# Normalize values for UENG(4-16), BHLTHN(1-5), UBPIA(6-18) & UBPIB(6-18) (min-max)\n",
    "child.loc[:,'UENGn'] = child['UENG'].apply(lambda x: (x-4)/(16-4) if x != -1 else x)\n",
    "child.loc[:,'BHLTHNn'] = child['BHLTHN'].apply(lambda x: (x-1)/(5-1) if x != -1 else x)\n",
    "child.loc[:,'UBPIAn'] = child['UBPIA'].apply(lambda x: (x-6)/(18-6) if x != -1 else x)\n",
    "child.loc[:,'UBPIBn'] = child['UBPIB'].apply(lambda x: (x-6)/(18-6) if x != -1 else x)\n",
    "\n",
    "# Preview of child dataframe\n",
    "child.head()"
   ]
  },
  {
   "cell_type": "code",
   "execution_count": 5,
   "metadata": {},
   "outputs": [],
   "source": [
    "# Divide child data in 4 dfs based on age groups\n",
    "\n",
    "# Keep data of focal children from age 0 to 17 only\n",
    "child = child.loc[child['PERSTYPE'].isin([1,2])]\n",
    "\n",
    "# are there young children (0-5yo) in household?\n",
    "child.loc[:,'bool0_5'] = child['CHLD0_5'].apply(lambda x : 0 if x == 0 else 1)\n",
    "\n",
    "# FC1 : focal child, aged 0-5\n",
    "fc1 = child.copy()[child['PERSTYPE']==1]\n",
    "\n",
    "# FC23 : focal child, aged 6-17\n",
    "fc23 = child.copy()[child['PERSTYPE']==2]\n",
    "\n",
    "# FC2 : focal child, aged 6-11\n",
    "fc2 = child.copy()[(child['PERSTYPE']==2) & (child['UAGE'] < 12)]\n",
    "\n",
    "# FC3 : focal child, aged 12-17\n",
    "fc3 = child.copy()[(child['PERSTYPE']==2) & (child['UAGE'] >= 12)]"
   ]
  },
  {
   "cell_type": "code",
   "execution_count": 6,
   "metadata": {},
   "outputs": [
    {
     "name": "stdout",
     "output_type": "stream",
     "text": [
      "Shapes of dataframes:\n",
      "fc1: (12268, 61)\n",
      "fc2: (10925, 61)\n",
      "fc3:(11087, 61)\n",
      "fc23: (22012, 61)\n",
      "True\n"
     ]
    }
   ],
   "source": [
    "print(f'Shapes of dataframes:\\nfc1: {fc1.shape}\\nfc2: {fc2.shape}\\nfc3:{fc3.shape}\\nfc23: {fc23.shape}')\n",
    "print((fc1.shape[0] + fc2.shape[0] + fc3.shape[0]) == child.shape[0]) #test to see if all children are counted"
   ]
  },
  {
   "cell_type": "markdown",
   "metadata": {},
   "source": [
    "## Propensity score attempt\n",
    "\n",
    "__Living conditions indicator :__"
   ]
  },
  {
   "cell_type": "code",
   "execution_count": 7,
   "metadata": {},
   "outputs": [],
   "source": [
    "# returns a dataframe where the rows of the given 'df' containing NaN values for either the 'outcome'\n",
    "# or any of the 'predictors' have been removed\n",
    "def df_NN(df,outcome,predictors):\n",
    "    if len(predictors) <= 1:\n",
    "        bools = (df[predictors[0]] != -1)\n",
    "    else:\n",
    "        bools = df[predictors].isin([-1]).any(axis=1)==False\n",
    "    \n",
    "    return df.loc[(df[outcome] != -1) & (bools)]"
   ]
  },
  {
   "cell_type": "code",
   "execution_count": 8,
   "metadata": {},
   "outputs": [],
   "source": [
    "# Variables used for precarity indicator (economics and relationship with family)\n",
    "# NB CHOICE OF WORDS : PRECARITY NOT VERY ACCURATE\n",
    "prec = ['U_SOCPOV','OVERCROWDING','MOWNRENT','UHINS4','UAGG','UFAMSTR']\n",
    "#prec3 = prec + ['CJOB']\n",
    "\n",
    "df_prec = df_NN(fc23,'PERSID',prec)\n",
    "#df_prec_3 = df_NN(fc3,'PERSID',prec3)"
   ]
  },
  {
   "cell_type": "code",
   "execution_count": 9,
   "metadata": {},
   "outputs": [],
   "source": [
    "# Living conditions indicator\n",
    "negative = ['OVERCROWDING','MOWNRENT','UHINS4']\n",
    "#negative3 = negative + ['CJOB']\n",
    "positive = ['U_SOCPOV','UAGG','UFAMSTR']\n",
    "    \n",
    "# Normalize all the variables and sign them -> WE CAN CHOOSE WEIGHTS LATER TO TUNE THE INDEX\n",
    "# NB performs column-wise automatically\n",
    "norm_prec =(df_prec[prec]-df_prec[prec].min())/(df_prec[prec].max()-df_prec[prec].min())\n",
    "#norm_prec_3 =(df_prec_3[prec3]-df_prec_3[prec3].min())/(df_prec_3[prec3].max()-df_prec_3[prec3].min())\n",
    "norm_prec.loc[:,negative] *= -1\n",
    "#norm_prec_3.loc[:,negative3] *= -1\n",
    "\n",
    "# Compute living conditions indicator\n",
    "norm_prec.loc[:,'living_ind'] = norm_prec.sum(axis=1)\n",
    "#norm_prec_3.loc[:,'living_ind'] = norm_prec_3.sum(axis=1)"
   ]
  },
  {
   "cell_type": "code",
   "execution_count": 10,
   "metadata": {},
   "outputs": [],
   "source": [
    "# Choose a threshold to consider a household 'precarious' or not -> ADAPT (j'ai juste pris zero en mode random)\n",
    "norm_prec.loc[:,'precarious'] = norm_prec['living_ind'].apply(lambda x : 1 if x < 1 else 0)\n",
    "#norm_prec_3.loc[:,'precarious'] = norm_prec_3['living_ind'].apply(lambda x : 1 if x < 1 else 0)\n",
    "\n",
    "# Merge this new column with whole df without NaNs\n",
    "fc23_prec = pd.merge(fc23, norm_prec['precarious'], left_index=True, right_index=True, how='inner')\n",
    "#fc3_prec = pd.merge(fc3, norm_prec_3['precarious'], left_index=True, right_index=True, how='inner')"
   ]
  },
  {
   "cell_type": "code",
   "execution_count": 11,
   "metadata": {},
   "outputs": [
    {
     "data": {
      "text/html": [
       "<div>\n",
       "<style scoped>\n",
       "    .dataframe tbody tr th:only-of-type {\n",
       "        vertical-align: middle;\n",
       "    }\n",
       "\n",
       "    .dataframe tbody tr th {\n",
       "        vertical-align: top;\n",
       "    }\n",
       "\n",
       "    .dataframe thead th {\n",
       "        text-align: right;\n",
       "    }\n",
       "</style>\n",
       "<table border=\"1\" class=\"dataframe\">\n",
       "  <thead>\n",
       "    <tr style=\"text-align: right;\">\n",
       "      <th></th>\n",
       "      <th>PERSID</th>\n",
       "      <th>PERSTYPE</th>\n",
       "      <th>RESPID</th>\n",
       "      <th>UCPSID</th>\n",
       "      <th>SEX</th>\n",
       "      <th>UAGE</th>\n",
       "      <th>SITE</th>\n",
       "      <th>STATE</th>\n",
       "      <th>UREGION</th>\n",
       "      <th>TYPEINT</th>\n",
       "      <th>...</th>\n",
       "      <th>QSC5</th>\n",
       "      <th>MNBEDRMS</th>\n",
       "      <th>MOWNRENT</th>\n",
       "      <th>OVERCROWDING</th>\n",
       "      <th>UENGn</th>\n",
       "      <th>BHLTHNn</th>\n",
       "      <th>UBPIAn</th>\n",
       "      <th>UBPIBn</th>\n",
       "      <th>bool0_5</th>\n",
       "      <th>precarious</th>\n",
       "    </tr>\n",
       "  </thead>\n",
       "  <tbody>\n",
       "    <tr>\n",
       "      <th>1</th>\n",
       "      <td>5470400001</td>\n",
       "      <td>2</td>\n",
       "      <td>5470400003</td>\n",
       "      <td>5470400000</td>\n",
       "      <td>0</td>\n",
       "      <td>14</td>\n",
       "      <td>15</td>\n",
       "      <td>WI</td>\n",
       "      <td>2</td>\n",
       "      <td>A1</td>\n",
       "      <td>...</td>\n",
       "      <td>2</td>\n",
       "      <td>2</td>\n",
       "      <td>2</td>\n",
       "      <td>1.50</td>\n",
       "      <td>0.333333</td>\n",
       "      <td>0.00</td>\n",
       "      <td>-1.0</td>\n",
       "      <td>0.416667</td>\n",
       "      <td>0</td>\n",
       "      <td>0</td>\n",
       "    </tr>\n",
       "    <tr>\n",
       "      <th>2</th>\n",
       "      <td>5787427204</td>\n",
       "      <td>2</td>\n",
       "      <td>5787427205</td>\n",
       "      <td>5787427200</td>\n",
       "      <td>1</td>\n",
       "      <td>9</td>\n",
       "      <td>15</td>\n",
       "      <td>WI</td>\n",
       "      <td>2</td>\n",
       "      <td>A1</td>\n",
       "      <td>...</td>\n",
       "      <td>1</td>\n",
       "      <td>3</td>\n",
       "      <td>2</td>\n",
       "      <td>2.00</td>\n",
       "      <td>0.666667</td>\n",
       "      <td>0.50</td>\n",
       "      <td>1.0</td>\n",
       "      <td>-1.000000</td>\n",
       "      <td>0</td>\n",
       "      <td>1</td>\n",
       "    </tr>\n",
       "    <tr>\n",
       "      <th>4</th>\n",
       "      <td>5051721601</td>\n",
       "      <td>2</td>\n",
       "      <td>5051721605</td>\n",
       "      <td>5051721600</td>\n",
       "      <td>1</td>\n",
       "      <td>17</td>\n",
       "      <td>15</td>\n",
       "      <td>WI</td>\n",
       "      <td>2</td>\n",
       "      <td>A1</td>\n",
       "      <td>...</td>\n",
       "      <td>1</td>\n",
       "      <td>4</td>\n",
       "      <td>2</td>\n",
       "      <td>1.25</td>\n",
       "      <td>0.750000</td>\n",
       "      <td>0.25</td>\n",
       "      <td>-1.0</td>\n",
       "      <td>0.833333</td>\n",
       "      <td>0</td>\n",
       "      <td>1</td>\n",
       "    </tr>\n",
       "    <tr>\n",
       "      <th>6</th>\n",
       "      <td>5353539201</td>\n",
       "      <td>2</td>\n",
       "      <td>5353539204</td>\n",
       "      <td>5353539200</td>\n",
       "      <td>1</td>\n",
       "      <td>11</td>\n",
       "      <td>15</td>\n",
       "      <td>WI</td>\n",
       "      <td>2</td>\n",
       "      <td>A1</td>\n",
       "      <td>...</td>\n",
       "      <td>2</td>\n",
       "      <td>4</td>\n",
       "      <td>2</td>\n",
       "      <td>2.25</td>\n",
       "      <td>1.000000</td>\n",
       "      <td>0.50</td>\n",
       "      <td>0.5</td>\n",
       "      <td>-1.000000</td>\n",
       "      <td>1</td>\n",
       "      <td>1</td>\n",
       "    </tr>\n",
       "    <tr>\n",
       "      <th>8</th>\n",
       "      <td>5065766401</td>\n",
       "      <td>2</td>\n",
       "      <td>5065766404</td>\n",
       "      <td>5065766400</td>\n",
       "      <td>1</td>\n",
       "      <td>14</td>\n",
       "      <td>15</td>\n",
       "      <td>WI</td>\n",
       "      <td>2</td>\n",
       "      <td>A1</td>\n",
       "      <td>...</td>\n",
       "      <td>1</td>\n",
       "      <td>2</td>\n",
       "      <td>2</td>\n",
       "      <td>2.00</td>\n",
       "      <td>0.416667</td>\n",
       "      <td>0.50</td>\n",
       "      <td>-1.0</td>\n",
       "      <td>0.083333</td>\n",
       "      <td>0</td>\n",
       "      <td>1</td>\n",
       "    </tr>\n",
       "  </tbody>\n",
       "</table>\n",
       "<p>5 rows × 62 columns</p>\n",
       "</div>"
      ],
      "text/plain": [
       "       PERSID  PERSTYPE      RESPID      UCPSID  SEX  UAGE SITE STATE UREGION  \\\n",
       "1  5470400001         2  5470400003  5470400000    0    14   15    WI       2   \n",
       "2  5787427204         2  5787427205  5787427200    1     9   15    WI       2   \n",
       "4  5051721601         2  5051721605  5051721600    1    17   15    WI       2   \n",
       "6  5353539201         2  5353539204  5353539200    1    11   15    WI       2   \n",
       "8  5065766401         2  5065766404  5065766400    1    14   15    WI       2   \n",
       "\n",
       "  TYPEINT  ... QSC5  MNBEDRMS  MOWNRENT  OVERCROWDING     UENGn  BHLTHNn  \\\n",
       "1      A1  ...    2         2         2          1.50  0.333333     0.00   \n",
       "2      A1  ...    1         3         2          2.00  0.666667     0.50   \n",
       "4      A1  ...    1         4         2          1.25  0.750000     0.25   \n",
       "6      A1  ...    2         4         2          2.25  1.000000     0.50   \n",
       "8      A1  ...    1         2         2          2.00  0.416667     0.50   \n",
       "\n",
       "   UBPIAn    UBPIBn  bool0_5  precarious  \n",
       "1    -1.0  0.416667        0           0  \n",
       "2     1.0 -1.000000        0           1  \n",
       "4    -1.0  0.833333        0           1  \n",
       "6     0.5 -1.000000        1           1  \n",
       "8    -1.0  0.083333        0           1  \n",
       "\n",
       "[5 rows x 62 columns]"
      ]
     },
     "execution_count": 11,
     "metadata": {},
     "output_type": "execute_result"
    }
   ],
   "source": [
    "fc23_prec.head()"
   ]
  },
  {
   "cell_type": "markdown",
   "metadata": {},
   "source": [
    "**PS with `bool0_5` as a treatment**"
   ]
  },
  {
   "cell_type": "code",
   "execution_count": 12,
   "metadata": {},
   "outputs": [
    {
     "name": "stdout",
     "output_type": "stream",
     "text": [
      "Optimization terminated successfully.\n",
      "         Current function value: 0.497099\n",
      "         Iterations 6\n"
     ]
    }
   ],
   "source": [
    "# logistic regression for CHLD0_5\n",
    "# NB changed to fc23 rather than child, removed BHLTHN from PS calculation\n",
    "predictors= ['SEX','UREGION','UFAMSTR','UMH2','UMHIGDEG','UAGG','UHHCOUNT','U_SOCPOV','MNBEDRMS','MOWNRENT','OVERCROWDING','BDISBL','UHINS4']\n",
    "df_05 = df_NN(fc23,'bool0_5',predictors)\n",
    "\n",
    "log_model_1 = 'bool0_5 ~ SEX + UREGION + UFAMSTR + UMH2 + UMHIGDEG + UAGG \\\n",
    "+ UHHCOUNT + U_SOCPOV + MNBEDRMS + MOWNRENT + OVERCROWDING + BDISBL + UHINS4'\n",
    "\n",
    "log1 = smf.logit(formula=log_model_1, data=df_05)\n",
    "res1 = log1.fit()"
   ]
  },
  {
   "cell_type": "code",
   "execution_count": 13,
   "metadata": {},
   "outputs": [
    {
     "data": {
      "text/html": [
       "<table class=\"simpletable\">\n",
       "<caption>Logit Regression Results</caption>\n",
       "<tr>\n",
       "  <th>Dep. Variable:</th>        <td>bool0_5</td>     <th>  No. Observations:  </th>  <td> 21474</td> \n",
       "</tr>\n",
       "<tr>\n",
       "  <th>Model:</th>                 <td>Logit</td>      <th>  Df Residuals:      </th>  <td> 21458</td> \n",
       "</tr>\n",
       "<tr>\n",
       "  <th>Method:</th>                 <td>MLE</td>       <th>  Df Model:          </th>  <td>    15</td> \n",
       "</tr>\n",
       "<tr>\n",
       "  <th>Date:</th>            <td>Wed, 09 Dec 2020</td> <th>  Pseudo R-squ.:     </th>  <td>0.1658</td> \n",
       "</tr>\n",
       "<tr>\n",
       "  <th>Time:</th>                <td>17:11:47</td>     <th>  Log-Likelihood:    </th> <td> -10675.</td>\n",
       "</tr>\n",
       "<tr>\n",
       "  <th>converged:</th>             <td>True</td>       <th>  LL-Null:           </th> <td> -12796.</td>\n",
       "</tr>\n",
       "<tr>\n",
       "  <th>Covariance Type:</th>     <td>nonrobust</td>    <th>  LLR p-value:       </th>  <td> 0.000</td> \n",
       "</tr>\n",
       "</table>\n",
       "<table class=\"simpletable\">\n",
       "<tr>\n",
       "        <td></td>          <th>coef</th>     <th>std err</th>      <th>z</th>      <th>P>|z|</th>  <th>[0.025</th>    <th>0.975]</th>  \n",
       "</tr>\n",
       "<tr>\n",
       "  <th>Intercept</th>    <td>   -4.0937</td> <td>    0.230</td> <td>  -17.776</td> <td> 0.000</td> <td>   -4.545</td> <td>   -3.642</td>\n",
       "</tr>\n",
       "<tr>\n",
       "  <th>UREGION[T.2]</th> <td>   -0.0165</td> <td>    0.049</td> <td>   -0.337</td> <td> 0.736</td> <td>   -0.112</td> <td>    0.079</td>\n",
       "</tr>\n",
       "<tr>\n",
       "  <th>UREGION[T.3]</th> <td>    0.0189</td> <td>    0.049</td> <td>    0.382</td> <td> 0.703</td> <td>   -0.078</td> <td>    0.116</td>\n",
       "</tr>\n",
       "<tr>\n",
       "  <th>UREGION[T.4]</th> <td>   -0.0047</td> <td>    0.051</td> <td>   -0.093</td> <td> 0.926</td> <td>   -0.105</td> <td>    0.095</td>\n",
       "</tr>\n",
       "<tr>\n",
       "  <th>SEX</th>          <td>    0.0023</td> <td>    0.034</td> <td>    0.066</td> <td> 0.947</td> <td>   -0.064</td> <td>    0.069</td>\n",
       "</tr>\n",
       "<tr>\n",
       "  <th>UFAMSTR</th>      <td>   -0.0114</td> <td>    0.020</td> <td>   -0.577</td> <td> 0.564</td> <td>   -0.050</td> <td>    0.027</td>\n",
       "</tr>\n",
       "<tr>\n",
       "  <th>UMH2</th>         <td>    0.0064</td> <td>    0.001</td> <td>    4.616</td> <td> 0.000</td> <td>    0.004</td> <td>    0.009</td>\n",
       "</tr>\n",
       "<tr>\n",
       "  <th>UMHIGDEG</th>     <td>   -0.0246</td> <td>    0.009</td> <td>   -2.703</td> <td> 0.007</td> <td>   -0.042</td> <td>   -0.007</td>\n",
       "</tr>\n",
       "<tr>\n",
       "  <th>UAGG</th>         <td>   -0.0287</td> <td>    0.010</td> <td>   -2.963</td> <td> 0.003</td> <td>   -0.048</td> <td>   -0.010</td>\n",
       "</tr>\n",
       "<tr>\n",
       "  <th>UHHCOUNT</th>     <td>    0.7318</td> <td>    0.029</td> <td>   25.354</td> <td> 0.000</td> <td>    0.675</td> <td>    0.788</td>\n",
       "</tr>\n",
       "<tr>\n",
       "  <th>U_SOCPOV</th>     <td>   -0.2043</td> <td>    0.018</td> <td>  -11.652</td> <td> 0.000</td> <td>   -0.239</td> <td>   -0.170</td>\n",
       "</tr>\n",
       "<tr>\n",
       "  <th>MNBEDRMS</th>     <td>   -0.1541</td> <td>    0.041</td> <td>   -3.772</td> <td> 0.000</td> <td>   -0.234</td> <td>   -0.074</td>\n",
       "</tr>\n",
       "<tr>\n",
       "  <th>MOWNRENT</th>     <td>    0.2300</td> <td>    0.039</td> <td>    5.965</td> <td> 0.000</td> <td>    0.154</td> <td>    0.306</td>\n",
       "</tr>\n",
       "<tr>\n",
       "  <th>OVERCROWDING</th> <td>    0.2760</td> <td>    0.071</td> <td>    3.909</td> <td> 0.000</td> <td>    0.138</td> <td>    0.414</td>\n",
       "</tr>\n",
       "<tr>\n",
       "  <th>BDISBL</th>       <td>    0.2687</td> <td>    0.054</td> <td>    5.008</td> <td> 0.000</td> <td>    0.164</td> <td>    0.374</td>\n",
       "</tr>\n",
       "<tr>\n",
       "  <th>UHINS4</th>       <td>   -0.0875</td> <td>    0.020</td> <td>   -4.332</td> <td> 0.000</td> <td>   -0.127</td> <td>   -0.048</td>\n",
       "</tr>\n",
       "</table>"
      ],
      "text/plain": [
       "<class 'statsmodels.iolib.summary.Summary'>\n",
       "\"\"\"\n",
       "                           Logit Regression Results                           \n",
       "==============================================================================\n",
       "Dep. Variable:                bool0_5   No. Observations:                21474\n",
       "Model:                          Logit   Df Residuals:                    21458\n",
       "Method:                           MLE   Df Model:                           15\n",
       "Date:                Wed, 09 Dec 2020   Pseudo R-squ.:                  0.1658\n",
       "Time:                        17:11:47   Log-Likelihood:                -10675.\n",
       "converged:                       True   LL-Null:                       -12796.\n",
       "Covariance Type:            nonrobust   LLR p-value:                     0.000\n",
       "================================================================================\n",
       "                   coef    std err          z      P>|z|      [0.025      0.975]\n",
       "--------------------------------------------------------------------------------\n",
       "Intercept       -4.0937      0.230    -17.776      0.000      -4.545      -3.642\n",
       "UREGION[T.2]    -0.0165      0.049     -0.337      0.736      -0.112       0.079\n",
       "UREGION[T.3]     0.0189      0.049      0.382      0.703      -0.078       0.116\n",
       "UREGION[T.4]    -0.0047      0.051     -0.093      0.926      -0.105       0.095\n",
       "SEX              0.0023      0.034      0.066      0.947      -0.064       0.069\n",
       "UFAMSTR         -0.0114      0.020     -0.577      0.564      -0.050       0.027\n",
       "UMH2             0.0064      0.001      4.616      0.000       0.004       0.009\n",
       "UMHIGDEG        -0.0246      0.009     -2.703      0.007      -0.042      -0.007\n",
       "UAGG            -0.0287      0.010     -2.963      0.003      -0.048      -0.010\n",
       "UHHCOUNT         0.7318      0.029     25.354      0.000       0.675       0.788\n",
       "U_SOCPOV        -0.2043      0.018    -11.652      0.000      -0.239      -0.170\n",
       "MNBEDRMS        -0.1541      0.041     -3.772      0.000      -0.234      -0.074\n",
       "MOWNRENT         0.2300      0.039      5.965      0.000       0.154       0.306\n",
       "OVERCROWDING     0.2760      0.071      3.909      0.000       0.138       0.414\n",
       "BDISBL           0.2687      0.054      5.008      0.000       0.164       0.374\n",
       "UHINS4          -0.0875      0.020     -4.332      0.000      -0.127      -0.048\n",
       "================================================================================\n",
       "\"\"\""
      ]
     },
     "execution_count": 13,
     "metadata": {},
     "output_type": "execute_result"
    }
   ],
   "source": [
    "res1.summary()"
   ]
  },
  {
   "cell_type": "code",
   "execution_count": 14,
   "metadata": {},
   "outputs": [
    {
     "name": "stderr",
     "output_type": "stream",
     "text": [
      "//anaconda3/lib/python3.8/site-packages/pandas/core/indexing.py:1596: SettingWithCopyWarning: \n",
      "A value is trying to be set on a copy of a slice from a DataFrame.\n",
      "Try using .loc[row_indexer,col_indexer] = value instead\n",
      "\n",
      "See the caveats in the documentation: https://pandas.pydata.org/pandas-docs/stable/user_guide/indexing.html#returning-a-view-versus-a-copy\n",
      "  self.obj[key] = _infer_fill_value(value)\n",
      "//anaconda3/lib/python3.8/site-packages/pandas/core/indexing.py:1745: SettingWithCopyWarning: \n",
      "A value is trying to be set on a copy of a slice from a DataFrame.\n",
      "Try using .loc[row_indexer,col_indexer] = value instead\n",
      "\n",
      "See the caveats in the documentation: https://pandas.pydata.org/pandas-docs/stable/user_guide/indexing.html#returning-a-view-versus-a-copy\n",
      "  isetter(ilocs[0], value)\n"
     ]
    }
   ],
   "source": [
    "pred05 = res1.predict(df_05)\n",
    "df_05.loc[:,'PS'] = pred05"
   ]
  },
  {
   "cell_type": "markdown",
   "metadata": {},
   "source": [
    "#### without matching"
   ]
  },
  {
   "cell_type": "code",
   "execution_count": 15,
   "metadata": {},
   "outputs": [
    {
     "data": {
      "image/png": "[encoded data removed]",
      "text/plain": [
       "<Figure size 720x360 with 1 Axes>"
      ]
     },
     "metadata": {
      "needs_background": "light"
     },
     "output_type": "display_data"
    }
   ],
   "source": [
    "# Plot PS for unmatched groups\n",
    "fig = plt.figure(figsize=(10,5))\n",
    "sns.histplot(data=df_05, x=\"PS\", hue='bool0_5', kde=True, element='step', stat='density',\n",
    "             common_norm=False)\n",
    "plt.xlabel('PS', fontsize=12)\n",
    "plt.suptitle('PS distribution comparison for unmatched samples', fontsize=14, fontweight='bold')\n",
    "plt.legend(['has young child','no young child'], loc='upper left', fontsize = 12)\n",
    "plt.show()"
   ]
  },
  {
   "cell_type": "code",
   "execution_count": 16,
   "metadata": {},
   "outputs": [
    {
     "data": {
      "image/png": "[encoded data removed]",
      "text/plain": [
       "<Figure size 720x360 with 1 Axes>"
      ]
     },
     "metadata": {
      "needs_background": "light"
     },
     "output_type": "display_data"
    }
   ],
   "source": [
    "# Plot a seemingly unrelated variable (here OVERCROWDING) for unmatched groups\n",
    "var = 'OVERCROWDING'\n",
    "fig = plt.figure(figsize=(10,5))\n",
    "sns.kdeplot(data=df_05, x=var, hue='bool0_5', palette=['r','g'], shade=True, common_norm=False)\n",
    "plt.xlim(0, 6)\n",
    "plt.xlabel(var, fontsize=12)\n",
    "plt.suptitle(var+' distribution for unmatched samples', fontsize=14, fontweight='bold')\n",
    "plt.legend(['has young child','no young child'], loc='upper left', fontsize = 12)\n",
    "plt.show()"
   ]
  },
  {
   "cell_type": "code",
   "execution_count": 17,
   "metadata": {},
   "outputs": [
    {
     "name": "stdout",
     "output_type": "stream",
     "text": [
      "Diff of mean = 0.21907978074165158\n"
     ]
    }
   ],
   "source": [
    "umh = df_05.groupby('bool0_5').mean()\n",
    "print('Diff of mean = ' +str(umh['UMH2'][1] - umh['UMH2'][0]))"
   ]
  },
  {
   "cell_type": "code",
   "execution_count": 18,
   "metadata": {},
   "outputs": [
    {
     "data": {
      "text/plain": [
       "<seaborn.axisgrid.FacetGrid at 0x1245c4e20>"
      ]
     },
     "execution_count": 18,
     "metadata": {},
     "output_type": "execute_result"
    },
    {
     "data": {
      "image/png": "[encoded data removed]",
      "text/plain": [
       "<Figure size 360x360 with 1 Axes>"
      ]
     },
     "metadata": {
      "needs_background": "light"
     },
     "output_type": "display_data"
    }
   ],
   "source": [
    "# not huge difference of about 0.33 -> could finish the conclusion by making bootstrap interval -> probably significant\n",
    "sns.catplot(data=umh.reset_index(),x='bool0_5',y='UMH2',kind='bar')"
   ]
  },
  {
   "cell_type": "markdown",
   "metadata": {},
   "source": [
    "#### with matching"
   ]
  },
  {
   "cell_type": "markdown",
   "metadata": {},
   "source": [
    "def caliper_matching (treatment, control, epsilon) :\n",
    "  \n",
    "    # List of control index\n",
    "    idx = []\n",
    "    for k in range(control.shape[0]):\n",
    "        idx.append(k)\n",
    "    \n",
    "    # Lists of indices of treated and non-treated matched subjects\n",
    "    matched_treatment_indices = []\n",
    "    matched_control_indices = []\n",
    "    # 1-to-1 matching\n",
    "    for i in range(treatment.shape[0]) :\n",
    "        for j in idx :\n",
    "            diff = abs(control.loc[j,'PS'] - treatment.loc[i,'PS'])\n",
    "            if diff < epsilon :\n",
    "                matched_treatment_indices.append(i)\n",
    "                matched_control_indices.append(j)\n",
    "                idx.remove(j)\n",
    "                break\n",
    "    \n",
    "    return matched_treatment_indices, matched_control_indices"
   ]
  },
  {
   "cell_type": "code",
   "execution_count": 19,
   "metadata": {},
   "outputs": [],
   "source": [
    "# Finds closest PS to the input 'score' from the inputted array 'array'.\n",
    "# Returns value of PS and its difference with 'score'.\n",
    "def find_nearest(array, score):\n",
    "    array = np.asarray(array)\n",
    "    idx = (np.abs(array - score)).argmin()\n",
    "    matchps = array[idx]\n",
    "    return matchps, np.abs(matchps-score)"
   ]
  },
  {
   "cell_type": "code",
   "execution_count": 20,
   "metadata": {},
   "outputs": [],
   "source": [
    "# Returns a dataframe containing two equally numbered populations (control, treatment) with ideally\n",
    "# matched propensity scores\n",
    "def optimatch(ctrl_df,trtm_df,alpha=0.01):\n",
    "    idx=[]\n",
    "    idtrtm=[]\n",
    "    if (trtm_df.shape[0] > ctrl_df.shape[0]): # we iterate over the smaller dataframe and use the other one as a pool\n",
    "        trtm_df, ctrl_df = ctrl_df, trtm_df\n",
    "    iterative_df = trtm_df.reset_index(drop=True).copy().sample(frac=1) # shuffles the df so that we don't always preferentially optimize the first rows\n",
    "    pool_df = ctrl_df.reset_index(drop=True).copy()\n",
    "    for i in range(0,iterative_df.shape[0]):\n",
    "        ps = iterative_df.iloc[i].PS\n",
    "        matched, diff = find_nearest(pool_df.PS.drop(idx),ps)\n",
    "        if (diff < alpha):\n",
    "            idx.append(pool_df[pool_df.PS == matched].index[0]) \n",
    "            idtrtm.append(i)\n",
    "    return pool_df.iloc[idx].append(iterative_df.iloc[idtrtm])"
   ]
  },
  {
   "cell_type": "code",
   "execution_count": 21,
   "metadata": {},
   "outputs": [
    {
     "name": "stdout",
     "output_type": "stream",
     "text": [
      "Number of treated subjects (children) : 6080 \n",
      "Number of control subjects (no children) : 15394 \n",
      "Number of matched pairs : 5184.0\n"
     ]
    }
   ],
   "source": [
    "trtm0_5 = df_05[df_05.bool0_5 == 1].reset_index(drop=True)\n",
    "ctrl0_5 = df_05[df_05.bool0_5 == 0].reset_index(drop=True)\n",
    "\n",
    "# Perform matching between treated and non-treated samples\n",
    "df_child05 = optimatch(trtm0_5,ctrl0_5,0.001)\n",
    "\n",
    "print(f'Number of treated subjects (children) : {trtm0_5.shape[0]} \\n\\\n",
    "Number of control subjects (no children) : {ctrl0_5.shape[0]} \\n\\\n",
    "Number of matched pairs : {df_child05.shape[0]/2}')"
   ]
  },
  {
   "cell_type": "code",
   "execution_count": 22,
   "metadata": {},
   "outputs": [
    {
     "data": {
      "image/png": "[encoded data removed]",
      "text/plain": [
       "<Figure size 720x360 with 1 Axes>"
      ]
     },
     "metadata": {
      "needs_background": "light"
     },
     "output_type": "display_data"
    }
   ],
   "source": [
    "# Plot PS for matched groups\n",
    "fig = plt.figure(figsize=(10,5))\n",
    "sns.histplot(data=df_child05, x=\"PS\", hue='bool0_5', kde=True, element='step', stat='density',\n",
    "             common_norm=False)\n",
    "plt.xlabel('PS', fontsize=12)\n",
    "plt.suptitle('PS distribution comparison for matched samples', fontsize=14, fontweight='bold')\n",
    "plt.legend(['has young child','no young child'], loc='upper left', fontsize = 12)\n",
    "plt.show()"
   ]
  },
  {
   "cell_type": "code",
   "execution_count": 23,
   "metadata": {},
   "outputs": [
    {
     "data": {
      "image/png": "[encoded data removed]",
      "text/plain": [
       "<Figure size 720x360 with 1 Axes>"
      ]
     },
     "metadata": {
      "needs_background": "light"
     },
     "output_type": "display_data"
    }
   ],
   "source": [
    "# Plot a seemingly unrelated variable (here OVERCROWDING) for matched groups\n",
    "var = 'OVERCROWDING'\n",
    "fig = plt.figure(figsize=(10,5))\n",
    "sns.kdeplot(data=df_child05, x=var, hue='bool0_5', palette=['r','g'], shade=True)\n",
    "plt.xlim(0, 6)\n",
    "plt.xlabel(var, fontsize=12)\n",
    "plt.suptitle(var+' distribution for matched samples', fontsize=14, fontweight='bold')\n",
    "plt.legend(['has young child','no young child'], loc='upper right', fontsize = 12)\n",
    "plt.show()"
   ]
  },
  {
   "cell_type": "markdown",
   "metadata": {},
   "source": [
    "# similar curves with matching ! bg!"
   ]
  },
  {
   "cell_type": "code",
   "execution_count": 24,
   "metadata": {},
   "outputs": [
    {
     "name": "stdout",
     "output_type": "stream",
     "text": [
      "Diff of UMH2 mean = -0.2949459876543301\n"
     ]
    },
    {
     "data": {
      "text/html": [
       "<div>\n",
       "<style scoped>\n",
       "    .dataframe tbody tr th:only-of-type {\n",
       "        vertical-align: middle;\n",
       "    }\n",
       "\n",
       "    .dataframe tbody tr th {\n",
       "        vertical-align: top;\n",
       "    }\n",
       "\n",
       "    .dataframe thead th {\n",
       "        text-align: right;\n",
       "    }\n",
       "</style>\n",
       "<table border=\"1\" class=\"dataframe\">\n",
       "  <thead>\n",
       "    <tr style=\"text-align: right;\">\n",
       "      <th></th>\n",
       "      <th>PERSTYPE</th>\n",
       "      <th>SEX</th>\n",
       "      <th>UAGE</th>\n",
       "      <th>UENG</th>\n",
       "      <th>UENGNEG</th>\n",
       "      <th>UENGPOS</th>\n",
       "      <th>NLESSONS</th>\n",
       "      <th>UFAMSTR</th>\n",
       "      <th>UMH2</th>\n",
       "      <th>UMHIGDEG</th>\n",
       "      <th>...</th>\n",
       "      <th>CHLD6_17</th>\n",
       "      <th>UHHCOUNT</th>\n",
       "      <th>MNBEDRMS</th>\n",
       "      <th>MOWNRENT</th>\n",
       "      <th>OVERCROWDING</th>\n",
       "      <th>UENGn</th>\n",
       "      <th>BHLTHNn</th>\n",
       "      <th>UBPIAn</th>\n",
       "      <th>UBPIBn</th>\n",
       "      <th>PS</th>\n",
       "    </tr>\n",
       "    <tr>\n",
       "      <th>bool0_5</th>\n",
       "      <th></th>\n",
       "      <th></th>\n",
       "      <th></th>\n",
       "      <th></th>\n",
       "      <th></th>\n",
       "      <th></th>\n",
       "      <th></th>\n",
       "      <th></th>\n",
       "      <th></th>\n",
       "      <th></th>\n",
       "      <th></th>\n",
       "      <th></th>\n",
       "      <th></th>\n",
       "      <th></th>\n",
       "      <th></th>\n",
       "      <th></th>\n",
       "      <th></th>\n",
       "      <th></th>\n",
       "      <th></th>\n",
       "      <th></th>\n",
       "      <th></th>\n",
       "    </tr>\n",
       "  </thead>\n",
       "  <tbody>\n",
       "    <tr>\n",
       "      <th>0</th>\n",
       "      <td>2.0</td>\n",
       "      <td>0.488426</td>\n",
       "      <td>12.13831</td>\n",
       "      <td>12.497878</td>\n",
       "      <td>0.216435</td>\n",
       "      <td>0.306713</td>\n",
       "      <td>0.316744</td>\n",
       "      <td>3.349151</td>\n",
       "      <td>79.636574</td>\n",
       "      <td>3.651042</td>\n",
       "      <td>...</td>\n",
       "      <td>2.283565</td>\n",
       "      <td>4.745756</td>\n",
       "      <td>3.273727</td>\n",
       "      <td>1.319444</td>\n",
       "      <td>1.547952</td>\n",
       "      <td>0.699942</td>\n",
       "      <td>0.192178</td>\n",
       "      <td>-0.228508</td>\n",
       "      <td>0.052791</td>\n",
       "      <td>0.366705</td>\n",
       "    </tr>\n",
       "    <tr>\n",
       "      <th>1</th>\n",
       "      <td>2.0</td>\n",
       "      <td>0.488233</td>\n",
       "      <td>9.51331</td>\n",
       "      <td>12.629437</td>\n",
       "      <td>0.195023</td>\n",
       "      <td>0.313850</td>\n",
       "      <td>0.320216</td>\n",
       "      <td>3.271026</td>\n",
       "      <td>79.341628</td>\n",
       "      <td>3.669560</td>\n",
       "      <td>...</td>\n",
       "      <td>1.476852</td>\n",
       "      <td>4.726852</td>\n",
       "      <td>3.251543</td>\n",
       "      <td>1.335841</td>\n",
       "      <td>1.558981</td>\n",
       "      <td>0.711693</td>\n",
       "      <td>0.180990</td>\n",
       "      <td>0.364085</td>\n",
       "      <td>-0.551376</td>\n",
       "      <td>0.366705</td>\n",
       "    </tr>\n",
       "  </tbody>\n",
       "</table>\n",
       "<p>2 rows × 51 columns</p>\n",
       "</div>"
      ],
      "text/plain": [
       "         PERSTYPE       SEX      UAGE       UENG   UENGNEG   UENGPOS  \\\n",
       "bool0_5                                                                \n",
       "0             2.0  0.488426  12.13831  12.497878  0.216435  0.306713   \n",
       "1             2.0  0.488233   9.51331  12.629437  0.195023  0.313850   \n",
       "\n",
       "         NLESSONS   UFAMSTR       UMH2  UMHIGDEG  ...  CHLD6_17  UHHCOUNT  \\\n",
       "bool0_5                                           ...                       \n",
       "0        0.316744  3.349151  79.636574  3.651042  ...  2.283565  4.745756   \n",
       "1        0.320216  3.271026  79.341628  3.669560  ...  1.476852  4.726852   \n",
       "\n",
       "         MNBEDRMS  MOWNRENT  OVERCROWDING     UENGn   BHLTHNn    UBPIAn  \\\n",
       "bool0_5                                                                   \n",
       "0        3.273727  1.319444      1.547952  0.699942  0.192178 -0.228508   \n",
       "1        3.251543  1.335841      1.558981  0.711693  0.180990  0.364085   \n",
       "\n",
       "           UBPIBn        PS  \n",
       "bool0_5                      \n",
       "0        0.052791  0.366705  \n",
       "1       -0.551376  0.366705  \n",
       "\n",
       "[2 rows x 51 columns]"
      ]
     },
     "execution_count": 24,
     "metadata": {},
     "output_type": "execute_result"
    }
   ],
   "source": [
    "means_child05 = df_child05.groupby('bool0_5').mean()\n",
    "print('Diff of UMH2 mean = ' +str(means_child05['UMH2'][1] - means_child05['UMH2'][0]))\n",
    "means_child05"
   ]
  },
  {
   "cell_type": "code",
   "execution_count": 25,
   "metadata": {},
   "outputs": [
    {
     "data": {
      "text/plain": [
       "<seaborn.axisgrid.FacetGrid at 0x124295400>"
      ]
     },
     "execution_count": 25,
     "metadata": {},
     "output_type": "execute_result"
    },
    {
     "data": {
      "image/png": "[encoded data removed]",
      "text/plain": [
       "<Figure size 360x360 with 1 Axes>"
      ]
     },
     "metadata": {
      "needs_background": "light"
     },
     "output_type": "display_data"
    }
   ],
   "source": [
    "sns.catplot(data=means_child05.reset_index(),x='bool0_5',y='UMH2',kind='bar')"
   ]
  },
  {
   "cell_type": "markdown",
   "metadata": {},
   "source": [
    "**PS with `NLESSONS` as treatment**"
   ]
  },
  {
   "cell_type": "code",
   "execution_count": 26,
   "metadata": {},
   "outputs": [
    {
     "name": "stdout",
     "output_type": "stream",
     "text": [
      "Optimization terminated successfully.\n",
      "         Current function value: 0.599841\n",
      "         Iterations 5\n"
     ]
    },
    {
     "data": {
      "text/html": [
       "<table class=\"simpletable\">\n",
       "<caption>Logit Regression Results</caption>\n",
       "<tr>\n",
       "  <th>Dep. Variable:</th>       <td>NLESSONS</td>     <th>  No. Observations:  </th>  <td> 21287</td> \n",
       "</tr>\n",
       "<tr>\n",
       "  <th>Model:</th>                 <td>Logit</td>      <th>  Df Residuals:      </th>  <td> 21270</td> \n",
       "</tr>\n",
       "<tr>\n",
       "  <th>Method:</th>                 <td>MLE</td>       <th>  Df Model:          </th>  <td>    16</td> \n",
       "</tr>\n",
       "<tr>\n",
       "  <th>Date:</th>            <td>Wed, 09 Dec 2020</td> <th>  Pseudo R-squ.:     </th>  <td>0.06086</td>\n",
       "</tr>\n",
       "<tr>\n",
       "  <th>Time:</th>                <td>17:12:04</td>     <th>  Log-Likelihood:    </th> <td> -12769.</td>\n",
       "</tr>\n",
       "<tr>\n",
       "  <th>converged:</th>             <td>True</td>       <th>  LL-Null:           </th> <td> -13596.</td>\n",
       "</tr>\n",
       "<tr>\n",
       "  <th>Covariance Type:</th>     <td>nonrobust</td>    <th>  LLR p-value:       </th>  <td> 0.000</td> \n",
       "</tr>\n",
       "</table>\n",
       "<table class=\"simpletable\">\n",
       "<tr>\n",
       "        <td></td>          <th>coef</th>     <th>std err</th>      <th>z</th>      <th>P>|z|</th>  <th>[0.025</th>    <th>0.975]</th>  \n",
       "</tr>\n",
       "<tr>\n",
       "  <th>Intercept</th>    <td>   -3.5483</td> <td>    0.213</td> <td>  -16.649</td> <td> 0.000</td> <td>   -3.966</td> <td>   -3.131</td>\n",
       "</tr>\n",
       "<tr>\n",
       "  <th>UREGION[T.2]</th> <td>   -0.2664</td> <td>    0.043</td> <td>   -6.241</td> <td> 0.000</td> <td>   -0.350</td> <td>   -0.183</td>\n",
       "</tr>\n",
       "<tr>\n",
       "  <th>UREGION[T.3]</th> <td>   -0.3963</td> <td>    0.044</td> <td>   -8.937</td> <td> 0.000</td> <td>   -0.483</td> <td>   -0.309</td>\n",
       "</tr>\n",
       "<tr>\n",
       "  <th>UREGION[T.4]</th> <td>   -0.2156</td> <td>    0.045</td> <td>   -4.825</td> <td> 0.000</td> <td>   -0.303</td> <td>   -0.128</td>\n",
       "</tr>\n",
       "<tr>\n",
       "  <th>SEX</th>          <td>    0.7415</td> <td>    0.031</td> <td>   24.298</td> <td> 0.000</td> <td>    0.682</td> <td>    0.801</td>\n",
       "</tr>\n",
       "<tr>\n",
       "  <th>UFAMSTR</th>      <td>    0.1294</td> <td>    0.018</td> <td>    7.211</td> <td> 0.000</td> <td>    0.094</td> <td>    0.165</td>\n",
       "</tr>\n",
       "<tr>\n",
       "  <th>UMH2</th>         <td>    0.0054</td> <td>    0.001</td> <td>    4.231</td> <td> 0.000</td> <td>    0.003</td> <td>    0.008</td>\n",
       "</tr>\n",
       "<tr>\n",
       "  <th>UMHIGDEG</th>     <td>    0.0999</td> <td>    0.008</td> <td>   12.054</td> <td> 0.000</td> <td>    0.084</td> <td>    0.116</td>\n",
       "</tr>\n",
       "<tr>\n",
       "  <th>UAGG</th>         <td>    0.0136</td> <td>    0.009</td> <td>    1.521</td> <td> 0.128</td> <td>   -0.004</td> <td>    0.031</td>\n",
       "</tr>\n",
       "<tr>\n",
       "  <th>UHHCOUNT</th>     <td>   -0.0826</td> <td>    0.024</td> <td>   -3.381</td> <td> 0.001</td> <td>   -0.130</td> <td>   -0.035</td>\n",
       "</tr>\n",
       "<tr>\n",
       "  <th>U_SOCPOV</th>     <td>    0.1780</td> <td>    0.016</td> <td>   10.840</td> <td> 0.000</td> <td>    0.146</td> <td>    0.210</td>\n",
       "</tr>\n",
       "<tr>\n",
       "  <th>MNBEDRMS</th>     <td>    0.1346</td> <td>    0.033</td> <td>    4.029</td> <td> 0.000</td> <td>    0.069</td> <td>    0.200</td>\n",
       "</tr>\n",
       "<tr>\n",
       "  <th>MOWNRENT</th>     <td>    0.0594</td> <td>    0.036</td> <td>    1.633</td> <td> 0.102</td> <td>   -0.012</td> <td>    0.131</td>\n",
       "</tr>\n",
       "<tr>\n",
       "  <th>OVERCROWDING</th> <td>   -0.0229</td> <td>    0.064</td> <td>   -0.360</td> <td> 0.719</td> <td>   -0.148</td> <td>    0.102</td>\n",
       "</tr>\n",
       "<tr>\n",
       "  <th>BDISBL</th>       <td>    0.2089</td> <td>    0.059</td> <td>    3.562</td> <td> 0.000</td> <td>    0.094</td> <td>    0.324</td>\n",
       "</tr>\n",
       "<tr>\n",
       "  <th>CSPECED</th>      <td>    0.1809</td> <td>    0.058</td> <td>    3.137</td> <td> 0.002</td> <td>    0.068</td> <td>    0.294</td>\n",
       "</tr>\n",
       "<tr>\n",
       "  <th>UHINS4</th>       <td>   -0.0711</td> <td>    0.019</td> <td>   -3.831</td> <td> 0.000</td> <td>   -0.107</td> <td>   -0.035</td>\n",
       "</tr>\n",
       "</table>"
      ],
      "text/plain": [
       "<class 'statsmodels.iolib.summary.Summary'>\n",
       "\"\"\"\n",
       "                           Logit Regression Results                           \n",
       "==============================================================================\n",
       "Dep. Variable:               NLESSONS   No. Observations:                21287\n",
       "Model:                          Logit   Df Residuals:                    21270\n",
       "Method:                           MLE   Df Model:                           16\n",
       "Date:                Wed, 09 Dec 2020   Pseudo R-squ.:                 0.06086\n",
       "Time:                        17:12:04   Log-Likelihood:                -12769.\n",
       "converged:                       True   LL-Null:                       -13596.\n",
       "Covariance Type:            nonrobust   LLR p-value:                     0.000\n",
       "================================================================================\n",
       "                   coef    std err          z      P>|z|      [0.025      0.975]\n",
       "--------------------------------------------------------------------------------\n",
       "Intercept       -3.5483      0.213    -16.649      0.000      -3.966      -3.131\n",
       "UREGION[T.2]    -0.2664      0.043     -6.241      0.000      -0.350      -0.183\n",
       "UREGION[T.3]    -0.3963      0.044     -8.937      0.000      -0.483      -0.309\n",
       "UREGION[T.4]    -0.2156      0.045     -4.825      0.000      -0.303      -0.128\n",
       "SEX              0.7415      0.031     24.298      0.000       0.682       0.801\n",
       "UFAMSTR          0.1294      0.018      7.211      0.000       0.094       0.165\n",
       "UMH2             0.0054      0.001      4.231      0.000       0.003       0.008\n",
       "UMHIGDEG         0.0999      0.008     12.054      0.000       0.084       0.116\n",
       "UAGG             0.0136      0.009      1.521      0.128      -0.004       0.031\n",
       "UHHCOUNT        -0.0826      0.024     -3.381      0.001      -0.130      -0.035\n",
       "U_SOCPOV         0.1780      0.016     10.840      0.000       0.146       0.210\n",
       "MNBEDRMS         0.1346      0.033      4.029      0.000       0.069       0.200\n",
       "MOWNRENT         0.0594      0.036      1.633      0.102      -0.012       0.131\n",
       "OVERCROWDING    -0.0229      0.064     -0.360      0.719      -0.148       0.102\n",
       "BDISBL           0.2089      0.059      3.562      0.000       0.094       0.324\n",
       "CSPECED          0.1809      0.058      3.137      0.002       0.068       0.294\n",
       "UHINS4          -0.0711      0.019     -3.831      0.000      -0.107      -0.035\n",
       "================================================================================\n",
       "\"\"\""
      ]
     },
     "execution_count": 26,
     "metadata": {},
     "output_type": "execute_result"
    }
   ],
   "source": [
    "# logistic regression for NLESSONS\n",
    "# NB removed BHLTHN\n",
    "predictors= ['SEX','UREGION','UFAMSTR','UMH2','UMHIGDEG','UAGG','UHHCOUNT','U_SOCPOV','MNBEDRMS',\n",
    "             'MOWNRENT','OVERCROWDING','BDISBL','CSPECED','UHINS4']\n",
    "df_lessons = df_NN(fc23,'NLESSONS',predictors)\n",
    "\n",
    "log_model_L = 'NLESSONS ~ SEX + UREGION + UFAMSTR + UMH2 + UMHIGDEG + UAGG + \\\n",
    "+ UHHCOUNT + U_SOCPOV + MNBEDRMS + MOWNRENT + OVERCROWDING + BDISBL + CSPECED + UHINS4'\n",
    "\n",
    "log_L = smf.logit(formula=log_model_L, data=df_lessons)\n",
    "res_L = log_L.fit()\n",
    "res_L.summary()"
   ]
  },
  {
   "cell_type": "code",
   "execution_count": 27,
   "metadata": {},
   "outputs": [
    {
     "name": "stderr",
     "output_type": "stream",
     "text": [
      "//anaconda3/lib/python3.8/site-packages/pandas/core/indexing.py:1596: SettingWithCopyWarning: \n",
      "A value is trying to be set on a copy of a slice from a DataFrame.\n",
      "Try using .loc[row_indexer,col_indexer] = value instead\n",
      "\n",
      "See the caveats in the documentation: https://pandas.pydata.org/pandas-docs/stable/user_guide/indexing.html#returning-a-view-versus-a-copy\n",
      "  self.obj[key] = _infer_fill_value(value)\n",
      "//anaconda3/lib/python3.8/site-packages/pandas/core/indexing.py:1745: SettingWithCopyWarning: \n",
      "A value is trying to be set on a copy of a slice from a DataFrame.\n",
      "Try using .loc[row_indexer,col_indexer] = value instead\n",
      "\n",
      "See the caveats in the documentation: https://pandas.pydata.org/pandas-docs/stable/user_guide/indexing.html#returning-a-view-versus-a-copy\n",
      "  isetter(ilocs[0], value)\n"
     ]
    }
   ],
   "source": [
    "pred_L = res_L.predict(df_lessons)\n",
    "df_lessons.loc[:,'PS'] = pred_L"
   ]
  },
  {
   "cell_type": "code",
   "execution_count": 28,
   "metadata": {},
   "outputs": [
    {
     "data": {
      "image/png": "[encoded data removed]",
      "text/plain": [
       "<Figure size 720x360 with 1 Axes>"
      ]
     },
     "metadata": {
      "needs_background": "light"
     },
     "output_type": "display_data"
    }
   ],
   "source": [
    "# Plot PS for unmatched groups\n",
    "fig = plt.figure(figsize=(10,5))\n",
    "sns.histplot(data=df_lessons, x=\"PS\", hue='NLESSONS', kde=True, element='step', stat='density',\n",
    "             common_norm=False)\n",
    "plt.xlabel('PS', fontsize=12)\n",
    "plt.suptitle('PS distribution comparison for unmatched samples', fontsize=14, fontweight='bold')\n",
    "plt.legend(['takes lessons','does not take lessons'], loc='upper left', fontsize = 12)\n",
    "plt.show()"
   ]
  },
  {
   "cell_type": "code",
   "execution_count": 29,
   "metadata": {},
   "outputs": [
    {
     "data": {
      "image/png": "[encoded data removed]",
      "text/plain": [
       "<Figure size 720x360 with 1 Axes>"
      ]
     },
     "metadata": {
      "needs_background": "light"
     },
     "output_type": "display_data"
    }
   ],
   "source": [
    "# Plot a seemingly unrelated variable (here OVERCROWDING) for unmatched groups\n",
    "var = 'OVERCROWDING'\n",
    "fig = plt.figure(figsize=(10,5))\n",
    "sns.kdeplot(data=df_lessons, x=var, hue='NLESSONS', palette=['r','g'], shade=True, common_norm=False)\n",
    "plt.xlim(0,6)\n",
    "plt.xlabel(var, fontsize=12)\n",
    "plt.suptitle(var+' distribution for unmatched samples', fontsize=14, fontweight='bold')\n",
    "plt.legend(['takes lessons','does not take lessons'], loc='upper right', fontsize = 12)\n",
    "plt.show()"
   ]
  },
  {
   "cell_type": "code",
   "execution_count": 30,
   "metadata": {},
   "outputs": [
    {
     "name": "stdout",
     "output_type": "stream",
     "text": [
      "Diff of mean = 0.1037068124418421\n"
     ]
    },
    {
     "data": {
      "text/html": [
       "<div>\n",
       "<style scoped>\n",
       "    .dataframe tbody tr th:only-of-type {\n",
       "        vertical-align: middle;\n",
       "    }\n",
       "\n",
       "    .dataframe tbody tr th {\n",
       "        vertical-align: top;\n",
       "    }\n",
       "\n",
       "    .dataframe thead th {\n",
       "        text-align: right;\n",
       "    }\n",
       "</style>\n",
       "<table border=\"1\" class=\"dataframe\">\n",
       "  <thead>\n",
       "    <tr style=\"text-align: right;\">\n",
       "      <th></th>\n",
       "      <th>PERSTYPE</th>\n",
       "      <th>SEX</th>\n",
       "      <th>UAGE</th>\n",
       "      <th>UENG</th>\n",
       "      <th>UENGNEG</th>\n",
       "      <th>UENGPOS</th>\n",
       "      <th>UFAMSTR</th>\n",
       "      <th>UMH2</th>\n",
       "      <th>UMHIGDEG</th>\n",
       "      <th>UAGG</th>\n",
       "      <th>...</th>\n",
       "      <th>UHHCOUNT</th>\n",
       "      <th>MNBEDRMS</th>\n",
       "      <th>MOWNRENT</th>\n",
       "      <th>OVERCROWDING</th>\n",
       "      <th>UENGn</th>\n",
       "      <th>BHLTHNn</th>\n",
       "      <th>UBPIAn</th>\n",
       "      <th>UBPIBn</th>\n",
       "      <th>bool0_5</th>\n",
       "      <th>PS</th>\n",
       "    </tr>\n",
       "    <tr>\n",
       "      <th>NLESSONS</th>\n",
       "      <th></th>\n",
       "      <th></th>\n",
       "      <th></th>\n",
       "      <th></th>\n",
       "      <th></th>\n",
       "      <th></th>\n",
       "      <th></th>\n",
       "      <th></th>\n",
       "      <th></th>\n",
       "      <th></th>\n",
       "      <th></th>\n",
       "      <th></th>\n",
       "      <th></th>\n",
       "      <th></th>\n",
       "      <th></th>\n",
       "      <th></th>\n",
       "      <th></th>\n",
       "      <th></th>\n",
       "      <th></th>\n",
       "      <th></th>\n",
       "      <th></th>\n",
       "    </tr>\n",
       "  </thead>\n",
       "  <tbody>\n",
       "    <tr>\n",
       "      <th>0</th>\n",
       "      <td>2.0</td>\n",
       "      <td>0.430716</td>\n",
       "      <td>11.630603</td>\n",
       "      <td>12.277207</td>\n",
       "      <td>0.251363</td>\n",
       "      <td>0.278482</td>\n",
       "      <td>3.120654</td>\n",
       "      <td>78.546484</td>\n",
       "      <td>3.568789</td>\n",
       "      <td>13.774552</td>\n",
       "      <td>...</td>\n",
       "      <td>4.216880</td>\n",
       "      <td>3.188133</td>\n",
       "      <td>1.317284</td>\n",
       "      <td>1.409017</td>\n",
       "      <td>0.682911</td>\n",
       "      <td>0.194559</td>\n",
       "      <td>-0.125475</td>\n",
       "      <td>-0.070547</td>\n",
       "      <td>0.293776</td>\n",
       "      <td>0.310641</td>\n",
       "    </tr>\n",
       "    <tr>\n",
       "      <th>1</th>\n",
       "      <td>2.0</td>\n",
       "      <td>0.609855</td>\n",
       "      <td>11.339754</td>\n",
       "      <td>13.144891</td>\n",
       "      <td>0.145729</td>\n",
       "      <td>0.382189</td>\n",
       "      <td>3.341709</td>\n",
       "      <td>80.778755</td>\n",
       "      <td>3.923227</td>\n",
       "      <td>13.988693</td>\n",
       "      <td>...</td>\n",
       "      <td>4.151033</td>\n",
       "      <td>3.364740</td>\n",
       "      <td>1.243439</td>\n",
       "      <td>1.308023</td>\n",
       "      <td>0.756782</td>\n",
       "      <td>0.150230</td>\n",
       "      <td>-0.041504</td>\n",
       "      <td>-0.119579</td>\n",
       "      <td>0.261725</td>\n",
       "      <td>0.387607</td>\n",
       "    </tr>\n",
       "  </tbody>\n",
       "</table>\n",
       "<p>2 rows × 51 columns</p>\n",
       "</div>"
      ],
      "text/plain": [
       "          PERSTYPE       SEX       UAGE       UENG   UENGNEG   UENGPOS  \\\n",
       "NLESSONS                                                                 \n",
       "0              2.0  0.430716  11.630603  12.277207  0.251363  0.278482   \n",
       "1              2.0  0.609855  11.339754  13.144891  0.145729  0.382189   \n",
       "\n",
       "           UFAMSTR       UMH2  UMHIGDEG       UAGG  ...  UHHCOUNT  MNBEDRMS  \\\n",
       "NLESSONS                                            ...                       \n",
       "0         3.120654  78.546484  3.568789  13.774552  ...  4.216880  3.188133   \n",
       "1         3.341709  80.778755  3.923227  13.988693  ...  4.151033  3.364740   \n",
       "\n",
       "          MOWNRENT  OVERCROWDING     UENGn   BHLTHNn    UBPIAn    UBPIBn  \\\n",
       "NLESSONS                                                                   \n",
       "0         1.317284      1.409017  0.682911  0.194559 -0.125475 -0.070547   \n",
       "1         1.243439      1.308023  0.756782  0.150230 -0.041504 -0.119579   \n",
       "\n",
       "           bool0_5        PS  \n",
       "NLESSONS                      \n",
       "0         0.293776  0.310641  \n",
       "1         0.261725  0.387607  \n",
       "\n",
       "[2 rows x 51 columns]"
      ]
     },
     "execution_count": 30,
     "metadata": {},
     "output_type": "execute_result"
    }
   ],
   "source": [
    "means_L = df_lessons.groupby('NLESSONS').mean()\n",
    "print('Diff of mean = ' +str(means_L['UENGPOS'][1] - means_L['UENGPOS'][0]))\n",
    "means_L"
   ]
  },
  {
   "cell_type": "code",
   "execution_count": 31,
   "metadata": {},
   "outputs": [
    {
     "data": {
      "text/plain": [
       "<seaborn.axisgrid.FacetGrid at 0x128475a30>"
      ]
     },
     "execution_count": 31,
     "metadata": {},
     "output_type": "execute_result"
    },
    {
     "data": {
      "image/png": "[encoded data removed]",
      "text/plain": [
       "<Figure size 360x360 with 1 Axes>"
      ]
     },
     "metadata": {
      "needs_background": "light"
     },
     "output_type": "display_data"
    }
   ],
   "source": [
    "sns.catplot(data=means_L.reset_index(),x='NLESSONS',y='UENGPOS',kind='bar')"
   ]
  },
  {
   "cell_type": "code",
   "execution_count": 32,
   "metadata": {},
   "outputs": [
    {
     "name": "stdout",
     "output_type": "stream",
     "text": [
      "Number of treated subjects (lessons) : 7164 \n",
      "Number of control subjects (no lessons) : 14123 \n",
      "Number of matched pairs : 6899.0\n"
     ]
    }
   ],
   "source": [
    "# Perform matching\n",
    "trtm_L = df_lessons[df_lessons.NLESSONS == 1].sample(frac=1).reset_index(drop=True)\n",
    "ctrl_L = df_lessons[df_lessons.NLESSONS == 0].sample(frac=1).reset_index(drop=True)\n",
    "\n",
    "# Perform matching between treated and non-treated papers\n",
    "df_L = optimatch(ctrl_L,trtm_L,0.001)\n",
    "\n",
    "print(f'Number of treated subjects (lessons) : {trtm_L.shape[0]} \\n\\\n",
    "Number of control subjects (no lessons) : {ctrl_L.shape[0]} \\n\\\n",
    "Number of matched pairs : {df_L.shape[0]/2}')"
   ]
  },
  {
   "cell_type": "code",
   "execution_count": 33,
   "metadata": {},
   "outputs": [
    {
     "data": {
      "image/png": "[encoded data removed]",
      "text/plain": [
       "<Figure size 720x360 with 1 Axes>"
      ]
     },
     "metadata": {
      "needs_background": "light"
     },
     "output_type": "display_data"
    }
   ],
   "source": [
    "# Plot PS for matched groups\n",
    "fig = plt.figure(figsize=(10,5))\n",
    "sns.histplot(data=df_L, x=\"PS\", hue='NLESSONS', kde=True, element='step', stat='density', \n",
    "             common_norm=False)\n",
    "plt.xlabel('PS', fontsize=12)\n",
    "plt.suptitle('PS distribution comparison for matched samples', fontsize=14, fontweight='bold')\n",
    "plt.legend(['lessons','no lessons'], loc='upper right', fontsize = 12)\n",
    "plt.show()"
   ]
  },
  {
   "cell_type": "code",
   "execution_count": 34,
   "metadata": {},
   "outputs": [
    {
     "data": {
      "image/png": "[encoded data removed]",
      "text/plain": [
       "<Figure size 720x360 with 1 Axes>"
      ]
     },
     "metadata": {
      "needs_background": "light"
     },
     "output_type": "display_data"
    }
   ],
   "source": [
    "# Plot a seemingly unrelated variable (here OVERCROWDING) for matched groups\n",
    "var = 'OVERCROWDING'\n",
    "fig = plt.figure(figsize=(10,5))\n",
    "sns.kdeplot(data=df_L, x=var, hue='NLESSONS', palette=['g','r'], shade=True)\n",
    "plt.xlim(0, 6)\n",
    "plt.xlabel(var, fontsize=12)\n",
    "plt.suptitle(var+' distribution for matched samples', fontsize=14, fontweight='bold')\n",
    "plt.legend(['lessons','no lessons'], loc='upper right', fontsize = 12)\n",
    "plt.show()"
   ]
  },
  {
   "cell_type": "code",
   "execution_count": 35,
   "metadata": {},
   "outputs": [
    {
     "name": "stdout",
     "output_type": "stream",
     "text": [
      "Diff of mean = 0.0346427018408465\n"
     ]
    },
    {
     "data": {
      "text/html": [
       "<div>\n",
       "<style scoped>\n",
       "    .dataframe tbody tr th:only-of-type {\n",
       "        vertical-align: middle;\n",
       "    }\n",
       "\n",
       "    .dataframe tbody tr th {\n",
       "        vertical-align: top;\n",
       "    }\n",
       "\n",
       "    .dataframe thead th {\n",
       "        text-align: right;\n",
       "    }\n",
       "</style>\n",
       "<table border=\"1\" class=\"dataframe\">\n",
       "  <thead>\n",
       "    <tr style=\"text-align: right;\">\n",
       "      <th></th>\n",
       "      <th>PERSTYPE</th>\n",
       "      <th>SEX</th>\n",
       "      <th>UAGE</th>\n",
       "      <th>UENG</th>\n",
       "      <th>UENGNEG</th>\n",
       "      <th>UENGPOS</th>\n",
       "      <th>UFAMSTR</th>\n",
       "      <th>UMH2</th>\n",
       "      <th>UMHIGDEG</th>\n",
       "      <th>UAGG</th>\n",
       "      <th>...</th>\n",
       "      <th>UHHCOUNT</th>\n",
       "      <th>MNBEDRMS</th>\n",
       "      <th>MOWNRENT</th>\n",
       "      <th>OVERCROWDING</th>\n",
       "      <th>UENGn</th>\n",
       "      <th>BHLTHNn</th>\n",
       "      <th>UBPIAn</th>\n",
       "      <th>UBPIBn</th>\n",
       "      <th>bool0_5</th>\n",
       "      <th>PS</th>\n",
       "    </tr>\n",
       "    <tr>\n",
       "      <th>NLESSONS</th>\n",
       "      <th></th>\n",
       "      <th></th>\n",
       "      <th></th>\n",
       "      <th></th>\n",
       "      <th></th>\n",
       "      <th></th>\n",
       "      <th></th>\n",
       "      <th></th>\n",
       "      <th></th>\n",
       "      <th></th>\n",
       "      <th></th>\n",
       "      <th></th>\n",
       "      <th></th>\n",
       "      <th></th>\n",
       "      <th></th>\n",
       "      <th></th>\n",
       "      <th></th>\n",
       "      <th></th>\n",
       "      <th></th>\n",
       "      <th></th>\n",
       "      <th></th>\n",
       "    </tr>\n",
       "  </thead>\n",
       "  <tbody>\n",
       "    <tr>\n",
       "      <th>0</th>\n",
       "      <td>2.0</td>\n",
       "      <td>0.590230</td>\n",
       "      <td>11.781997</td>\n",
       "      <td>12.735469</td>\n",
       "      <td>0.195970</td>\n",
       "      <td>0.342658</td>\n",
       "      <td>3.345412</td>\n",
       "      <td>80.884621</td>\n",
       "      <td>3.883171</td>\n",
       "      <td>14.030584</td>\n",
       "      <td>...</td>\n",
       "      <td>4.162632</td>\n",
       "      <td>3.32309</td>\n",
       "      <td>1.246702</td>\n",
       "      <td>1.328500</td>\n",
       "      <td>0.721107</td>\n",
       "      <td>0.171184</td>\n",
       "      <td>-0.155047</td>\n",
       "      <td>-0.016536</td>\n",
       "      <td>0.254820</td>\n",
       "      <td>0.379567</td>\n",
       "    </tr>\n",
       "    <tr>\n",
       "      <th>1</th>\n",
       "      <td>2.0</td>\n",
       "      <td>0.595449</td>\n",
       "      <td>11.344978</td>\n",
       "      <td>13.118278</td>\n",
       "      <td>0.149587</td>\n",
       "      <td>0.377301</td>\n",
       "      <td>3.325265</td>\n",
       "      <td>80.583853</td>\n",
       "      <td>3.874040</td>\n",
       "      <td>13.968836</td>\n",
       "      <td>...</td>\n",
       "      <td>4.158864</td>\n",
       "      <td>3.33715</td>\n",
       "      <td>1.249456</td>\n",
       "      <td>1.319248</td>\n",
       "      <td>0.754783</td>\n",
       "      <td>0.152413</td>\n",
       "      <td>-0.042989</td>\n",
       "      <td>-0.120126</td>\n",
       "      <td>0.262792</td>\n",
       "      <td>0.379566</td>\n",
       "    </tr>\n",
       "  </tbody>\n",
       "</table>\n",
       "<p>2 rows × 51 columns</p>\n",
       "</div>"
      ],
      "text/plain": [
       "          PERSTYPE       SEX       UAGE       UENG   UENGNEG   UENGPOS  \\\n",
       "NLESSONS                                                                 \n",
       "0              2.0  0.590230  11.781997  12.735469  0.195970  0.342658   \n",
       "1              2.0  0.595449  11.344978  13.118278  0.149587  0.377301   \n",
       "\n",
       "           UFAMSTR       UMH2  UMHIGDEG       UAGG  ...  UHHCOUNT  MNBEDRMS  \\\n",
       "NLESSONS                                            ...                       \n",
       "0         3.345412  80.884621  3.883171  14.030584  ...  4.162632   3.32309   \n",
       "1         3.325265  80.583853  3.874040  13.968836  ...  4.158864   3.33715   \n",
       "\n",
       "          MOWNRENT  OVERCROWDING     UENGn   BHLTHNn    UBPIAn    UBPIBn  \\\n",
       "NLESSONS                                                                   \n",
       "0         1.246702      1.328500  0.721107  0.171184 -0.155047 -0.016536   \n",
       "1         1.249456      1.319248  0.754783  0.152413 -0.042989 -0.120126   \n",
       "\n",
       "           bool0_5        PS  \n",
       "NLESSONS                      \n",
       "0         0.254820  0.379567  \n",
       "1         0.262792  0.379566  \n",
       "\n",
       "[2 rows x 51 columns]"
      ]
     },
     "execution_count": 35,
     "metadata": {},
     "output_type": "execute_result"
    }
   ],
   "source": [
    "means_L = df_L.groupby('NLESSONS').mean()\n",
    "print('Diff of mean = ' +str(means_L['UENGPOS'][1] - means_L['UENGPOS'][0]))\n",
    "means_L"
   ]
  },
  {
   "cell_type": "code",
   "execution_count": 36,
   "metadata": {},
   "outputs": [
    {
     "data": {
      "text/plain": [
       "<seaborn.axisgrid.FacetGrid at 0x11aab6820>"
      ]
     },
     "execution_count": 36,
     "metadata": {},
     "output_type": "execute_result"
    },
    {
     "data": {
      "image/png": "[encoded data removed]",
      "text/plain": [
       "<Figure size 360x360 with 1 Axes>"
      ]
     },
     "metadata": {
      "needs_background": "light"
     },
     "output_type": "display_data"
    }
   ],
   "source": [
    "sns.catplot(data=means_L.reset_index(),x='NLESSONS',y='UENGPOS',kind='bar')"
   ]
  },
  {
   "cell_type": "markdown",
   "metadata": {},
   "source": [
    "**PS with `PRECARIOUS` as treatment**"
   ]
  },
  {
   "cell_type": "code",
   "execution_count": 37,
   "metadata": {},
   "outputs": [
    {
     "name": "stdout",
     "output_type": "stream",
     "text": [
      "Optimization terminated successfully.\n",
      "         Current function value: 0.357018\n",
      "         Iterations 7\n"
     ]
    },
    {
     "data": {
      "text/html": [
       "<table class=\"simpletable\">\n",
       "<caption>Logit Regression Results</caption>\n",
       "<tr>\n",
       "  <th>Dep. Variable:</th>      <td>precarious</td>    <th>  No. Observations:  </th>  <td> 21341</td> \n",
       "</tr>\n",
       "<tr>\n",
       "  <th>Model:</th>                 <td>Logit</td>      <th>  Df Residuals:      </th>  <td> 21327</td> \n",
       "</tr>\n",
       "<tr>\n",
       "  <th>Method:</th>                 <td>MLE</td>       <th>  Df Model:          </th>  <td>    13</td> \n",
       "</tr>\n",
       "<tr>\n",
       "  <th>Date:</th>            <td>Wed, 09 Dec 2020</td> <th>  Pseudo R-squ.:     </th>  <td>0.3154</td> \n",
       "</tr>\n",
       "<tr>\n",
       "  <th>Time:</th>                <td>17:12:21</td>     <th>  Log-Likelihood:    </th> <td> -7619.1</td>\n",
       "</tr>\n",
       "<tr>\n",
       "  <th>converged:</th>             <td>True</td>       <th>  LL-Null:           </th> <td> -11130.</td>\n",
       "</tr>\n",
       "<tr>\n",
       "  <th>Covariance Type:</th>     <td>nonrobust</td>    <th>  LLR p-value:       </th>  <td> 0.000</td> \n",
       "</tr>\n",
       "</table>\n",
       "<table class=\"simpletable\">\n",
       "<tr>\n",
       "        <td></td>          <th>coef</th>     <th>std err</th>      <th>z</th>      <th>P>|z|</th>  <th>[0.025</th>    <th>0.975]</th>  \n",
       "</tr>\n",
       "<tr>\n",
       "  <th>Intercept</th>    <td>    0.6419</td> <td>    0.209</td> <td>    3.074</td> <td> 0.002</td> <td>    0.233</td> <td>    1.051</td>\n",
       "</tr>\n",
       "<tr>\n",
       "  <th>UREGION[T.2]</th> <td>   -0.3597</td> <td>    0.062</td> <td>   -5.796</td> <td> 0.000</td> <td>   -0.481</td> <td>   -0.238</td>\n",
       "</tr>\n",
       "<tr>\n",
       "  <th>UREGION[T.3]</th> <td>   -0.0024</td> <td>    0.058</td> <td>   -0.041</td> <td> 0.967</td> <td>   -0.116</td> <td>    0.112</td>\n",
       "</tr>\n",
       "<tr>\n",
       "  <th>UREGION[T.4]</th> <td>   -0.1856</td> <td>    0.062</td> <td>   -3.007</td> <td> 0.003</td> <td>   -0.307</td> <td>   -0.065</td>\n",
       "</tr>\n",
       "<tr>\n",
       "  <th>SEX</th>          <td>    0.1692</td> <td>    0.042</td> <td>    4.056</td> <td> 0.000</td> <td>    0.087</td> <td>    0.251</td>\n",
       "</tr>\n",
       "<tr>\n",
       "  <th>UAGE</th>         <td>    0.0123</td> <td>    0.006</td> <td>    2.066</td> <td> 0.039</td> <td>    0.001</td> <td>    0.024</td>\n",
       "</tr>\n",
       "<tr>\n",
       "  <th>UMHIGDEG</th>     <td>   -0.0142</td> <td>    0.011</td> <td>   -1.343</td> <td> 0.179</td> <td>   -0.035</td> <td>    0.007</td>\n",
       "</tr>\n",
       "<tr>\n",
       "  <th>UHHCOUNT</th>     <td>   -0.0230</td> <td>    0.034</td> <td>   -0.686</td> <td> 0.492</td> <td>   -0.089</td> <td>    0.043</td>\n",
       "</tr>\n",
       "<tr>\n",
       "  <th>MNBEDRMS</th>     <td>   -0.7317</td> <td>    0.054</td> <td>  -13.648</td> <td> 0.000</td> <td>   -0.837</td> <td>   -0.627</td>\n",
       "</tr>\n",
       "<tr>\n",
       "  <th>OVERCROWDING</th> <td>    0.2089</td> <td>    0.080</td> <td>    2.618</td> <td> 0.009</td> <td>    0.053</td> <td>    0.365</td>\n",
       "</tr>\n",
       "<tr>\n",
       "  <th>BDISBL</th>       <td>   -0.5446</td> <td>    0.066</td> <td>   -8.217</td> <td> 0.000</td> <td>   -0.674</td> <td>   -0.415</td>\n",
       "</tr>\n",
       "<tr>\n",
       "  <th>CSPECED</th>      <td>   -0.3042</td> <td>    0.067</td> <td>   -4.565</td> <td> 0.000</td> <td>   -0.435</td> <td>   -0.174</td>\n",
       "</tr>\n",
       "<tr>\n",
       "  <th>UACT</th>         <td>   -0.3996</td> <td>    0.023</td> <td>  -17.436</td> <td> 0.000</td> <td>   -0.445</td> <td>   -0.355</td>\n",
       "</tr>\n",
       "<tr>\n",
       "  <th>UHINS4</th>       <td>    1.2061</td> <td>    0.022</td> <td>   55.383</td> <td> 0.000</td> <td>    1.163</td> <td>    1.249</td>\n",
       "</tr>\n",
       "</table>"
      ],
      "text/plain": [
       "<class 'statsmodels.iolib.summary.Summary'>\n",
       "\"\"\"\n",
       "                           Logit Regression Results                           \n",
       "==============================================================================\n",
       "Dep. Variable:             precarious   No. Observations:                21341\n",
       "Model:                          Logit   Df Residuals:                    21327\n",
       "Method:                           MLE   Df Model:                           13\n",
       "Date:                Wed, 09 Dec 2020   Pseudo R-squ.:                  0.3154\n",
       "Time:                        17:12:21   Log-Likelihood:                -7619.1\n",
       "converged:                       True   LL-Null:                       -11130.\n",
       "Covariance Type:            nonrobust   LLR p-value:                     0.000\n",
       "================================================================================\n",
       "                   coef    std err          z      P>|z|      [0.025      0.975]\n",
       "--------------------------------------------------------------------------------\n",
       "Intercept        0.6419      0.209      3.074      0.002       0.233       1.051\n",
       "UREGION[T.2]    -0.3597      0.062     -5.796      0.000      -0.481      -0.238\n",
       "UREGION[T.3]    -0.0024      0.058     -0.041      0.967      -0.116       0.112\n",
       "UREGION[T.4]    -0.1856      0.062     -3.007      0.003      -0.307      -0.065\n",
       "SEX              0.1692      0.042      4.056      0.000       0.087       0.251\n",
       "UAGE             0.0123      0.006      2.066      0.039       0.001       0.024\n",
       "UMHIGDEG        -0.0142      0.011     -1.343      0.179      -0.035       0.007\n",
       "UHHCOUNT        -0.0230      0.034     -0.686      0.492      -0.089       0.043\n",
       "MNBEDRMS        -0.7317      0.054    -13.648      0.000      -0.837      -0.627\n",
       "OVERCROWDING     0.2089      0.080      2.618      0.009       0.053       0.365\n",
       "BDISBL          -0.5446      0.066     -8.217      0.000      -0.674      -0.415\n",
       "CSPECED         -0.3042      0.067     -4.565      0.000      -0.435      -0.174\n",
       "UACT            -0.3996      0.023    -17.436      0.000      -0.445      -0.355\n",
       "UHINS4           1.2061      0.022     55.383      0.000       1.163       1.249\n",
       "================================================================================\n",
       "\"\"\""
      ]
     },
     "execution_count": 37,
     "metadata": {},
     "output_type": "execute_result"
    }
   ],
   "source": [
    "# logistic regression for precarious\n",
    "# NB removed UBPIA BHLTHN UENG\n",
    "predictors= ['SEX','UAGE','UREGION','UMHIGDEG','UHHCOUNT','MNBEDRMS',\n",
    "             'OVERCROWDING','BDISBL','CSPECED','UACT','CSPECED','UHINS4']\n",
    "df_prec = df_NN(fc23_prec,'precarious',predictors)\n",
    "\n",
    "log_model_prec = 'precarious ~ SEX + UAGE + UREGION + UMHIGDEG\\\n",
    "+ UHHCOUNT + MNBEDRMS + OVERCROWDING + BDISBL + CSPECED + UACT + CSPECED + UHINS4'\n",
    "\n",
    "log_prec = smf.logit(formula=log_model_prec, data=df_prec)\n",
    "res_prec = log_prec.fit()\n",
    "res_prec.summary()"
   ]
  },
  {
   "cell_type": "code",
   "execution_count": 38,
   "metadata": {},
   "outputs": [
    {
     "name": "stderr",
     "output_type": "stream",
     "text": [
      "//anaconda3/lib/python3.8/site-packages/pandas/core/indexing.py:1596: SettingWithCopyWarning: \n",
      "A value is trying to be set on a copy of a slice from a DataFrame.\n",
      "Try using .loc[row_indexer,col_indexer] = value instead\n",
      "\n",
      "See the caveats in the documentation: https://pandas.pydata.org/pandas-docs/stable/user_guide/indexing.html#returning-a-view-versus-a-copy\n",
      "  self.obj[key] = _infer_fill_value(value)\n",
      "//anaconda3/lib/python3.8/site-packages/pandas/core/indexing.py:1745: SettingWithCopyWarning: \n",
      "A value is trying to be set on a copy of a slice from a DataFrame.\n",
      "Try using .loc[row_indexer,col_indexer] = value instead\n",
      "\n",
      "See the caveats in the documentation: https://pandas.pydata.org/pandas-docs/stable/user_guide/indexing.html#returning-a-view-versus-a-copy\n",
      "  isetter(ilocs[0], value)\n"
     ]
    }
   ],
   "source": [
    "pred_prec = res_prec.predict(df_prec)\n",
    "df_prec.loc[:,'PS'] = pred_prec"
   ]
  },
  {
   "cell_type": "code",
   "execution_count": 39,
   "metadata": {},
   "outputs": [
    {
     "data": {
      "image/png": "[encoded data removed]",
      "text/plain": [
       "<Figure size 720x360 with 1 Axes>"
      ]
     },
     "metadata": {
      "needs_background": "light"
     },
     "output_type": "display_data"
    }
   ],
   "source": [
    "# Plot PS for unmatched groups\n",
    "fig = plt.figure(figsize=(10,5))\n",
    "sns.histplot(data=df_prec, x=\"PS\", hue='precarious', kde=True, element='step', stat='density',\n",
    "             common_norm=False)\n",
    "plt.xlabel('PS', fontsize=12)\n",
    "plt.suptitle('PS distribution comparison for unmatched samples', fontsize=14, fontweight='bold')\n",
    "plt.legend(['precarious','not precarious'], loc='upper left', fontsize = 12)\n",
    "plt.show()"
   ]
  },
  {
   "cell_type": "code",
   "execution_count": 40,
   "metadata": {},
   "outputs": [
    {
     "data": {
      "image/png": "[encoded data removed]",
      "text/plain": [
       "<Figure size 720x360 with 1 Axes>"
      ]
     },
     "metadata": {
      "needs_background": "light"
     },
     "output_type": "display_data"
    }
   ],
   "source": [
    "# Plot a seemingly unrelated variable (here OVERCROWDING) for unmatched groups\n",
    "var = 'OVERCROWDING'\n",
    "fig = plt.figure(figsize=(10,5))\n",
    "sns.kdeplot(data=df_prec, x=var, hue='precarious', palette=['g','r'], shade=True, common_norm=False)\n",
    "plt.xlim(0,6)\n",
    "plt.xlabel(var, fontsize=12)\n",
    "plt.suptitle(var+' distribution for unmatched samples', fontsize=14, fontweight='bold')\n",
    "plt.legend(['precarious','not precarious'], loc='upper right', fontsize = 12)\n",
    "plt.show()"
   ]
  },
  {
   "cell_type": "code",
   "execution_count": 41,
   "metadata": {},
   "outputs": [
    {
     "name": "stdout",
     "output_type": "stream",
     "text": [
      "Diff of mean = 0.12277064220659642\n"
     ]
    },
    {
     "data": {
      "text/html": [
       "<div>\n",
       "<style scoped>\n",
       "    .dataframe tbody tr th:only-of-type {\n",
       "        vertical-align: middle;\n",
       "    }\n",
       "\n",
       "    .dataframe tbody tr th {\n",
       "        vertical-align: top;\n",
       "    }\n",
       "\n",
       "    .dataframe thead th {\n",
       "        text-align: right;\n",
       "    }\n",
       "</style>\n",
       "<table border=\"1\" class=\"dataframe\">\n",
       "  <thead>\n",
       "    <tr style=\"text-align: right;\">\n",
       "      <th></th>\n",
       "      <th>PERSTYPE</th>\n",
       "      <th>SEX</th>\n",
       "      <th>UAGE</th>\n",
       "      <th>UENG</th>\n",
       "      <th>UENGNEG</th>\n",
       "      <th>UENGPOS</th>\n",
       "      <th>NLESSONS</th>\n",
       "      <th>UFAMSTR</th>\n",
       "      <th>UMH2</th>\n",
       "      <th>UMHIGDEG</th>\n",
       "      <th>...</th>\n",
       "      <th>UHHCOUNT</th>\n",
       "      <th>MNBEDRMS</th>\n",
       "      <th>MOWNRENT</th>\n",
       "      <th>OVERCROWDING</th>\n",
       "      <th>UENGn</th>\n",
       "      <th>BHLTHNn</th>\n",
       "      <th>UBPIAn</th>\n",
       "      <th>UBPIBn</th>\n",
       "      <th>bool0_5</th>\n",
       "      <th>PS</th>\n",
       "    </tr>\n",
       "    <tr>\n",
       "      <th>precarious</th>\n",
       "      <th></th>\n",
       "      <th></th>\n",
       "      <th></th>\n",
       "      <th></th>\n",
       "      <th></th>\n",
       "      <th></th>\n",
       "      <th></th>\n",
       "      <th></th>\n",
       "      <th></th>\n",
       "      <th></th>\n",
       "      <th></th>\n",
       "      <th></th>\n",
       "      <th></th>\n",
       "      <th></th>\n",
       "      <th></th>\n",
       "      <th></th>\n",
       "      <th></th>\n",
       "      <th></th>\n",
       "      <th></th>\n",
       "      <th></th>\n",
       "      <th></th>\n",
       "    </tr>\n",
       "  </thead>\n",
       "  <tbody>\n",
       "    <tr>\n",
       "      <th>0</th>\n",
       "      <td>2.0</td>\n",
       "      <td>0.488408</td>\n",
       "      <td>11.556704</td>\n",
       "      <td>12.794993</td>\n",
       "      <td>0.188934</td>\n",
       "      <td>0.339926</td>\n",
       "      <td>0.365141</td>\n",
       "      <td>3.456740</td>\n",
       "      <td>80.787225</td>\n",
       "      <td>3.681405</td>\n",
       "      <td>...</td>\n",
       "      <td>4.205664</td>\n",
       "      <td>3.384620</td>\n",
       "      <td>1.153740</td>\n",
       "      <td>1.300079</td>\n",
       "      <td>0.727270</td>\n",
       "      <td>0.153457</td>\n",
       "      <td>-0.092679</td>\n",
       "      <td>-0.075122</td>\n",
       "      <td>0.260755</td>\n",
       "      <td>0.141871</td>\n",
       "    </tr>\n",
       "    <tr>\n",
       "      <th>1</th>\n",
       "      <td>2.0</td>\n",
       "      <td>0.501412</td>\n",
       "      <td>11.453420</td>\n",
       "      <td>11.756352</td>\n",
       "      <td>0.313138</td>\n",
       "      <td>0.217155</td>\n",
       "      <td>0.226493</td>\n",
       "      <td>2.244083</td>\n",
       "      <td>73.281868</td>\n",
       "      <td>3.717264</td>\n",
       "      <td>...</td>\n",
       "      <td>4.154615</td>\n",
       "      <td>2.749186</td>\n",
       "      <td>1.796743</td>\n",
       "      <td>1.647622</td>\n",
       "      <td>0.637622</td>\n",
       "      <td>0.275461</td>\n",
       "      <td>-0.116033</td>\n",
       "      <td>-0.129931</td>\n",
       "      <td>0.361346</td>\n",
       "      <td>0.484397</td>\n",
       "    </tr>\n",
       "  </tbody>\n",
       "</table>\n",
       "<p>2 rows × 52 columns</p>\n",
       "</div>"
      ],
      "text/plain": [
       "            PERSTYPE       SEX       UAGE       UENG   UENGNEG   UENGPOS  \\\n",
       "precarious                                                                 \n",
       "0                2.0  0.488408  11.556704  12.794993  0.188934  0.339926   \n",
       "1                2.0  0.501412  11.453420  11.756352  0.313138  0.217155   \n",
       "\n",
       "            NLESSONS   UFAMSTR       UMH2  UMHIGDEG  ...  UHHCOUNT  MNBEDRMS  \\\n",
       "precarious                                           ...                       \n",
       "0           0.365141  3.456740  80.787225  3.681405  ...  4.205664  3.384620   \n",
       "1           0.226493  2.244083  73.281868  3.717264  ...  4.154615  2.749186   \n",
       "\n",
       "            MOWNRENT  OVERCROWDING     UENGn   BHLTHNn    UBPIAn    UBPIBn  \\\n",
       "precarious                                                                   \n",
       "0           1.153740      1.300079  0.727270  0.153457 -0.092679 -0.075122   \n",
       "1           1.796743      1.647622  0.637622  0.275461 -0.116033 -0.129931   \n",
       "\n",
       "             bool0_5        PS  \n",
       "precarious                      \n",
       "0           0.260755  0.141871  \n",
       "1           0.361346  0.484397  \n",
       "\n",
       "[2 rows x 52 columns]"
      ]
     },
     "execution_count": 41,
     "metadata": {},
     "output_type": "execute_result"
    }
   ],
   "source": [
    "means_prec = df_prec.groupby('precarious').mean()\n",
    "print('Diff of mean = ' +str(means_prec['UENGPOS'][0] - means_prec['UENGPOS'][1]))\n",
    "means_prec"
   ]
  },
  {
   "cell_type": "code",
   "execution_count": 42,
   "metadata": {},
   "outputs": [
    {
     "data": {
      "text/plain": [
       "<seaborn.axisgrid.FacetGrid at 0x11eb17e80>"
      ]
     },
     "execution_count": 42,
     "metadata": {},
     "output_type": "execute_result"
    },
    {
     "data": {
      "image/png": "[encoded data removed]",
      "text/plain": [
       "<Figure size 360x360 with 1 Axes>"
      ]
     },
     "metadata": {
      "needs_background": "light"
     },
     "output_type": "display_data"
    }
   ],
   "source": [
    "sns.catplot(data=means_prec.reset_index(),x='precarious',y='UENGPOS',kind='bar')"
   ]
  },
  {
   "cell_type": "code",
   "execution_count": 43,
   "metadata": {},
   "outputs": [
    {
     "name": "stdout",
     "output_type": "stream",
     "text": [
      "Number of treated subjects (precarious) : 4605 \n",
      "Number of control subjects (not precarious) : 16736 \n",
      "Number of matched pairs : 3373.0\n"
     ]
    }
   ],
   "source": [
    "# Perform matching\n",
    "trtm_prec = df_prec[df_prec.precarious == 1].reset_index(drop=True)\n",
    "ctrl_prec = df_prec[df_prec.precarious == 0].reset_index(drop=True)\n",
    "\n",
    "# Perform matching between treated and non-treated papers\n",
    "df_prec = optimatch(ctrl_prec,trtm_prec,0.001)\n",
    "\n",
    "print(f'Number of treated subjects (precarious) : {trtm_prec.shape[0]} \\n\\\n",
    "Number of control subjects (not precarious) : {ctrl_prec.shape[0]} \\n\\\n",
    "Number of matched pairs : {df_prec.shape[0]/2}')"
   ]
  },
  {
   "cell_type": "code",
   "execution_count": 44,
   "metadata": {},
   "outputs": [
    {
     "data": {
      "image/png": "[encoded data removed]",
      "text/plain": [
       "<Figure size 720x360 with 1 Axes>"
      ]
     },
     "metadata": {
      "needs_background": "light"
     },
     "output_type": "display_data"
    }
   ],
   "source": [
    "# Plot PS for matched groups\n",
    "fig = plt.figure(figsize=(10,5))\n",
    "sns.histplot(data=df_prec, x=\"PS\", hue='precarious', kde=True, element='step', stat='density')\n",
    "plt.xlabel('PS', fontsize=12)\n",
    "plt.suptitle('PS distribution comparison for matched samples', fontsize=14, fontweight='bold')\n",
    "plt.legend(['precarious','not precarious'], loc='upper right', fontsize = 12)\n",
    "plt.show()"
   ]
  },
  {
   "cell_type": "code",
   "execution_count": 45,
   "metadata": {},
   "outputs": [
    {
     "data": {
      "image/png": "[encoded data removed]",
      "text/plain": [
       "<Figure size 720x360 with 1 Axes>"
      ]
     },
     "metadata": {
      "needs_background": "light"
     },
     "output_type": "display_data"
    }
   ],
   "source": [
    "# Plot a seemingly unrelated variable (here OVERCROWDING) for matched groups\n",
    "var = 'OVERCROWDING'\n",
    "fig = plt.figure(figsize=(10,5))\n",
    "sns.kdeplot(data=df_prec, x=var, hue='precarious', palette=['g','r'], shade=True)\n",
    "plt.xlim(0, 6)\n",
    "plt.xlabel(var, fontsize=12)\n",
    "plt.suptitle(var+' distribution for matched samples', fontsize=14, fontweight='bold')\n",
    "plt.legend(['precarious','not precarious'], loc='upper right', fontsize = 12)\n",
    "plt.show()"
   ]
  },
  {
   "cell_type": "code",
   "execution_count": 46,
   "metadata": {},
   "outputs": [
    {
     "name": "stdout",
     "output_type": "stream",
     "text": [
      "Diff of mean = 0.06581678031426033\n"
     ]
    }
   ],
   "source": [
    "means_prec = df_prec.groupby('precarious').mean()\n",
    "print('Diff of mean = ' +str(means_prec['UENGPOS'][0] - means_prec['UENGPOS'][1]))"
   ]
  },
  {
   "cell_type": "code",
   "execution_count": 47,
   "metadata": {},
   "outputs": [
    {
     "data": {
      "text/plain": [
       "<seaborn.axisgrid.FacetGrid at 0x103b1ca90>"
      ]
     },
     "execution_count": 47,
     "metadata": {},
     "output_type": "execute_result"
    },
    {
     "data": {
      "image/png": "[encoded data removed]",
      "text/plain": [
       "<Figure size 360x360 with 1 Axes>"
      ]
     },
     "metadata": {
      "needs_background": "light"
     },
     "output_type": "display_data"
    }
   ],
   "source": [
    "sns.catplot(data=means_prec.reset_index(),x='precarious',y='UENGPOS',kind='bar')"
   ]
  },
  {
   "cell_type": "markdown",
   "metadata": {},
   "source": [
    "# Create an empty undirected graph\n",
    "G = nx.Graph()\n",
    "\n",
    "# Loop through all the pairs of instances\n",
    "for control_id, control_row in control_df.iterrows():\n",
    "    for treatment_id, treatment_row in treatment_df.iterrows():\n",
    "\n",
    "        # Calculate the similarity \n",
    "        sim = similarity(control_row['PS'], treatment_row['PS'])\n",
    "\n",
    "        # Add an edge between the two instances weighted by the similarity between them\n",
    "        G.add_weighted_edges_from([(control_id, treatment_id, sim)])\n",
    "\n",
    "# Generate and return the maximum weight matching on the generated graph\n",
    "matching = nx.max_weight_matching(G)"
   ]
  },
  {
   "cell_type": "markdown",
   "metadata": {},
   "source": [
    "balanced_df_1 = df_lessons.iloc[list(matching.keys())]"
   ]
  },
  {
   "cell_type": "markdown",
   "metadata": {},
   "source": [
    "balanced_df_1"
   ]
  },
  {
   "cell_type": "markdown",
   "metadata": {},
   "source": [
    "## Linear regression models"
   ]
  },
  {
   "cell_type": "code",
   "execution_count": 48,
   "metadata": {},
   "outputs": [],
   "source": [
    "# returns a regression of the 'predictors' on the 'outcome', using only subjects in 'df' that answered\n",
    "# to all the outcome and predictor questions\n",
    "def res_NN(df,outcome,predictors):\n",
    "    \n",
    "    # df without rows containing NaNs for the outcome & predictors\n",
    "    df_reg = df_NN(df,outcome,predictors)\n",
    "    \n",
    "    # model description\n",
    "    model = outcome+' ~ '\n",
    "    for i in range (0,len(predictors)):\n",
    "        model = model+predictors[i]\n",
    "        if i != len(predictors)-1 :    # if not last\n",
    "            model = model+'+'\n",
    "    \n",
    "    # model fit, cluster std based on state        \n",
    "    return smf.ols(formula=model, data=df_reg).fit(cov_type='cluster',cov_kwds={'groups': df_reg['STATE']})"
   ]
  },
  {
   "cell_type": "markdown",
   "metadata": {},
   "source": [
    "## Education"
   ]
  },
  {
   "cell_type": "code",
   "execution_count": 49,
   "metadata": {},
   "outputs": [
    {
     "name": "stdout",
     "output_type": "stream",
     "text": [
      "                            OLS Regression Results                            \n",
      "==============================================================================\n",
      "Dep. Variable:                   UENG   R-squared:                       0.187\n",
      "Model:                            OLS   Adj. R-squared:                  0.186\n",
      "Method:                 Least Squares   F-statistic:                     1385.\n",
      "Date:                Wed, 09 Dec 2020   Prob (F-statistic):           1.19e-58\n",
      "Time:                        17:12:34   Log-Likelihood:                -48861.\n",
      "No. Observations:               21077   AIC:                         9.775e+04\n",
      "Df Residuals:                   21064   BIC:                         9.785e+04\n",
      "Df Model:                          12                                         \n",
      "Covariance Type:              cluster                                         \n",
      "================================================================================\n",
      "                   coef    std err          z      P>|z|      [0.025      0.975]\n",
      "--------------------------------------------------------------------------------\n",
      "Intercept        5.0595      0.276     18.324      0.000       4.518       5.601\n",
      "UFAMSTR          0.1909      0.021      9.261      0.000       0.150       0.231\n",
      "UMH2             0.0140      0.001     12.162      0.000       0.012       0.016\n",
      "UMHIGDEG         0.0123      0.014      0.893      0.372      -0.015       0.039\n",
      "UAGG             0.2827      0.010     29.035      0.000       0.264       0.302\n",
      "U_SOCPOV         0.0313      0.017      1.847      0.065      -0.002       0.065\n",
      "MNBEDRMS         0.0290      0.024      1.191      0.234      -0.019       0.077\n",
      "MOWNRENT        -0.0020      0.033     -0.061      0.951      -0.067       0.063\n",
      "OVERCROWDING    -0.1019      0.035     -2.934      0.003      -0.170      -0.034\n",
      "SEX              1.0411      0.032     32.926      0.000       0.979       1.103\n",
      "UAGE            -0.0902      0.005    -17.188      0.000      -0.100      -0.080\n",
      "UACT             0.3914      0.016     24.475      0.000       0.360       0.423\n",
      "CSPECED          1.0077      0.052     19.203      0.000       0.905       1.111\n",
      "==============================================================================\n",
      "Omnibus:                      630.690   Durbin-Watson:                   2.016\n",
      "Prob(Omnibus):                  0.000   Jarque-Bera (JB):              638.183\n",
      "Skew:                          -0.399   Prob(JB):                    2.63e-139\n",
      "Kurtosis:                       2.698   Cond. No.                     1.09e+03\n",
      "==============================================================================\n",
      "\n",
      "Notes:\n",
      "[1] Standard Errors are robust to cluster correlation (cluster)\n",
      "[2] The condition number is large, 1.09e+03. This might indicate that there are\n",
      "strong multicollinearity or other numerical problems.\n"
     ]
    }
   ],
   "source": [
    "outcome = 'UENG'\n",
    "predictors = family+income+housing_hh+['SEX','UAGE','UACT','CSPECED']\n",
    "res = res_NN(fc23,outcome, predictors)\n",
    "print(res.summary())"
   ]
  },
  {
   "cell_type": "code",
   "execution_count": 50,
   "metadata": {},
   "outputs": [
    {
     "data": {
      "text/plain": [
       "<seaborn.axisgrid.FacetGrid at 0x11eb3f160>"
      ]
     },
     "execution_count": 50,
     "metadata": {},
     "output_type": "execute_result"
    },
    {
     "data": {
      "image/png": "[encoded data removed]",
      "text/plain": [
       "<Figure size 402.375x360 with 1 Axes>"
      ]
     },
     "metadata": {
      "needs_background": "light"
     },
     "output_type": "display_data"
    }
   ],
   "source": [
    "sns.catplot(y='UENG', x='UFAMSTR', hue='SEX', kind='bar', palette='magma', data=df_NN(fc23,outcome,predictors))"
   ]
  },
  {
   "cell_type": "code",
   "execution_count": 51,
   "metadata": {},
   "outputs": [
    {
     "data": {
      "text/plain": [
       "<seaborn.axisgrid.FacetGrid at 0x124220ac0>"
      ]
     },
     "execution_count": 51,
     "metadata": {},
     "output_type": "execute_result"
    },
    {
     "data": {
      "image/png": "[encoded data removed]",
      "text/plain": [
       "<Figure size 360x360 with 1 Axes>"
      ]
     },
     "metadata": {
      "needs_background": "light"
     },
     "output_type": "display_data"
    }
   ],
   "source": [
    "sns.catplot(x='UENG', y='OVERCROWDING',kind='point', palette='magma', data=df_NN(fc23,outcome,predictors))"
   ]
  },
  {
   "cell_type": "code",
   "execution_count": 52,
   "metadata": {},
   "outputs": [
    {
     "data": {
      "text/plain": [
       "<seaborn.axisgrid.FacetGrid at 0x124226b50>"
      ]
     },
     "execution_count": 52,
     "metadata": {},
     "output_type": "execute_result"
    },
    {
     "data": {
      "image/png": "[encoded data removed]",
      "text/plain": [
       "<Figure size 402.375x360 with 1 Axes>"
      ]
     },
     "metadata": {
      "needs_background": "light"
     },
     "output_type": "display_data"
    }
   ],
   "source": [
    "sns.catplot(y='UENG', x='UACT', hue='SEX', kind='bar', palette='magma', data=df_NN(fc23,outcome,predictors))"
   ]
  },
  {
   "cell_type": "markdown",
   "metadata": {},
   "source": [
    "## Health"
   ]
  },
  {
   "cell_type": "code",
   "execution_count": 53,
   "metadata": {},
   "outputs": [
    {
     "name": "stdout",
     "output_type": "stream",
     "text": [
      "                            OLS Regression Results                            \n",
      "==============================================================================\n",
      "Dep. Variable:                 BHLTHN   R-squared:                       0.124\n",
      "Model:                            OLS   Adj. R-squared:                  0.123\n",
      "Method:                 Least Squares   F-statistic:                     258.4\n",
      "Date:                Wed, 09 Dec 2020   Prob (F-statistic):           4.85e-40\n",
      "Time:                        17:12:37   Log-Likelihood:                -26914.\n",
      "No. Observations:               21461   AIC:                         5.385e+04\n",
      "Df Residuals:                   21449   BIC:                         5.395e+04\n",
      "Df Model:                          11                                         \n",
      "Covariance Type:              cluster                                         \n",
      "================================================================================\n",
      "                   coef    std err          z      P>|z|      [0.025      0.975]\n",
      "--------------------------------------------------------------------------------\n",
      "Intercept        3.2293      0.086     37.575      0.000       3.061       3.398\n",
      "UFAMSTR         -0.0493      0.008     -6.147      0.000      -0.065      -0.034\n",
      "UMH2            -0.0094      0.001    -15.699      0.000      -0.011      -0.008\n",
      "UMHIGDEG         0.0237      0.004      5.285      0.000       0.015       0.033\n",
      "UAGG            -0.0431      0.004     -9.602      0.000      -0.052      -0.034\n",
      "U_SOCPOV        -0.0905      0.008    -11.271      0.000      -0.106      -0.075\n",
      "MNBEDRMS        -0.0149      0.007     -2.232      0.026      -0.028      -0.002\n",
      "MOWNRENT         0.0271      0.022      1.252      0.210      -0.015       0.070\n",
      "OVERCROWDING     0.1054      0.018      5.890      0.000       0.070       0.140\n",
      "SEX              0.0119      0.013      0.925      0.355      -0.013       0.037\n",
      "UAGE             0.0164      0.002     10.102      0.000       0.013       0.020\n",
      "UACT            -0.1073      0.006    -17.502      0.000      -0.119      -0.095\n",
      "==============================================================================\n",
      "Omnibus:                     2508.931   Durbin-Watson:                   1.999\n",
      "Prob(Omnibus):                  0.000   Jarque-Bera (JB):             3485.755\n",
      "Skew:                           0.939   Prob(JB):                         0.00\n",
      "Kurtosis:                       3.610   Cond. No.                     1.02e+03\n",
      "==============================================================================\n",
      "\n",
      "Notes:\n",
      "[1] Standard Errors are robust to cluster correlation (cluster)\n",
      "[2] The condition number is large, 1.02e+03. This might indicate that there are\n",
      "strong multicollinearity or other numerical problems.\n"
     ]
    }
   ],
   "source": [
    "outcome = 'BHLTHN'\n",
    "predictors = family+income+housing_hh+['SEX','UAGE','UACT']\n",
    "res = res_NN(fc23,outcome, predictors)\n",
    "print(res.summary())"
   ]
  },
  {
   "cell_type": "code",
   "execution_count": 54,
   "metadata": {},
   "outputs": [
    {
     "data": {
      "text/plain": [
       "<seaborn.axisgrid.FacetGrid at 0x127b9c250>"
      ]
     },
     "execution_count": 54,
     "metadata": {},
     "output_type": "execute_result"
    },
    {
     "data": {
      "image/png": "[encoded data removed]",
      "text/plain": [
       "<Figure size 360x360 with 1 Axes>"
      ]
     },
     "metadata": {
      "needs_background": "light"
     },
     "output_type": "display_data"
    }
   ],
   "source": [
    "sns.catplot(y='BHLTHN', x='U_SOCPOV',kind='bar',palette='magma', data=df_NN(fc23,outcome,predictors))"
   ]
  },
  {
   "cell_type": "code",
   "execution_count": 55,
   "metadata": {},
   "outputs": [
    {
     "data": {
      "text/plain": [
       "<seaborn.axisgrid.FacetGrid at 0x11eb42280>"
      ]
     },
     "execution_count": 55,
     "metadata": {},
     "output_type": "execute_result"
    },
    {
     "data": {
      "image/png": "[encoded data removed]",
      "text/plain": [
       "<Figure size 360x360 with 1 Axes>"
      ]
     },
     "metadata": {
      "needs_background": "light"
     },
     "output_type": "display_data"
    }
   ],
   "source": [
    "sns.catplot(y='BHLTHN', x='UACT',kind='bar', palette='magma', data=df_NN(fc23,outcome,predictors))"
   ]
  },
  {
   "cell_type": "markdown",
   "metadata": {},
   "source": [
    "## Mental health\n",
    "\n",
    "\n",
    "**fc2**\n"
   ]
  },
  {
   "cell_type": "code",
   "execution_count": 56,
   "metadata": {},
   "outputs": [
    {
     "name": "stdout",
     "output_type": "stream",
     "text": [
      "                            OLS Regression Results                            \n",
      "==============================================================================\n",
      "Dep. Variable:                  UBPIA   R-squared:                       0.242\n",
      "Model:                            OLS   Adj. R-squared:                  0.241\n",
      "Method:                 Least Squares   F-statistic:                     598.6\n",
      "Date:                Wed, 09 Dec 2020   Prob (F-statistic):           4.88e-49\n",
      "Time:                        17:12:38   Log-Likelihood:                -21285.\n",
      "No. Observations:               10583   AIC:                         4.259e+04\n",
      "Df Residuals:                   10571   BIC:                         4.268e+04\n",
      "Df Model:                          11                                         \n",
      "Covariance Type:              cluster                                         \n",
      "================================================================================\n",
      "                   coef    std err          z      P>|z|      [0.025      0.975]\n",
      "--------------------------------------------------------------------------------\n",
      "Intercept        7.7844      0.220     35.364      0.000       7.353       8.216\n",
      "UFAMSTR          0.1834      0.022      8.392      0.000       0.141       0.226\n",
      "UMH2             0.0327      0.002     14.204      0.000       0.028       0.037\n",
      "UMHIGDEG        -0.0284      0.011     -2.468      0.014      -0.051      -0.006\n",
      "UAGG             0.3740      0.013     27.926      0.000       0.348       0.400\n",
      "U_SOCPOV        -0.0150      0.019     -0.803      0.422      -0.052       0.022\n",
      "MNBEDRMS         0.0451      0.024      1.861      0.063      -0.002       0.093\n",
      "MOWNRENT        -0.0077      0.046     -0.170      0.865      -0.097       0.082\n",
      "OVERCROWDING     0.0839      0.039      2.156      0.031       0.008       0.160\n",
      "SEX              0.3993      0.035     11.379      0.000       0.331       0.468\n",
      "UAGE            -0.0776      0.014     -5.374      0.000      -0.106      -0.049\n",
      "UACT             0.0873      0.023      3.827      0.000       0.043       0.132\n",
      "==============================================================================\n",
      "Omnibus:                     1481.170   Durbin-Watson:                   2.007\n",
      "Prob(Omnibus):                  0.000   Jarque-Bera (JB):             2591.479\n",
      "Skew:                          -0.923   Prob(JB):                         0.00\n",
      "Kurtosis:                       4.572   Cond. No.                     1.08e+03\n",
      "==============================================================================\n",
      "\n",
      "Notes:\n",
      "[1] Standard Errors are robust to cluster correlation (cluster)\n",
      "[2] The condition number is large, 1.08e+03. This might indicate that there are\n",
      "strong multicollinearity or other numerical problems.\n"
     ]
    }
   ],
   "source": [
    "outcome = 'UBPIA'\n",
    "predictors = family+income+housing_hh+['SEX','UAGE','UACT']\n",
    "res = res_NN(fc2,outcome, predictors)\n",
    "print(res.summary())"
   ]
  },
  {
   "cell_type": "code",
   "execution_count": 57,
   "metadata": {},
   "outputs": [
    {
     "data": {
      "text/plain": [
       "<seaborn.axisgrid.FacetGrid at 0x129c241c0>"
      ]
     },
     "execution_count": 57,
     "metadata": {},
     "output_type": "execute_result"
    },
    {
     "data": {
      "image/png": "[encoded data removed]",
      "text/plain": [
       "<Figure size 360x360 with 1 Axes>"
      ]
     },
     "metadata": {
      "needs_background": "light"
     },
     "output_type": "display_data"
    }
   ],
   "source": [
    "sns.catplot(y='UBPIA', x='UFAMSTR', kind='bar', palette='magma', data=df_NN(fc2,outcome,predictors))"
   ]
  },
  {
   "cell_type": "markdown",
   "metadata": {},
   "source": [
    "**fc3**"
   ]
  },
  {
   "cell_type": "code",
   "execution_count": 58,
   "metadata": {},
   "outputs": [
    {
     "name": "stdout",
     "output_type": "stream",
     "text": [
      "                            OLS Regression Results                            \n",
      "==============================================================================\n",
      "Dep. Variable:                  UBPIB   R-squared:                       0.299\n",
      "Model:                            OLS   Adj. R-squared:                  0.298\n",
      "Method:                 Least Squares   F-statistic:                     668.4\n",
      "Date:                Wed, 09 Dec 2020   Prob (F-statistic):           3.16e-50\n",
      "Time:                        17:12:39   Log-Likelihood:                -21992.\n",
      "No. Observations:               10784   AIC:                         4.401e+04\n",
      "Df Residuals:                   10772   BIC:                         4.410e+04\n",
      "Df Model:                          11                                         \n",
      "Covariance Type:              cluster                                         \n",
      "================================================================================\n",
      "                   coef    std err          z      P>|z|      [0.025      0.975]\n",
      "--------------------------------------------------------------------------------\n",
      "Intercept        5.7996      0.329     17.615      0.000       5.154       6.445\n",
      "UFAMSTR          0.1828      0.018      9.954      0.000       0.147       0.219\n",
      "UMH2             0.0288      0.001     19.220      0.000       0.026       0.032\n",
      "UMHIGDEG         0.0157      0.008      1.946      0.052      -0.000       0.031\n",
      "UAGG             0.4424      0.014     30.764      0.000       0.414       0.471\n",
      "U_SOCPOV        -0.0331      0.022     -1.501      0.133      -0.076       0.010\n",
      "MNBEDRMS         0.0258      0.030      0.864      0.387      -0.033       0.084\n",
      "MOWNRENT        -0.0341      0.055     -0.622      0.534      -0.142       0.073\n",
      "OVERCROWDING     0.0735      0.033      2.259      0.024       0.010       0.137\n",
      "SEX              0.2063      0.049      4.224      0.000       0.111       0.302\n",
      "UAGE             0.0254      0.009      2.741      0.006       0.007       0.043\n",
      "UACT             0.3200      0.025     12.889      0.000       0.271       0.369\n",
      "==============================================================================\n",
      "Omnibus:                     1112.262   Durbin-Watson:                   1.995\n",
      "Prob(Omnibus):                  0.000   Jarque-Bera (JB):             1697.965\n",
      "Skew:                          -0.769   Prob(JB):                         0.00\n",
      "Kurtosis:                       4.188   Cond. No.                     1.20e+03\n",
      "==============================================================================\n",
      "\n",
      "Notes:\n",
      "[1] Standard Errors are robust to cluster correlation (cluster)\n",
      "[2] The condition number is large, 1.2e+03. This might indicate that there are\n",
      "strong multicollinearity or other numerical problems.\n"
     ]
    }
   ],
   "source": [
    "outcome = 'UBPIB'\n",
    "predictors = family+income+housing_hh+['SEX','UAGE','UACT']\n",
    "res = res_NN(fc3,outcome, predictors)\n",
    "print(res.summary())"
   ]
  },
  {
   "cell_type": "code",
   "execution_count": 59,
   "metadata": {},
   "outputs": [
    {
     "name": "stdout",
     "output_type": "stream",
     "text": [
      "-6.4020664799823936e-15 1.859725625210495\n"
     ]
    }
   ],
   "source": [
    "df_noNull = df_NN(fc3,outcome, predictors)\n",
    "xtest = df_noNull[predictors]\n",
    "diff = (res.predict(xtest) - df_noNull['UBPIB'])\n",
    "print(diff.mean(),diff.std())\n",
    "#error is normally distributed -> good, but the low r squared gives a rather high std"
   ]
  },
  {
   "cell_type": "code",
   "execution_count": 60,
   "metadata": {},
   "outputs": [
    {
     "data": {
      "text/plain": [
       "<seaborn.axisgrid.FacetGrid at 0x12865cc40>"
      ]
     },
     "execution_count": 60,
     "metadata": {},
     "output_type": "execute_result"
    },
    {
     "data": {
      "image/png": "[encoded data removed]",
      "text/plain": [
       "<Figure size 360x360 with 1 Axes>"
      ]
     },
     "metadata": {
      "needs_background": "light"
     },
     "output_type": "display_data"
    }
   ],
   "source": [
    "sns.catplot(y='UBPIB', x='UFAMSTR', kind='bar', palette='magma', data=df_NN(fc3,outcome,predictors))"
   ]
  },
  {
   "cell_type": "markdown",
   "metadata": {},
   "source": [
    "## Conclusion Q1\n",
    "\n",
    "Looking at the whole model, we can say that mental health is most influenced by housing conditions."
   ]
  },
  {
   "cell_type": "markdown",
   "metadata": {},
   "source": [
    "## Mental health of UMH2"
   ]
  },
  {
   "cell_type": "code",
   "execution_count": 61,
   "metadata": {},
   "outputs": [
    {
     "name": "stdout",
     "output_type": "stream",
     "text": [
      "                            OLS Regression Results                            \n",
      "==============================================================================\n",
      "Dep. Variable:                   UMH2   R-squared:                       0.047\n",
      "Model:                            OLS   Adj. R-squared:                  0.046\n",
      "Method:                 Least Squares   F-statistic:                     44.53\n",
      "Date:                Wed, 09 Dec 2020   Prob (F-statistic):           2.55e-19\n",
      "Time:                        17:12:40   Log-Likelihood:            -1.3349e+05\n",
      "No. Observations:               33553   AIC:                         2.670e+05\n",
      "Df Residuals:                   33545   BIC:                         2.671e+05\n",
      "Df Model:                           7                                         \n",
      "Covariance Type:              cluster                                         \n",
      "================================================================================\n",
      "                   coef    std err          z      P>|z|      [0.025      0.975]\n",
      "--------------------------------------------------------------------------------\n",
      "Intercept       72.4220      0.783     92.483      0.000      70.887      73.957\n",
      "CHLD0_5          0.7360      0.148      4.962      0.000       0.445       1.027\n",
      "CHLD6_17        -0.1957      0.110     -1.787      0.074      -0.410       0.019\n",
      "UHHCOUNT         0.1236      0.170      0.728      0.467      -0.209       0.456\n",
      "U_SOCPOV         1.9198      0.149     12.856      0.000       1.627       2.213\n",
      "MNBEDRMS         0.6972      0.144      4.857      0.000       0.416       0.979\n",
      "MOWNRENT        -1.2037      0.180     -6.702      0.000      -1.556      -0.852\n",
      "OVERCROWDING     0.1463      0.378      0.387      0.699      -0.595       0.888\n",
      "==============================================================================\n",
      "Omnibus:                     2624.839   Durbin-Watson:                   1.659\n",
      "Prob(Omnibus):                  0.000   Jarque-Bera (JB):             3507.956\n",
      "Skew:                          -0.679   Prob(JB):                         0.00\n",
      "Kurtosis:                       3.814   Cond. No.                         61.8\n",
      "==============================================================================\n",
      "\n",
      "Notes:\n",
      "[1] Standard Errors are robust to cluster correlation (cluster)\n"
     ]
    }
   ],
   "source": [
    "outcome = 'UMH2'\n",
    "predictors = family_hh+income+housing_hh\n",
    "res = res_NN(child,outcome, predictors)\n",
    "print(res.summary())"
   ]
  },
  {
   "cell_type": "code",
   "execution_count": 62,
   "metadata": {},
   "outputs": [],
   "source": [
    "outcome = 'UENGNEG'\n",
    "predictors = ['UFAMSTR']\n",
    "df_noNull = df_NN(fc23,outcome, predictors)"
   ]
  },
  {
   "cell_type": "code",
   "execution_count": 63,
   "metadata": {},
   "outputs": [
    {
     "data": {
      "text/plain": [
       "<matplotlib.axes._subplots.AxesSubplot at 0x1287b1c40>"
      ]
     },
     "execution_count": 63,
     "metadata": {},
     "output_type": "execute_result"
    },
    {
     "data": {
      "image/png": "[encoded data removed]",
      "text/plain": [
       "<Figure size 432x288 with 1 Axes>"
      ]
     },
     "metadata": {
      "needs_background": "light"
     },
     "output_type": "display_data"
    }
   ],
   "source": [
    "sns.histplot(x='UFAMSTR', hue='UENGNEG', stat='probability', data=df_noNull, common_norm=False,\n",
    "             multiple='dodge', palette='magma')\n",
    "# dans quelles familles sont distribués les enfants peu engagés"
   ]
  },
  {
   "cell_type": "markdown",
   "metadata": {},
   "source": [
    "## Average treatment effect on schooling, health & happiness\n",
    "\n",
    "Using the matched pairs we can compute the average treatment (young child and precarity) effect on our variables of interest.\n",
    "\n",
    "__ATE of having a young child (or children) in the household__"
   ]
  },
  {
   "cell_type": "code",
   "execution_count": 143,
   "metadata": {},
   "outputs": [],
   "source": [
    "# Computes CI\n",
    "def CI(alpha, data):    \n",
    "    ci = sms.DescrStatsW(data).tconfint_mean(alpha)\n",
    "#    return '['+ '{:.6f}'.format(round(ci[0],6))+' ; '+ '{:.6f}'.format(round(ci[1],6))+']'\n",
    "    return ci"
   ]
  },
  {
   "cell_type": "code",
   "execution_count": 95,
   "metadata": {},
   "outputs": [],
   "source": [
    "# Computes average treatment effect of 'treatment_var' on the variable of interest 'voi'\n",
    "def ATE (data, treatment_var, voi):\n",
    "    # keep only valid data for voi (no NaNs)\n",
    "    df = df_NN(data,treatment_var,[voi])\n",
    "    # perform matching\n",
    "    treated = df[df[treatment_var] == 1].reset_index(drop=True)\n",
    "    control = df[df[treatment_var] == 0].reset_index(drop=True)\n",
    "    df_match = optimatch(treated,control,0.001)\n",
    "    print(f'Number of matched subjects: {df_match.shape[0]} / {df.shape[0]}')\n",
    "\n",
    "    pairs_difference = df_match.loc[df_match[treatment_var]==1,voi].values - df_match.loc[df_match[treatment_var]==0,voi].values\n",
    "    ate = sum(pairs_difference)/pairs_difference.size\n",
    "    ci = [ CI(0.1, pairs_difference), CI(0.05, pairs_difference), CI(0.01, pairs_difference)]\n",
    "    \n",
    "    return ate, ci"
   ]
  },
  {
   "cell_type": "code",
   "execution_count": 132,
   "metadata": {},
   "outputs": [],
   "source": [
    "# Computes ATE of 'treatment_var' on several variables of interest listed in 'list_voi'\n",
    "# Returns a dataframe with the variables and their ATE\n",
    "def multiple_ATE (data, treatment_var, list_voi):\n",
    "    ates = []\n",
    "    ci90 = []\n",
    "    ci95 = []\n",
    "    ci99 = []\n",
    "    \n",
    "    for var in list_voi:\n",
    "        print(var)\n",
    "        ate, ci = ATE(data, treatment_var, var)\n",
    "        ates.append(ate)\n",
    "        ci90.append(ci[0])\n",
    "        ci95.append(ci[1])\n",
    "        ci99.append(ci[2])\n",
    "        \n",
    "    df_ate = pd.DataFrame({'variable': list_voi, 'ATE': ates, '90% CI': ci90, '95% CI': ci95, '99% CI': ci99})\n",
    "\n",
    "    return df_ate"
   ]
  },
  {
   "cell_type": "code",
   "execution_count": 125,
   "metadata": {},
   "outputs": [],
   "source": [
    "def ATE_sch_hlth_happ (data, treatment_var):\n",
    "    ate = multiple_ATE(data, treatment_var, ['UENGn','UENGNEG','UENGPOS','BHLTHNn'])\n",
    "    ate_ubpia = multiple_ATE(data.loc[(data['PERSTYPE']==2) & (data['UAGE'] < 12)], treatment_var,['UBPIAn','UBPIANEG','UBPIAPOS'])\n",
    "    ate_ubpib = multiple_ATE(data.loc[(data['PERSTYPE']==2) & (data['UAGE'] >= 12)], treatment_var,['UBPIBn','UBPIBNEG','UBPIBPOS'])   \n",
    "    return ate.append(ate_ubpia.append(ate_ubpib,ignore_index=True), ignore_index=True)"
   ]
  },
  {
   "cell_type": "code",
   "execution_count": 126,
   "metadata": {},
   "outputs": [
    {
     "name": "stdout",
     "output_type": "stream",
     "text": [
      "UENGn\n",
      "Number of matched subjects: 10284 / 21200\n",
      "UENGNEG\n",
      "Number of matched subjects: 10268 / 21200\n",
      "UENGPOS\n",
      "Number of matched subjects: 10266 / 21200\n",
      "BHLTHNn\n",
      "Number of matched subjects: 10396 / 21474\n",
      "UBPIAn\n",
      "Number of matched subjects: 6494 / 10587\n",
      "UBPIANEG\n",
      "Number of matched subjects: 6506 / 10587\n",
      "UBPIAPOS\n",
      "Number of matched subjects: 6496 / 10587\n",
      "UBPIBn\n",
      "Number of matched subjects: 2708 / 10785\n",
      "UBPIBNEG\n",
      "Number of matched subjects: 2712 / 10785\n",
      "UBPIBPOS\n",
      "Number of matched subjects: 2710 / 10785\n"
     ]
    },
    {
     "data": {
      "text/html": [
       "<div>\n",
       "<style scoped>\n",
       "    .dataframe tbody tr th:only-of-type {\n",
       "        vertical-align: middle;\n",
       "    }\n",
       "\n",
       "    .dataframe tbody tr th {\n",
       "        vertical-align: top;\n",
       "    }\n",
       "\n",
       "    .dataframe thead th {\n",
       "        text-align: right;\n",
       "    }\n",
       "</style>\n",
       "<table border=\"1\" class=\"dataframe\">\n",
       "  <thead>\n",
       "    <tr style=\"text-align: right;\">\n",
       "      <th></th>\n",
       "      <th>variable</th>\n",
       "      <th>ATE</th>\n",
       "      <th>90% CI</th>\n",
       "      <th>95% CI:</th>\n",
       "      <th>99% CI:</th>\n",
       "    </tr>\n",
       "  </thead>\n",
       "  <tbody>\n",
       "    <tr>\n",
       "      <th>0</th>\n",
       "      <td>UENGn</td>\n",
       "      <td>0.007196</td>\n",
       "      <td>[-0.000121 ; 0.014512]</td>\n",
       "      <td>[-0.001523 ; 0.015914]</td>\n",
       "      <td>[-0.004264 ; 0.018655]</td>\n",
       "    </tr>\n",
       "    <tr>\n",
       "      <th>1</th>\n",
       "      <td>UENGNEG</td>\n",
       "      <td>-0.022594</td>\n",
       "      <td>[-0.036014 ; -0.009175]</td>\n",
       "      <td>[-0.038585 ; -0.006603]</td>\n",
       "      <td>[-0.043613 ; -0.001576]</td>\n",
       "    </tr>\n",
       "    <tr>\n",
       "      <th>2</th>\n",
       "      <td>UENGPOS</td>\n",
       "      <td>0.005260</td>\n",
       "      <td>[-0.010122 ; 0.020642]</td>\n",
       "      <td>[-0.013070 ; 0.023590]</td>\n",
       "      <td>[-0.018832 ; 0.029353]</td>\n",
       "    </tr>\n",
       "    <tr>\n",
       "      <th>3</th>\n",
       "      <td>BHLTHNn</td>\n",
       "      <td>-0.009234</td>\n",
       "      <td>[-0.016478 ; -0.001991]</td>\n",
       "      <td>[-0.017866 ; -0.000603]</td>\n",
       "      <td>[-0.020580 ; 0.002111]</td>\n",
       "    </tr>\n",
       "    <tr>\n",
       "      <th>4</th>\n",
       "      <td>UBPIAn</td>\n",
       "      <td>-0.012011</td>\n",
       "      <td>[-0.018958 ; -0.005064]</td>\n",
       "      <td>[-0.020290 ; -0.003733]</td>\n",
       "      <td>[-0.022893 ; -0.001129]</td>\n",
       "    </tr>\n",
       "    <tr>\n",
       "      <th>5</th>\n",
       "      <td>UBPIANEG</td>\n",
       "      <td>0.014756</td>\n",
       "      <td>[0.004622 ; 0.024889]</td>\n",
       "      <td>[0.002680 ; 0.026832]</td>\n",
       "      <td>[-0.001118 ; 0.030630]</td>\n",
       "    </tr>\n",
       "    <tr>\n",
       "      <th>6</th>\n",
       "      <td>UBPIAPOS</td>\n",
       "      <td>-0.022475</td>\n",
       "      <td>[-0.041155 ; -0.003796]</td>\n",
       "      <td>[-0.044736 ; -0.000215]</td>\n",
       "      <td>[-0.051736 ; 0.006786]</td>\n",
       "    </tr>\n",
       "    <tr>\n",
       "      <th>7</th>\n",
       "      <td>UBPIBn</td>\n",
       "      <td>-0.032681</td>\n",
       "      <td>[-0.044537 ; -0.020825]</td>\n",
       "      <td>[-0.046811 ; -0.018551]</td>\n",
       "      <td>[-0.051261 ; -0.014101]</td>\n",
       "    </tr>\n",
       "    <tr>\n",
       "      <th>8</th>\n",
       "      <td>UBPIBNEG</td>\n",
       "      <td>0.036136</td>\n",
       "      <td>[0.017276 ; 0.054996]</td>\n",
       "      <td>[0.013658 ; 0.058613]</td>\n",
       "      <td>[0.006580 ; 0.065692]</td>\n",
       "    </tr>\n",
       "    <tr>\n",
       "      <th>9</th>\n",
       "      <td>UBPIBPOS</td>\n",
       "      <td>-0.047970</td>\n",
       "      <td>[-0.075625 ; -0.020316]</td>\n",
       "      <td>[-0.080929 ; -0.015012]</td>\n",
       "      <td>[-0.091308 ; -0.004633]</td>\n",
       "    </tr>\n",
       "  </tbody>\n",
       "</table>\n",
       "</div>"
      ],
      "text/plain": [
       "   variable       ATE                   90% CI                  95% CI:  \\\n",
       "0     UENGn  0.007196   [-0.000121 ; 0.014512]   [-0.001523 ; 0.015914]   \n",
       "1   UENGNEG -0.022594  [-0.036014 ; -0.009175]  [-0.038585 ; -0.006603]   \n",
       "2   UENGPOS  0.005260   [-0.010122 ; 0.020642]   [-0.013070 ; 0.023590]   \n",
       "3   BHLTHNn -0.009234  [-0.016478 ; -0.001991]  [-0.017866 ; -0.000603]   \n",
       "4    UBPIAn -0.012011  [-0.018958 ; -0.005064]  [-0.020290 ; -0.003733]   \n",
       "5  UBPIANEG  0.014756    [0.004622 ; 0.024889]    [0.002680 ; 0.026832]   \n",
       "6  UBPIAPOS -0.022475  [-0.041155 ; -0.003796]  [-0.044736 ; -0.000215]   \n",
       "7    UBPIBn -0.032681  [-0.044537 ; -0.020825]  [-0.046811 ; -0.018551]   \n",
       "8  UBPIBNEG  0.036136    [0.017276 ; 0.054996]    [0.013658 ; 0.058613]   \n",
       "9  UBPIBPOS -0.047970  [-0.075625 ; -0.020316]  [-0.080929 ; -0.015012]   \n",
       "\n",
       "                   99% CI:  \n",
       "0   [-0.004264 ; 0.018655]  \n",
       "1  [-0.043613 ; -0.001576]  \n",
       "2   [-0.018832 ; 0.029353]  \n",
       "3   [-0.020580 ; 0.002111]  \n",
       "4  [-0.022893 ; -0.001129]  \n",
       "5   [-0.001118 ; 0.030630]  \n",
       "6   [-0.051736 ; 0.006786]  \n",
       "7  [-0.051261 ; -0.014101]  \n",
       "8    [0.006580 ; 0.065692]  \n",
       "9  [-0.091308 ; -0.004633]  "
      ]
     },
     "execution_count": 126,
     "metadata": {},
     "output_type": "execute_result"
    }
   ],
   "source": [
    "ate_05 = ATE_sch_hlth_happ(df_05, 'bool0_5')\n",
    "ate_05"
   ]
  },
  {
   "cell_type": "markdown",
   "metadata": {},
   "source": [
    "__ATE of taking lessons outside of school__, Estelle bad bad"
   ]
  },
  {
   "cell_type": "code",
   "execution_count": 127,
   "metadata": {},
   "outputs": [
    {
     "name": "stdout",
     "output_type": "stream",
     "text": [
      "UENGn\n",
      "Number of matched subjects: 13666 / 21056\n",
      "UENGNEG\n",
      "Number of matched subjects: 13660 / 21056\n",
      "UENGPOS\n",
      "Number of matched subjects: 13660 / 21056\n",
      "BHLTHNn\n",
      "Number of matched subjects: 13808 / 21287\n",
      "UBPIAn\n",
      "Number of matched subjects: 6484 / 10492\n",
      "UBPIANEG\n",
      "Number of matched subjects: 6486 / 10492\n",
      "UBPIAPOS\n",
      "Number of matched subjects: 6488 / 10492\n",
      "UBPIBn\n",
      "Number of matched subjects: 6510 / 10705\n",
      "UBPIBNEG\n",
      "Number of matched subjects: 6514 / 10705\n",
      "UBPIBPOS\n",
      "Number of matched subjects: 6500 / 10705\n"
     ]
    },
    {
     "data": {
      "text/html": [
       "<div>\n",
       "<style scoped>\n",
       "    .dataframe tbody tr th:only-of-type {\n",
       "        vertical-align: middle;\n",
       "    }\n",
       "\n",
       "    .dataframe tbody tr th {\n",
       "        vertical-align: top;\n",
       "    }\n",
       "\n",
       "    .dataframe thead th {\n",
       "        text-align: right;\n",
       "    }\n",
       "</style>\n",
       "<table border=\"1\" class=\"dataframe\">\n",
       "  <thead>\n",
       "    <tr style=\"text-align: right;\">\n",
       "      <th></th>\n",
       "      <th>variable</th>\n",
       "      <th>ATE</th>\n",
       "      <th>90% CI</th>\n",
       "      <th>95% CI:</th>\n",
       "      <th>99% CI:</th>\n",
       "    </tr>\n",
       "  </thead>\n",
       "  <tbody>\n",
       "    <tr>\n",
       "      <th>0</th>\n",
       "      <td>UENGn</td>\n",
       "      <td>0.029562</td>\n",
       "      <td>[0.023742 ; 0.035383]</td>\n",
       "      <td>[0.022627 ; 0.036498]</td>\n",
       "      <td>[0.020446 ; 0.038679]</td>\n",
       "    </tr>\n",
       "    <tr>\n",
       "      <th>1</th>\n",
       "      <td>UENGNEG</td>\n",
       "      <td>-0.057540</td>\n",
       "      <td>[-0.068222 ; -0.046859]</td>\n",
       "      <td>[-0.070269 ; -0.044812]</td>\n",
       "      <td>[-0.074270 ; -0.040811]</td>\n",
       "    </tr>\n",
       "    <tr>\n",
       "      <th>2</th>\n",
       "      <td>UENGPOS</td>\n",
       "      <td>0.034261</td>\n",
       "      <td>[0.020940 ; 0.047581]</td>\n",
       "      <td>[0.018388 ; 0.050133]</td>\n",
       "      <td>[0.013398 ; 0.055123]</td>\n",
       "    </tr>\n",
       "    <tr>\n",
       "      <th>3</th>\n",
       "      <td>BHLTHNn</td>\n",
       "      <td>-0.020459</td>\n",
       "      <td>[-0.026265 ; -0.014653]</td>\n",
       "      <td>[-0.027378 ; -0.013540]</td>\n",
       "      <td>[-0.029553 ; -0.011365]</td>\n",
       "    </tr>\n",
       "    <tr>\n",
       "      <th>4</th>\n",
       "      <td>UBPIAn</td>\n",
       "      <td>-0.006066</td>\n",
       "      <td>[-0.012530 ; 0.000397]</td>\n",
       "      <td>[-0.013768 ; 0.001636]</td>\n",
       "      <td>[-0.016191 ; 0.004058]</td>\n",
       "    </tr>\n",
       "    <tr>\n",
       "      <th>5</th>\n",
       "      <td>UBPIANEG</td>\n",
       "      <td>-0.009251</td>\n",
       "      <td>[-0.018493 ; -0.000009]</td>\n",
       "      <td>[-0.020264 ; 0.001763]</td>\n",
       "      <td>[-0.023728 ; 0.005226]</td>\n",
       "    </tr>\n",
       "    <tr>\n",
       "      <th>6</th>\n",
       "      <td>UBPIAPOS</td>\n",
       "      <td>-0.033600</td>\n",
       "      <td>[-0.051759 ; -0.015442]</td>\n",
       "      <td>[-0.055239 ; -0.011962]</td>\n",
       "      <td>[-0.062044 ; -0.005156]</td>\n",
       "    </tr>\n",
       "    <tr>\n",
       "      <th>7</th>\n",
       "      <td>UBPIBn</td>\n",
       "      <td>0.023425</td>\n",
       "      <td>[0.016684 ; 0.030167]</td>\n",
       "      <td>[0.015392 ; 0.031459]</td>\n",
       "      <td>[0.012865 ; 0.033986]</td>\n",
       "    </tr>\n",
       "    <tr>\n",
       "      <th>8</th>\n",
       "      <td>UBPIBNEG</td>\n",
       "      <td>-0.027019</td>\n",
       "      <td>[-0.037269 ; -0.016768]</td>\n",
       "      <td>[-0.039234 ; -0.014803]</td>\n",
       "      <td>[-0.043076 ; -0.010962]</td>\n",
       "    </tr>\n",
       "    <tr>\n",
       "      <th>9</th>\n",
       "      <td>UBPIBPOS</td>\n",
       "      <td>0.030769</td>\n",
       "      <td>[0.012507 ; 0.049032]</td>\n",
       "      <td>[0.009006 ; 0.052532]</td>\n",
       "      <td>[0.002162 ; 0.059377]</td>\n",
       "    </tr>\n",
       "  </tbody>\n",
       "</table>\n",
       "</div>"
      ],
      "text/plain": [
       "   variable       ATE                   90% CI                  95% CI:  \\\n",
       "0     UENGn  0.029562    [0.023742 ; 0.035383]    [0.022627 ; 0.036498]   \n",
       "1   UENGNEG -0.057540  [-0.068222 ; -0.046859]  [-0.070269 ; -0.044812]   \n",
       "2   UENGPOS  0.034261    [0.020940 ; 0.047581]    [0.018388 ; 0.050133]   \n",
       "3   BHLTHNn -0.020459  [-0.026265 ; -0.014653]  [-0.027378 ; -0.013540]   \n",
       "4    UBPIAn -0.006066   [-0.012530 ; 0.000397]   [-0.013768 ; 0.001636]   \n",
       "5  UBPIANEG -0.009251  [-0.018493 ; -0.000009]   [-0.020264 ; 0.001763]   \n",
       "6  UBPIAPOS -0.033600  [-0.051759 ; -0.015442]  [-0.055239 ; -0.011962]   \n",
       "7    UBPIBn  0.023425    [0.016684 ; 0.030167]    [0.015392 ; 0.031459]   \n",
       "8  UBPIBNEG -0.027019  [-0.037269 ; -0.016768]  [-0.039234 ; -0.014803]   \n",
       "9  UBPIBPOS  0.030769    [0.012507 ; 0.049032]    [0.009006 ; 0.052532]   \n",
       "\n",
       "                   99% CI:  \n",
       "0    [0.020446 ; 0.038679]  \n",
       "1  [-0.074270 ; -0.040811]  \n",
       "2    [0.013398 ; 0.055123]  \n",
       "3  [-0.029553 ; -0.011365]  \n",
       "4   [-0.016191 ; 0.004058]  \n",
       "5   [-0.023728 ; 0.005226]  \n",
       "6  [-0.062044 ; -0.005156]  \n",
       "7    [0.012865 ; 0.033986]  \n",
       "8  [-0.043076 ; -0.010962]  \n",
       "9    [0.002162 ; 0.059377]  "
      ]
     },
     "execution_count": 127,
     "metadata": {},
     "output_type": "execute_result"
    }
   ],
   "source": [
    "ate_lessons = ATE_sch_hlth_happ(df_lessons, 'NLESSONS')\n",
    "ate_lessons"
   ]
  },
  {
   "cell_type": "markdown",
   "metadata": {},
   "source": [
    "__ATE of precarious household__"
   ]
  },
  {
   "cell_type": "code",
   "execution_count": 144,
   "metadata": {},
   "outputs": [
    {
     "name": "stdout",
     "output_type": "stream",
     "text": [
      "UENGn\n",
      "Number of matched subjects: 6480 / 6660\n",
      "UENGNEG\n",
      "Number of matched subjects: 6472 / 6660\n",
      "UENGPOS\n",
      "Number of matched subjects: 6480 / 6660\n",
      "BHLTHNn\n",
      "Number of matched subjects: 6582 / 6746\n",
      "UBPIAn\n",
      "Number of matched subjects: 2862 / 3483\n",
      "UBPIANEG\n",
      "Number of matched subjects: 2842 / 3483\n",
      "UBPIAPOS\n",
      "Number of matched subjects: 2864 / 3483\n",
      "UBPIBn\n",
      "Number of matched subjects: 2638 / 3234\n",
      "UBPIBNEG\n",
      "Number of matched subjects: 2636 / 3234\n",
      "UBPIBPOS\n",
      "Number of matched subjects: 2640 / 3234\n"
     ]
    },
    {
     "data": {
      "text/html": [
       "<div>\n",
       "<style scoped>\n",
       "    .dataframe tbody tr th:only-of-type {\n",
       "        vertical-align: middle;\n",
       "    }\n",
       "\n",
       "    .dataframe tbody tr th {\n",
       "        vertical-align: top;\n",
       "    }\n",
       "\n",
       "    .dataframe thead th {\n",
       "        text-align: right;\n",
       "    }\n",
       "</style>\n",
       "<table border=\"1\" class=\"dataframe\">\n",
       "  <thead>\n",
       "    <tr style=\"text-align: right;\">\n",
       "      <th></th>\n",
       "      <th>variable</th>\n",
       "      <th>ATE</th>\n",
       "      <th>90% CI</th>\n",
       "      <th>95% CI</th>\n",
       "      <th>99% CI</th>\n",
       "    </tr>\n",
       "  </thead>\n",
       "  <tbody>\n",
       "    <tr>\n",
       "      <th>0</th>\n",
       "      <td>UENGn</td>\n",
       "      <td>-0.050566</td>\n",
       "      <td>(-0.0602485527245125, -0.040883134518285846)</td>\n",
       "      <td>(-0.062104515053076965, -0.03902717218972138)</td>\n",
       "      <td>(-0.065733499633334, -0.03539818760946435)</td>\n",
       "    </tr>\n",
       "    <tr>\n",
       "      <th>1</th>\n",
       "      <td>UENGNEG</td>\n",
       "      <td>0.086218</td>\n",
       "      <td>(0.06783359754414812, 0.10460150752383705)</td>\n",
       "      <td>(0.06430979541835156, 0.10812530964963361)</td>\n",
       "      <td>(0.057419660632117786, 0.11501544443586739)</td>\n",
       "    </tr>\n",
       "    <tr>\n",
       "      <th>2</th>\n",
       "      <td>UENGPOS</td>\n",
       "      <td>-0.064506</td>\n",
       "      <td>(-0.08260260568539153, -0.046409739993620816)</td>\n",
       "      <td>(-0.08607129376490438, -0.04294105191410797)</td>\n",
       "      <td>(-0.09285365963544975, -0.03615868604356259)</td>\n",
       "    </tr>\n",
       "    <tr>\n",
       "      <th>3</th>\n",
       "      <td>BHLTHNn</td>\n",
       "      <td>0.059708</td>\n",
       "      <td>(0.04971705162112613, 0.06969953908078819)</td>\n",
       "      <td>(0.047801966183330664, 0.07161462451858364)</td>\n",
       "      <td>(0.04405740328878559, 0.07535918741312872)</td>\n",
       "    </tr>\n",
       "    <tr>\n",
       "      <th>4</th>\n",
       "      <td>UBPIAn</td>\n",
       "      <td>-0.051945</td>\n",
       "      <td>(-0.06359622947245236, -0.04029382410313582)</td>\n",
       "      <td>(-0.06583105024830185, -0.038059003327286324)</td>\n",
       "      <td>(-0.07020327757340993, -0.03368677600217826)</td>\n",
       "    </tr>\n",
       "    <tr>\n",
       "      <th>5</th>\n",
       "      <td>UBPIANEG</td>\n",
       "      <td>0.065447</td>\n",
       "      <td>(0.04644590063189113, 0.08444783617317572)</td>\n",
       "      <td>(0.04280128743841472, 0.08809244936665214)</td>\n",
       "      <td>(0.035670876580643746, 0.09522286022442311)</td>\n",
       "    </tr>\n",
       "    <tr>\n",
       "      <th>6</th>\n",
       "      <td>UBPIAPOS</td>\n",
       "      <td>-0.110335</td>\n",
       "      <td>(-0.13651820884296811, -0.0841521822184844)</td>\n",
       "      <td>(-0.1415403763551916, -0.07913001470626091)</td>\n",
       "      <td>(-0.1513657918084618, -0.0693045992529907)</td>\n",
       "    </tr>\n",
       "    <tr>\n",
       "      <th>7</th>\n",
       "      <td>UBPIBn</td>\n",
       "      <td>-0.055661</td>\n",
       "      <td>(-0.06838293044751105, -0.04293877791741185)</td>\n",
       "      <td>(-0.07082341204495997, -0.040498296319962934)</td>\n",
       "      <td>(-0.07559840473548599, -0.03572330362943692)</td>\n",
       "    </tr>\n",
       "    <tr>\n",
       "      <th>8</th>\n",
       "      <td>UBPIBNEG</td>\n",
       "      <td>0.043247</td>\n",
       "      <td>(0.02202558269141277, 0.06446910623119725)</td>\n",
       "      <td>(0.017954598466389277, 0.06854009045622074)</td>\n",
       "      <td>(0.00998939354353455, 0.07650529537907547)</td>\n",
       "    </tr>\n",
       "    <tr>\n",
       "      <th>9</th>\n",
       "      <td>UBPIBPOS</td>\n",
       "      <td>-0.093182</td>\n",
       "      <td>(-0.11968942270608648, -0.06667421365754989)</td>\n",
       "      <td>(-0.12477438320586359, -0.06158925315777278)</td>\n",
       "      <td>(-0.1347234969969277, -0.051640139366708665)</td>\n",
       "    </tr>\n",
       "  </tbody>\n",
       "</table>\n",
       "</div>"
      ],
      "text/plain": [
       "   variable       ATE                                         90% CI  \\\n",
       "0     UENGn -0.050566   (-0.0602485527245125, -0.040883134518285846)   \n",
       "1   UENGNEG  0.086218     (0.06783359754414812, 0.10460150752383705)   \n",
       "2   UENGPOS -0.064506  (-0.08260260568539153, -0.046409739993620816)   \n",
       "3   BHLTHNn  0.059708     (0.04971705162112613, 0.06969953908078819)   \n",
       "4    UBPIAn -0.051945   (-0.06359622947245236, -0.04029382410313582)   \n",
       "5  UBPIANEG  0.065447     (0.04644590063189113, 0.08444783617317572)   \n",
       "6  UBPIAPOS -0.110335    (-0.13651820884296811, -0.0841521822184844)   \n",
       "7    UBPIBn -0.055661   (-0.06838293044751105, -0.04293877791741185)   \n",
       "8  UBPIBNEG  0.043247     (0.02202558269141277, 0.06446910623119725)   \n",
       "9  UBPIBPOS -0.093182   (-0.11968942270608648, -0.06667421365754989)   \n",
       "\n",
       "                                          95% CI  \\\n",
       "0  (-0.062104515053076965, -0.03902717218972138)   \n",
       "1     (0.06430979541835156, 0.10812530964963361)   \n",
       "2   (-0.08607129376490438, -0.04294105191410797)   \n",
       "3    (0.047801966183330664, 0.07161462451858364)   \n",
       "4  (-0.06583105024830185, -0.038059003327286324)   \n",
       "5     (0.04280128743841472, 0.08809244936665214)   \n",
       "6    (-0.1415403763551916, -0.07913001470626091)   \n",
       "7  (-0.07082341204495997, -0.040498296319962934)   \n",
       "8    (0.017954598466389277, 0.06854009045622074)   \n",
       "9   (-0.12477438320586359, -0.06158925315777278)   \n",
       "\n",
       "                                         99% CI  \n",
       "0    (-0.065733499633334, -0.03539818760946435)  \n",
       "1   (0.057419660632117786, 0.11501544443586739)  \n",
       "2  (-0.09285365963544975, -0.03615868604356259)  \n",
       "3    (0.04405740328878559, 0.07535918741312872)  \n",
       "4  (-0.07020327757340993, -0.03368677600217826)  \n",
       "5   (0.035670876580643746, 0.09522286022442311)  \n",
       "6    (-0.1513657918084618, -0.0693045992529907)  \n",
       "7  (-0.07559840473548599, -0.03572330362943692)  \n",
       "8    (0.00998939354353455, 0.07650529537907547)  \n",
       "9  (-0.1347234969969277, -0.051640139366708665)  "
      ]
     },
     "execution_count": 144,
     "metadata": {},
     "output_type": "execute_result"
    }
   ],
   "source": [
    "ate_precarious = ATE_sch_hlth_happ(df_prec, 'precarious')\n",
    "ate_precarious"
   ]
  },
  {
   "cell_type": "code",
   "execution_count": 158,
   "metadata": {},
   "outputs": [],
   "source": [
    "#sns.catplot(y = 'variable', x = 'ATE', data=ate_precarious, kind='bar', color='b', orient='h', yerr=ate_precarious['95% CI'].values)\n",
    "#plt.show()"
   ]
  },
  {
   "cell_type": "code",
   "execution_count": null,
   "metadata": {},
   "outputs": [],
   "source": []
  },
  {
   "cell_type": "code",
   "execution_count": null,
   "metadata": {},
   "outputs": [],
   "source": []
  }
 ],
 "metadata": {
  "kernelspec": {
   "display_name": "Python 3",
   "language": "python",
   "name": "python3"
  },
  "language_info": {
   "codemirror_mode": {
    "name": "ipython",
    "version": 3
   },
   "file_extension": ".py",
   "mimetype": "text/x-python",
   "name": "python",
   "nbconvert_exporter": "python",
   "pygments_lexer": "ipython3",
   "version": "3.8.5"
  }
 },
 "nbformat": 4,
 "nbformat_minor": 4
}
